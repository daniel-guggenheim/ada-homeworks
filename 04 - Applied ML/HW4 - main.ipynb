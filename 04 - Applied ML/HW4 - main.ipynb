{
 "cells": [
  {
   "cell_type": "markdown",
   "metadata": {},
   "source": [
    "<h1>Homework 04 - Applied ML</h1>"
   ]
  },
  {
   "cell_type": "markdown",
   "metadata": {},
   "source": [
    "Importation of libraries"
   ]
  },
  {
   "cell_type": "code",
   "execution_count": 1,
   "metadata": {
    "collapsed": false
   },
   "outputs": [],
   "source": [
    "import pandas as pd\n",
    "import numpy as np\n",
    "import os\n",
    "import seaborn as sns\n",
    "import datetime\n",
    "from sklearn.ensemble import RandomForestClassifier\n",
    "from sklearn.cluster import KMeans\n",
    "from sklearn.model_selection import KFold\n",
    "from sklearn import metrics\n",
    "import matplotlib.pyplot as plt\n",
    "from functools import reduce\n",
    "import math\n",
    "from collections import Counter"
   ]
  },
  {
   "cell_type": "markdown",
   "metadata": {},
   "source": [
    "Importation of the datas"
   ]
  },
  {
   "cell_type": "code",
   "execution_count": 2,
   "metadata": {
    "collapsed": false
   },
   "outputs": [
    {
     "data": {
      "text/html": [
       "<div>\n",
       "<table border=\"1\" class=\"dataframe\">\n",
       "  <thead>\n",
       "    <tr style=\"text-align: right;\">\n",
       "      <th></th>\n",
       "      <th>playerShort</th>\n",
       "      <th>player</th>\n",
       "      <th>club</th>\n",
       "      <th>leagueCountry</th>\n",
       "      <th>birthday</th>\n",
       "      <th>height</th>\n",
       "      <th>weight</th>\n",
       "      <th>position</th>\n",
       "      <th>games</th>\n",
       "      <th>victories</th>\n",
       "      <th>...</th>\n",
       "      <th>rater2</th>\n",
       "      <th>refNum</th>\n",
       "      <th>refCountry</th>\n",
       "      <th>Alpha_3</th>\n",
       "      <th>meanIAT</th>\n",
       "      <th>nIAT</th>\n",
       "      <th>seIAT</th>\n",
       "      <th>meanExp</th>\n",
       "      <th>nExp</th>\n",
       "      <th>seExp</th>\n",
       "    </tr>\n",
       "  </thead>\n",
       "  <tbody>\n",
       "    <tr>\n",
       "      <th>0</th>\n",
       "      <td>lucas-wilchez</td>\n",
       "      <td>Lucas Wilchez</td>\n",
       "      <td>Real Zaragoza</td>\n",
       "      <td>Spain</td>\n",
       "      <td>31.08.1983</td>\n",
       "      <td>177.0</td>\n",
       "      <td>72.0</td>\n",
       "      <td>Attacking Midfielder</td>\n",
       "      <td>1</td>\n",
       "      <td>0</td>\n",
       "      <td>...</td>\n",
       "      <td>0.50</td>\n",
       "      <td>1</td>\n",
       "      <td>1</td>\n",
       "      <td>GRC</td>\n",
       "      <td>0.326391</td>\n",
       "      <td>712.0</td>\n",
       "      <td>0.000564</td>\n",
       "      <td>0.396000</td>\n",
       "      <td>750.0</td>\n",
       "      <td>0.002696</td>\n",
       "    </tr>\n",
       "    <tr>\n",
       "      <th>1</th>\n",
       "      <td>john-utaka</td>\n",
       "      <td>John Utaka</td>\n",
       "      <td>Montpellier HSC</td>\n",
       "      <td>France</td>\n",
       "      <td>08.01.1982</td>\n",
       "      <td>179.0</td>\n",
       "      <td>82.0</td>\n",
       "      <td>Right Winger</td>\n",
       "      <td>1</td>\n",
       "      <td>0</td>\n",
       "      <td>...</td>\n",
       "      <td>0.75</td>\n",
       "      <td>2</td>\n",
       "      <td>2</td>\n",
       "      <td>ZMB</td>\n",
       "      <td>0.203375</td>\n",
       "      <td>40.0</td>\n",
       "      <td>0.010875</td>\n",
       "      <td>-0.204082</td>\n",
       "      <td>49.0</td>\n",
       "      <td>0.061504</td>\n",
       "    </tr>\n",
       "  </tbody>\n",
       "</table>\n",
       "<p>2 rows × 28 columns</p>\n",
       "</div>"
      ],
      "text/plain": [
       "     playerShort         player             club leagueCountry    birthday  \\\n",
       "0  lucas-wilchez  Lucas Wilchez    Real Zaragoza         Spain  31.08.1983   \n",
       "1     john-utaka     John Utaka  Montpellier HSC        France  08.01.1982   \n",
       "\n",
       "   height  weight              position  games  victories    ...     rater2  \\\n",
       "0   177.0    72.0  Attacking Midfielder      1          0    ...       0.50   \n",
       "1   179.0    82.0          Right Winger      1          0    ...       0.75   \n",
       "\n",
       "   refNum  refCountry  Alpha_3   meanIAT   nIAT     seIAT   meanExp   nExp  \\\n",
       "0       1           1      GRC  0.326391  712.0  0.000564  0.396000  750.0   \n",
       "1       2           2      ZMB  0.203375   40.0  0.010875 -0.204082   49.0   \n",
       "\n",
       "      seExp  \n",
       "0  0.002696  \n",
       "1  0.061504  \n",
       "\n",
       "[2 rows x 28 columns]"
      ]
     },
     "execution_count": 2,
     "metadata": {},
     "output_type": "execute_result"
    }
   ],
   "source": [
    "filename = os.path.join('data','CrowdstormingDataJuly1st.csv') \n",
    "df = pd.read_csv(filename)\n",
    "df.head(2)"
   ]
  },
  {
   "cell_type": "markdown",
   "metadata": {},
   "source": [
    "A few numbers about the data:"
   ]
  },
  {
   "cell_type": "code",
   "execution_count": 3,
   "metadata": {
    "collapsed": false
   },
   "outputs": [
    {
     "name": "stdout",
     "output_type": "stream",
     "text": [
      "Number of dyads (rows in dataframe):  146028\n",
      "Total number of interactions between a referee and a player (nb of games):  426572\n",
      "Mean number of games for a dyad:  2.92116580382\n"
     ]
    }
   ],
   "source": [
    "print('Number of dyads (rows in dataframe): ', len(df))\n",
    "print('Total number of interactions between a referee and a player (nb of games): ', sum(df.games))\n",
    "print('Mean number of games for a dyad: ', np.mean(df['games']))"
   ]
  },
  {
   "cell_type": "markdown",
   "metadata": {},
   "source": [
    "## Data cleaning / setup"
   ]
  },
  {
   "cell_type": "code",
   "execution_count": 4,
   "metadata": {
    "collapsed": false
   },
   "outputs": [
    {
     "name": "stdout",
     "output_type": "stream",
     "text": [
      "Number of rows in dataframe:  146028\n"
     ]
    }
   ],
   "source": [
    "print(\"Number of rows in dataframe: \", len(df))"
   ]
  },
  {
   "cell_type": "markdown",
   "metadata": {},
   "source": [
    "<b>Removing raters</b>: We decided to remove row where the two rates were significantly different or if any of the rates were absent (Nan value)."
   ]
  },
  {
   "cell_type": "code",
   "execution_count": 5,
   "metadata": {
    "collapsed": false
   },
   "outputs": [
    {
     "name": "stdout",
     "output_type": "stream",
     "text": [
      "Number of rows in the cleaned dataframe:  124457\n",
      "Number of rows removed:  21571\n"
     ]
    }
   ],
   "source": [
    "cleandf = df.copy()\n",
    "\n",
    "## Removing null values in raters\n",
    "cleandf = cleandf[cleandf[\"rater1\"].notnull() & cleandf[\"rater2\"].notnull()]\n",
    "\n",
    "## Removing all rows where the difference between the two raters is larger than 0.25\n",
    "cleandf['difference'] = abs(cleandf.rater1 - cleandf.rater2)\n",
    "cleandf = cleandf[cleandf['difference'] <= 0.25]\n",
    "cleandf.drop('difference', axis =1, inplace=True)\n",
    "\n",
    "print(\"Number of rows in the cleaned dataframe: \", len(cleandf))\n",
    "print(\"Number of rows removed: \", (len(df)-len(cleandf)))"
   ]
  },
  {
   "cell_type": "markdown",
   "metadata": {},
   "source": [
    "<b>Skin tone</b>: Then we decide to take the skin tone as the mean between the two raters. This is the value that will be predicted later."
   ]
  },
  {
   "cell_type": "code",
   "execution_count": 6,
   "metadata": {
    "collapsed": false,
    "scrolled": false
   },
   "outputs": [
    {
     "data": {
      "text/html": [
       "<div>\n",
       "<table border=\"1\" class=\"dataframe\">\n",
       "  <thead>\n",
       "    <tr style=\"text-align: right;\">\n",
       "      <th></th>\n",
       "      <th>playerShort</th>\n",
       "      <th>player</th>\n",
       "      <th>club</th>\n",
       "      <th>leagueCountry</th>\n",
       "      <th>birthday</th>\n",
       "      <th>height</th>\n",
       "      <th>weight</th>\n",
       "      <th>position</th>\n",
       "      <th>games</th>\n",
       "      <th>victories</th>\n",
       "      <th>...</th>\n",
       "      <th>refNum</th>\n",
       "      <th>refCountry</th>\n",
       "      <th>Alpha_3</th>\n",
       "      <th>meanIAT</th>\n",
       "      <th>nIAT</th>\n",
       "      <th>seIAT</th>\n",
       "      <th>meanExp</th>\n",
       "      <th>nExp</th>\n",
       "      <th>seExp</th>\n",
       "      <th>meanSkinTone</th>\n",
       "    </tr>\n",
       "  </thead>\n",
       "  <tbody>\n",
       "    <tr>\n",
       "      <th>0</th>\n",
       "      <td>lucas-wilchez</td>\n",
       "      <td>Lucas Wilchez</td>\n",
       "      <td>Real Zaragoza</td>\n",
       "      <td>Spain</td>\n",
       "      <td>31.08.1983</td>\n",
       "      <td>177.0</td>\n",
       "      <td>72.0</td>\n",
       "      <td>Attacking Midfielder</td>\n",
       "      <td>1</td>\n",
       "      <td>0</td>\n",
       "      <td>...</td>\n",
       "      <td>1</td>\n",
       "      <td>1</td>\n",
       "      <td>GRC</td>\n",
       "      <td>0.326391</td>\n",
       "      <td>712.0</td>\n",
       "      <td>0.000564</td>\n",
       "      <td>0.396000</td>\n",
       "      <td>750.0</td>\n",
       "      <td>0.002696</td>\n",
       "      <td>0.375</td>\n",
       "    </tr>\n",
       "    <tr>\n",
       "      <th>1</th>\n",
       "      <td>john-utaka</td>\n",
       "      <td>John Utaka</td>\n",
       "      <td>Montpellier HSC</td>\n",
       "      <td>France</td>\n",
       "      <td>08.01.1982</td>\n",
       "      <td>179.0</td>\n",
       "      <td>82.0</td>\n",
       "      <td>Right Winger</td>\n",
       "      <td>1</td>\n",
       "      <td>0</td>\n",
       "      <td>...</td>\n",
       "      <td>2</td>\n",
       "      <td>2</td>\n",
       "      <td>ZMB</td>\n",
       "      <td>0.203375</td>\n",
       "      <td>40.0</td>\n",
       "      <td>0.010875</td>\n",
       "      <td>-0.204082</td>\n",
       "      <td>49.0</td>\n",
       "      <td>0.061504</td>\n",
       "      <td>0.750</td>\n",
       "    </tr>\n",
       "  </tbody>\n",
       "</table>\n",
       "<p>2 rows × 29 columns</p>\n",
       "</div>"
      ],
      "text/plain": [
       "     playerShort         player             club leagueCountry    birthday  \\\n",
       "0  lucas-wilchez  Lucas Wilchez    Real Zaragoza         Spain  31.08.1983   \n",
       "1     john-utaka     John Utaka  Montpellier HSC        France  08.01.1982   \n",
       "\n",
       "   height  weight              position  games  victories      ...       \\\n",
       "0   177.0    72.0  Attacking Midfielder      1          0      ...        \n",
       "1   179.0    82.0          Right Winger      1          0      ...        \n",
       "\n",
       "   refNum  refCountry  Alpha_3   meanIAT   nIAT     seIAT   meanExp   nExp  \\\n",
       "0       1           1      GRC  0.326391  712.0  0.000564  0.396000  750.0   \n",
       "1       2           2      ZMB  0.203375   40.0  0.010875 -0.204082   49.0   \n",
       "\n",
       "      seExp  meanSkinTone  \n",
       "0  0.002696         0.375  \n",
       "1  0.061504         0.750  \n",
       "\n",
       "[2 rows x 29 columns]"
      ]
     },
     "execution_count": 6,
     "metadata": {},
     "output_type": "execute_result"
    }
   ],
   "source": [
    "cleandf[\"meanSkinTone\"] = abs(cleandf[\"rater1\"] + cleandf[\"rater2\"] ) / 2\n",
    "cleandf.head(2)"
   ]
  },
  {
   "cell_type": "markdown",
   "metadata": {},
   "source": [
    "<b>Birthday date</b>: As the classifier can not understand date, we decided to change birthday date in seconds. It seemed important for us to keep the birthday date, as it could help predict the color skin if there were more people from a certain demography that played during some years."
   ]
  },
  {
   "cell_type": "code",
   "execution_count": 7,
   "metadata": {
    "collapsed": false
   },
   "outputs": [
    {
     "data": {
      "text/html": [
       "<div>\n",
       "<table border=\"1\" class=\"dataframe\">\n",
       "  <thead>\n",
       "    <tr style=\"text-align: right;\">\n",
       "      <th></th>\n",
       "      <th>playerShort</th>\n",
       "      <th>player</th>\n",
       "      <th>club</th>\n",
       "      <th>leagueCountry</th>\n",
       "      <th>birthday</th>\n",
       "      <th>height</th>\n",
       "      <th>weight</th>\n",
       "      <th>position</th>\n",
       "      <th>games</th>\n",
       "      <th>victories</th>\n",
       "      <th>...</th>\n",
       "      <th>refNum</th>\n",
       "      <th>refCountry</th>\n",
       "      <th>Alpha_3</th>\n",
       "      <th>meanIAT</th>\n",
       "      <th>nIAT</th>\n",
       "      <th>seIAT</th>\n",
       "      <th>meanExp</th>\n",
       "      <th>nExp</th>\n",
       "      <th>seExp</th>\n",
       "      <th>meanSkinTone</th>\n",
       "    </tr>\n",
       "  </thead>\n",
       "  <tbody>\n",
       "    <tr>\n",
       "      <th>0</th>\n",
       "      <td>lucas-wilchez</td>\n",
       "      <td>Lucas Wilchez</td>\n",
       "      <td>Real Zaragoza</td>\n",
       "      <td>Spain</td>\n",
       "      <td>431136000</td>\n",
       "      <td>177.0</td>\n",
       "      <td>72.0</td>\n",
       "      <td>Attacking Midfielder</td>\n",
       "      <td>1</td>\n",
       "      <td>0</td>\n",
       "      <td>...</td>\n",
       "      <td>1</td>\n",
       "      <td>1</td>\n",
       "      <td>GRC</td>\n",
       "      <td>0.326391</td>\n",
       "      <td>712.0</td>\n",
       "      <td>0.000564</td>\n",
       "      <td>0.396000</td>\n",
       "      <td>750.0</td>\n",
       "      <td>0.002696</td>\n",
       "      <td>0.375</td>\n",
       "    </tr>\n",
       "    <tr>\n",
       "      <th>1</th>\n",
       "      <td>john-utaka</td>\n",
       "      <td>John Utaka</td>\n",
       "      <td>Montpellier HSC</td>\n",
       "      <td>France</td>\n",
       "      <td>397008000</td>\n",
       "      <td>179.0</td>\n",
       "      <td>82.0</td>\n",
       "      <td>Right Winger</td>\n",
       "      <td>1</td>\n",
       "      <td>0</td>\n",
       "      <td>...</td>\n",
       "      <td>2</td>\n",
       "      <td>2</td>\n",
       "      <td>ZMB</td>\n",
       "      <td>0.203375</td>\n",
       "      <td>40.0</td>\n",
       "      <td>0.010875</td>\n",
       "      <td>-0.204082</td>\n",
       "      <td>49.0</td>\n",
       "      <td>0.061504</td>\n",
       "      <td>0.750</td>\n",
       "    </tr>\n",
       "  </tbody>\n",
       "</table>\n",
       "<p>2 rows × 29 columns</p>\n",
       "</div>"
      ],
      "text/plain": [
       "     playerShort         player             club leagueCountry   birthday  \\\n",
       "0  lucas-wilchez  Lucas Wilchez    Real Zaragoza         Spain  431136000   \n",
       "1     john-utaka     John Utaka  Montpellier HSC        France  397008000   \n",
       "\n",
       "   height  weight              position  games  victories      ...       \\\n",
       "0   177.0    72.0  Attacking Midfielder      1          0      ...        \n",
       "1   179.0    82.0          Right Winger      1          0      ...        \n",
       "\n",
       "   refNum  refCountry  Alpha_3   meanIAT   nIAT     seIAT   meanExp   nExp  \\\n",
       "0       1           1      GRC  0.326391  712.0  0.000564  0.396000  750.0   \n",
       "1       2           2      ZMB  0.203375   40.0  0.010875 -0.204082   49.0   \n",
       "\n",
       "      seExp  meanSkinTone  \n",
       "0  0.002696         0.375  \n",
       "1  0.061504         0.750  \n",
       "\n",
       "[2 rows x 29 columns]"
      ]
     },
     "execution_count": 7,
     "metadata": {},
     "output_type": "execute_result"
    }
   ],
   "source": [
    "def time_to_seconds(t):\n",
    "    seconds = (pd.to_datetime(t) - datetime.datetime(1970, 1,1)).total_seconds()\n",
    "    return int(seconds)\n",
    "\n",
    "cleandf.birthday = cleandf.birthday.apply(time_to_seconds)\n",
    "cleandf.head(2)"
   ]
  },
  {
   "cell_type": "markdown",
   "metadata": {},
   "source": [
    "<h3>Changing data attributes to numerals function</h3>"
   ]
  },
  {
   "cell_type": "markdown",
   "metadata": {},
   "source": [
    "<i>Dummy variables</i>: We noticed that a lot of the columns could not be used in the Random forest as they are non-numerical. As most of these features can be seen as categorical variables, we decided to make dummy variables with them."
   ]
  },
  {
   "cell_type": "code",
   "execution_count": 8,
   "metadata": {
    "collapsed": false
   },
   "outputs": [
    {
     "name": "stdout",
     "output_type": "stream",
     "text": [
      "The number of different positions is 13\n",
      "The number of different clubs is 97\n",
      "The number of different league countries is 4\n",
      "The number of different referee countries is 160\n"
     ]
    }
   ],
   "source": [
    "print(\"The number of different positions is\", cleandf[\"position\"].unique().size)\n",
    "print(\"The number of different clubs is\",cleandf[\"club\"].unique().size)\n",
    "print(\"The number of different league countries is\",cleandf[\"leagueCountry\"].unique().size)\n",
    "print(\"The number of different referee countries is\",cleandf[\"Alpha_3\"].unique().size)"
   ]
  },
  {
   "cell_type": "markdown",
   "metadata": {},
   "source": [
    "Out of these datas, we decided to remove the \"referee country\" (Alpha_3) and to make dummy variables with the 3 other categories. We decided to remove the referee country because there were a lot of them and it seemed it would induce more error and overfitting to our classifier than it would help it."
   ]
  },
  {
   "cell_type": "markdown",
   "metadata": {},
   "source": [
    "<i>Replacing Nan</i>: We also realize that the dataframe still have some NaN values. We decided to substitute every NaN with the mean of their column."
   ]
  },
  {
   "cell_type": "code",
   "execution_count": 15,
   "metadata": {
    "collapsed": false
   },
   "outputs": [
    {
     "data": {
      "text/plain": [
       "True"
      ]
     },
     "execution_count": 15,
     "metadata": {},
     "output_type": "execute_result"
    }
   ],
   "source": [
    "cleandf.isnull().values.any()"
   ]
  },
  {
   "cell_type": "markdown",
   "metadata": {},
   "source": [
    "Here is the function that will apply these changes:"
   ]
  },
  {
   "cell_type": "code",
   "execution_count": 10,
   "metadata": {
    "collapsed": true
   },
   "outputs": [],
   "source": [
    "def changeDfAttributesToNumerals(cleandf):\n",
    "    ## Making the dummy variables\n",
    "    dummydf = pd.get_dummies(cleandf, prefix=None, prefix_sep='_', dummy_na=False, columns=[\"position\"], sparse=False, drop_first=False)\n",
    "    dummydf = pd.get_dummies(dummydf, prefix=None, prefix_sep='_', dummy_na=False, columns=[\"club\"], sparse=False, drop_first=False)\n",
    "    dummydf = pd.get_dummies(dummydf, prefix=None, prefix_sep='_', dummy_na=False, columns=[\"leagueCountry\"], sparse=False, drop_first=False)\n",
    "    dummydf.drop(\"Alpha_3\", axis = 1, inplace = True)\n",
    "    \n",
    "    ## Replacing NaN values\n",
    "    # For each column, if there is any NaN value, we compute the mean and replace the NaN values with it.\n",
    "    for i in range(len(dummydf.columns)):\n",
    "        if (dummydf[dummydf.columns[i]].isnull().values.any()):\n",
    "            mean = np.mean(dummydf[dummydf.columns[i]])\n",
    "            dummydf[dummydf.columns[i]].fillna(mean, inplace = True)\n",
    "    \n",
    "    return dummydf"
   ]
  },
  {
   "cell_type": "markdown",
   "metadata": {
    "collapsed": false
   },
   "source": [
    "We can now apply the function to our dataset and observe the results:"
   ]
  },
  {
   "cell_type": "code",
   "execution_count": 11,
   "metadata": {
    "collapsed": false
   },
   "outputs": [
    {
     "name": "stdout",
     "output_type": "stream",
     "text": [
      "Number of columns in the previous dataframe:  29\n",
      "Number of columns in the new dataframe with dummy variables:  138\n"
     ]
    }
   ],
   "source": [
    "dummydf = changeDfAttributesToNumerals(cleandf)\n",
    "print(\"Number of columns in the previous dataframe: \",cleandf.columns.size)\n",
    "print(\"Number of columns in the new dataframe with dummy variables: \",dummydf.columns.size)"
   ]
  },
  {
   "cell_type": "code",
   "execution_count": 12,
   "metadata": {
    "collapsed": false
   },
   "outputs": [
    {
     "data": {
      "text/plain": [
       "False"
      ]
     },
     "execution_count": 12,
     "metadata": {},
     "output_type": "execute_result"
    }
   ],
   "source": [
    "dummydf.isnull().values.any()"
   ]
  },
  {
   "cell_type": "markdown",
   "metadata": {},
   "source": [
    "<b>Removing useless columns</b>: For the classifier, there are some columns that it makes no sense to use. These columns are the player name (and short name), the photo and the initial ratings (of rater 1 and 2). Therefore we will drop them."
   ]
  },
  {
   "cell_type": "code",
   "execution_count": 13,
   "metadata": {
    "collapsed": true
   },
   "outputs": [],
   "source": [
    "usedf = dummydf.drop(['playerShort', 'player', 'photoID', 'rater1', 'rater2']  , axis=1)"
   ]
  },
  {
   "cell_type": "code",
   "execution_count": 14,
   "metadata": {
    "collapsed": false,
    "scrolled": true
   },
   "outputs": [
    {
     "data": {
      "text/html": [
       "<div>\n",
       "<table border=\"1\" class=\"dataframe\">\n",
       "  <thead>\n",
       "    <tr style=\"text-align: right;\">\n",
       "      <th></th>\n",
       "      <th>birthday</th>\n",
       "      <th>height</th>\n",
       "      <th>weight</th>\n",
       "      <th>games</th>\n",
       "      <th>victories</th>\n",
       "      <th>ties</th>\n",
       "      <th>defeats</th>\n",
       "      <th>goals</th>\n",
       "      <th>yellowCards</th>\n",
       "      <th>yellowReds</th>\n",
       "      <th>...</th>\n",
       "      <th>club_Werder Bremen</th>\n",
       "      <th>club_West Bromwich Albion</th>\n",
       "      <th>club_West Ham United</th>\n",
       "      <th>club_Wigan Athletic</th>\n",
       "      <th>club_Wolverhampton Wanderers</th>\n",
       "      <th>club_Évian Thonon Gaillard</th>\n",
       "      <th>leagueCountry_England</th>\n",
       "      <th>leagueCountry_France</th>\n",
       "      <th>leagueCountry_Germany</th>\n",
       "      <th>leagueCountry_Spain</th>\n",
       "    </tr>\n",
       "  </thead>\n",
       "  <tbody>\n",
       "    <tr>\n",
       "      <th>0</th>\n",
       "      <td>431136000</td>\n",
       "      <td>177.0</td>\n",
       "      <td>72.0</td>\n",
       "      <td>1</td>\n",
       "      <td>0</td>\n",
       "      <td>0</td>\n",
       "      <td>1</td>\n",
       "      <td>0</td>\n",
       "      <td>0</td>\n",
       "      <td>0</td>\n",
       "      <td>...</td>\n",
       "      <td>0</td>\n",
       "      <td>0</td>\n",
       "      <td>0</td>\n",
       "      <td>0</td>\n",
       "      <td>0</td>\n",
       "      <td>0</td>\n",
       "      <td>0</td>\n",
       "      <td>0</td>\n",
       "      <td>0</td>\n",
       "      <td>1</td>\n",
       "    </tr>\n",
       "    <tr>\n",
       "      <th>1</th>\n",
       "      <td>397008000</td>\n",
       "      <td>179.0</td>\n",
       "      <td>82.0</td>\n",
       "      <td>1</td>\n",
       "      <td>0</td>\n",
       "      <td>0</td>\n",
       "      <td>1</td>\n",
       "      <td>0</td>\n",
       "      <td>1</td>\n",
       "      <td>0</td>\n",
       "      <td>...</td>\n",
       "      <td>0</td>\n",
       "      <td>0</td>\n",
       "      <td>0</td>\n",
       "      <td>0</td>\n",
       "      <td>0</td>\n",
       "      <td>0</td>\n",
       "      <td>0</td>\n",
       "      <td>1</td>\n",
       "      <td>0</td>\n",
       "      <td>0</td>\n",
       "    </tr>\n",
       "    <tr>\n",
       "      <th>5</th>\n",
       "      <td>303177600</td>\n",
       "      <td>182.0</td>\n",
       "      <td>71.0</td>\n",
       "      <td>1</td>\n",
       "      <td>0</td>\n",
       "      <td>0</td>\n",
       "      <td>1</td>\n",
       "      <td>0</td>\n",
       "      <td>0</td>\n",
       "      <td>0</td>\n",
       "      <td>...</td>\n",
       "      <td>0</td>\n",
       "      <td>0</td>\n",
       "      <td>0</td>\n",
       "      <td>0</td>\n",
       "      <td>0</td>\n",
       "      <td>0</td>\n",
       "      <td>1</td>\n",
       "      <td>0</td>\n",
       "      <td>0</td>\n",
       "      <td>0</td>\n",
       "    </tr>\n",
       "  </tbody>\n",
       "</table>\n",
       "<p>3 rows × 133 columns</p>\n",
       "</div>"
      ],
      "text/plain": [
       "    birthday  height  weight  games  victories  ties  defeats  goals  \\\n",
       "0  431136000   177.0    72.0      1          0     0        1      0   \n",
       "1  397008000   179.0    82.0      1          0     0        1      0   \n",
       "5  303177600   182.0    71.0      1          0     0        1      0   \n",
       "\n",
       "   yellowCards  yellowReds         ...           club_Werder Bremen  \\\n",
       "0            0           0         ...                            0   \n",
       "1            1           0         ...                            0   \n",
       "5            0           0         ...                            0   \n",
       "\n",
       "   club_West Bromwich Albion  club_West Ham United  club_Wigan Athletic  \\\n",
       "0                          0                     0                    0   \n",
       "1                          0                     0                    0   \n",
       "5                          0                     0                    0   \n",
       "\n",
       "   club_Wolverhampton Wanderers  club_Évian Thonon Gaillard  \\\n",
       "0                             0                           0   \n",
       "1                             0                           0   \n",
       "5                             0                           0   \n",
       "\n",
       "   leagueCountry_England  leagueCountry_France  leagueCountry_Germany  \\\n",
       "0                      0                     0                      0   \n",
       "1                      0                     1                      0   \n",
       "5                      1                     0                      0   \n",
       "\n",
       "   leagueCountry_Spain  \n",
       "0                    1  \n",
       "1                    0  \n",
       "5                    0  \n",
       "\n",
       "[3 rows x 133 columns]"
      ]
     },
     "execution_count": 14,
     "metadata": {},
     "output_type": "execute_result"
    }
   ],
   "source": [
    "usedf.head(3)"
   ]
  },
  {
   "cell_type": "markdown",
   "metadata": {},
   "source": [
    "## Classifier"
   ]
  },
  {
   "cell_type": "markdown",
   "metadata": {},
   "source": [
    "First, we executed the random forest classification algorithm.\n",
    "\n",
    "We decided to go with multiclass classification. As it was asked to predict the skin color, this looked like it was going to be the most interesting way of observing the classification. Of course, this implies that the error will be a lot larger than in the case of binary classification.\n",
    "\n",
    "In the following part, we built a function that executed random forest. It directly does the kfold validation with a decided K = 5. This looked enough to test it and not have a running time that was too long. Of course this value could be augmented for more precise result, but we didn't see a big enough difference that it seemed worth it.\n",
    "\n",
    "To compute the score, we decided to go with a simple accuracy score. We didn't implement our own scoring function, but this should be adapted to f1 score (for example) in case of binary class, to equilibrate with the number of sample that we have for each data\n",
    "\n",
    "We have different parameters:<br>\n",
    "X: The data that will try to fit<br>\n",
    "y: The row that contains the meanSkinColor, that we will try to fit as best as possible<br>\n",
    "Xpd: The dataframe containing X<br>\n",
    "printingInfo: boolean if we want to print information<br>\n",
    "numb_trees: A parameter of the random forest classification that we will vary. It contains the number of trees that we want to use in our algorithm.<br>\n",
    "nb_features: A parameter of the random forest classification that we will vary. It contains the maximum number of features to we want to use."
   ]
  },
  {
   "cell_type": "code",
   "execution_count": 38,
   "metadata": {
    "collapsed": false
   },
   "outputs": [],
   "source": [
    "\n",
    "def executingRandomForest(X, y, Xpd, printingInfo, numb_trees, nb_features):\n",
    "    # Creating kfolds\n",
    "    once = True\n",
    "    kf = KFold(n_splits=5, shuffle=True, random_state=1)\n",
    "    sumAccurancy_tr = 0\n",
    "    sumAccurancy_te = 0\n",
    "\n",
    "    #Iterating for kfold validation\n",
    "    for train_index, test_index in kf.split(X):\n",
    "        if(once):\n",
    "            print(\"Train/Test sample sizes:\", train_index.size, \" / \", test_index.size)\n",
    "\n",
    "        ## Making indices\n",
    "        X_train, X_test = X[train_index], X[test_index]\n",
    "        y_train, y_test = y[train_index], y[test_index]\n",
    "\n",
    "        #Make classifier\n",
    "        rf = RandomForestClassifier(n_estimators = numb_trees, max_features = nb_features, n_jobs = 4)\n",
    "\n",
    "        #Train the classifier\n",
    "        clf = rf.fit(X_train, y_train)\n",
    "\n",
    "        # Make prediction for testing data with the classifier\n",
    "        y_pred = clf.predict(X_test)\n",
    "\n",
    "        #Computing error\n",
    "        rf_train_score = metrics.accuracy_score(y_train, clf.predict(X_train))\n",
    "        rf_test_score = metrics.accuracy_score(y_test, y_pred)\n",
    "        if(printingInfo):\n",
    "            print('Train/Test:  {:.4f} / {:.4f}'.format(rf_train_score, rf_test_score))\n",
    "#             print('   {:.4f}'.format(rf_test_score))\n",
    "        \n",
    "        sumAccurancy_tr = sumAccurancy_tr + rf_train_score\n",
    "        sumAccurancy_te = sumAccurancy_te + rf_test_score\n",
    "\n",
    "\n",
    "        # Features importance score\n",
    "        if(once):\n",
    "            once = False\n",
    "            importances = rf.feature_importances_\n",
    "            std = np.std([tree.feature_importances_ for tree in rf.estimators_],\n",
    "                         axis=0)\n",
    "            indices = np.argsort(importances)[::-1]\n",
    "\n",
    "    #Printing the final result score:\n",
    "    print('=> Final Train/Test:  {:.4f} / {:.4f}'.format(sumAccurancy_tr / 5.0, sumAccurancy_te / 5.0))\n",
    "    \n",
    "    if(printingInfo):\n",
    "        # Plot the feature importances of the forest\n",
    "        fig = plt.figure()\n",
    "        plt.title(\"Feature importances\")\n",
    "        plt.bar(range(X.shape[1]), importances[indices],\n",
    "                   color=\"r\", yerr=std[indices], align=\"center\")\n",
    "        plt.xticks(range(X.shape[1]), importances[indices])\n",
    "        plt.xlim([-1, X.shape[1]])\n",
    "        plt.show()\n",
    "\n",
    "        # Print the feature ranking\n",
    "        print(\"Feature ranking (first 20):\")\n",
    "        for f in range(20):\n",
    "            print(\"%d. feature %s (%f)\" % (f + 1, Xpd.columns[f], importances[indices[f]]))\n",
    "        \n",
    "    # Returns the average accurancy for the testing set and the training set\n",
    "    return (sumAccurancy_tr / 5.0, sumAccurancy_te / 5.0)"
   ]
  },
  {
   "cell_type": "markdown",
   "metadata": {},
   "source": [
    "This function takes a dataframe, and will make all the parameters that are needed in the random forest function.<br>\n",
    "<i>X (the features to use in the classifier) and Y (the value to predict).</i>"
   ]
  },
  {
   "cell_type": "code",
   "execution_count": 39,
   "metadata": {
    "collapsed": true
   },
   "outputs": [],
   "source": [
    "def makeMatrixForClassifier(df):\n",
    "    y = np.asarray(df[\"meanSkinTone\"].values, dtype=\"|S6\")\n",
    "    Xpd = df.drop(\"meanSkinTone\", axis = 1)\n",
    "    X = Xpd.as_matrix()\n",
    "    return (X, y, Xpd)"
   ]
  },
  {
   "cell_type": "markdown",
   "metadata": {
    "collapsed": true
   },
   "source": [
    "We will execute a first time the algorithm:"
   ]
  },
  {
   "cell_type": "code",
   "execution_count": 40,
   "metadata": {
    "collapsed": false
   },
   "outputs": [
    {
     "name": "stdout",
     "output_type": "stream",
     "text": [
      "Train/Test sample sizes: 99565  /  24892\n",
      "Train/Test:  0.9999 / 0.9888\n",
      "Train/Test:  0.9999 / 0.9876\n",
      "Train/Test:  0.9999 / 0.9921\n",
      "Train/Test:  0.9999 / 0.9898\n",
      "Train/Test:  0.9999 / 0.9884\n",
      "=> Final Train/Test:  0.9999 / 0.9894\n"
     ]
    },
    {
     "data": {
      "image/png": "[encoded data removed]",
      "text/plain": [
       "<matplotlib.figure.Figure at 0x253834c3d68>"
      ]
     },
     "metadata": {},
     "output_type": "display_data"
    },
    {
     "name": "stdout",
     "output_type": "stream",
     "text": [
      "Feature ranking (first 20):\n",
      "1. feature birthday (0.160641)\n",
      "2. feature height (0.132451)\n",
      "3. feature weight (0.130686)\n",
      "4. feature games (0.019939)\n",
      "5. feature victories (0.018499)\n",
      "6. feature ties (0.017671)\n",
      "7. feature defeats (0.016363)\n",
      "8. feature goals (0.015737)\n",
      "9. feature yellowCards (0.014786)\n",
      "10. feature yellowReds (0.014082)\n",
      "11. feature redCards (0.012783)\n",
      "12. feature refNum (0.012568)\n",
      "13. feature refCountry (0.011219)\n",
      "14. feature meanIAT (0.011213)\n",
      "15. feature nIAT (0.010710)\n",
      "16. feature seIAT (0.010276)\n",
      "17. feature meanExp (0.010264)\n",
      "18. feature nExp (0.010235)\n",
      "19. feature seExp (0.010142)\n",
      "20. feature position_Attacking Midfielder (0.010105)\n"
     ]
    },
    {
     "data": {
      "text/plain": [
       "(0.99988952007520404, 0.98935377141976821)"
      ]
     },
     "execution_count": 40,
     "metadata": {},
     "output_type": "execute_result"
    }
   ],
   "source": [
    "numb_trees = 10\n",
    "nb_features = \"auto\"\n",
    "(X, y, Xpd) = makeMatrixForClassifier(usedf)\n",
    "executingRandomForest(X, y, Xpd, True, numb_trees, nb_features)"
   ]
  },
  {
   "cell_type": "markdown",
   "metadata": {},
   "source": [
    "We can observe that we have unrealistic results. 99% accuracy for both training and testing sets seem too good to be true. When we look at the features importance result, we can quickly see what went wrong. The 3 most important features are the birthday, the height and the weight. It makes sense, because what is actually happening, is that the classifier has more than one line per person. Therefore, as a person has always the same skin color, recognizing the person leads to know its skin color.<br>\n",
    "The testing set also has amazing result, as there are enough data of person to find them in both sets. Let's try to see if we can correct this by removing the main features."
   ]
  },
  {
   "cell_type": "code",
   "execution_count": 41,
   "metadata": {
    "collapsed": false
   },
   "outputs": [
    {
     "name": "stdout",
     "output_type": "stream",
     "text": [
      "Train/Test sample sizes: 99565  /  24892\n",
      "Train/Test:  0.9723 / 0.6973\n",
      "Train/Test:  0.9725 / 0.6954\n",
      "Train/Test:  0.9728 / 0.6972\n",
      "Train/Test:  0.9716 / 0.7026\n",
      "Train/Test:  0.9730 / 0.7003\n",
      "=> Final Train/Test:  0.9724 / 0.6986\n"
     ]
    },
    {
     "data": {
      "image/png": "[encoded data removed]",
      "text/plain": [
       "<matplotlib.figure.Figure at 0x253834c3518>"
      ]
     },
     "metadata": {},
     "output_type": "display_data"
    },
    {
     "name": "stdout",
     "output_type": "stream",
     "text": [
      "Feature ranking (first 20):\n",
      "1. feature games (0.141308)\n",
      "2. feature victories (0.047885)\n",
      "3. feature ties (0.043952)\n",
      "4. feature defeats (0.037955)\n",
      "5. feature goals (0.033025)\n",
      "6. feature yellowCards (0.028718)\n",
      "7. feature yellowReds (0.025770)\n",
      "8. feature redCards (0.025216)\n",
      "9. feature refNum (0.023246)\n",
      "10. feature refCountry (0.021674)\n",
      "11. feature meanIAT (0.021528)\n",
      "12. feature nIAT (0.020685)\n",
      "13. feature seIAT (0.019810)\n",
      "14. feature meanExp (0.019427)\n",
      "15. feature nExp (0.019362)\n",
      "16. feature seExp (0.019226)\n",
      "17. feature position_Attacking Midfielder (0.018497)\n",
      "18. feature position_Center Back (0.018441)\n",
      "19. feature position_Center Forward (0.018233)\n",
      "20. feature position_Center Midfielder (0.017641)\n"
     ]
    },
    {
     "data": {
      "text/plain": [
       "(0.97243425422291163, 0.69858669577923138)"
      ]
     },
     "execution_count": 41,
     "metadata": {},
     "output_type": "execute_result"
    }
   ],
   "source": [
    "betterResultMaybedf = usedf.drop(['birthday', 'height', 'weight']  , axis=1)\n",
    "(X, y, Xpd) = makeMatrixForClassifier(betterResultMaybedf)\n",
    "executingRandomForest(X, y, Xpd, True, numb_trees, nb_features)"
   ]
  },
  {
   "cell_type": "markdown",
   "metadata": {
    "collapsed": false
   },
   "source": [
    "We can observe that the result is a bit worse for the testing data, as the algorithm has more trouble to \"recognize\" players. However, the real problem remains, and we will therefore need to find a way to group the players together. What we will want at the end, is to have a single player per line, with aggregated data in its fields. Let's see how we are going to do this."
   ]
  },
  {
   "cell_type": "markdown",
   "metadata": {
    "collapsed": true
   },
   "source": [
    "## Aggregate the referee info by socker player"
   ]
  },
  {
   "cell_type": "markdown",
   "metadata": {},
   "source": [
    "We found that there were different ways that we will aggregate the data. And, in order to aggregate the referee info, we preprocessed the data in the following way:\n",
    "\n",
    "<ul>\n",
    "<li> One occurrence data - the data that doesn't change (constants): <b>const_columns</b></li>\n",
    "<li> Accumulated data - e.g. victories, yellowCards, etc. :\n",
    "<b>acc_columns</b></li>\n",
    "<li> Majority voting - most frequent data:\n",
    "<b>majority_vote</b></li>\n",
    "<li> Removed data - insignificant columns:\n",
    "<b>remove_columns</b></li>"
   ]
  },
  {
   "cell_type": "code",
   "execution_count": 42,
   "metadata": {
    "collapsed": false,
    "scrolled": true
   },
   "outputs": [],
   "source": [
    "acc_columns = ['games', 'victories', 'ties', 'defeats', 'goals', 'yellowCards', 'yellowReds', 'redCards']\n",
    "const_columns = ['playerShort', 'player', 'birthday', 'height', 'weight', 'meanSkinTone']\n",
    "majority_vote = ['club', 'leagueCountry', 'position']"
   ]
  },
  {
   "cell_type": "code",
   "execution_count": 43,
   "metadata": {
    "collapsed": false
   },
   "outputs": [],
   "source": [
    "# we remove rater1 and rater2 because we already have calculated 'meanSkinTone' as the mean between those two raters\n",
    "remove_columns = ['photoID', 'refNum', 'refCountry', 'Alpha_3', 'rater1', 'rater2']\n",
    "referee_info_df = cleandf.drop(remove_columns, axis = 1)"
   ]
  },
  {
   "cell_type": "markdown",
   "metadata": {},
   "source": [
    "#### After cleaning up, we group the data by player short name"
   ]
  },
  {
   "cell_type": "code",
   "execution_count": 44,
   "metadata": {
    "collapsed": true
   },
   "outputs": [],
   "source": [
    "by_group_player = list(referee_info_df.groupby('playerShort'))"
   ]
  },
  {
   "cell_type": "code",
   "execution_count": 45,
   "metadata": {
    "collapsed": true
   },
   "outputs": [],
   "source": [
    "# auxiliary function used in order to accumulate values for columns in 'acc_columns'\n",
    "sum_func = lambda x, y: x+y\n",
    "def accumulate(series):\n",
    "    return reduce(sum_func, series)"
   ]
  },
  {
   "cell_type": "markdown",
   "metadata": {},
   "source": [
    "<h3> Direct aggregation of data</h3>"
   ]
  },
  {
   "cell_type": "markdown",
   "metadata": {},
   "source": [
    "We have the function to compute the weight. We can observe that the IAT and Exp scores are computed using statistical formulas weighted by the number of samples."
   ]
  },
  {
   "cell_type": "code",
   "execution_count": 27,
   "metadata": {
    "collapsed": true
   },
   "outputs": [],
   "source": [
    "# Having various means, we want to combine - so we average them via calculating weighted mean \n",
    "# (the weight is the sample size)\n",
    "\n",
    "def get_weighted_mean(data):\n",
    "    \n",
    "    # weighted mean calculation for meanIAT\n",
    "    acc_niat = accumulate(data['nIAT'].tolist())\n",
    "    acc_prod_iat = accumulate((data['meanIAT']*data['nIAT']).tolist())\n",
    "    \n",
    "    # weighted mean calculation for meanExp\n",
    "    acc_nexp = accumulate(data['nExp'].tolist())\n",
    "    acc_prod_exp = accumulate((data['meanExp']*data['nExp']).tolist())\n",
    "    \n",
    "    # squareroot of weighted mean of the square for seIAT\n",
    "    acc_se_iat =accumulate((data['nIAT']).tolist())\n",
    "    acc_prod_se_iat = accumulate((data['seIAT']*data['seIAT']*data['nIAT']).tolist())\n",
    "    \n",
    "    # squareroot of weighted mean of the square for seExp\n",
    "    acc_se_exp =accumulate((data['nExp']).tolist())\n",
    "    acc_prod_se_exp = accumulate((data['seExp']*data['seExp']*data['nExp']).tolist())\n",
    "    \n",
    "    return {'weighted_mean_iat' : acc_prod_iat/acc_niat,\n",
    "              'weighted_mean_exp' : acc_prod_exp/acc_nexp,\n",
    "              'sqrt_weighted_mean_iat' : math.sqrt(acc_prod_se_iat/acc_se_iat),\n",
    "              'sqrt_weighted_mean_exp' : math.sqrt(acc_prod_se_iat/acc_se_iat)}"
   ]
  },
  {
   "cell_type": "markdown",
   "metadata": {},
   "source": [
    "We execute the aggregation functions."
   ]
  },
  {
   "cell_type": "code",
   "execution_count": 26,
   "metadata": {
    "collapsed": true
   },
   "outputs": [],
   "source": [
    "# we aggregate data in the format of 'list[dict()]' in order to create DataFrame\n",
    "unique_player_data = [] \n",
    "\n",
    "# iterating over the grouped by plater data we assemble all processed values into the dictionary - a row within\n",
    "# an out DataFrame\n",
    "for player_name, data in by_group_player:\n",
    "    \n",
    "    # constants - we keep just first value from every column\n",
    "    one_occurrence = { column : data[column].tolist()[0] for column in const_columns }\n",
    "    \n",
    "    #accumulated values\n",
    "    accumulated = {column : accumulate(data[column].tolist()) for column in acc_columns}\n",
    "    \n",
    "    # majority voting = most_common() gives descending ordered by count, list of pairs;\n",
    "    # most_common()[0][0] - first 0 stands for max voted value ('name': count)\n",
    "    #                       second 0 gives it's name - first element from tuple \n",
    "    majority_vote = { column : Counter(data[column].tolist()).most_common()[0][0] for column in majority_vote}\n",
    "\n",
    "    # weighted mean calculation\n",
    "    wm = get_weighted_mean(data)\n",
    "    \n",
    "    # assemble just calculated data into one dictionary\n",
    "    unique_player_data.append(\n",
    "        dict(list(one_occurrence.items()) +\n",
    "             list(accumulated.items()) +\n",
    "             list(majority_vote.items()) +\n",
    "             list(wm.items())))"
   ]
  },
  {
   "cell_type": "code",
   "execution_count": 49,
   "metadata": {
    "collapsed": true
   },
   "outputs": [],
   "source": [
    "# create DataFrame from aggregated data\n",
    "aggregated_df = pd.DataFrame(unique_player_data)"
   ]
  },
  {
   "cell_type": "markdown",
   "metadata": {},
   "source": [
    "We clean again the datas:"
   ]
  },
  {
   "cell_type": "code",
   "execution_count": 50,
   "metadata": {
    "collapsed": false
   },
   "outputs": [
    {
     "data": {
      "text/plain": [
       "False"
      ]
     },
     "execution_count": 50,
     "metadata": {},
     "output_type": "execute_result"
    }
   ],
   "source": [
    "aggregated_df = pd.get_dummies(aggregated_df, prefix=None, prefix_sep='_', dummy_na=False, columns=[\"position\"], sparse=False, drop_first=False)\n",
    "aggregated_df = pd.get_dummies(aggregated_df, prefix=None, prefix_sep='_', dummy_na=False, columns=[\"club\"], sparse=False, drop_first=False)\n",
    "aggregated_df = pd.get_dummies(aggregated_df, prefix=None, prefix_sep='_', dummy_na=False, columns=[\"leagueCountry\"], sparse=False, drop_first=False)\n",
    "randomForestDF = aggregated_df.drop(['player', 'playerShort'], axis = 1)\n",
    "# For each column, if there is any NaN value, we compute the mean and replace the NaN values with it.\n",
    "for i in range(len(randomForestDF.columns)):\n",
    "    if (randomForestDF[randomForestDF.columns[i]].isnull().values.any()):\n",
    "        mean = np.mean(randomForestDF[randomForestDF.columns[i]])\n",
    "        randomForestDF[randomForestDF.columns[i]].fillna(mean, inplace = True)\n",
    "randomForestDF.isnull().values.any()"
   ]
  },
  {
   "cell_type": "markdown",
   "metadata": {},
   "source": [
    "<b>New execution:</b> Now, we can execute again the classifier with the new datas."
   ]
  },
  {
   "cell_type": "code",
   "execution_count": 51,
   "metadata": {
    "collapsed": false
   },
   "outputs": [
    {
     "name": "stdout",
     "output_type": "stream",
     "text": [
      "Train/Test sample sizes: 1266  /  317\n",
      "Train/Test:  0.9818 / 0.2965\n",
      "Train/Test:  0.9842 / 0.3060\n",
      "Train/Test:  0.9866 / 0.3060\n",
      "Train/Test:  0.9850 / 0.3101\n",
      "Train/Test:  0.9921 / 0.3386\n",
      "=> Final Train/Test:  0.9859 / 0.3115\n"
     ]
    },
    {
     "data": {
      "image/png": "[encoded data removed]",
      "text/plain": [
       "<matplotlib.figure.Figure at 0x253821f4c50>"
      ]
     },
     "metadata": {},
     "output_type": "display_data"
    },
    {
     "name": "stdout",
     "output_type": "stream",
     "text": [
      "Feature ranking (first 20):\n",
      "1. feature birthday (0.062524)\n",
      "2. feature defeats (0.061659)\n",
      "3. feature games (0.058956)\n",
      "4. feature goals (0.056684)\n",
      "5. feature height (0.055796)\n",
      "6. feature redCards (0.055178)\n",
      "7. feature sqrt_weighted_mean_exp (0.053636)\n",
      "8. feature sqrt_weighted_mean_iat (0.053398)\n",
      "9. feature ties (0.050097)\n",
      "10. feature victories (0.050071)\n",
      "11. feature weight (0.049486)\n",
      "12. feature weighted_mean_exp (0.048338)\n",
      "13. feature weighted_mean_iat (0.039772)\n",
      "14. feature yellowCards (0.028944)\n",
      "15. feature yellowReds (0.026716)\n",
      "16. feature position_Attacking Midfielder (0.009109)\n",
      "17. feature position_Center Back (0.008766)\n",
      "18. feature position_Center Forward (0.008756)\n",
      "19. feature position_Center Midfielder (0.008095)\n",
      "20. feature position_Defensive Midfielder (0.007737)\n"
     ]
    },
    {
     "data": {
      "text/plain": [
       "(0.98594358431492835, 0.31145030547458374)"
      ]
     },
     "execution_count": 51,
     "metadata": {},
     "output_type": "execute_result"
    }
   ],
   "source": [
    "(X, y, Xpd) = makeMatrixForClassifier(randomForestDF)\n",
    "executingRandomForest(X, y, Xpd, True, numb_trees, nb_features)"
   ]
  },
  {
   "cell_type": "markdown",
   "metadata": {},
   "source": [
    "We can observe that we overfit, however the results seem much more realistic. We get 30% for the testing set, which seems good considering that we have 9 classes. The only strange part is the feature \"birthday\" that goes on top but it is not something we want."
   ]
  },
  {
   "cell_type": "code",
   "execution_count": 52,
   "metadata": {
    "collapsed": false
   },
   "outputs": [
    {
     "name": "stdout",
     "output_type": "stream",
     "text": [
      "Train/Test sample sizes: 1266  /  317\n",
      "Train/Test:  0.9858 / 0.2997\n",
      "Train/Test:  0.9818 / 0.3028\n",
      "Train/Test:  0.9850 / 0.3218\n",
      "Train/Test:  0.9818 / 0.2500\n",
      "Train/Test:  0.9842 / 0.3038\n",
      "=> Final Train/Test:  0.9837 / 0.2956\n"
     ]
    },
    {
     "data": {
      "image/png": "[encoded data removed]",
      "text/plain": [
       "<matplotlib.figure.Figure at 0x253834fa668>"
      ]
     },
     "metadata": {},
     "output_type": "display_data"
    },
    {
     "name": "stdout",
     "output_type": "stream",
     "text": [
      "Feature ranking (first 20):\n",
      "1. feature defeats (0.070702)\n",
      "2. feature games (0.067851)\n",
      "3. feature goals (0.067611)\n",
      "4. feature redCards (0.066849)\n",
      "5. feature sqrt_weighted_mean_exp (0.064694)\n",
      "6. feature sqrt_weighted_mean_iat (0.064536)\n",
      "7. feature ties (0.063678)\n",
      "8. feature victories (0.062634)\n",
      "9. feature weighted_mean_exp (0.062467)\n",
      "10. feature weighted_mean_iat (0.054343)\n",
      "11. feature yellowCards (0.033958)\n",
      "12. feature yellowReds (0.032861)\n",
      "13. feature position_Attacking Midfielder (0.011055)\n",
      "14. feature position_Center Back (0.009774)\n",
      "15. feature position_Center Forward (0.009630)\n",
      "16. feature position_Center Midfielder (0.009121)\n",
      "17. feature position_Defensive Midfielder (0.009007)\n",
      "18. feature position_Goalkeeper (0.008936)\n",
      "19. feature position_Left Fullback (0.008924)\n",
      "20. feature position_Left Midfielder (0.008817)\n"
     ]
    },
    {
     "data": {
      "text/plain": [
       "(0.9837336395635472, 0.29561753783492395)"
      ]
     },
     "execution_count": 52,
     "metadata": {},
     "output_type": "execute_result"
    }
   ],
   "source": [
    "newRandomForestDF = randomForestDF.drop(['birthday', 'height', 'weight']  , axis=1)\n",
    "(X, y, Xpd) = makeMatrixForClassifier(newRandomForestDF)\n",
    "executingRandomForest(X, y, Xpd, True, numb_trees, nb_features)"
   ]
  },
  {
   "cell_type": "markdown",
   "metadata": {},
   "source": [
    "We observe no improvement of the score, however the features selection look more realistic."
   ]
  },
  {
   "cell_type": "markdown",
   "metadata": {},
   "source": [
    "### Number of features effect"
   ]
  },
  {
   "cell_type": "code",
   "execution_count": null,
   "metadata": {
    "collapsed": false
   },
   "outputs": [],
   "source": [
    "nb_features = len(randomForestDF.columns)\n",
    "nb_trees = 200"
   ]
  },
  {
   "cell_type": "code",
   "execution_count": null,
   "metadata": {
    "collapsed": false
   },
   "outputs": [],
   "source": [
    "# Very long to run, BE CAREFUL\n",
    "training = []\n",
    "testing = []\n",
    "\n",
    "for i in range(10, nb_trees, 10):\n",
    "    tr, te = executingRandomForest(X, y, Xpd, False, i, \"auto\")\n",
    "    training.append(tr)\n",
    "    testing.append(te)"
   ]
  },
  {
   "cell_type": "code",
   "execution_count": null,
   "metadata": {
    "collapsed": false
   },
   "outputs": [],
   "source": [
    "del training[:]\n",
    "del testing[:]\n",
    "\n",
    "for i in range(1, nb_features, 10):\n",
    "    tr, te = executingRandomForest(X, y, Xpd, False, 10, i)\n",
    "    training.append(tr)\n",
    "    testing.append(te)"
   ]
  },
  {
   "cell_type": "markdown",
   "metadata": {},
   "source": [
    "## Text to adapt...."
   ]
  },
  {
   "cell_type": "markdown",
   "metadata": {},
   "source": [
    "As we can obsrved above, the number of trees created by the randm Froest Classifier is proportional to the overfitting of our model. It can be explained by the fact that more trees implies a biggest complexity of our model and so the model overfits."
   ]
  },
  {
   "cell_type": "markdown",
   "metadata": {
    "collapsed": true
   },
   "source": [
    "By default, the numbers of featurs reached is the square root of the number of column (here it is sqrt(133) =~ 11). With a lowest number, the accurancy of our model on the testing set decreases, so a lowest number of feature reduces the overfitting."
   ]
  },
  {
   "cell_type": "code",
   "execution_count": null,
   "metadata": {
    "collapsed": true
   },
   "outputs": [],
   "source": [
    "(X, y, Xpd) = makeMatrixForClassifier(randomForestDF)\n",
    "\n",
    "y = y.astype(float)\n",
    "for i in range(len(y)):\n",
    "    if (y[i] <= 0.5):\n",
    "        y[i] = 1\n",
    "    else:\n",
    "        y[i] = 0\n",
    "\n",
    "def clustering(X, y):        \n",
    "    kmeans = KMeans(n_clusters=2, random_state=0)\n",
    "    y_pred = kmeans.fit_predict(X)\n",
    "    \n",
    "    f1score = metrics.f1_score(y, y_pred)\n",
    "    print('Score f1_score: {:.5f}'.format(f1score))\n",
    "    score = metrics.accuracy_score(y, y_pred)\n",
    "    print('Score accuracy_score: {:.5f}'.format(1-score))\n",
    "    return f1score\n",
    "\n",
    "# clustering(X,y)"
   ]
  },
  {
   "cell_type": "code",
   "execution_count": null,
   "metadata": {
    "collapsed": true
   },
   "outputs": [],
   "source": [
    "cols = []\n",
    "\n",
    "kmeansDF = randomForestDF.copy()\n",
    "(X, y, Xpd) = makeMatrixForClassifier(kmeansDF)\n",
    "\n",
    "y = y.astype(float)\n",
    "for i in range(len(y)):\n",
    "    if (y[i] <= 0.5):\n",
    "        y[i] = 1\n",
    "    else:\n",
    "        y[i] = 0\n",
    "\n",
    "scores = []\n",
    "for i in range(randomForestDF.columns.size - 1):\n",
    "    print(i, ': ', Xpd.columns[i])\n",
    "    kmeansTemp = Xpd.drop(Xpd.columns[i], axis=1)\n",
    "    X = kmeansTemp.as_matrix()\n",
    "    sc = clustering(X,y)\n",
    "    scores.append(sc)\n"
   ]
  },
  {
   "cell_type": "code",
   "execution_count": null,
   "metadata": {
    "collapsed": true
   },
   "outputs": [],
   "source": []
  }
 ],
 "metadata": {
  "anaconda-cloud": {},
  "kernelspec": {
   "display_name": "Python [ADA]",
   "language": "python",
   "name": "Python [ADA]"
  },
  "language_info": {
   "codemirror_mode": {
    "name": "ipython",
    "version": 3
   },
   "file_extension": ".py",
   "mimetype": "text/x-python",
   "name": "python",
   "nbconvert_exporter": "python",
   "pygments_lexer": "ipython3",
   "version": "3.5.2"
  }
 },
 "nbformat": 4,
 "nbformat_minor": 0
}
