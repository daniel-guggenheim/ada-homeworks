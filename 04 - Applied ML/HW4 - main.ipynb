{
 "cells": [
  {
   "cell_type": "markdown",
   "metadata": {},
   "source": [
    "<h1>Homework 04 - Applied ML</h1>"
   ]
  },
  {
   "cell_type": "markdown",
   "metadata": {},
   "source": [
    "Importation of libraries"
   ]
  },
  {
   "cell_type": "code",
   "execution_count": 140,
   "metadata": {
    "collapsed": false
   },
   "outputs": [],
   "source": [
    "import pandas as pd\n",
    "import numpy as np\n",
    "import os\n",
    "import seaborn as sns\n",
    "import datetime\n",
    "from sklearn.ensemble import RandomForestClassifier\n",
    "from sklearn.cluster import KMeans\n",
    "from sklearn.model_selection import KFold\n",
    "from sklearn import metrics\n",
    "import matplotlib.pyplot as plt\n",
    "from functools import reduce\n",
    "import math\n",
    "from collections import Counter"
   ]
  },
  {
   "cell_type": "markdown",
   "metadata": {},
   "source": [
    "Importation of the datas"
   ]
  },
  {
   "cell_type": "code",
   "execution_count": 141,
   "metadata": {
    "collapsed": false
   },
   "outputs": [
    {
     "data": {
      "text/html": [
       "<div>\n",
       "<table border=\"1\" class=\"dataframe\">\n",
       "  <thead>\n",
       "    <tr style=\"text-align: right;\">\n",
       "      <th></th>\n",
       "      <th>playerShort</th>\n",
       "      <th>player</th>\n",
       "      <th>club</th>\n",
       "      <th>leagueCountry</th>\n",
       "      <th>birthday</th>\n",
       "      <th>height</th>\n",
       "      <th>weight</th>\n",
       "      <th>position</th>\n",
       "      <th>games</th>\n",
       "      <th>victories</th>\n",
       "      <th>...</th>\n",
       "      <th>rater2</th>\n",
       "      <th>refNum</th>\n",
       "      <th>refCountry</th>\n",
       "      <th>Alpha_3</th>\n",
       "      <th>meanIAT</th>\n",
       "      <th>nIAT</th>\n",
       "      <th>seIAT</th>\n",
       "      <th>meanExp</th>\n",
       "      <th>nExp</th>\n",
       "      <th>seExp</th>\n",
       "    </tr>\n",
       "  </thead>\n",
       "  <tbody>\n",
       "    <tr>\n",
       "      <th>0</th>\n",
       "      <td>lucas-wilchez</td>\n",
       "      <td>Lucas Wilchez</td>\n",
       "      <td>Real Zaragoza</td>\n",
       "      <td>Spain</td>\n",
       "      <td>31.08.1983</td>\n",
       "      <td>177.0</td>\n",
       "      <td>72.0</td>\n",
       "      <td>Attacking Midfielder</td>\n",
       "      <td>1</td>\n",
       "      <td>0</td>\n",
       "      <td>...</td>\n",
       "      <td>0.50</td>\n",
       "      <td>1</td>\n",
       "      <td>1</td>\n",
       "      <td>GRC</td>\n",
       "      <td>0.326391</td>\n",
       "      <td>712.0</td>\n",
       "      <td>0.000564</td>\n",
       "      <td>0.396000</td>\n",
       "      <td>750.0</td>\n",
       "      <td>0.002696</td>\n",
       "    </tr>\n",
       "    <tr>\n",
       "      <th>1</th>\n",
       "      <td>john-utaka</td>\n",
       "      <td>John Utaka</td>\n",
       "      <td>Montpellier HSC</td>\n",
       "      <td>France</td>\n",
       "      <td>08.01.1982</td>\n",
       "      <td>179.0</td>\n",
       "      <td>82.0</td>\n",
       "      <td>Right Winger</td>\n",
       "      <td>1</td>\n",
       "      <td>0</td>\n",
       "      <td>...</td>\n",
       "      <td>0.75</td>\n",
       "      <td>2</td>\n",
       "      <td>2</td>\n",
       "      <td>ZMB</td>\n",
       "      <td>0.203375</td>\n",
       "      <td>40.0</td>\n",
       "      <td>0.010875</td>\n",
       "      <td>-0.204082</td>\n",
       "      <td>49.0</td>\n",
       "      <td>0.061504</td>\n",
       "    </tr>\n",
       "  </tbody>\n",
       "</table>\n",
       "<p>2 rows × 28 columns</p>\n",
       "</div>"
      ],
      "text/plain": [
       "     playerShort         player             club leagueCountry    birthday  \\\n",
       "0  lucas-wilchez  Lucas Wilchez    Real Zaragoza         Spain  31.08.1983   \n",
       "1     john-utaka     John Utaka  Montpellier HSC        France  08.01.1982   \n",
       "\n",
       "   height  weight              position  games  victories    ...     rater2  \\\n",
       "0   177.0    72.0  Attacking Midfielder      1          0    ...       0.50   \n",
       "1   179.0    82.0          Right Winger      1          0    ...       0.75   \n",
       "\n",
       "   refNum  refCountry  Alpha_3   meanIAT   nIAT     seIAT   meanExp   nExp  \\\n",
       "0       1           1      GRC  0.326391  712.0  0.000564  0.396000  750.0   \n",
       "1       2           2      ZMB  0.203375   40.0  0.010875 -0.204082   49.0   \n",
       "\n",
       "      seExp  \n",
       "0  0.002696  \n",
       "1  0.061504  \n",
       "\n",
       "[2 rows x 28 columns]"
      ]
     },
     "execution_count": 141,
     "metadata": {},
     "output_type": "execute_result"
    }
   ],
   "source": [
    "filename = os.path.join('data','CrowdstormingDataJuly1st.csv') \n",
    "df = pd.read_csv(filename)\n",
    "df.head(2)"
   ]
  },
  {
   "cell_type": "markdown",
   "metadata": {},
   "source": [
    "A few numbers about the data:"
   ]
  },
  {
   "cell_type": "code",
   "execution_count": 142,
   "metadata": {
    "collapsed": false
   },
   "outputs": [
    {
     "name": "stdout",
     "output_type": "stream",
     "text": [
      "Number of dyads (rows in dataframe):  146028\n",
      "Total number of interactions between a referee and a player (nb of games):  426572\n",
      "Mean number of games for a dyad:  2.921165803818446\n"
     ]
    }
   ],
   "source": [
    "print('Number of dyads (rows in dataframe): ', len(df))\n",
    "print('Total number of interactions between a referee and a player (nb of games): ', sum(df.games))\n",
    "print('Mean number of games for a dyad: ', np.mean(df['games']))"
   ]
  },
  {
   "cell_type": "markdown",
   "metadata": {},
   "source": [
    "## Data cleaning / setup"
   ]
  },
  {
   "cell_type": "code",
   "execution_count": 143,
   "metadata": {
    "collapsed": false
   },
   "outputs": [
    {
     "name": "stdout",
     "output_type": "stream",
     "text": [
      "Number of rows in dataframe:  146028\n"
     ]
    }
   ],
   "source": [
    "print(\"Number of rows in dataframe: \", len(df))"
   ]
  },
  {
   "cell_type": "markdown",
   "metadata": {},
   "source": [
    "<b>Removing raters</b>: We decided to remove row where the two rates were significantly different or if any of the rates were absent (Nan value)."
   ]
  },
  {
   "cell_type": "code",
   "execution_count": 144,
   "metadata": {
    "collapsed": false
   },
   "outputs": [
    {
     "name": "stdout",
     "output_type": "stream",
     "text": [
      "Number of rows in the cleaned dataframe:  124457\n",
      "Number of rows removed:  21571\n"
     ]
    }
   ],
   "source": [
    "cleandf = df.copy()\n",
    "\n",
    "## Removing null values in raters\n",
    "cleandf = cleandf[cleandf[\"rater1\"].notnull() & cleandf[\"rater2\"].notnull()]\n",
    "\n",
    "## Removing all rows where the difference between the two raters is larger than 0.25\n",
    "cleandf['difference'] = abs(cleandf.rater1 - cleandf.rater2)\n",
    "cleandf = cleandf[cleandf['difference'] <= 0.25]\n",
    "cleandf.drop('difference', axis =1, inplace=True)\n",
    "\n",
    "print(\"Number of rows in the cleaned dataframe: \", len(cleandf))\n",
    "print(\"Number of rows removed: \", (len(df)-len(cleandf)))"
   ]
  },
  {
   "cell_type": "markdown",
   "metadata": {},
   "source": [
    "<b>Skin tone</b>: Then we decide to take the skin tone as the mean between the two raters. This is the value that will be predicted later."
   ]
  },
  {
   "cell_type": "code",
   "execution_count": 145,
   "metadata": {
    "collapsed": false,
    "scrolled": false
   },
   "outputs": [
    {
     "data": {
      "text/html": [
       "<div>\n",
       "<table border=\"1\" class=\"dataframe\">\n",
       "  <thead>\n",
       "    <tr style=\"text-align: right;\">\n",
       "      <th></th>\n",
       "      <th>playerShort</th>\n",
       "      <th>player</th>\n",
       "      <th>club</th>\n",
       "      <th>leagueCountry</th>\n",
       "      <th>birthday</th>\n",
       "      <th>height</th>\n",
       "      <th>weight</th>\n",
       "      <th>position</th>\n",
       "      <th>games</th>\n",
       "      <th>victories</th>\n",
       "      <th>...</th>\n",
       "      <th>refNum</th>\n",
       "      <th>refCountry</th>\n",
       "      <th>Alpha_3</th>\n",
       "      <th>meanIAT</th>\n",
       "      <th>nIAT</th>\n",
       "      <th>seIAT</th>\n",
       "      <th>meanExp</th>\n",
       "      <th>nExp</th>\n",
       "      <th>seExp</th>\n",
       "      <th>meanSkinTone</th>\n",
       "    </tr>\n",
       "  </thead>\n",
       "  <tbody>\n",
       "    <tr>\n",
       "      <th>0</th>\n",
       "      <td>lucas-wilchez</td>\n",
       "      <td>Lucas Wilchez</td>\n",
       "      <td>Real Zaragoza</td>\n",
       "      <td>Spain</td>\n",
       "      <td>31.08.1983</td>\n",
       "      <td>177.0</td>\n",
       "      <td>72.0</td>\n",
       "      <td>Attacking Midfielder</td>\n",
       "      <td>1</td>\n",
       "      <td>0</td>\n",
       "      <td>...</td>\n",
       "      <td>1</td>\n",
       "      <td>1</td>\n",
       "      <td>GRC</td>\n",
       "      <td>0.326391</td>\n",
       "      <td>712.0</td>\n",
       "      <td>0.000564</td>\n",
       "      <td>0.396000</td>\n",
       "      <td>750.0</td>\n",
       "      <td>0.002696</td>\n",
       "      <td>0.375</td>\n",
       "    </tr>\n",
       "    <tr>\n",
       "      <th>1</th>\n",
       "      <td>john-utaka</td>\n",
       "      <td>John Utaka</td>\n",
       "      <td>Montpellier HSC</td>\n",
       "      <td>France</td>\n",
       "      <td>08.01.1982</td>\n",
       "      <td>179.0</td>\n",
       "      <td>82.0</td>\n",
       "      <td>Right Winger</td>\n",
       "      <td>1</td>\n",
       "      <td>0</td>\n",
       "      <td>...</td>\n",
       "      <td>2</td>\n",
       "      <td>2</td>\n",
       "      <td>ZMB</td>\n",
       "      <td>0.203375</td>\n",
       "      <td>40.0</td>\n",
       "      <td>0.010875</td>\n",
       "      <td>-0.204082</td>\n",
       "      <td>49.0</td>\n",
       "      <td>0.061504</td>\n",
       "      <td>0.750</td>\n",
       "    </tr>\n",
       "  </tbody>\n",
       "</table>\n",
       "<p>2 rows × 29 columns</p>\n",
       "</div>"
      ],
      "text/plain": [
       "     playerShort         player             club leagueCountry    birthday  \\\n",
       "0  lucas-wilchez  Lucas Wilchez    Real Zaragoza         Spain  31.08.1983   \n",
       "1     john-utaka     John Utaka  Montpellier HSC        France  08.01.1982   \n",
       "\n",
       "   height  weight              position  games  victories      ...       \\\n",
       "0   177.0    72.0  Attacking Midfielder      1          0      ...        \n",
       "1   179.0    82.0          Right Winger      1          0      ...        \n",
       "\n",
       "   refNum  refCountry  Alpha_3   meanIAT   nIAT     seIAT   meanExp   nExp  \\\n",
       "0       1           1      GRC  0.326391  712.0  0.000564  0.396000  750.0   \n",
       "1       2           2      ZMB  0.203375   40.0  0.010875 -0.204082   49.0   \n",
       "\n",
       "      seExp  meanSkinTone  \n",
       "0  0.002696         0.375  \n",
       "1  0.061504         0.750  \n",
       "\n",
       "[2 rows x 29 columns]"
      ]
     },
     "execution_count": 145,
     "metadata": {},
     "output_type": "execute_result"
    }
   ],
   "source": [
    "cleandf[\"meanSkinTone\"] = abs(cleandf[\"rater1\"] + cleandf[\"rater2\"] ) / 2\n",
    "cleandf.head(2)"
   ]
  },
  {
   "cell_type": "markdown",
   "metadata": {},
   "source": [
    "<b>Birthday date</b>: As the classifier can not understand date, we decided to change birthday date in seconds. It seemed important for us to keep the birthday date, as it could help predict the color skin if there were more people from a certain demography that played during some years."
   ]
  },
  {
   "cell_type": "code",
   "execution_count": 146,
   "metadata": {
    "collapsed": false
   },
   "outputs": [
    {
     "data": {
      "text/html": [
       "<div>\n",
       "<table border=\"1\" class=\"dataframe\">\n",
       "  <thead>\n",
       "    <tr style=\"text-align: right;\">\n",
       "      <th></th>\n",
       "      <th>playerShort</th>\n",
       "      <th>player</th>\n",
       "      <th>club</th>\n",
       "      <th>leagueCountry</th>\n",
       "      <th>birthday</th>\n",
       "      <th>height</th>\n",
       "      <th>weight</th>\n",
       "      <th>position</th>\n",
       "      <th>games</th>\n",
       "      <th>victories</th>\n",
       "      <th>...</th>\n",
       "      <th>refNum</th>\n",
       "      <th>refCountry</th>\n",
       "      <th>Alpha_3</th>\n",
       "      <th>meanIAT</th>\n",
       "      <th>nIAT</th>\n",
       "      <th>seIAT</th>\n",
       "      <th>meanExp</th>\n",
       "      <th>nExp</th>\n",
       "      <th>seExp</th>\n",
       "      <th>meanSkinTone</th>\n",
       "    </tr>\n",
       "  </thead>\n",
       "  <tbody>\n",
       "    <tr>\n",
       "      <th>0</th>\n",
       "      <td>lucas-wilchez</td>\n",
       "      <td>Lucas Wilchez</td>\n",
       "      <td>Real Zaragoza</td>\n",
       "      <td>Spain</td>\n",
       "      <td>431136000</td>\n",
       "      <td>177.0</td>\n",
       "      <td>72.0</td>\n",
       "      <td>Attacking Midfielder</td>\n",
       "      <td>1</td>\n",
       "      <td>0</td>\n",
       "      <td>...</td>\n",
       "      <td>1</td>\n",
       "      <td>1</td>\n",
       "      <td>GRC</td>\n",
       "      <td>0.326391</td>\n",
       "      <td>712.0</td>\n",
       "      <td>0.000564</td>\n",
       "      <td>0.396000</td>\n",
       "      <td>750.0</td>\n",
       "      <td>0.002696</td>\n",
       "      <td>0.375</td>\n",
       "    </tr>\n",
       "    <tr>\n",
       "      <th>1</th>\n",
       "      <td>john-utaka</td>\n",
       "      <td>John Utaka</td>\n",
       "      <td>Montpellier HSC</td>\n",
       "      <td>France</td>\n",
       "      <td>397008000</td>\n",
       "      <td>179.0</td>\n",
       "      <td>82.0</td>\n",
       "      <td>Right Winger</td>\n",
       "      <td>1</td>\n",
       "      <td>0</td>\n",
       "      <td>...</td>\n",
       "      <td>2</td>\n",
       "      <td>2</td>\n",
       "      <td>ZMB</td>\n",
       "      <td>0.203375</td>\n",
       "      <td>40.0</td>\n",
       "      <td>0.010875</td>\n",
       "      <td>-0.204082</td>\n",
       "      <td>49.0</td>\n",
       "      <td>0.061504</td>\n",
       "      <td>0.750</td>\n",
       "    </tr>\n",
       "  </tbody>\n",
       "</table>\n",
       "<p>2 rows × 29 columns</p>\n",
       "</div>"
      ],
      "text/plain": [
       "     playerShort         player             club leagueCountry   birthday  \\\n",
       "0  lucas-wilchez  Lucas Wilchez    Real Zaragoza         Spain  431136000   \n",
       "1     john-utaka     John Utaka  Montpellier HSC        France  397008000   \n",
       "\n",
       "   height  weight              position  games  victories      ...       \\\n",
       "0   177.0    72.0  Attacking Midfielder      1          0      ...        \n",
       "1   179.0    82.0          Right Winger      1          0      ...        \n",
       "\n",
       "   refNum  refCountry  Alpha_3   meanIAT   nIAT     seIAT   meanExp   nExp  \\\n",
       "0       1           1      GRC  0.326391  712.0  0.000564  0.396000  750.0   \n",
       "1       2           2      ZMB  0.203375   40.0  0.010875 -0.204082   49.0   \n",
       "\n",
       "      seExp  meanSkinTone  \n",
       "0  0.002696         0.375  \n",
       "1  0.061504         0.750  \n",
       "\n",
       "[2 rows x 29 columns]"
      ]
     },
     "execution_count": 146,
     "metadata": {},
     "output_type": "execute_result"
    }
   ],
   "source": [
    "def time_to_seconds(t):\n",
    "    seconds = (pd.to_datetime(t) - datetime.datetime(1970, 1,1)).total_seconds()\n",
    "    return int(seconds)\n",
    "\n",
    "cleandf.birthday = cleandf.birthday.apply(time_to_seconds)\n",
    "cleandf.head(2)"
   ]
  },
  {
   "cell_type": "markdown",
   "metadata": {},
   "source": [
    "<h3>Changing data attributes to numerals function</h3>"
   ]
  },
  {
   "cell_type": "markdown",
   "metadata": {},
   "source": [
    "<i>Dummy variables</i>: We noticed that a lot of the columns could not be used in the Random forest as they are non-numerical. As most of these features can be seen as categorical variables, we decided to make dummy variables with them."
   ]
  },
  {
   "cell_type": "code",
   "execution_count": 147,
   "metadata": {
    "collapsed": false
   },
   "outputs": [
    {
     "name": "stdout",
     "output_type": "stream",
     "text": [
      "The number of different positions is 13\n",
      "The number of different clubs is 97\n",
      "The number of different league countries is 4\n",
      "The number of different referee countries is 160\n"
     ]
    }
   ],
   "source": [
    "print(\"The number of different positions is\", cleandf[\"position\"].unique().size)\n",
    "print(\"The number of different clubs is\",cleandf[\"club\"].unique().size)\n",
    "print(\"The number of different league countries is\",cleandf[\"leagueCountry\"].unique().size)\n",
    "print(\"The number of different referee countries is\",cleandf[\"Alpha_3\"].unique().size)"
   ]
  },
  {
   "cell_type": "markdown",
   "metadata": {},
   "source": [
    "Out of these datas, we decided to remove the \"referee country\" (Alpha_3) and to make dummy variables with the 3 other categories. We decided to remove the referee country because there were a lot of them and it seemed it would induce more error and overfitting to our classifier than it would help it."
   ]
  },
  {
   "cell_type": "markdown",
   "metadata": {},
   "source": [
    "<i>Replacing Nan</i>: We also realize that the dataframe still have some NaN values. We decided to substitute every NaN with the mean of their column."
   ]
  },
  {
   "cell_type": "code",
   "execution_count": 148,
   "metadata": {
    "collapsed": false
   },
   "outputs": [
    {
     "data": {
      "text/plain": [
       "True"
      ]
     },
     "execution_count": 148,
     "metadata": {},
     "output_type": "execute_result"
    }
   ],
   "source": [
    "cleandf.isnull().values.any()"
   ]
  },
  {
   "cell_type": "markdown",
   "metadata": {},
   "source": [
    "Here is the function that will apply these changes:"
   ]
  },
  {
   "cell_type": "code",
   "execution_count": 149,
   "metadata": {
    "collapsed": true
   },
   "outputs": [],
   "source": [
    "def changeDfAttributesToNumerals(cleandf):\n",
    "    ## Making the dummy variables\n",
    "    dummydf = pd.get_dummies(cleandf, prefix=None, prefix_sep='_', dummy_na=False, columns=[\"position\"], sparse=False, drop_first=False)\n",
    "    dummydf = pd.get_dummies(dummydf, prefix=None, prefix_sep='_', dummy_na=False, columns=[\"club\"], sparse=False, drop_first=False)\n",
    "    dummydf = pd.get_dummies(dummydf, prefix=None, prefix_sep='_', dummy_na=False, columns=[\"leagueCountry\"], sparse=False, drop_first=False)\n",
    "    dummydf.drop(\"Alpha_3\", axis = 1, inplace = True)\n",
    "    \n",
    "    ## Replacing NaN values\n",
    "    # For each column, if there is any NaN value, we compute the mean and replace the NaN values with it.\n",
    "    for i in range(len(dummydf.columns)):\n",
    "        if (dummydf[dummydf.columns[i]].isnull().values.any()):\n",
    "            mean = np.mean(dummydf[dummydf.columns[i]])\n",
    "            dummydf[dummydf.columns[i]].fillna(mean, inplace = True)\n",
    "    \n",
    "    return dummydf"
   ]
  },
  {
   "cell_type": "markdown",
   "metadata": {
    "collapsed": false
   },
   "source": [
    "We can now apply the function to our dataset and observe the results:"
   ]
  },
  {
   "cell_type": "code",
   "execution_count": 150,
   "metadata": {
    "collapsed": false
   },
   "outputs": [
    {
     "name": "stdout",
     "output_type": "stream",
     "text": [
      "Number of columns in the previous dataframe:  29\n",
      "Number of columns in the new dataframe with dummy variables:  138\n"
     ]
    }
   ],
   "source": [
    "dummydf = changeDfAttributesToNumerals(cleandf)\n",
    "print(\"Number of columns in the previous dataframe: \",cleandf.columns.size)\n",
    "print(\"Number of columns in the new dataframe with dummy variables: \",dummydf.columns.size)"
   ]
  },
  {
   "cell_type": "code",
   "execution_count": 151,
   "metadata": {
    "collapsed": false
   },
   "outputs": [
    {
     "data": {
      "text/plain": [
       "False"
      ]
     },
     "execution_count": 151,
     "metadata": {},
     "output_type": "execute_result"
    }
   ],
   "source": [
    "dummydf.isnull().values.any()"
   ]
  },
  {
   "cell_type": "markdown",
   "metadata": {},
   "source": [
    "<b>Removing useless columns</b>: For the classifier, there are some columns that it makes no sense to use. These columns are the player name (and short name), the photo and the initial ratings (of rater 1 and 2). Therefore we will drop them."
   ]
  },
  {
   "cell_type": "code",
   "execution_count": 152,
   "metadata": {
    "collapsed": true
   },
   "outputs": [],
   "source": [
    "usedf = dummydf.drop(['playerShort', 'player', 'photoID', 'rater1', 'rater2']  , axis=1)"
   ]
  },
  {
   "cell_type": "code",
   "execution_count": 153,
   "metadata": {
    "collapsed": false,
    "scrolled": true
   },
   "outputs": [
    {
     "data": {
      "text/html": [
       "<div>\n",
       "<table border=\"1\" class=\"dataframe\">\n",
       "  <thead>\n",
       "    <tr style=\"text-align: right;\">\n",
       "      <th></th>\n",
       "      <th>birthday</th>\n",
       "      <th>height</th>\n",
       "      <th>weight</th>\n",
       "      <th>games</th>\n",
       "      <th>victories</th>\n",
       "      <th>ties</th>\n",
       "      <th>defeats</th>\n",
       "      <th>goals</th>\n",
       "      <th>yellowCards</th>\n",
       "      <th>yellowReds</th>\n",
       "      <th>...</th>\n",
       "      <th>club_Werder Bremen</th>\n",
       "      <th>club_West Bromwich Albion</th>\n",
       "      <th>club_West Ham United</th>\n",
       "      <th>club_Wigan Athletic</th>\n",
       "      <th>club_Wolverhampton Wanderers</th>\n",
       "      <th>club_Évian Thonon Gaillard</th>\n",
       "      <th>leagueCountry_England</th>\n",
       "      <th>leagueCountry_France</th>\n",
       "      <th>leagueCountry_Germany</th>\n",
       "      <th>leagueCountry_Spain</th>\n",
       "    </tr>\n",
       "  </thead>\n",
       "  <tbody>\n",
       "    <tr>\n",
       "      <th>0</th>\n",
       "      <td>431136000</td>\n",
       "      <td>177.0</td>\n",
       "      <td>72.0</td>\n",
       "      <td>1</td>\n",
       "      <td>0</td>\n",
       "      <td>0</td>\n",
       "      <td>1</td>\n",
       "      <td>0</td>\n",
       "      <td>0</td>\n",
       "      <td>0</td>\n",
       "      <td>...</td>\n",
       "      <td>0.0</td>\n",
       "      <td>0.0</td>\n",
       "      <td>0.0</td>\n",
       "      <td>0.0</td>\n",
       "      <td>0.0</td>\n",
       "      <td>0.0</td>\n",
       "      <td>0.0</td>\n",
       "      <td>0.0</td>\n",
       "      <td>0.0</td>\n",
       "      <td>1.0</td>\n",
       "    </tr>\n",
       "    <tr>\n",
       "      <th>1</th>\n",
       "      <td>397008000</td>\n",
       "      <td>179.0</td>\n",
       "      <td>82.0</td>\n",
       "      <td>1</td>\n",
       "      <td>0</td>\n",
       "      <td>0</td>\n",
       "      <td>1</td>\n",
       "      <td>0</td>\n",
       "      <td>1</td>\n",
       "      <td>0</td>\n",
       "      <td>...</td>\n",
       "      <td>0.0</td>\n",
       "      <td>0.0</td>\n",
       "      <td>0.0</td>\n",
       "      <td>0.0</td>\n",
       "      <td>0.0</td>\n",
       "      <td>0.0</td>\n",
       "      <td>0.0</td>\n",
       "      <td>1.0</td>\n",
       "      <td>0.0</td>\n",
       "      <td>0.0</td>\n",
       "    </tr>\n",
       "    <tr>\n",
       "      <th>5</th>\n",
       "      <td>303177600</td>\n",
       "      <td>182.0</td>\n",
       "      <td>71.0</td>\n",
       "      <td>1</td>\n",
       "      <td>0</td>\n",
       "      <td>0</td>\n",
       "      <td>1</td>\n",
       "      <td>0</td>\n",
       "      <td>0</td>\n",
       "      <td>0</td>\n",
       "      <td>...</td>\n",
       "      <td>0.0</td>\n",
       "      <td>0.0</td>\n",
       "      <td>0.0</td>\n",
       "      <td>0.0</td>\n",
       "      <td>0.0</td>\n",
       "      <td>0.0</td>\n",
       "      <td>1.0</td>\n",
       "      <td>0.0</td>\n",
       "      <td>0.0</td>\n",
       "      <td>0.0</td>\n",
       "    </tr>\n",
       "  </tbody>\n",
       "</table>\n",
       "<p>3 rows × 133 columns</p>\n",
       "</div>"
      ],
      "text/plain": [
       "    birthday  height  weight  games  victories  ties  defeats  goals  \\\n",
       "0  431136000   177.0    72.0      1          0     0        1      0   \n",
       "1  397008000   179.0    82.0      1          0     0        1      0   \n",
       "5  303177600   182.0    71.0      1          0     0        1      0   \n",
       "\n",
       "   yellowCards  yellowReds         ...           club_Werder Bremen  \\\n",
       "0            0           0         ...                          0.0   \n",
       "1            1           0         ...                          0.0   \n",
       "5            0           0         ...                          0.0   \n",
       "\n",
       "   club_West Bromwich Albion  club_West Ham United  club_Wigan Athletic  \\\n",
       "0                        0.0                   0.0                  0.0   \n",
       "1                        0.0                   0.0                  0.0   \n",
       "5                        0.0                   0.0                  0.0   \n",
       "\n",
       "   club_Wolverhampton Wanderers  club_Évian Thonon Gaillard  \\\n",
       "0                           0.0                         0.0   \n",
       "1                           0.0                         0.0   \n",
       "5                           0.0                         0.0   \n",
       "\n",
       "   leagueCountry_England  leagueCountry_France  leagueCountry_Germany  \\\n",
       "0                    0.0                   0.0                    0.0   \n",
       "1                    0.0                   1.0                    0.0   \n",
       "5                    1.0                   0.0                    0.0   \n",
       "\n",
       "   leagueCountry_Spain  \n",
       "0                  1.0  \n",
       "1                  0.0  \n",
       "5                  0.0  \n",
       "\n",
       "[3 rows x 133 columns]"
      ]
     },
     "execution_count": 153,
     "metadata": {},
     "output_type": "execute_result"
    }
   ],
   "source": [
    "usedf.head(3)"
   ]
  },
  {
   "cell_type": "markdown",
   "metadata": {},
   "source": [
    "## Classifier"
   ]
  },
  {
   "cell_type": "markdown",
   "metadata": {},
   "source": [
    "First, we executed the random forest classification algorithm.\n",
    "\n",
    "We decided to go with multiclass classification. As it was asked to predict the skin color, this looked like it was going to be the most interesting way of observing the classification. Of course, this implies that the error will be a lot larger than in the case of binary classification.\n",
    "\n",
    "In the following part, we built a function that executed random forest. It directly does the kfold validation with a decided K = 5. This looked enough to test it and not have a running time that was too long. Of course this value could be augmented for more precise result, but we didn't see a big enough difference that it seemed worth it.\n",
    "\n",
    "To compute the score, we decided to go with a simple accuracy score. We didn't implement our own scoring function, but this should be adapted to f1 score (for example) in case of binary class, to equilibrate with the number of sample that we have for each data\n",
    "\n",
    "We have different parameters:<br>\n",
    "X: The data that will try to fit<br>\n",
    "y: The row that contains the meanSkinColor, that we will try to fit as best as possible<br>\n",
    "Xpd: The dataframe containing X<br>\n",
    "printingInfo: boolean if we want to print information<br>\n",
    "numb_trees: A parameter of the random forest classification that we will vary. It contains the number of trees that we want to use in our algorithm.<br>\n",
    "nb_features: A parameter of the random forest classification that we will vary. It contains the maximum number of features to we want to use."
   ]
  },
  {
   "cell_type": "code",
   "execution_count": 154,
   "metadata": {
    "collapsed": false
   },
   "outputs": [],
   "source": [
    "\n",
    "def executingRandomForest(X, y, Xpd, printingInfo, numb_trees, nb_features, maxdepth):\n",
    "    # Creating kfolds\n",
    "    once = True\n",
    "    kf = KFold(n_splits=5, shuffle=True, random_state=1)\n",
    "    sumAccurancy_tr = 0\n",
    "    sumAccurancy_te = 0\n",
    "\n",
    "    #Iterating for kfold validation\n",
    "    for train_index, test_index in kf.split(X):\n",
    "        if(once):\n",
    "            print(\"Train/Test sample sizes:\", train_index.size, \" / \", test_index.size)\n",
    "\n",
    "        ## Making indices\n",
    "        X_train, X_test = X[train_index], X[test_index]\n",
    "        y_train, y_test = y[train_index], y[test_index]\n",
    "\n",
    "        #Make classifier\n",
    "        rf = RandomForestClassifier(n_estimators = numb_trees, max_features = nb_features,  max_depth = maxdepth, n_jobs = 4)\n",
    "\n",
    "        #Train the classifier\n",
    "        clf = rf.fit(X_train, y_train)\n",
    "\n",
    "        # Make prediction for testing data with the classifier\n",
    "        y_pred = clf.predict(X_test)\n",
    "\n",
    "        #Computing error\n",
    "        rf_train_score = metrics.accuracy_score(y_train, clf.predict(X_train))\n",
    "        rf_test_score = metrics.accuracy_score(y_test, y_pred)\n",
    "        if(printingInfo):\n",
    "            print('Train/Test:  {:.4f} / {:.4f}'.format(rf_train_score, rf_test_score))\n",
    "#             print('   {:.4f}'.format(rf_test_score))\n",
    "        \n",
    "        sumAccurancy_tr = sumAccurancy_tr + rf_train_score\n",
    "        sumAccurancy_te = sumAccurancy_te + rf_test_score\n",
    "\n",
    "\n",
    "        # Features importance score\n",
    "        if(once):\n",
    "            once = False\n",
    "            importances = rf.feature_importances_\n",
    "            std = np.std([tree.feature_importances_ for tree in rf.estimators_],\n",
    "                         axis=0)\n",
    "            indices = np.argsort(importances)[::-1]\n",
    "\n",
    "    #Printing the final result score:\n",
    "    print('=> Final Train/Test:  {:.4f} / {:.4f}'.format(sumAccurancy_tr / 5.0, sumAccurancy_te / 5.0))\n",
    "    \n",
    "    if(printingInfo):\n",
    "        # Plot the feature importances of the forest\n",
    "        fig = plt.figure()\n",
    "        plt.title(\"Feature importances\")\n",
    "        plt.bar(range(X.shape[1]), importances[indices],\n",
    "                   color=\"r\", yerr=std[indices], align=\"center\")\n",
    "        plt.xticks(range(X.shape[1]), importances[indices])\n",
    "        plt.xlim([-1, X.shape[1]])\n",
    "        plt.show()\n",
    "\n",
    "        # Print the feature ranking\n",
    "        print(\"Feature ranking (first 20):\")\n",
    "        for f in range(20):\n",
    "            print(\"%d. feature %s (%f)\" % (f + 1, Xpd.columns[f], importances[indices[f]]))\n",
    "        \n",
    "    # Returns the average accurancy for the testing set and the training set\n",
    "    return (sumAccurancy_tr / 5.0, sumAccurancy_te / 5.0)"
   ]
  },
  {
   "cell_type": "markdown",
   "metadata": {},
   "source": [
    "This function takes a dataframe, and will make all the parameters that are needed in the random forest function.<br>\n",
    "<i>X (the features to use in the classifier) and Y (the value to predict).</i>"
   ]
  },
  {
   "cell_type": "code",
   "execution_count": 155,
   "metadata": {
    "collapsed": true
   },
   "outputs": [],
   "source": [
    "def makeMatrixForClassifier(df):\n",
    "    y = np.asarray(df[\"meanSkinTone\"].values, dtype=\"|S6\")\n",
    "    Xpd = df.drop(\"meanSkinTone\", axis = 1)\n",
    "    X = Xpd.as_matrix()\n",
    "    return (X, y, Xpd)"
   ]
  },
  {
   "cell_type": "markdown",
   "metadata": {
    "collapsed": true
   },
   "source": [
    "We will execute a first time the algorithm:"
   ]
  },
  {
   "cell_type": "code",
   "execution_count": 156,
   "metadata": {
    "collapsed": false
   },
   "outputs": [
    {
     "name": "stdout",
     "output_type": "stream",
     "text": [
      "Train/Test sample sizes: 99565  /  24892\n",
      "Train/Test:  0.9999 / 0.9921\n",
      "Train/Test:  0.9999 / 0.9948\n",
      "Train/Test:  0.9999 / 0.9911\n",
      "Train/Test:  0.9999 / 0.9922\n",
      "Train/Test:  0.9999 / 0.9929\n",
      "=> Final Train/Test:  0.9999 / 0.9926\n",
      "Feature ranking (first 20):\n",
      "1. feature birthday (0.159544)\n",
      "2. feature height (0.129583)\n",
      "3. feature weight (0.124994)\n",
      "4. feature games (0.020817)\n",
      "5. feature victories (0.020222)\n",
      "6. feature ties (0.016239)\n",
      "7. feature defeats (0.015702)\n",
      "8. feature goals (0.014814)\n",
      "9. feature yellowCards (0.014215)\n",
      "10. feature yellowReds (0.013692)\n",
      "11. feature redCards (0.012957)\n",
      "12. feature refNum (0.011463)\n",
      "13. feature refCountry (0.010604)\n",
      "14. feature meanIAT (0.010456)\n",
      "15. feature nIAT (0.010395)\n",
      "16. feature seIAT (0.010370)\n",
      "17. feature meanExp (0.010289)\n",
      "18. feature nExp (0.010208)\n",
      "19. feature seExp (0.010092)\n",
      "20. feature position_Attacking Midfielder (0.009934)\n"
     ]
    },
    {
     "data": {
      "text/plain": [
       "(0.99991161603191825, 0.99261591014083161)"
      ]
     },
     "execution_count": 156,
     "metadata": {},
     "output_type": "execute_result"
    }
   ],
   "source": [
    "numb_trees = 10\n",
    "nb_features = \"auto\"\n",
    "(X, y, Xpd) = makeMatrixForClassifier(usedf)\n",
    "executingRandomForest(X, y, Xpd, True, numb_trees, nb_features, None)"
   ]
  },
  {
   "cell_type": "markdown",
   "metadata": {},
   "source": [
    "We can observe that we have unrealistic results. 99% accuracy for both training and testing sets seem too good to be true. When we look at the features importance result, we can quickly see what went wrong. The 3 most important features are the birthday, the height and the weight. It makes sense, because what is actually happening, is that the classifier has more than one line per person. Therefore, as a person has always the same skin color, recognizing the person leads to know its skin color.<br>\n",
    "The testing set also has amazing result, as there are enough data of person to find them in both sets. Let's try to see if we can correct this by removing the main features."
   ]
  },
  {
   "cell_type": "code",
   "execution_count": 157,
   "metadata": {
    "collapsed": false
   },
   "outputs": [
    {
     "name": "stdout",
     "output_type": "stream",
     "text": [
      "Train/Test sample sizes: 99565  /  24892\n",
      "Train/Test:  0.9722 / 0.6966\n",
      "Train/Test:  0.9726 / 0.6952\n",
      "Train/Test:  0.9725 / 0.7026\n",
      "Train/Test:  0.9728 / 0.7055\n",
      "Train/Test:  0.9721 / 0.6970\n",
      "=> Final Train/Test:  0.9724 / 0.6994\n",
      "Feature ranking (first 20):\n",
      "1. feature games (0.141428)\n",
      "2. feature victories (0.048816)\n",
      "3. feature ties (0.045265)\n",
      "4. feature defeats (0.037709)\n",
      "5. feature goals (0.033544)\n",
      "6. feature yellowCards (0.029875)\n",
      "7. feature yellowReds (0.026986)\n",
      "8. feature redCards (0.024411)\n",
      "9. feature refNum (0.023693)\n",
      "10. feature refCountry (0.021943)\n",
      "11. feature meanIAT (0.021562)\n",
      "12. feature nIAT (0.020239)\n",
      "13. feature seIAT (0.020109)\n",
      "14. feature meanExp (0.019153)\n",
      "15. feature nExp (0.017244)\n",
      "16. feature seExp (0.017177)\n",
      "17. feature position_Attacking Midfielder (0.016737)\n",
      "18. feature position_Center Back (0.016625)\n",
      "19. feature position_Center Forward (0.016461)\n",
      "20. feature position_Center Midfielder (0.016029)\n"
     ]
    },
    {
     "data": {
      "text/plain": [
       "(0.97240412335450588, 0.69935806699243097)"
      ]
     },
     "execution_count": 157,
     "metadata": {},
     "output_type": "execute_result"
    }
   ],
   "source": [
    "betterResultMaybedf = usedf.drop(['birthday', 'height', 'weight']  , axis=1)\n",
    "(X, y, Xpd) = makeMatrixForClassifier(betterResultMaybedf)\n",
    "executingRandomForest(X, y, Xpd, True, numb_trees, nb_features, None)"
   ]
  },
  {
   "cell_type": "markdown",
   "metadata": {
    "collapsed": false
   },
   "source": [
    "We can observe that the result is a bit worse for the testing data, as the algorithm has more trouble to \"recognize\" players. However, the real problem remains, and we will therefore need to find a way to group the players together. What we will want at the end, is to have a single player per line, with aggregated data in its fields. Let's see how we are going to do this."
   ]
  },
  {
   "cell_type": "markdown",
   "metadata": {
    "collapsed": true
   },
   "source": [
    "## Aggregate the referee info by socker player"
   ]
  },
  {
   "cell_type": "markdown",
   "metadata": {},
   "source": [
    "We found that there were different ways that we will aggregate the data. And, in order to aggregate the referee info, we preprocessed the data in the following way:\n",
    "\n",
    "<ul>\n",
    "<li> One occurrence data - the data that doesn't change (constants): <b>const_columns</b></li>\n",
    "<li> Accumulated data - e.g. victories, yellowCards, etc. :\n",
    "<b>acc_columns</b></li>\n",
    "<li> Majority voting - most frequent data:\n",
    "<b>majority_vote</b></li>\n",
    "<li> Removed data - insignificant columns:\n",
    "<b>remove_columns</b></li>"
   ]
  },
  {
   "cell_type": "code",
   "execution_count": 158,
   "metadata": {
    "collapsed": false,
    "scrolled": true
   },
   "outputs": [],
   "source": [
    "acc_columns = ['games', 'victories', 'ties', 'defeats', 'goals', 'yellowCards', 'yellowReds', 'redCards']\n",
    "const_columns = ['playerShort', 'player', 'birthday', 'height', 'weight', 'meanSkinTone']\n",
    "majority_vote = ['club', 'leagueCountry', 'position']"
   ]
  },
  {
   "cell_type": "code",
   "execution_count": 159,
   "metadata": {
    "collapsed": false
   },
   "outputs": [],
   "source": [
    "# we remove rater1 and rater2 because we already have calculated 'meanSkinTone' as the mean between those two raters\n",
    "remove_columns = ['photoID', 'refNum', 'refCountry', 'Alpha_3', 'rater1', 'rater2']\n",
    "referee_info_df = cleandf.drop(remove_columns, axis = 1)"
   ]
  },
  {
   "cell_type": "markdown",
   "metadata": {},
   "source": [
    "#### After cleaning up, we group the data by player short name"
   ]
  },
  {
   "cell_type": "code",
   "execution_count": 160,
   "metadata": {
    "collapsed": true
   },
   "outputs": [],
   "source": [
    "by_group_player = list(referee_info_df.groupby('playerShort'))"
   ]
  },
  {
   "cell_type": "code",
   "execution_count": 161,
   "metadata": {
    "collapsed": true
   },
   "outputs": [],
   "source": [
    "# auxiliary function used in order to accumulate values for columns in 'acc_columns'\n",
    "sum_func = lambda x, y: x+y\n",
    "def accumulate(series):\n",
    "    return reduce(sum_func, series)"
   ]
  },
  {
   "cell_type": "markdown",
   "metadata": {},
   "source": [
    "<h3> Direct aggregation of data</h3>"
   ]
  },
  {
   "cell_type": "markdown",
   "metadata": {},
   "source": [
    "We have the function to compute the weight. We can observe that the IAT and Exp scores are computed using statistical formulas weighted by the number of samples."
   ]
  },
  {
   "cell_type": "code",
   "execution_count": 162,
   "metadata": {
    "collapsed": true
   },
   "outputs": [],
   "source": [
    "# Having various means, we want to combine - so we average them via calculating weighted mean \n",
    "# (the weight is the sample size)\n",
    "\n",
    "def get_weighted_mean(data):\n",
    "    \n",
    "    # weighted mean calculation for meanIAT\n",
    "    acc_niat = accumulate(data['nIAT'].tolist())\n",
    "    acc_prod_iat = accumulate((data['meanIAT']*data['nIAT']).tolist())\n",
    "    \n",
    "    # weighted mean calculation for meanExp\n",
    "    acc_nexp = accumulate(data['nExp'].tolist())\n",
    "    acc_prod_exp = accumulate((data['meanExp']*data['nExp']).tolist())\n",
    "    \n",
    "    # squareroot of weighted mean of the square for seIAT\n",
    "    acc_se_iat =accumulate((data['nIAT']).tolist())\n",
    "    acc_prod_se_iat = accumulate((data['seIAT']*data['seIAT']*data['nIAT']).tolist())\n",
    "    \n",
    "    # squareroot of weighted mean of the square for seExp\n",
    "    acc_se_exp =accumulate((data['nExp']).tolist())\n",
    "    acc_prod_se_exp = accumulate((data['seExp']*data['seExp']*data['nExp']).tolist())\n",
    "    \n",
    "    return {'weighted_mean_iat' : acc_prod_iat/acc_niat,\n",
    "              'weighted_mean_exp' : acc_prod_exp/acc_nexp,\n",
    "              'sqrt_weighted_mean_iat' : math.sqrt(acc_prod_se_iat/acc_se_iat),\n",
    "              'sqrt_weighted_mean_exp' : math.sqrt(acc_prod_se_iat/acc_se_iat)}"
   ]
  },
  {
   "cell_type": "markdown",
   "metadata": {},
   "source": [
    "We execute the aggregation functions."
   ]
  },
  {
   "cell_type": "code",
   "execution_count": 163,
   "metadata": {
    "collapsed": true
   },
   "outputs": [],
   "source": [
    "# we aggregate data in the format of 'list[dict()]' in order to create DataFrame\n",
    "unique_player_data = [] \n",
    "\n",
    "# iterating over the grouped by plater data we assemble all processed values into the dictionary - a row within\n",
    "# an out DataFrame\n",
    "for player_name, data in by_group_player:\n",
    "    \n",
    "    # constants - we keep just first value from every column\n",
    "    one_occurrence = { column : data[column].tolist()[0] for column in const_columns }\n",
    "    \n",
    "    #accumulated values\n",
    "    accumulated = {column : accumulate(data[column].tolist()) for column in acc_columns}\n",
    "    \n",
    "    # majority voting = most_common() gives descending ordered by count, list of pairs;\n",
    "    # most_common()[0][0] - first 0 stands for max voted value ('name': count)\n",
    "    #                       second 0 gives it's name - first element from tuple \n",
    "    majority_vote = { column : Counter(data[column].tolist()).most_common()[0][0] for column in majority_vote}\n",
    "\n",
    "    # weighted mean calculation\n",
    "    wm = get_weighted_mean(data)\n",
    "    \n",
    "    # assemble just calculated data into one dictionary\n",
    "    unique_player_data.append(\n",
    "        dict(list(one_occurrence.items()) +\n",
    "             list(accumulated.items()) +\n",
    "             list(majority_vote.items()) +\n",
    "             list(wm.items())))"
   ]
  },
  {
   "cell_type": "code",
   "execution_count": 164,
   "metadata": {
    "collapsed": true
   },
   "outputs": [],
   "source": [
    "# create DataFrame from aggregated data\n",
    "aggregated_df = pd.DataFrame(unique_player_data)"
   ]
  },
  {
   "cell_type": "markdown",
   "metadata": {},
   "source": [
    "We clean again the datas:"
   ]
  },
  {
   "cell_type": "code",
   "execution_count": 165,
   "metadata": {
    "collapsed": false
   },
   "outputs": [
    {
     "data": {
      "text/plain": [
       "False"
      ]
     },
     "execution_count": 165,
     "metadata": {},
     "output_type": "execute_result"
    }
   ],
   "source": [
    "aggregated_df = pd.get_dummies(aggregated_df, prefix=None, prefix_sep='_', dummy_na=False, columns=[\"position\"], sparse=False, drop_first=False)\n",
    "aggregated_df = pd.get_dummies(aggregated_df, prefix=None, prefix_sep='_', dummy_na=False, columns=[\"club\"], sparse=False, drop_first=False)\n",
    "aggregated_df = pd.get_dummies(aggregated_df, prefix=None, prefix_sep='_', dummy_na=False, columns=[\"leagueCountry\"], sparse=False, drop_first=False)\n",
    "randomForestDF = aggregated_df.drop(['player', 'playerShort'], axis = 1)\n",
    "# For each column, if there is any NaN value, we compute the mean and replace the NaN values with it.\n",
    "for i in range(len(randomForestDF.columns)):\n",
    "    if (randomForestDF[randomForestDF.columns[i]].isnull().values.any()):\n",
    "        mean = np.mean(randomForestDF[randomForestDF.columns[i]])\n",
    "        randomForestDF[randomForestDF.columns[i]].fillna(mean, inplace = True)\n",
    "randomForestDF.isnull().values.any()"
   ]
  },
  {
   "cell_type": "markdown",
   "metadata": {},
   "source": [
    "<b>New execution:</b> Now, we can execute again the classifier with the new datas."
   ]
  },
  {
   "cell_type": "code",
   "execution_count": 166,
   "metadata": {
    "collapsed": false
   },
   "outputs": [
    {
     "name": "stdout",
     "output_type": "stream",
     "text": [
      "Train/Test sample sizes: 1266  /  317\n",
      "Train/Test:  0.9826 / 0.3091\n",
      "Train/Test:  0.9834 / 0.3312\n",
      "Train/Test:  0.9850 / 0.3028\n",
      "Train/Test:  0.9874 / 0.2722\n",
      "Train/Test:  0.9811 / 0.2627\n",
      "=> Final Train/Test:  0.9839 / 0.2956\n",
      "Feature ranking (first 20):\n",
      "1. feature birthday (0.062119)\n",
      "2. feature defeats (0.060191)\n",
      "3. feature games (0.060101)\n",
      "4. feature goals (0.058542)\n",
      "5. feature height (0.054500)\n",
      "6. feature redCards (0.053184)\n",
      "7. feature sqrt_weighted_mean_exp (0.052255)\n",
      "8. feature sqrt_weighted_mean_iat (0.051065)\n",
      "9. feature ties (0.050727)\n",
      "10. feature victories (0.050103)\n",
      "11. feature weight (0.049562)\n",
      "12. feature weighted_mean_exp (0.049057)\n",
      "13. feature weighted_mean_iat (0.047486)\n",
      "14. feature yellowCards (0.027897)\n",
      "15. feature yellowReds (0.025444)\n",
      "16. feature position_Attacking Midfielder (0.009118)\n",
      "17. feature position_Center Back (0.009090)\n",
      "18. feature position_Center Forward (0.008968)\n",
      "19. feature position_Center Midfielder (0.008662)\n",
      "20. feature position_Defensive Midfielder (0.008126)\n"
     ]
    },
    {
     "data": {
      "text/plain": [
       "(0.98389124338693601, 0.29560555843948411)"
      ]
     },
     "execution_count": 166,
     "metadata": {},
     "output_type": "execute_result"
    }
   ],
   "source": [
    "(X, y, Xpd) = makeMatrixForClassifier(randomForestDF)\n",
    "executingRandomForest(X, y, Xpd, True, 10, \"auto\", None)"
   ]
  },
  {
   "cell_type": "markdown",
   "metadata": {},
   "source": [
    "We can observe that we overfit, however the results seem much more realistic. We get 30% for the testing set, which seems good considering that we have 9 classes. The only strange part is the feature \"birthday\" that goes on top but it is not something we want."
   ]
  },
  {
   "cell_type": "code",
   "execution_count": 167,
   "metadata": {
    "collapsed": false
   },
   "outputs": [
    {
     "name": "stdout",
     "output_type": "stream",
     "text": [
      "Train/Test sample sizes: 1266  /  317\n",
      "Train/Test:  0.9747 / 0.3091\n",
      "Train/Test:  0.9866 / 0.2650\n",
      "Train/Test:  0.9834 / 0.3249\n",
      "Train/Test:  0.9905 / 0.3006\n",
      "Train/Test:  0.9826 / 0.2911\n",
      "=> Final Train/Test:  0.9836 / 0.2982\n",
      "Feature ranking (first 20):\n",
      "1. feature defeats (0.076111)\n",
      "2. feature games (0.069234)\n",
      "3. feature goals (0.065894)\n",
      "4. feature redCards (0.064736)\n",
      "5. feature sqrt_weighted_mean_exp (0.063384)\n",
      "6. feature sqrt_weighted_mean_iat (0.062530)\n",
      "7. feature ties (0.062174)\n",
      "8. feature victories (0.059572)\n",
      "9. feature weighted_mean_exp (0.057768)\n",
      "10. feature weighted_mean_iat (0.057632)\n",
      "11. feature yellowCards (0.033636)\n",
      "12. feature yellowReds (0.031213)\n",
      "13. feature position_Attacking Midfielder (0.013634)\n",
      "14. feature position_Center Back (0.010527)\n",
      "15. feature position_Center Forward (0.010401)\n",
      "16. feature position_Center Midfielder (0.010206)\n",
      "17. feature position_Defensive Midfielder (0.009279)\n",
      "18. feature position_Goalkeeper (0.008810)\n",
      "19. feature position_Left Fullback (0.007904)\n",
      "20. feature position_Left Midfielder (0.007417)\n"
     ]
    },
    {
     "data": {
      "text/plain": [
       "(0.98357453950132856, 0.29816515593179732)"
      ]
     },
     "execution_count": 167,
     "metadata": {},
     "output_type": "execute_result"
    }
   ],
   "source": [
    "newRandomForestDF = randomForestDF.drop(['birthday', 'height', 'weight']  , axis=1)\n",
    "(X, y, Xpd) = makeMatrixForClassifier(newRandomForestDF)\n",
    "executingRandomForest(X, y, Xpd, True, 10, \"auto\", None)"
   ]
  },
  {
   "cell_type": "markdown",
   "metadata": {},
   "source": [
    "We observe no improvement of the score, however the features selection look more realistic."
   ]
  },
  {
   "cell_type": "markdown",
   "metadata": {},
   "source": [
    "## Parameters effect on the random forest"
   ]
  },
  {
   "cell_type": "markdown",
   "metadata": {},
   "source": [
    "### Number of trees"
   ]
  },
  {
   "cell_type": "code",
   "execution_count": 168,
   "metadata": {
    "collapsed": false
   },
   "outputs": [],
   "source": [
    "nb_features = len(randomForestDF.columns)\n",
    "nb_trees = 200"
   ]
  },
  {
   "cell_type": "code",
   "execution_count": 169,
   "metadata": {
    "collapsed": false
   },
   "outputs": [
    {
     "name": "stdout",
     "output_type": "stream",
     "text": [
      "Train/Test sample sizes: 1266  /  317\n",
      "=> Final Train/Test:  0.9809 / 0.3039\n",
      "Train/Test sample sizes: 1266  /  317\n",
      "=> Final Train/Test:  0.9978 / 0.3070\n",
      "Train/Test sample sizes: 1266  /  317\n",
      "=> Final Train/Test:  0.9994 / 0.3228\n",
      "Train/Test sample sizes: 1266  /  317\n",
      "=> Final Train/Test:  1.0000 / 0.3297\n",
      "Train/Test sample sizes: 1266  /  317\n",
      "=> Final Train/Test:  1.0000 / 0.3272\n",
      "Train/Test sample sizes: 1266  /  317\n",
      "=> Final Train/Test:  1.0000 / 0.3285\n",
      "Train/Test sample sizes: 1266  /  317\n",
      "=> Final Train/Test:  1.0000 / 0.3291\n",
      "Train/Test sample sizes: 1266  /  317\n",
      "=> Final Train/Test:  1.0000 / 0.3323\n",
      "Train/Test sample sizes: 1266  /  317\n",
      "=> Final Train/Test:  1.0000 / 0.3342\n",
      "Train/Test sample sizes: 1266  /  317\n",
      "=> Final Train/Test:  1.0000 / 0.3323\n",
      "Train/Test sample sizes: 1266  /  317\n",
      "=> Final Train/Test:  1.0000 / 0.3379\n",
      "Train/Test sample sizes: 1266  /  317\n",
      "=> Final Train/Test:  1.0000 / 0.3474\n",
      "Train/Test sample sizes: 1266  /  317\n",
      "=> Final Train/Test:  1.0000 / 0.3411\n",
      "Train/Test sample sizes: 1266  /  317\n",
      "=> Final Train/Test:  1.0000 / 0.3405\n",
      "Train/Test sample sizes: 1266  /  317\n",
      "=> Final Train/Test:  1.0000 / 0.3285\n",
      "Train/Test sample sizes: 1266  /  317\n",
      "=> Final Train/Test:  1.0000 / 0.3417\n",
      "Train/Test sample sizes: 1266  /  317\n",
      "=> Final Train/Test:  1.0000 / 0.3323\n",
      "Train/Test sample sizes: 1266  /  317\n",
      "=> Final Train/Test:  1.0000 / 0.3354\n",
      "Train/Test sample sizes: 1266  /  317\n",
      "=> Final Train/Test:  1.0000 / 0.3373\n"
     ]
    }
   ],
   "source": [
    "training = []\n",
    "testing = []\n",
    "\n",
    "for i in range(10, nb_trees, 10):\n",
    "    tr, te = executingRandomForest(X, y, Xpd, False, i, \"auto\", None)\n",
    "    training.append(tr)\n",
    "    testing.append(te)"
   ]
  },
  {
   "cell_type": "code",
   "execution_count": 170,
   "metadata": {
    "collapsed": true
   },
   "outputs": [],
   "source": [
    "import matplotlib.pyplot as plt\n",
    "axis = range(10, nb_trees, 10)\n",
    "tr = np.array(training)\n",
    "te = np.array(testing)\n",
    "plt.plot(tr)\n",
    "plt.plot(te)\n",
    "plt.show()"
   ]
  },
  {
   "cell_type": "markdown",
   "metadata": {},
   "source": [
    "As we can see, our model overfits more and more with the number of trees. It is normal as it is increasing the complexity of the model. It is also important to notice that the accurancy of the testing set increases as well, but slower."
   ]
  },
  {
   "cell_type": "markdown",
   "metadata": {},
   "source": [
    "### Number of features"
   ]
  },
  {
   "cell_type": "code",
   "execution_count": 171,
   "metadata": {
    "collapsed": false
   },
   "outputs": [
    {
     "name": "stdout",
     "output_type": "stream",
     "text": [
      "Train/Test sample sizes: 1266  /  317\n",
      "=> Final Train/Test:  0.9844 / 0.3070\n",
      "Train/Test sample sizes: 1266  /  317\n",
      "=> Final Train/Test:  0.9848 / 0.2906\n",
      "Train/Test sample sizes: 1266  /  317\n",
      "=> Final Train/Test:  0.9829 / 0.3083\n",
      "Train/Test sample sizes: 1266  /  317\n",
      "=> Final Train/Test:  0.9840 / 0.3127\n",
      "Train/Test sample sizes: 1266  /  317\n",
      "=> Final Train/Test:  0.9796 / 0.3026\n",
      "Train/Test sample sizes: 1266  /  317\n",
      "=> Final Train/Test:  0.9803 / 0.2969\n",
      "Train/Test sample sizes: 1266  /  317\n",
      "=> Final Train/Test:  0.9793 / 0.3045\n",
      "Train/Test sample sizes: 1266  /  317\n",
      "=> Final Train/Test:  0.9831 / 0.3102\n",
      "Train/Test sample sizes: 1266  /  317\n",
      "=> Final Train/Test:  0.9798 / 0.2975\n",
      "Train/Test sample sizes: 1266  /  317\n",
      "=> Final Train/Test:  0.9809 / 0.3102\n",
      "Train/Test sample sizes: 1266  /  317\n",
      "=> Final Train/Test:  0.9804 / 0.2868\n",
      "Train/Test sample sizes: 1266  /  317\n",
      "=> Final Train/Test:  0.9814 / 0.3108\n",
      "Train/Test sample sizes: 1266  /  317\n",
      "=> Final Train/Test:  0.9807 / 0.3095\n"
     ]
    }
   ],
   "source": [
    "del training[:]\n",
    "del testing[:]\n",
    "\n",
    "for i in range(1, nb_features, 10):\n",
    "    tr, te = executingRandomForest(X, y, Xpd, False, 10, i, None)\n",
    "    training.append(tr)\n",
    "    testing.append(te)"
   ]
  },
  {
   "cell_type": "code",
   "execution_count": 172,
   "metadata": {
    "collapsed": true
   },
   "outputs": [],
   "source": [
    "axis = range(10, nb_features, 10)\n",
    "tr = np.array(training)\n",
    "te = np.array(testing)\n",
    "plt.plot(tr)\n",
    "plt.plot(te)\n",
    "plt.show()"
   ]
  },
  {
   "cell_type": "markdown",
   "metadata": {},
   "source": [
    "The accurancy af the testing set increases with the accurancy of the training set until 6 features. So it is not necessary to take more than 6 features. Indeed, according to the score given to columns to guess player's skine tone, the six first were quite far away from the others."
   ]
  },
  {
   "cell_type": "markdown",
   "metadata": {},
   "source": [
    "### Max depth"
   ]
  },
  {
   "cell_type": "code",
   "execution_count": 173,
   "metadata": {
    "collapsed": false
   },
   "outputs": [
    {
     "name": "stdout",
     "output_type": "stream",
     "text": [
      "Train/Test sample sizes: 1266  /  317\n",
      "=> Final Train/Test:  0.3312 / 0.3177\n",
      "Train/Test sample sizes: 1266  /  317\n",
      "=> Final Train/Test:  0.3422 / 0.3278\n",
      "Train/Test sample sizes: 1266  /  317\n",
      "=> Final Train/Test:  0.3643 / 0.3405\n",
      "Train/Test sample sizes: 1266  /  317\n",
      "=> Final Train/Test:  0.3801 / 0.3418\n",
      "Train/Test sample sizes: 1266  /  317\n",
      "=> Final Train/Test:  0.4037 / 0.3360\n",
      "Train/Test sample sizes: 1266  /  317\n",
      "=> Final Train/Test:  0.4371 / 0.3373\n",
      "Train/Test sample sizes: 1266  /  317\n",
      "=> Final Train/Test:  0.4706 / 0.3411\n",
      "Train/Test sample sizes: 1266  /  317\n",
      "=> Final Train/Test:  0.5118 / 0.3373\n",
      "Train/Test sample sizes: 1266  /  317\n",
      "=> Final Train/Test:  0.5548 / 0.3374\n"
     ]
    }
   ],
   "source": [
    "del training[:]\n",
    "del testing[:]\n",
    "\n",
    "for i in range(1, 10, 1):\n",
    "    tr, te = executingRandomForest(X, y, Xpd, False, 10, \"auto\", i)\n",
    "    training.append(tr)\n",
    "    testing.append(te)"
   ]
  },
  {
   "cell_type": "code",
   "execution_count": 174,
   "metadata": {
    "collapsed": true
   },
   "outputs": [],
   "source": [
    "axis = range(10, 10, 1)\n",
    "tr = np.array(training)\n",
    "te = np.array(testing)\n",
    "plt.plot(tr)\n",
    "plt.plot(te)\n",
    "plt.show()"
   ]
  },
  {
   "cell_type": "markdown",
   "metadata": {},
   "source": [
    "We can observe that until a max depth of 2 the accurancy of the testing set is increasing. So we can decide to use a max depth of 2."
   ]
  },
  {
   "cell_type": "code",
   "execution_count": 175,
   "metadata": {
    "collapsed": true
   },
   "outputs": [],
   "source": [
    "(X, y, Xpd) = makeMatrixForClassifier(randomForestDF)\n",
    "\n",
    "y = y.astype(float)\n",
    "for i in range(len(y)):\n",
    "    if (y[i] <= 0.5):\n",
    "        y[i] = 1\n",
    "    else:\n",
    "        y[i] = 0\n",
    "\n",
    "def clustering(X, y):        \n",
    "    kmeans = KMeans(n_clusters=2, random_state=0)\n",
    "    y_pred = kmeans.fit_predict(X)\n",
    "    \n",
    "    f1score = metrics.f1_score(y, y_pred)\n",
    "    print('Score f1_score: {:.5f}'.format(f1score))\n",
    "    score = metrics.accuracy_score(y, y_pred)\n",
    "    print('Score accuracy_score: {:.5f}'.format(1-score))\n",
    "    return f1score\n",
    "\n",
    "# clustering(X,y)"
   ]
  },
  {
   "cell_type": "code",
   "execution_count": 176,
   "metadata": {
    "collapsed": false
   },
   "outputs": [
    {
     "name": "stdout",
     "output_type": "stream",
     "text": [
      "0 :  birthday\n",
      "Score f1_score: 0.47383\n",
      "Score accuracy_score: 0.60328\n",
      "1 :  defeats\n",
      "Score f1_score: 0.60394\n",
      "Score accuracy_score: 0.50790\n",
      "2 :  games\n",
      "Score f1_score: 0.60394\n",
      "Score accuracy_score: 0.50790\n",
      "3 :  goals\n",
      "Score f1_score: 0.60394\n",
      "Score accuracy_score: 0.50790\n",
      "4 :  height\n",
      "Score f1_score: 0.60394\n",
      "Score accuracy_score: 0.50790\n",
      "5 :  redCards\n",
      "Score f1_score: 0.60394\n",
      "Score accuracy_score: 0.50790\n",
      "6 :  sqrt_weighted_mean_exp\n",
      "Score f1_score: 0.60394\n",
      "Score accuracy_score: 0.50790\n",
      "7 :  sqrt_weighted_mean_iat\n",
      "Score f1_score: 0.60394\n",
      "Score accuracy_score: 0.50790\n",
      "8 :  ties\n",
      "Score f1_score: 0.60394\n",
      "Score accuracy_score: 0.50790\n",
      "9 :  victories\n",
      "Score f1_score: 0.60394\n",
      "Score accuracy_score: 0.50790\n",
      "10 :  weight\n",
      "Score f1_score: 0.60394\n",
      "Score accuracy_score: 0.50790\n",
      "11 :  weighted_mean_exp\n",
      "Score f1_score: 0.60394\n",
      "Score accuracy_score: 0.50790\n",
      "12 :  weighted_mean_iat\n",
      "Score f1_score: 0.60394\n",
      "Score accuracy_score: 0.50790\n",
      "13 :  yellowCards\n",
      "Score f1_score: 0.60394\n",
      "Score accuracy_score: 0.50790\n",
      "14 :  yellowReds\n",
      "Score f1_score: 0.60394\n",
      "Score accuracy_score: 0.50790\n",
      "15 :  position_Attacking Midfielder\n",
      "Score f1_score: 0.60394\n",
      "Score accuracy_score: 0.50790\n",
      "16 :  position_Center Back\n",
      "Score f1_score: 0.60394\n",
      "Score accuracy_score: 0.50790\n",
      "17 :  position_Center Forward\n",
      "Score f1_score: 0.60394\n",
      "Score accuracy_score: 0.50790\n",
      "18 :  position_Center Midfielder\n",
      "Score f1_score: 0.60394\n",
      "Score accuracy_score: 0.50790\n",
      "19 :  position_Defensive Midfielder\n",
      "Score f1_score: 0.60394\n",
      "Score accuracy_score: 0.50790\n",
      "20 :  position_Goalkeeper\n",
      "Score f1_score: 0.60394\n",
      "Score accuracy_score: 0.50790\n",
      "21 :  position_Left Fullback\n",
      "Score f1_score: 0.60394\n",
      "Score accuracy_score: 0.50790\n",
      "22 :  position_Left Midfielder\n",
      "Score f1_score: 0.60394\n",
      "Score accuracy_score: 0.50790\n",
      "23 :  position_Left Winger\n",
      "Score f1_score: 0.60394\n",
      "Score accuracy_score: 0.50790\n",
      "24 :  position_Right Fullback\n",
      "Score f1_score: 0.60394\n",
      "Score accuracy_score: 0.50790\n",
      "25 :  position_Right Midfielder\n",
      "Score f1_score: 0.60394\n",
      "Score accuracy_score: 0.50790\n",
      "26 :  position_Right Winger\n",
      "Score f1_score: 0.60394\n",
      "Score accuracy_score: 0.50790\n",
      "27 :  club_1. FC Nürnberg\n",
      "Score f1_score: 0.60394\n",
      "Score accuracy_score: 0.50790\n",
      "28 :  club_1. FSV Mainz 05\n",
      "Score f1_score: 0.60394\n",
      "Score accuracy_score: 0.50790\n",
      "29 :  club_1899 Hoffenheim\n",
      "Score f1_score: 0.60394\n",
      "Score accuracy_score: 0.50790\n",
      "30 :  club_AC Ajaccio\n",
      "Score f1_score: 0.60394\n",
      "Score accuracy_score: 0.50790\n",
      "31 :  club_AS Nancy\n",
      "Score f1_score: 0.60394\n",
      "Score accuracy_score: 0.50790\n",
      "32 :  club_AS Saint-Étienne\n",
      "Score f1_score: 0.60394\n",
      "Score accuracy_score: 0.50790\n",
      "33 :  club_Arsenal FC\n",
      "Score f1_score: 0.60394\n",
      "Score accuracy_score: 0.50790\n",
      "34 :  club_Arsenal FC (R)\n",
      "Score f1_score: 0.60394\n",
      "Score accuracy_score: 0.50790\n",
      "35 :  club_Aston Villa\n",
      "Score f1_score: 0.60394\n",
      "Score accuracy_score: 0.50790\n",
      "36 :  club_Athletic Bilbao\n",
      "Score f1_score: 0.60394\n",
      "Score accuracy_score: 0.50790\n",
      "37 :  club_Atlético Madrid\n",
      "Score f1_score: 0.60394\n",
      "Score accuracy_score: 0.50790\n",
      "38 :  club_Bayer Leverkusen\n",
      "Score f1_score: 0.60394\n",
      "Score accuracy_score: 0.50790\n",
      "39 :  club_Bayern München\n",
      "Score f1_score: 0.60394\n",
      "Score accuracy_score: 0.50790\n",
      "40 :  club_Blackburn Rovers\n",
      "Score f1_score: 0.60394\n",
      "Score accuracy_score: 0.50790\n",
      "41 :  club_Bolton Wanderers\n",
      "Score f1_score: 0.60394\n",
      "Score accuracy_score: 0.50790\n",
      "42 :  club_Bor. Mönchengladbach\n",
      "Score f1_score: 0.60394\n",
      "Score accuracy_score: 0.50790\n",
      "43 :  club_Borussia Dortmund\n",
      "Score f1_score: 0.60394\n",
      "Score accuracy_score: 0.50790\n",
      "44 :  club_Bristol City\n",
      "Score f1_score: 0.60394\n",
      "Score accuracy_score: 0.50790\n",
      "45 :  club_CA Osasuna\n",
      "Score f1_score: 0.60394\n",
      "Score accuracy_score: 0.50790\n",
      "46 :  club_CF Badalona\n",
      "Score f1_score: 0.60394\n",
      "Score accuracy_score: 0.50790\n",
      "47 :  club_Celta Vigo\n",
      "Score f1_score: 0.60394\n",
      "Score accuracy_score: 0.50790\n",
      "48 :  club_Chelsea FC\n",
      "Score f1_score: 0.60394\n",
      "Score accuracy_score: 0.50790\n",
      "49 :  club_Crewe Alexandra\n",
      "Score f1_score: 0.60394\n",
      "Score accuracy_score: 0.50790\n",
      "50 :  club_Deportivo La Coruña\n",
      "Score f1_score: 0.60394\n",
      "Score accuracy_score: 0.50790\n",
      "51 :  club_ESTAC Troyes\n",
      "Score f1_score: 0.60394\n",
      "Score accuracy_score: 0.50790\n",
      "52 :  club_Eintracht Frankfurt\n",
      "Score f1_score: 0.60394\n",
      "Score accuracy_score: 0.50790\n",
      "53 :  club_Espanyol Barcelona\n",
      "Score f1_score: 0.60394\n",
      "Score accuracy_score: 0.50790\n",
      "54 :  club_Everton FC\n",
      "Score f1_score: 0.60394\n",
      "Score accuracy_score: 0.50790\n",
      "55 :  club_FC Augsburg\n",
      "Score f1_score: 0.60394\n",
      "Score accuracy_score: 0.50790\n",
      "56 :  club_FC Barcelona\n",
      "Score f1_score: 0.60394\n",
      "Score accuracy_score: 0.50790\n",
      "57 :  club_FC Lorient\n",
      "Score f1_score: 0.60394\n",
      "Score accuracy_score: 0.50790\n",
      "58 :  club_FC Schalke 04\n",
      "Score f1_score: 0.60394\n",
      "Score accuracy_score: 0.50790\n",
      "59 :  club_FC Sochaux\n",
      "Score f1_score: 0.60394\n",
      "Score accuracy_score: 0.50790\n",
      "60 :  club_Fortuna Düsseldorf\n",
      "Score f1_score: 0.60394\n",
      "Score accuracy_score: 0.50790\n",
      "61 :  club_Fulham FC\n",
      "Score f1_score: 0.60394\n",
      "Score accuracy_score: 0.50790\n",
      "62 :  club_Getafe CF\n",
      "Score f1_score: 0.60394\n",
      "Score accuracy_score: 0.50790\n",
      "63 :  club_Girondins Bordeaux\n",
      "Score f1_score: 0.60394\n",
      "Score accuracy_score: 0.50790\n",
      "64 :  club_Granada CF\n",
      "Score f1_score: 0.60394\n",
      "Score accuracy_score: 0.50790\n",
      "65 :  club_Hamburger SV\n",
      "Score f1_score: 0.60394\n",
      "Score accuracy_score: 0.50790\n",
      "66 :  club_Hannover 96\n",
      "Score f1_score: 0.60394\n",
      "Score accuracy_score: 0.50790\n",
      "67 :  club_Leeds United\n",
      "Score f1_score: 0.60394\n",
      "Score accuracy_score: 0.50790\n",
      "68 :  club_Leicester City\n",
      "Score f1_score: 0.60394\n",
      "Score accuracy_score: 0.50790\n",
      "69 :  club_Levante UD\n",
      "Score f1_score: 0.60394\n",
      "Score accuracy_score: 0.50790\n",
      "70 :  club_Leyton Orient\n",
      "Score f1_score: 0.60394\n",
      "Score accuracy_score: 0.50790\n",
      "71 :  club_Lille OSC\n",
      "Score f1_score: 0.60394\n",
      "Score accuracy_score: 0.50790\n",
      "72 :  club_Liverpool FC\n",
      "Score f1_score: 0.60394\n",
      "Score accuracy_score: 0.50790\n",
      "73 :  club_Liverpool FC (R)\n",
      "Score f1_score: 0.60394\n",
      "Score accuracy_score: 0.50790\n",
      "74 :  club_MSV Duisburg\n",
      "Score f1_score: 0.60394\n",
      "Score accuracy_score: 0.50790\n",
      "75 :  club_Manchester City\n",
      "Score f1_score: 0.60394\n",
      "Score accuracy_score: 0.50790\n",
      "76 :  club_Manchester United\n",
      "Score f1_score: 0.60394\n",
      "Score accuracy_score: 0.50790\n",
      "77 :  club_Millwall FC\n",
      "Score f1_score: 0.60394\n",
      "Score accuracy_score: 0.50790\n",
      "78 :  club_Montpellier HSC\n",
      "Score f1_score: 0.60394\n",
      "Score accuracy_score: 0.50790\n",
      "79 :  club_Málaga CF\n",
      "Score f1_score: 0.60394\n",
      "Score accuracy_score: 0.50790\n",
      "80 :  club_Newcastle United\n",
      "Score f1_score: 0.60394\n",
      "Score accuracy_score: 0.50790\n",
      "81 :  club_Norwich City\n",
      "Score f1_score: 0.60394\n",
      "Score accuracy_score: 0.50790\n",
      "82 :  club_Nottingham Forest\n",
      "Score f1_score: 0.60394\n",
      "Score accuracy_score: 0.50790\n",
      "83 :  club_OGC Nice\n",
      "Score f1_score: 0.60394\n",
      "Score accuracy_score: 0.50790\n",
      "84 :  club_Olympique Lyon\n",
      "Score f1_score: 0.60394\n",
      "Score accuracy_score: 0.50790\n",
      "85 :  club_Olympique Marseille\n",
      "Score f1_score: 0.60394\n",
      "Score accuracy_score: 0.50790\n",
      "86 :  club_Paris Saint-Germain\n",
      "Score f1_score: 0.60394\n",
      "Score accuracy_score: 0.50790\n",
      "87 :  club_Queens Park Rangers\n",
      "Score f1_score: 0.60394\n",
      "Score accuracy_score: 0.50790\n",
      "88 :  club_RCD Mallorca\n",
      "Score f1_score: 0.60394\n",
      "Score accuracy_score: 0.50790\n",
      "89 :  club_Rayo Vallecano\n",
      "Score f1_score: 0.60394\n",
      "Score accuracy_score: 0.50790\n",
      "90 :  club_Reading FC\n",
      "Score f1_score: 0.60394\n",
      "Score accuracy_score: 0.50790\n",
      "91 :  club_Real Betis\n",
      "Score f1_score: 0.60394\n",
      "Score accuracy_score: 0.50790\n",
      "92 :  club_Real Jaén\n",
      "Score f1_score: 0.60394\n",
      "Score accuracy_score: 0.50790\n",
      "93 :  club_Real Madrid\n",
      "Score f1_score: 0.60394\n",
      "Score accuracy_score: 0.50790\n",
      "94 :  club_Real Madrid Castilla\n",
      "Score f1_score: 0.60394\n",
      "Score accuracy_score: 0.50790\n",
      "95 :  club_Real Sociedad\n",
      "Score f1_score: 0.60394\n",
      "Score accuracy_score: 0.50790\n",
      "96 :  club_Real Valladolid\n",
      "Score f1_score: 0.60394\n",
      "Score accuracy_score: 0.50790\n",
      "97 :  club_Real Zaragoza\n",
      "Score f1_score: 0.60394\n",
      "Score accuracy_score: 0.50790\n",
      "98 :  club_SC Bastia\n",
      "Score f1_score: 0.60394\n",
      "Score accuracy_score: 0.50790\n",
      "99 :  club_SC Freiburg\n",
      "Score f1_score: 0.60394\n",
      "Score accuracy_score: 0.50790\n",
      "100 :  club_SD Compostela\n",
      "Score f1_score: 0.60394\n",
      "Score accuracy_score: 0.50790\n",
      "101 :  club_SV Sandhausen\n",
      "Score f1_score: 0.60394\n",
      "Score accuracy_score: 0.50790\n",
      "102 :  club_Sevilla FC\n",
      "Score f1_score: 0.60394\n",
      "Score accuracy_score: 0.50790\n",
      "103 :  club_Southampton FC\n",
      "Score f1_score: 0.60394\n",
      "Score accuracy_score: 0.50790\n",
      "104 :  club_SpVgg Greuther Fürth\n",
      "Score f1_score: 0.60394\n",
      "Score accuracy_score: 0.50790\n",
      "105 :  club_Stade Brest\n",
      "Score f1_score: 0.60394\n",
      "Score accuracy_score: 0.50790\n",
      "106 :  club_Stade Reims\n",
      "Score f1_score: 0.60394\n",
      "Score accuracy_score: 0.50790\n",
      "107 :  club_Stade Rennes\n",
      "Score f1_score: 0.60394\n",
      "Score accuracy_score: 0.50790\n",
      "108 :  club_Stoke City\n",
      "Score f1_score: 0.60394\n",
      "Score accuracy_score: 0.50790\n",
      "109 :  club_Sunderland AFC\n",
      "Score f1_score: 0.60394\n",
      "Score accuracy_score: 0.50790\n",
      "110 :  club_Tottenham Hotspur\n",
      "Score f1_score: 0.60394\n",
      "Score accuracy_score: 0.50790\n",
      "111 :  club_Tottenham Hotspur (R)\n",
      "Score f1_score: 0.60394\n",
      "Score accuracy_score: 0.50790\n",
      "112 :  club_Toulouse FC\n",
      "Score f1_score: 0.60394\n",
      "Score accuracy_score: 0.50790\n",
      "113 :  club_US Boulogne\n",
      "Score f1_score: 0.60394\n",
      "Score accuracy_score: 0.50790\n",
      "114 :  club_Valencia CF\n",
      "Score f1_score: 0.60394\n",
      "Score accuracy_score: 0.50790\n",
      "115 :  club_Valenciennes FC\n",
      "Score f1_score: 0.60394\n",
      "Score accuracy_score: 0.50790\n",
      "116 :  club_VfB Stuttgart\n",
      "Score f1_score: 0.60394\n",
      "Score accuracy_score: 0.50790\n",
      "117 :  club_VfL Wolfsburg\n",
      "Score f1_score: 0.60394\n",
      "Score accuracy_score: 0.50790\n",
      "118 :  club_Werder Bremen\n",
      "Score f1_score: 0.60394\n",
      "Score accuracy_score: 0.50790\n",
      "119 :  club_West Bromwich Albion\n",
      "Score f1_score: 0.60394\n",
      "Score accuracy_score: 0.50790\n",
      "120 :  club_West Ham United\n",
      "Score f1_score: 0.60394\n",
      "Score accuracy_score: 0.50790\n",
      "121 :  club_Wigan Athletic\n",
      "Score f1_score: 0.60394\n",
      "Score accuracy_score: 0.50790\n",
      "122 :  club_Wolverhampton Wanderers\n",
      "Score f1_score: 0.60394\n",
      "Score accuracy_score: 0.50790\n",
      "123 :  club_Évian Thonon Gaillard\n",
      "Score f1_score: 0.60394\n",
      "Score accuracy_score: 0.50790\n",
      "124 :  leagueCountry_England\n",
      "Score f1_score: 0.60394\n",
      "Score accuracy_score: 0.50790\n",
      "125 :  leagueCountry_France\n",
      "Score f1_score: 0.60394\n",
      "Score accuracy_score: 0.50790\n",
      "126 :  leagueCountry_Germany\n",
      "Score f1_score: 0.60394\n",
      "Score accuracy_score: 0.50790\n",
      "127 :  leagueCountry_Spain\n",
      "Score f1_score: 0.60394\n",
      "Score accuracy_score: 0.50790\n"
     ]
    }
   ],
   "source": [
    "cols = []\n",
    "\n",
    "kmeansDF = randomForestDF.copy()\n",
    "(X, y, Xpd) = makeMatrixForClassifier(kmeansDF)\n",
    "\n",
    "y = y.astype(float)\n",
    "for i in range(len(y)):\n",
    "    if (y[i] <= 0.5):\n",
    "        y[i] = 1\n",
    "    else:\n",
    "        y[i] = 0\n",
    "\n",
    "scores = []\n",
    "for i in range(randomForestDF.columns.size - 1):\n",
    "    print(i, ': ', Xpd.columns[i])\n",
    "    kmeansTemp = Xpd.drop(Xpd.columns[i], axis=1)\n",
    "    X = kmeansTemp.as_matrix()\n",
    "    sc = clustering(X,y)\n",
    "    scores.append(sc)\n"
   ]
  },
  {
   "cell_type": "markdown",
   "metadata": {
    "collapsed": true
   },
   "source": [
    "# Clustering"
   ]
  },
  {
   "cell_type": "markdown",
   "metadata": {},
   "source": [
    "We decided to use the KMeans classifier for clustering. It seemed to be the best algorithm to use, because we know the number of clusters that we want to have, and the parameters are simple enough to make."
   ]
  },
  {
   "cell_type": "markdown",
   "metadata": {},
   "source": [
    "We first make the parameters right, and then make a clustering function."
   ]
  },
  {
   "cell_type": "code",
   "execution_count": 177,
   "metadata": {
    "collapsed": true
   },
   "outputs": [],
   "source": [
    "(X, y, Xpd) = makeMatrixForClassifier(randomForestDF)\n"
   ]
  },
  {
   "cell_type": "code",
   "execution_count": 178,
   "metadata": {
    "collapsed": true
   },
   "outputs": [],
   "source": [
    "y = y.astype(float)\n",
    "for i in range(len(y)):\n",
    "   if (y[i] <= 0.5):\n",
    "       y[i] = 1\n",
    "   else:\n",
    "       y[i] = 0"
   ]
  },
  {
   "cell_type": "code",
   "execution_count": 179,
   "metadata": {
    "collapsed": false
   },
   "outputs": [],
   "source": [
    "def clustering(X, y):        \n",
    "   kmeans = KMeans(n_clusters=2, random_state=0)\n",
    "   y_pred = kmeans.fit_predict(X)\n",
    "   \n",
    "   f1score = metrics.f1_score(y, y_pred)\n",
    "   score = metrics.accuracy_score(y, y_pred)\n",
    "   return (f1score, score)\n",
    "\n"
   ]
  },
  {
   "cell_type": "code",
   "execution_count": 180,
   "metadata": {
    "collapsed": false
   },
   "outputs": [
    {
     "name": "stdout",
     "output_type": "stream",
     "text": [
      "Score accuracy_score: 0.49210\n",
      "Score f1_score: 0.60394\n"
     ]
    }
   ],
   "source": [
    "(f1score,score) = clustering(X,y)\n",
    "print('Score accuracy_score: {:.5f}'.format(score))\n",
    "print('Score f1_score: {:.5f}'.format(f1score))"
   ]
  },
  {
   "cell_type": "markdown",
   "metadata": {},
   "source": [
    "We can see that the result it not so good.\n"
   ]
  },
  {
   "cell_type": "markdown",
   "metadata": {},
   "source": [
    "We will next try to remove iteratively some features, so that we can see if this changes something. As we have 129 columns, the combination of all of this columns lead to a number far too big to try all the combinations. Therefore we tried 2 strategies: First to keep all columns except one that we change each time. Secondly to remove all columns one after the other."
   ]
  },
  {
   "cell_type": "code",
   "execution_count": 181,
   "metadata": {
    "collapsed": false
   },
   "outputs": [
    {
     "name": "stdout",
     "output_type": "stream",
     "text": [
      "0 :  birthday\n",
      "Score f1_score: 0.60394\n",
      "1 :  defeats\n",
      "Score f1_score: 0.60394\n",
      "2 :  games\n",
      "Score f1_score: 0.60394\n",
      "3 :  goals\n",
      "Score f1_score: 0.60394\n",
      "4 :  height\n",
      "Score f1_score: 0.60394\n",
      "5 :  redCards\n",
      "Score f1_score: 0.60394\n",
      "6 :  sqrt_weighted_mean_exp\n",
      "Score f1_score: 0.60394\n",
      "7 :  sqrt_weighted_mean_iat\n",
      "Score f1_score: 0.60394\n",
      "8 :  ties\n",
      "Score f1_score: 0.60394\n",
      "9 :  victories\n",
      "Score f1_score: 0.60394\n",
      "10 :  weight\n",
      "Score f1_score: 0.60394\n",
      "11 :  weighted_mean_exp\n",
      "Score f1_score: 0.60394\n",
      "12 :  weighted_mean_iat\n",
      "Score f1_score: 0.60394\n",
      "13 :  yellowCards\n",
      "Score f1_score: 0.60394\n",
      "14 :  yellowReds\n",
      "Score f1_score: 0.60394\n",
      "15 :  position_Attacking Midfielder\n",
      "Score f1_score: 0.60394\n",
      "16 :  position_Center Back\n",
      "Score f1_score: 0.60394\n",
      "17 :  position_Center Forward\n",
      "Score f1_score: 0.60394\n",
      "18 :  position_Center Midfielder\n",
      "Score f1_score: 0.60394\n",
      "19 :  position_Defensive Midfielder\n",
      "Score f1_score: 0.60394\n",
      "20 :  position_Goalkeeper\n",
      "Score f1_score: 0.60394\n",
      "21 :  position_Left Fullback\n",
      "Score f1_score: 0.60394\n",
      "22 :  position_Left Midfielder\n",
      "Score f1_score: 0.60394\n",
      "23 :  position_Left Winger\n",
      "Score f1_score: 0.60394\n",
      "24 :  position_Right Fullback\n",
      "Score f1_score: 0.60394\n",
      "25 :  position_Right Midfielder\n",
      "Score f1_score: 0.60394\n",
      "26 :  position_Right Winger\n",
      "Score f1_score: 0.60394\n",
      "27 :  club_1. FC Nürnberg\n",
      "Score f1_score: 0.60394\n",
      "28 :  club_1. FSV Mainz 05\n",
      "Score f1_score: 0.60394\n",
      "29 :  club_1899 Hoffenheim\n",
      "Score f1_score: 0.60394\n",
      "30 :  club_AC Ajaccio\n",
      "Score f1_score: 0.60394\n",
      "31 :  club_AS Nancy\n",
      "Score f1_score: 0.60394\n",
      "32 :  club_AS Saint-Étienne\n",
      "Score f1_score: 0.60394\n",
      "33 :  club_Arsenal FC\n",
      "Score f1_score: 0.60394\n",
      "34 :  club_Arsenal FC (R)\n",
      "Score f1_score: 0.60394\n",
      "35 :  club_Aston Villa\n",
      "Score f1_score: 0.60394\n",
      "36 :  club_Athletic Bilbao\n",
      "Score f1_score: 0.60394\n",
      "37 :  club_Atlético Madrid\n",
      "Score f1_score: 0.60394\n",
      "38 :  club_Bayer Leverkusen\n",
      "Score f1_score: 0.60394\n",
      "39 :  club_Bayern München\n",
      "Score f1_score: 0.60394\n",
      "40 :  club_Blackburn Rovers\n",
      "Score f1_score: 0.60394\n",
      "41 :  club_Bolton Wanderers\n",
      "Score f1_score: 0.60394\n",
      "42 :  club_Bor. Mönchengladbach\n",
      "Score f1_score: 0.60394\n",
      "43 :  club_Borussia Dortmund\n",
      "Score f1_score: 0.60394\n",
      "44 :  club_Bristol City\n",
      "Score f1_score: 0.60394\n",
      "45 :  club_CA Osasuna\n",
      "Score f1_score: 0.60394\n",
      "46 :  club_CF Badalona\n",
      "Score f1_score: 0.60394\n",
      "47 :  club_Celta Vigo\n",
      "Score f1_score: 0.60394\n",
      "48 :  club_Chelsea FC\n",
      "Score f1_score: 0.60394\n",
      "49 :  club_Crewe Alexandra\n",
      "Score f1_score: 0.60394\n",
      "50 :  club_Deportivo La Coruña\n",
      "Score f1_score: 0.60394\n",
      "51 :  club_ESTAC Troyes\n",
      "Score f1_score: 0.60394\n",
      "52 :  club_Eintracht Frankfurt\n",
      "Score f1_score: 0.60394\n",
      "53 :  club_Espanyol Barcelona\n",
      "Score f1_score: 0.60394\n",
      "54 :  club_Everton FC\n",
      "Score f1_score: 0.60394\n",
      "55 :  club_FC Augsburg\n",
      "Score f1_score: 0.60394\n",
      "56 :  club_FC Barcelona\n",
      "Score f1_score: 0.60394\n",
      "57 :  club_FC Lorient\n",
      "Score f1_score: 0.60394\n",
      "58 :  club_FC Schalke 04\n",
      "Score f1_score: 0.60394\n",
      "59 :  club_FC Sochaux\n",
      "Score f1_score: 0.60394\n",
      "60 :  club_Fortuna Düsseldorf\n",
      "Score f1_score: 0.60394\n",
      "61 :  club_Fulham FC\n",
      "Score f1_score: 0.60394\n",
      "62 :  club_Getafe CF\n",
      "Score f1_score: 0.60394\n",
      "63 :  club_Girondins Bordeaux\n",
      "Score f1_score: 0.60394\n",
      "64 :  club_Granada CF\n",
      "Score f1_score: 0.60394\n",
      "65 :  club_Hamburger SV\n",
      "Score f1_score: 0.60394\n",
      "66 :  club_Hannover 96\n",
      "Score f1_score: 0.60394\n",
      "67 :  club_Leeds United\n",
      "Score f1_score: 0.60394\n",
      "68 :  club_Leicester City\n",
      "Score f1_score: 0.60394\n",
      "69 :  club_Levante UD\n",
      "Score f1_score: 0.60394\n",
      "70 :  club_Leyton Orient\n",
      "Score f1_score: 0.60394\n",
      "71 :  club_Lille OSC\n",
      "Score f1_score: 0.60394\n",
      "72 :  club_Liverpool FC\n",
      "Score f1_score: 0.60394\n",
      "73 :  club_Liverpool FC (R)\n",
      "Score f1_score: 0.60394\n",
      "74 :  club_MSV Duisburg\n",
      "Score f1_score: 0.60394\n",
      "75 :  club_Manchester City\n",
      "Score f1_score: 0.60394\n",
      "76 :  club_Manchester United\n",
      "Score f1_score: 0.60394\n",
      "77 :  club_Millwall FC\n",
      "Score f1_score: 0.60394\n",
      "78 :  club_Montpellier HSC\n",
      "Score f1_score: 0.60394\n",
      "79 :  club_Málaga CF\n",
      "Score f1_score: 0.60394\n",
      "80 :  club_Newcastle United\n",
      "Score f1_score: 0.60394\n",
      "81 :  club_Norwich City\n",
      "Score f1_score: 0.60394\n",
      "82 :  club_Nottingham Forest\n",
      "Score f1_score: 0.60394\n",
      "83 :  club_OGC Nice\n",
      "Score f1_score: 0.60394\n",
      "84 :  club_Olympique Lyon\n",
      "Score f1_score: 0.60394\n",
      "85 :  club_Olympique Marseille\n",
      "Score f1_score: 0.60394\n",
      "86 :  club_Paris Saint-Germain\n",
      "Score f1_score: 0.60394\n",
      "87 :  club_Queens Park Rangers\n",
      "Score f1_score: 0.60394\n",
      "88 :  club_RCD Mallorca\n",
      "Score f1_score: 0.60394\n",
      "89 :  club_Rayo Vallecano\n",
      "Score f1_score: 0.60394\n",
      "90 :  club_Reading FC\n",
      "Score f1_score: 0.60394\n",
      "91 :  club_Real Betis\n",
      "Score f1_score: 0.60394\n",
      "92 :  club_Real Jaén\n",
      "Score f1_score: 0.60394\n",
      "93 :  club_Real Madrid\n",
      "Score f1_score: 0.60394\n",
      "94 :  club_Real Madrid Castilla\n",
      "Score f1_score: 0.60394\n",
      "95 :  club_Real Sociedad\n",
      "Score f1_score: 0.60394\n",
      "96 :  club_Real Valladolid\n",
      "Score f1_score: 0.60394\n",
      "97 :  club_Real Zaragoza\n",
      "Score f1_score: 0.60394\n",
      "98 :  club_SC Bastia\n",
      "Score f1_score: 0.60394\n",
      "99 :  club_SC Freiburg\n",
      "Score f1_score: 0.60394\n",
      "100 :  club_SD Compostela\n",
      "Score f1_score: 0.60394\n",
      "101 :  club_SV Sandhausen\n",
      "Score f1_score: 0.60394\n",
      "102 :  club_Sevilla FC\n",
      "Score f1_score: 0.60394\n",
      "103 :  club_Southampton FC\n",
      "Score f1_score: 0.60394\n",
      "104 :  club_SpVgg Greuther Fürth\n",
      "Score f1_score: 0.60394\n",
      "105 :  club_Stade Brest\n",
      "Score f1_score: 0.60394\n",
      "106 :  club_Stade Reims\n",
      "Score f1_score: 0.60394\n",
      "107 :  club_Stade Rennes\n",
      "Score f1_score: 0.60394\n",
      "108 :  club_Stoke City\n",
      "Score f1_score: 0.60394\n",
      "109 :  club_Sunderland AFC\n",
      "Score f1_score: 0.60394\n",
      "110 :  club_Tottenham Hotspur\n",
      "Score f1_score: 0.60394\n",
      "111 :  club_Tottenham Hotspur (R)\n",
      "Score f1_score: 0.60394\n",
      "112 :  club_Toulouse FC\n",
      "Score f1_score: 0.60394\n",
      "113 :  club_US Boulogne\n",
      "Score f1_score: 0.60394\n",
      "114 :  club_Valencia CF\n",
      "Score f1_score: 0.60394\n",
      "115 :  club_Valenciennes FC\n",
      "Score f1_score: 0.60394\n",
      "116 :  club_VfB Stuttgart\n",
      "Score f1_score: 0.60394\n",
      "117 :  club_VfL Wolfsburg\n",
      "Score f1_score: 0.60394\n",
      "118 :  club_Werder Bremen\n",
      "Score f1_score: 0.60394\n",
      "119 :  club_West Bromwich Albion\n",
      "Score f1_score: 0.60394\n",
      "120 :  club_West Ham United\n",
      "Score f1_score: 0.60394\n",
      "121 :  club_Wigan Athletic\n",
      "Score f1_score: 0.60394\n",
      "122 :  club_Wolverhampton Wanderers\n",
      "Score f1_score: 0.60394\n",
      "123 :  club_Évian Thonon Gaillard\n",
      "Score f1_score: 0.60394\n",
      "124 :  leagueCountry_England\n",
      "Score f1_score: 0.60394\n",
      "125 :  leagueCountry_France\n",
      "Score f1_score: 0.60394\n",
      "126 :  leagueCountry_Germany\n",
      "Score f1_score: 0.60394\n",
      "127 :  leagueCountry_Spain\n",
      "Score f1_score: 0.60394\n",
      "[0.47382920110192839, 0.6039408866995073, 0.6039408866995073, 0.6039408866995073, 0.6039408866995073, 0.6039408866995073, 0.6039408866995073, 0.6039408866995073, 0.6039408866995073, 0.6039408866995073, 0.6039408866995073, 0.6039408866995073, 0.6039408866995073, 0.6039408866995073, 0.6039408866995073, 0.6039408866995073, 0.6039408866995073, 0.6039408866995073, 0.6039408866995073, 0.6039408866995073, 0.6039408866995073, 0.6039408866995073, 0.6039408866995073, 0.6039408866995073, 0.6039408866995073, 0.6039408866995073, 0.6039408866995073, 0.6039408866995073, 0.6039408866995073, 0.6039408866995073, 0.6039408866995073, 0.6039408866995073, 0.6039408866995073, 0.6039408866995073, 0.6039408866995073, 0.6039408866995073, 0.6039408866995073, 0.6039408866995073, 0.6039408866995073, 0.6039408866995073, 0.6039408866995073, 0.6039408866995073, 0.6039408866995073, 0.6039408866995073, 0.6039408866995073, 0.6039408866995073, 0.6039408866995073, 0.6039408866995073, 0.6039408866995073, 0.6039408866995073, 0.6039408866995073, 0.6039408866995073, 0.6039408866995073, 0.6039408866995073, 0.6039408866995073, 0.6039408866995073, 0.6039408866995073, 0.6039408866995073, 0.6039408866995073, 0.6039408866995073, 0.6039408866995073, 0.6039408866995073, 0.6039408866995073, 0.6039408866995073, 0.6039408866995073, 0.6039408866995073, 0.6039408866995073, 0.6039408866995073, 0.6039408866995073, 0.6039408866995073, 0.6039408866995073, 0.6039408866995073, 0.6039408866995073, 0.6039408866995073, 0.6039408866995073, 0.6039408866995073, 0.6039408866995073, 0.6039408866995073, 0.6039408866995073, 0.6039408866995073, 0.6039408866995073, 0.6039408866995073, 0.6039408866995073, 0.6039408866995073, 0.6039408866995073, 0.6039408866995073, 0.6039408866995073, 0.6039408866995073, 0.6039408866995073, 0.6039408866995073, 0.6039408866995073, 0.6039408866995073, 0.6039408866995073, 0.6039408866995073, 0.6039408866995073, 0.6039408866995073, 0.6039408866995073, 0.6039408866995073, 0.6039408866995073, 0.6039408866995073, 0.6039408866995073, 0.6039408866995073, 0.6039408866995073, 0.6039408866995073, 0.6039408866995073, 0.6039408866995073, 0.6039408866995073, 0.6039408866995073, 0.6039408866995073, 0.6039408866995073, 0.6039408866995073, 0.6039408866995073, 0.6039408866995073, 0.6039408866995073, 0.6039408866995073, 0.6039408866995073, 0.6039408866995073, 0.6039408866995073, 0.6039408866995073, 0.6039408866995073, 0.6039408866995073, 0.6039408866995073, 0.6039408866995073, 0.6039408866995073, 0.6039408866995073, 0.6039408866995073, 0.6039408866995073, 0.6039408866995073]\n"
     ]
    }
   ],
   "source": [
    "cols = []\n",
    "\n",
    "kmeansDF = randomForestDF.copy()\n",
    "(X, y, Xpd) = makeMatrixForClassifier(kmeansDF)\n",
    "\n",
    "y = y.astype(float)\n",
    "for i in range(len(y)):\n",
    "    if (y[i] <= 0.5):\n",
    "        y[i] = 1\n",
    "    else:\n",
    "        y[i] = 0\n",
    "\n",
    "scores = []\n",
    "for i in range(randomForestDF.columns.size - 1):\n",
    "\n",
    "    kmeansTemp = Xpd.drop(Xpd.columns[i], axis=1)\n",
    "    X = kmeansTemp.as_matrix()\n",
    "    (sc, sc2) = clustering(X,y)\n",
    "    scores.append(sc)\n",
    "    print(i, ': ', Xpd.columns[i])\n",
    "    print('Score f1_score: {:.5f}'.format(f1score))\n",
    "print(scores)"
   ]
  },
  {
   "cell_type": "markdown",
   "metadata": {},
   "source": [
    "\n",
    "We can observe that the plot seems to lead to no special result, which looks strange"
   ]
  },
  {
   "cell_type": "code",
   "execution_count": null,
   "metadata": {
    "collapsed": true
   },
   "outputs": [],
   "source": []
  }
 ],
 "metadata": {
  "anaconda-cloud": {},
  "kernelspec": {
   "display_name": "Python [Root]",
   "language": "python",
   "name": "Python [Root]"
  },
  "language_info": {
   "codemirror_mode": {
    "name": "ipython",
    "version": 3
   },
   "file_extension": ".py",
   "mimetype": "text/x-python",
   "name": "python",
   "nbconvert_exporter": "python",
   "pygments_lexer": "ipython3",
   "version": "3.5.2"
  }
 },
 "nbformat": 4,
 "nbformat_minor": 0
}
