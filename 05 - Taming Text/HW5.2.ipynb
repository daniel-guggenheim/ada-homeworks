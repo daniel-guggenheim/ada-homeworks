{
 "cells": [
  {
   "cell_type": "markdown",
   "metadata": {},
   "source": [
    "# Homework 5 - Question 2"
   ]
  },
  {
   "cell_type": "markdown",
   "metadata": {},
   "source": [
    "Here we will compute the sentiment coming from the email per country. "
   ]
  },
  {
   "cell_type": "code",
   "execution_count": 1,
   "metadata": {
    "collapsed": false
   },
   "outputs": [
    {
     "name": "stderr",
     "output_type": "stream",
     "text": [
      "C:\\ProgrammationProjects\\Installation\\Anaconda\\envs\\ADA\\lib\\site-packages\\nltk\\twitter\\__init__.py:20: UserWarning: The twython library has not been installed. Some functionality from the twitter package will not be available.\n",
      "  warnings.warn(\"The twython library has not been installed. \"\n"
     ]
    }
   ],
   "source": [
    "## Importation of useful libraries\n",
    "import pycountry\n",
    "import pandas as pd\n",
    "import numpy as np\n",
    "import os\n",
    "import seaborn as sns\n",
    "import datetime\n",
    "import nltk\n",
    "import matplotlib as mpl\n",
    "import matplotlib.pyplot as plt\n",
    "from nltk.sentiment import SentimentIntensityAnalyzer\n",
    "from nltk.corpus import opinion_lexicon\n",
    "from nltk.tokenize import treebank\n",
    "import operator\n",
    "%matplotlib inline"
   ]
  },
  {
   "cell_type": "markdown",
   "metadata": {},
   "source": [
    "<h3>Data loading and cleaning</h3>\n",
    "\n",
    "We will first load the data, and then clean them. We decided to use the \"ExtractedBodyText\" for this part, therefore we will drop all the empty cells."
   ]
  },
  {
   "cell_type": "code",
   "execution_count": 2,
   "metadata": {
    "collapsed": false
   },
   "outputs": [
    {
     "data": {
      "text/html": [
       "<div>\n",
       "<table border=\"1\" class=\"dataframe\">\n",
       "  <thead>\n",
       "    <tr style=\"text-align: right;\">\n",
       "      <th></th>\n",
       "      <th>Id</th>\n",
       "      <th>DocNumber</th>\n",
       "      <th>MetadataSubject</th>\n",
       "      <th>MetadataTo</th>\n",
       "      <th>MetadataFrom</th>\n",
       "      <th>SenderPersonId</th>\n",
       "      <th>MetadataDateSent</th>\n",
       "      <th>MetadataDateReleased</th>\n",
       "      <th>MetadataPdfLink</th>\n",
       "      <th>MetadataCaseNumber</th>\n",
       "      <th>...</th>\n",
       "      <th>ExtractedTo</th>\n",
       "      <th>ExtractedFrom</th>\n",
       "      <th>ExtractedCc</th>\n",
       "      <th>ExtractedDateSent</th>\n",
       "      <th>ExtractedCaseNumber</th>\n",
       "      <th>ExtractedDocNumber</th>\n",
       "      <th>ExtractedDateReleased</th>\n",
       "      <th>ExtractedReleaseInPartOrFull</th>\n",
       "      <th>ExtractedBodyText</th>\n",
       "      <th>RawText</th>\n",
       "    </tr>\n",
       "  </thead>\n",
       "  <tbody>\n",
       "    <tr>\n",
       "      <th>1</th>\n",
       "      <td>2</td>\n",
       "      <td>C05739546</td>\n",
       "      <td>H: LATEST: HOW SYRIA IS AIDING QADDAFI AND MOR...</td>\n",
       "      <td>H</td>\n",
       "      <td>NaN</td>\n",
       "      <td>NaN</td>\n",
       "      <td>2011-03-03T05:00:00+00:00</td>\n",
       "      <td>2015-05-22T04:00:00+00:00</td>\n",
       "      <td>DOCUMENTS/HRC_Email_1_296/HRCH1/DOC_0C05739546...</td>\n",
       "      <td>F-2015-04841</td>\n",
       "      <td>...</td>\n",
       "      <td>NaN</td>\n",
       "      <td>NaN</td>\n",
       "      <td>NaN</td>\n",
       "      <td>NaN</td>\n",
       "      <td>F-2015-04841</td>\n",
       "      <td>C05739546</td>\n",
       "      <td>05/13/2015</td>\n",
       "      <td>RELEASE IN PART</td>\n",
       "      <td>B6\\r\\nThursday, March 3, 2011 9:45 PM\\r\\nH: La...</td>\n",
       "      <td>UNCLASSIFIED\\r\\nU.S. Department of State\\r\\nCa...</td>\n",
       "    </tr>\n",
       "    <tr>\n",
       "      <th>2</th>\n",
       "      <td>3</td>\n",
       "      <td>C05739547</td>\n",
       "      <td>CHRIS STEVENS</td>\n",
       "      <td>;H</td>\n",
       "      <td>Mills, Cheryl D</td>\n",
       "      <td>32.0</td>\n",
       "      <td>2012-09-12T04:00:00+00:00</td>\n",
       "      <td>2015-05-22T04:00:00+00:00</td>\n",
       "      <td>DOCUMENTS/HRC_Email_1_296/HRCH2/DOC_0C05739547...</td>\n",
       "      <td>F-2015-04841</td>\n",
       "      <td>...</td>\n",
       "      <td>B6</td>\n",
       "      <td>Mills, Cheryl D &lt;MillsCD@state.gov&gt;</td>\n",
       "      <td>Abedin, Huma</td>\n",
       "      <td>Wednesday, September 12, 2012 11:52 AM</td>\n",
       "      <td>F-2015-04841</td>\n",
       "      <td>C05739547</td>\n",
       "      <td>05/14/2015</td>\n",
       "      <td>RELEASE IN PART</td>\n",
       "      <td>Thx</td>\n",
       "      <td>UNCLASSIFIED\\r\\nU.S. Department of State\\r\\nCa...</td>\n",
       "    </tr>\n",
       "  </tbody>\n",
       "</table>\n",
       "<p>2 rows × 22 columns</p>\n",
       "</div>"
      ],
      "text/plain": [
       "   Id  DocNumber                                    MetadataSubject  \\\n",
       "1   2  C05739546  H: LATEST: HOW SYRIA IS AIDING QADDAFI AND MOR...   \n",
       "2   3  C05739547                                      CHRIS STEVENS   \n",
       "\n",
       "  MetadataTo     MetadataFrom  SenderPersonId           MetadataDateSent  \\\n",
       "1          H              NaN             NaN  2011-03-03T05:00:00+00:00   \n",
       "2         ;H  Mills, Cheryl D            32.0  2012-09-12T04:00:00+00:00   \n",
       "\n",
       "        MetadataDateReleased  \\\n",
       "1  2015-05-22T04:00:00+00:00   \n",
       "2  2015-05-22T04:00:00+00:00   \n",
       "\n",
       "                                     MetadataPdfLink MetadataCaseNumber  \\\n",
       "1  DOCUMENTS/HRC_Email_1_296/HRCH1/DOC_0C05739546...       F-2015-04841   \n",
       "2  DOCUMENTS/HRC_Email_1_296/HRCH2/DOC_0C05739547...       F-2015-04841   \n",
       "\n",
       "                         ...                         ExtractedTo  \\\n",
       "1                        ...                                 NaN   \n",
       "2                        ...                                  B6   \n",
       "\n",
       "                         ExtractedFrom   ExtractedCc  \\\n",
       "1                                  NaN           NaN   \n",
       "2  Mills, Cheryl D <MillsCD@state.gov>  Abedin, Huma   \n",
       "\n",
       "                        ExtractedDateSent ExtractedCaseNumber  \\\n",
       "1                                     NaN        F-2015-04841   \n",
       "2  Wednesday, September 12, 2012 11:52 AM        F-2015-04841   \n",
       "\n",
       "  ExtractedDocNumber ExtractedDateReleased ExtractedReleaseInPartOrFull  \\\n",
       "1          C05739546            05/13/2015              RELEASE IN PART   \n",
       "2          C05739547            05/14/2015              RELEASE IN PART   \n",
       "\n",
       "                                   ExtractedBodyText  \\\n",
       "1  B6\\r\\nThursday, March 3, 2011 9:45 PM\\r\\nH: La...   \n",
       "2                                                Thx   \n",
       "\n",
       "                                             RawText  \n",
       "1  UNCLASSIFIED\\r\\nU.S. Department of State\\r\\nCa...  \n",
       "2  UNCLASSIFIED\\r\\nU.S. Department of State\\r\\nCa...  \n",
       "\n",
       "[2 rows x 22 columns]"
      ]
     },
     "execution_count": 2,
     "metadata": {},
     "output_type": "execute_result"
    }
   ],
   "source": [
    "filename = os.path.join('hillary-clinton-emails','Emails.csv')\n",
    "df_email = pd.read_csv(filename)\n",
    "df_email = df_email.dropna(axis=0, how='any', subset=['ExtractedBodyText'])\n",
    "df_email.head(2)"
   ]
  },
  {
   "cell_type": "markdown",
   "metadata": {
    "collapsed": false
   },
   "source": [
    " To clean the data, we use exactly the same technique as in exercice 1. Therefore, we decided to export this technique to an external function, and just use the function. All the explanations can be found in exercice 1 of the homework. This function will return a map between the indices of the email dataframe and a list of token (coming from the email of the indice)"
   ]
  },
  {
   "cell_type": "code",
   "execution_count": 3,
   "metadata": {
    "collapsed": false
   },
   "outputs": [
    {
     "name": "stdout",
     "output_type": "stream",
     "text": [
      "Starting to import data\n",
      "Starting cleaning...\n",
      "Creating tokens...\n",
      "list token len= 6742\n",
      "list index len= 6742\n",
      "Finished!\n"
     ]
    }
   ],
   "source": [
    "## Cleaning data with the external script. map : (mail index -> list of tokens)\n",
    "from cleaningData import getTokenMapFromData\n",
    "map_mail_index_to_token_list = getTokenMapFromData(False)"
   ]
  },
  {
   "cell_type": "code",
   "execution_count": 4,
   "metadata": {
    "collapsed": false
   },
   "outputs": [
    {
     "name": "stdout",
     "output_type": "stream",
     "text": [
      "-- Dataframe: \n",
      "B6\r\n",
      "Thursday, March 3, 2011 9:45 PM\r\n",
      "H: Latest How Syria is aiding Qaddafi and more... Sid\r\n",
      "hrc memo syria aiding libya 030311.docx; hrc memo syria aiding libya 030311.docx\r\n",
      "March 3, 2011\r\n",
      "For: Hillary\n",
      "-- Token list : \n",
      "['B6', 'H', 'Latest', 'How', 'Syria', 'aiding', 'Qaddafi', '', 'Sid', 'hrc', 'memo', 'syria', 'aiding', 'libya', '030311.docx', 'hrc', 'memo', 'syria', 'aiding', 'libya', '030311.docx', 'March', '3', '2011', 'For', 'Hillary']\n"
     ]
    }
   ],
   "source": [
    "print('-- Dataframe: ')\n",
    "print(df_email.ExtractedBodyText[1])\n",
    "print('-- Token list : ')\n",
    "print(map_mail_index_to_token_list[1])"
   ]
  },
  {
   "cell_type": "markdown",
   "metadata": {},
   "source": [
    "<h3>Countries array setup</h3>\n",
    "\n",
    "In this part, we will create an array of countries name. For each country, we will register the different names it is known of. We will use the library pycountry to achieve that.<br>\n",
    "While runnning tests, we noticed a lot of problems with abbreviations. A lot of the time the abbreviation was not used in the mail to describe a country, but it could be an abbreviation for an event, the middle name of someone, of simply a spelling mistakes. As our list of bad abbreviation that we didn't take into account grew, we finally decided to remove all of them. Even if we will loose some data, we think our result will be more precise this way rather than using abbreviations.\n",
    "This was our list of \"bad\" abbreviations before we decided to not use any of them:<br>\n",
    "<i>bad_countries_abbrev = [\"re\", \"fm\", \"tv\", \"al\", \"aq\", \"la\", \"ben\",'us', 'pm', 'ago', 'arm', 'mn', 'nor', 'lie']</i>\n",
    "\n",
    "<b>Technically:</b><br>\n",
    "We want to have an array of array of the form:<br>\n",
    "[country_1, country_2, ..., country_n], where \"country_i\" will be an array of all the name this country is known of. (so, country_i = [name, official_name, abbrev1, abbrev2, etc..]."
   ]
  },
  {
   "cell_type": "code",
   "execution_count": 5,
   "metadata": {
    "collapsed": false
   },
   "outputs": [],
   "source": [
    "def formatCountry(word):\n",
    "    '''\n",
    "    Small method to format a name (add spaces and make lower chars)\n",
    "    '''\n",
    "    return (' ' + word + ' ').lower()\n",
    "\n",
    "def makeCountryTable(country):\n",
    "    '''\n",
    "    This will take a country of pycountry form in argument and make a list with all the relevant\n",
    "    names in the country variable. Some special cases about country names were dealt here. The relevant\n",
    "    part were explained in comment in the function.\n",
    "    '''\n",
    "    countryArr = [country.name.lower()]\n",
    "#     if(country.alpha_2.lower() not in bad_countries_abbrev):\n",
    "#         countryArr.append(formatCountry(country.alpha_2))\n",
    "#     if(country.alpha_3.lower() not in bad_countries_abbrev):\n",
    "#         countryArr.append(formatCountry(country.alpha_3))\n",
    "    if hasattr(country, 'official_name'):\n",
    "        countryArr.append(country.official_name.lower())\n",
    "    if hasattr(country, 'common_name'):\n",
    "        countryArr.append(country.common_name.lower())\n",
    "        \n",
    "    ## Some countries have the form : 'Iran, Islamic Republic of' => we want to \n",
    "    ## to transform it to : 'Iran' and 'Islamic Republic of Iran'\n",
    "    if \",\" in country.name:\n",
    "        split_list = country.name.split(',')\n",
    "        countryArr.append((split_list[1] + ' ' + split_list[0]).lower())\n",
    "        \n",
    "        ## There are two entities named Virgin Islands, so we don't take the name alone.\n",
    "        if split_list[0] !=  'Virgin Islands':\n",
    "            countryArr.append((split_list[0]).lower())\n",
    "            \n",
    "    ## Special case: We add the name \"Syria\" that is common\n",
    "    if country.name == 'Syrian Arab Republic':\n",
    "        countryArr.append('syria')\n",
    "    \n",
    "    return countryArr    "
   ]
  },
  {
   "cell_type": "markdown",
   "metadata": {},
   "source": [
    "Execution of the method <i>makeCountryTable(country)</i> on all the countries of <i>pycountry</i>. "
   ]
  },
  {
   "cell_type": "code",
   "execution_count": 6,
   "metadata": {
    "collapsed": false
   },
   "outputs": [],
   "source": [
    "countryNamesAbbrev = list(makeCountryTable(x) for x in list(pycountry.countries))"
   ]
  },
  {
   "cell_type": "markdown",
   "metadata": {},
   "source": [
    "<h3>Sentiment analysis functions</h3>\n",
    "\n",
    "Here, we define the different functions for the sentiment analysis. We decided to go with two different kind of computations:<br>\n",
    "- **Vader sentiment computation**\n",
    "- **Liu hu Lexicon**\n",
    "\n",
    "The vader computation will return a polarity score between -1 and 1.<br>\n",
    "\n",
    "The liu hu lexicon consists of going through the text and counting the number of positive and negative words. From this, we decided to compute 3 final scores:\n",
    "- **Absolute score:** This is the most basic way to compute the score. If there are more positive words than negative, the score will be 1, if there are more negative words than positive, the score will be -1, and in case of equality the score will be zero.\n",
    "- **Relative score:** This technique will ponderate the result with the total number of negative and positive words. Therefore it will continuous result between -1 and 1 (where -1 is the most negative score possible)\n",
    "- **Ponderated score:** This way of computing the score is trying to take into account the number of neutral words to improve the accuracy. A short email with a lot of negative words should be valued more than a very long email with some negative words inside it."
   ]
  },
  {
   "cell_type": "code",
   "execution_count": 7,
   "metadata": {
    "collapsed": true
   },
   "outputs": [],
   "source": [
    "## This should be uncommented in case you have not downloaded the following nltk libraries\n",
    "\n",
    "# nltk.download('opinion_lexicon')\n",
    "# nltk.download('vader_lexicon')"
   ]
  },
  {
   "cell_type": "code",
   "execution_count": 8,
   "metadata": {
    "collapsed": true
   },
   "outputs": [],
   "source": [
    "def vader_sentiment_computation(token_list):\n",
    "    \"\"\"\n",
    "    Function from https://github.com/nltk/nltk/blob/develop/nltk/sentiment/util.py\n",
    "    Output polarity scores for a text using Vader approach.\n",
    "    :param text: a text whose polarity has to be evaluated.\n",
    "    \"\"\"\n",
    "    \n",
    "    text = ' '.join([token for token in token_list])\n",
    "    \n",
    "    vader_analyzer = SentimentIntensityAnalyzer()\n",
    "    return vader_analyzer.polarity_scores(text).get('compound')"
   ]
  },
  {
   "cell_type": "code",
   "execution_count": 9,
   "metadata": {
    "collapsed": true
   },
   "outputs": [],
   "source": [
    "def execute_liu_hu_lexicon_tests(token_list):\n",
    "    \"\"\"\n",
    "    Execute all the computation of liu hu functions, compute all the liu hu scores\n",
    "    and return them.\n",
    "    Input: A token_list on which to execute the lexicon task\n",
    "    Output: The results of the three lexicon functions\n",
    "    \"\"\"\n",
    "    (pos_words, neg_words, neut_words) = computation_liu_hu_lexicon(token_list)\n",
    "    absolute = liu_hu_lexicon_absolute(pos_words, neg_words)\n",
    "    relative = liu_hu_lexicon_relative(pos_words, neg_words)\n",
    "    ponderated = liu_hu_lexicon_neutral_ponderated(pos_words, neg_words, neut_words)\n",
    "    return (absolute, relative, ponderated)"
   ]
  },
  {
   "cell_type": "code",
   "execution_count": 10,
   "metadata": {
    "collapsed": true
   },
   "outputs": [],
   "source": [
    "def computation_liu_hu_lexicon(token_list):\n",
    "    \"\"\"\n",
    "    Function inspiration from https://github.com/nltk/nltk/blob/develop/nltk/sentiment/util.py\n",
    "    Helper function to compute the number of positive word, of negative words and of neutrals words.\n",
    "    Output: (Number of positive words, number of negative words, number of neutral words)\n",
    "    :param token_list: a list of tokens whose polarity has to be classified.\n",
    "    \"\"\"\n",
    "    pos_words = 0\n",
    "    neg_words = 0\n",
    "    neut_words = 0\n",
    "    \n",
    "    for word in token_list:\n",
    "        if word in opinion_lexicon.positive():\n",
    "            pos_words += 1\n",
    "        elif word in opinion_lexicon.negative():\n",
    "            neg_words += 1\n",
    "        else:\n",
    "            neut_words += 1\n",
    "\n",
    "#     print('Positive words: ', pos_words)\n",
    "#     print('Negative words: ', neg_words)\n",
    "#     print('Neutral words: ', neut_words)\n",
    "    return (pos_words, neg_words, neut_words)"
   ]
  },
  {
   "cell_type": "code",
   "execution_count": 11,
   "metadata": {
    "collapsed": true
   },
   "outputs": [],
   "source": [
    "def liu_hu_lexicon_absolute(pos_words, neg_words):\n",
    "    \"\"\"\n",
    "    Sentiment classification using Liu and Hu opinion lexicon.\n",
    "    This function compute the liu hu scores by taking the majority voting.\n",
    "    If the majority of the words are positive, the score will be 1, if it\n",
    "    is negative, the score will be -1, otherwise the score will be 0.\n",
    "    :param pos_words: The number of positive words in a text\n",
    "    :param neg_words: The number of negative words in a text\n",
    "    \"\"\"\n",
    "\n",
    "    if pos_words > neg_words:\n",
    "        return 1\n",
    "    elif pos_words < neg_words:\n",
    "        return -1\n",
    "    elif pos_words == neg_words:\n",
    "        return 0"
   ]
  },
  {
   "cell_type": "code",
   "execution_count": 12,
   "metadata": {
    "collapsed": true
   },
   "outputs": [],
   "source": [
    "def liu_hu_lexicon_relative(pos_words, neg_words):\n",
    "    \"\"\"\n",
    "    Sentiment classification using Liu and Hu opinion lexicon.\n",
    "    This function compute the liu hu scores by taking the number of \n",
    "    positive words over the total number of positive and negative words. Therefore it will\n",
    "    ponderate the score with the total number of negative and positive words\n",
    "    and output a continuous score between -1 and 1. -1 beeing when\n",
    "    there is only negative words and 1 when there is only positive words.\n",
    "    :param pos_words: The number of positive words in a text\n",
    "    :param neg_words: The number of negative words in a text\n",
    "    \"\"\"\n",
    "\n",
    "    if pos_words == 0 and neg_words == 0:\n",
    "        return 0\n",
    "    else:\n",
    "        return pos_words / (pos_words + neg_words) * 2 - 1"
   ]
  },
  {
   "cell_type": "code",
   "execution_count": 13,
   "metadata": {
    "collapsed": true
   },
   "outputs": [],
   "source": [
    "def liu_hu_lexicon_neutral_ponderated(pos_words, neg_words, neut_words):\n",
    "    \"\"\"\n",
    "    Sentiment classification using Liu and Hu opinion lexicon.\n",
    "    This function compute the liu hu scores by ponderating the number of positive\n",
    "    words with the total number of positive and negative words. It will then ponderate this \n",
    "    score with the total number of neutral words.\n",
    "    :param pos_words: The number of positive words in a text\n",
    "    :param neg_words: The number of negative words in a text\n",
    "    :param neut_words: The number of neutral words in a text\n",
    "    \"\"\"\n",
    "\n",
    "    if pos_words == 0 and neg_words == 0:\n",
    "        return 0\n",
    "    else:\n",
    "        return (pos_words / ( neut_words + pos_words + neg_words))"
   ]
  },
  {
   "cell_type": "markdown",
   "metadata": {},
   "source": [
    "<h3>Sentiment analysis execution</h3>\n",
    "\n",
    "Here we are going to use all the previous functions to execute the sentiment analysis task."
   ]
  },
  {
   "cell_type": "markdown",
   "metadata": {},
   "source": [
    "We initialize the datastructures that are going to contain the results.<br>\n",
    "The results will be a dictionary per sentiment analysis test. Each dictionary will contain as a key a country name, and as value a list of sentiment scores for each mail on which the country name was found and a sentiment test was executed."
   ]
  },
  {
   "cell_type": "code",
   "execution_count": 14,
   "metadata": {
    "collapsed": true
   },
   "outputs": [],
   "source": [
    "## Initializing dictionnaries to store sentiment\n",
    "vader_sentiment_dict = {}\n",
    "liu_hu_absolute_dict = {}\n",
    "liu_hu_relative_dict = {}\n",
    "liu_hu_ponderated_dict = {}\n",
    "\n",
    "## Initialize a counter to know which country words are used to find countries.\n",
    "country_words_used = {}"
   ]
  },
  {
   "cell_type": "markdown",
   "metadata": {},
   "source": [
    "The following functions will update the dictionary as we go through the data"
   ]
  },
  {
   "cell_type": "code",
   "execution_count": 15,
   "metadata": {
    "collapsed": false
   },
   "outputs": [],
   "source": [
    "def update_sentiment_dict(country_name, dict_to_update, result):\n",
    "    '''\n",
    "    This function will be used to update the results dictionaries that were previously initialized.\n",
    "    It will update the dictionary \"dict_to_update\", on the key \"country_name\" with the value \"result\".\n",
    "    '''\n",
    "    if(not dict_to_update.get(country_name)):\n",
    "        dict_to_update[country_name] = [result]\n",
    "    else:\n",
    "        dict_to_update[country_name].append(result)\n",
    "\n",
    "\n",
    "def updateCountryWordUsed(abrev):\n",
    "    '''\n",
    "    Function to update the dictionary country_words_used\n",
    "    '''\n",
    "    if(not country_words_used.get(abrev)):\n",
    "        country_words_used[abrev] = 1\n",
    "    else:\n",
    "        country_words_used[abrev] += 1"
   ]
  },
  {
   "cell_type": "markdown",
   "metadata": {},
   "source": [
    "This function will execute the sentiment analysis over the data we have.\n",
    "\n",
    "It will be applied to each row of the dataframe. For each row, it will iterate over all the countries and test if it can find one of the country abbreviation/name in the email content. If it is the case, it will run all the sentiment analysis tests and store the results in the corresponding dictionaries."
   ]
  },
  {
   "cell_type": "code",
   "execution_count": 41,
   "metadata": {
    "collapsed": false
   },
   "outputs": [],
   "source": [
    "def analyzeSentimentInDf(row):\n",
    "    '''\n",
    "    This function analyze mails and execute sentiment analysis if a country is detected.\n",
    "    '''\n",
    "    printDetails = False\n",
    "    emailContent = str(row.ExtractedBodyText).lower()\n",
    "    row_id = row.Id\n",
    "    foundCountryList = []\n",
    "    \n",
    "    ## Iteration over all countries\n",
    "    for country in countryNamesAbbrev:\n",
    "        foundCountry = False\n",
    "        \n",
    "        ## Iteration over all names for a specific country\n",
    "        for abrev in country:\n",
    "            \n",
    "            ## Testing if abbreviation is in email\n",
    "            if not foundCountry and abrev in emailContent:\n",
    "                if printDetails and len(foundCountryList) == 0:\n",
    "                    print('------------------------------- EMAIL N0: ', row_id, ' -------------------------------')\n",
    "                    print('--------- COUNTRIES ---------')\n",
    "                foundCountry = True\n",
    "                foundCountryList.append(country[0])\n",
    "                updateCountryWordUsed(abrev)\n",
    "                if printDetails: print(country[0], ': ',abrev)\n",
    "    \n",
    "    ## If we found at least one country name in email, we compute sentiment scores\n",
    "    if len(foundCountryList) != 0:\n",
    "        if printDetails: print('-----------------------------------')\n",
    "        vader_score = vader_sentiment_computation(map_mail_index_to_token_list[row.name])\n",
    "        (abs_lex_score, rel_lex_score, pond_lex_score) = execute_liu_hu_lexicon_tests(map_mail_index_to_token_list[row.name])\n",
    "        \n",
    "        ## Update dictionnaries containing scores:\n",
    "        for f_country in foundCountryList:\n",
    "            update_sentiment_dict(f_country, vader_sentiment_dict, vader_score)\n",
    "            update_sentiment_dict(f_country, liu_hu_absolute_dict, abs_lex_score)\n",
    "            update_sentiment_dict(f_country, liu_hu_relative_dict, rel_lex_score)\n",
    "            update_sentiment_dict(f_country, liu_hu_ponderated_dict, pond_lex_score)  \n",
    "                \n",
    "        if printDetails:\n",
    "            print('--------- SENTIMENT SCORE ---------')\n",
    "            print('Vader score: ', vader_score)\n",
    "            print('Absolute Lexicon score: ', abs_lex_score)\n",
    "            print('Relative Lexicon score: ', rel_lex_score)\n",
    "            print('Ponderated Lexicon score: ', pond_lex_score)\n",
    "\n",
    "            print('--------- EMAIL CONTENT ---------')\n",
    "            print(emailContent)"
   ]
  },
  {
   "cell_type": "markdown",
   "metadata": {},
   "source": [
    "Let's apply the sentiment analysis function: (careful, this may take a while)"
   ]
  },
  {
   "cell_type": "code",
   "execution_count": 42,
   "metadata": {
    "collapsed": false,
    "scrolled": true
   },
   "outputs": [
    {
     "ename": "KeyboardInterrupt",
     "evalue": "",
     "output_type": "error",
     "traceback": [
      "\u001b[0;31m---------------------------------------------------------------------------\u001b[0m",
      "\u001b[0;31mKeyboardInterrupt\u001b[0m                         Traceback (most recent call last)",
      "\u001b[0;32m<ipython-input-42-fb7de69c6e8a>\u001b[0m in \u001b[0;36m<module>\u001b[0;34m()\u001b[0m\n\u001b[0;32m----> 1\u001b[0;31m \u001b[0mdf_email\u001b[0m\u001b[1;33m.\u001b[0m\u001b[0mapply\u001b[0m\u001b[1;33m(\u001b[0m\u001b[0manalyzeSentimentInDf\u001b[0m\u001b[1;33m,\u001b[0m \u001b[0maxis\u001b[0m\u001b[1;33m=\u001b[0m\u001b[1;36m1\u001b[0m\u001b[1;33m)\u001b[0m\u001b[1;33m\u001b[0m\u001b[0m\n\u001b[0m\u001b[1;32m      2\u001b[0m \u001b[0mprint\u001b[0m\u001b[1;33m(\u001b[0m\u001b[1;34m'Sentiment analysis finished.'\u001b[0m\u001b[1;33m)\u001b[0m\u001b[1;33m\u001b[0m\u001b[0m\n",
      "\u001b[0;32mC:\\ProgrammationProjects\\Installation\\Anaconda\\envs\\ADA\\lib\\site-packages\\pandas\\core\\frame.py\u001b[0m in \u001b[0;36mapply\u001b[0;34m(self, func, axis, broadcast, raw, reduce, args, **kwds)\u001b[0m\n\u001b[1;32m   4131\u001b[0m                     \u001b[1;32mif\u001b[0m \u001b[0mreduce\u001b[0m \u001b[1;32mis\u001b[0m \u001b[1;32mNone\u001b[0m\u001b[1;33m:\u001b[0m\u001b[1;33m\u001b[0m\u001b[0m\n\u001b[1;32m   4132\u001b[0m                         \u001b[0mreduce\u001b[0m \u001b[1;33m=\u001b[0m \u001b[1;32mTrue\u001b[0m\u001b[1;33m\u001b[0m\u001b[0m\n\u001b[0;32m-> 4133\u001b[0;31m                     \u001b[1;32mreturn\u001b[0m \u001b[0mself\u001b[0m\u001b[1;33m.\u001b[0m\u001b[0m_apply_standard\u001b[0m\u001b[1;33m(\u001b[0m\u001b[0mf\u001b[0m\u001b[1;33m,\u001b[0m \u001b[0maxis\u001b[0m\u001b[1;33m,\u001b[0m \u001b[0mreduce\u001b[0m\u001b[1;33m=\u001b[0m\u001b[0mreduce\u001b[0m\u001b[1;33m)\u001b[0m\u001b[1;33m\u001b[0m\u001b[0m\n\u001b[0m\u001b[1;32m   4134\u001b[0m             \u001b[1;32melse\u001b[0m\u001b[1;33m:\u001b[0m\u001b[1;33m\u001b[0m\u001b[0m\n\u001b[1;32m   4135\u001b[0m                 \u001b[1;32mreturn\u001b[0m \u001b[0mself\u001b[0m\u001b[1;33m.\u001b[0m\u001b[0m_apply_broadcast\u001b[0m\u001b[1;33m(\u001b[0m\u001b[0mf\u001b[0m\u001b[1;33m,\u001b[0m \u001b[0maxis\u001b[0m\u001b[1;33m)\u001b[0m\u001b[1;33m\u001b[0m\u001b[0m\n",
      "\u001b[0;32mC:\\ProgrammationProjects\\Installation\\Anaconda\\envs\\ADA\\lib\\site-packages\\pandas\\core\\frame.py\u001b[0m in \u001b[0;36m_apply_standard\u001b[0;34m(self, func, axis, ignore_failures, reduce)\u001b[0m\n\u001b[1;32m   4187\u001b[0m                     \u001b[0mlabels\u001b[0m \u001b[1;33m=\u001b[0m \u001b[0mself\u001b[0m\u001b[1;33m.\u001b[0m\u001b[0m_get_agg_axis\u001b[0m\u001b[1;33m(\u001b[0m\u001b[0maxis\u001b[0m\u001b[1;33m)\u001b[0m\u001b[1;33m\u001b[0m\u001b[0m\n\u001b[1;32m   4188\u001b[0m                     result = lib.reduce(values, func, axis=axis, dummy=dummy,\n\u001b[0;32m-> 4189\u001b[0;31m                                         labels=labels)\n\u001b[0m\u001b[1;32m   4190\u001b[0m                     \u001b[1;32mreturn\u001b[0m \u001b[0mSeries\u001b[0m\u001b[1;33m(\u001b[0m\u001b[0mresult\u001b[0m\u001b[1;33m,\u001b[0m \u001b[0mindex\u001b[0m\u001b[1;33m=\u001b[0m\u001b[0mlabels\u001b[0m\u001b[1;33m)\u001b[0m\u001b[1;33m\u001b[0m\u001b[0m\n\u001b[1;32m   4191\u001b[0m                 \u001b[1;32mexcept\u001b[0m \u001b[0mException\u001b[0m\u001b[1;33m:\u001b[0m\u001b[1;33m\u001b[0m\u001b[0m\n",
      "\u001b[0;32mpandas\\src\\reduce.pyx\u001b[0m in \u001b[0;36mpandas.lib.reduce (pandas\\lib.c:43127)\u001b[0;34m()\u001b[0m\n",
      "\u001b[0;32mpandas\\src\\reduce.pyx\u001b[0m in \u001b[0;36mpandas.lib.Reducer.get_result (pandas\\lib.c:33268)\u001b[0;34m()\u001b[0m\n",
      "\u001b[0;32m<ipython-input-41-af7a9fa36792>\u001b[0m in \u001b[0;36manalyzeSentimentInDf\u001b[0;34m(row)\u001b[0m\n\u001b[1;32m     29\u001b[0m         \u001b[1;32mif\u001b[0m \u001b[0mprintDetails\u001b[0m\u001b[1;33m:\u001b[0m \u001b[0mprint\u001b[0m\u001b[1;33m(\u001b[0m\u001b[1;34m'-----------------------------------'\u001b[0m\u001b[1;33m)\u001b[0m\u001b[1;33m\u001b[0m\u001b[0m\n\u001b[1;32m     30\u001b[0m         \u001b[0mvader_score\u001b[0m \u001b[1;33m=\u001b[0m \u001b[0mvader_sentiment_computation\u001b[0m\u001b[1;33m(\u001b[0m\u001b[0mmap_mail_index_to_token_list\u001b[0m\u001b[1;33m[\u001b[0m\u001b[0mrow\u001b[0m\u001b[1;33m.\u001b[0m\u001b[0mname\u001b[0m\u001b[1;33m]\u001b[0m\u001b[1;33m)\u001b[0m\u001b[1;33m\u001b[0m\u001b[0m\n\u001b[0;32m---> 31\u001b[0;31m         \u001b[1;33m(\u001b[0m\u001b[0mabs_lex_score\u001b[0m\u001b[1;33m,\u001b[0m \u001b[0mrel_lex_score\u001b[0m\u001b[1;33m,\u001b[0m \u001b[0mpond_lex_score\u001b[0m\u001b[1;33m)\u001b[0m \u001b[1;33m=\u001b[0m \u001b[0mexecute_liu_hu_lexicon_tests\u001b[0m\u001b[1;33m(\u001b[0m\u001b[0mmap_mail_index_to_token_list\u001b[0m\u001b[1;33m[\u001b[0m\u001b[0mrow\u001b[0m\u001b[1;33m.\u001b[0m\u001b[0mname\u001b[0m\u001b[1;33m]\u001b[0m\u001b[1;33m)\u001b[0m\u001b[1;33m\u001b[0m\u001b[0m\n\u001b[0m\u001b[1;32m     32\u001b[0m \u001b[1;33m\u001b[0m\u001b[0m\n\u001b[1;32m     33\u001b[0m         \u001b[1;31m## Update dictionnaries containing scores:\u001b[0m\u001b[1;33m\u001b[0m\u001b[1;33m\u001b[0m\u001b[0m\n",
      "\u001b[0;32m<ipython-input-9-95638a497011>\u001b[0m in \u001b[0;36mexecute_liu_hu_lexicon_tests\u001b[0;34m(token_list)\u001b[0m\n\u001b[1;32m      6\u001b[0m     \u001b[0mOutput\u001b[0m\u001b[1;33m:\u001b[0m \u001b[0mThe\u001b[0m \u001b[0mresults\u001b[0m \u001b[0mof\u001b[0m \u001b[0mthe\u001b[0m \u001b[0mthree\u001b[0m \u001b[0mlexicon\u001b[0m \u001b[0mfunctions\u001b[0m\u001b[1;33m\u001b[0m\u001b[0m\n\u001b[1;32m      7\u001b[0m     \"\"\"\n\u001b[0;32m----> 8\u001b[0;31m     \u001b[1;33m(\u001b[0m\u001b[0mpos_words\u001b[0m\u001b[1;33m,\u001b[0m \u001b[0mneg_words\u001b[0m\u001b[1;33m,\u001b[0m \u001b[0mneut_words\u001b[0m\u001b[1;33m)\u001b[0m \u001b[1;33m=\u001b[0m \u001b[0mcomputation_liu_hu_lexicon\u001b[0m\u001b[1;33m(\u001b[0m\u001b[0mtoken_list\u001b[0m\u001b[1;33m)\u001b[0m\u001b[1;33m\u001b[0m\u001b[0m\n\u001b[0m\u001b[1;32m      9\u001b[0m     \u001b[0mabsolute\u001b[0m \u001b[1;33m=\u001b[0m \u001b[0mliu_hu_lexicon_absolute\u001b[0m\u001b[1;33m(\u001b[0m\u001b[0mpos_words\u001b[0m\u001b[1;33m,\u001b[0m \u001b[0mneg_words\u001b[0m\u001b[1;33m)\u001b[0m\u001b[1;33m\u001b[0m\u001b[0m\n\u001b[1;32m     10\u001b[0m     \u001b[0mrelative\u001b[0m \u001b[1;33m=\u001b[0m \u001b[0mliu_hu_lexicon_relative\u001b[0m\u001b[1;33m(\u001b[0m\u001b[0mpos_words\u001b[0m\u001b[1;33m,\u001b[0m \u001b[0mneg_words\u001b[0m\u001b[1;33m)\u001b[0m\u001b[1;33m\u001b[0m\u001b[0m\n",
      "\u001b[0;32m<ipython-input-10-da80b0ee6abe>\u001b[0m in \u001b[0;36mcomputation_liu_hu_lexicon\u001b[0;34m(token_list)\u001b[0m\n\u001b[1;32m     13\u001b[0m         \u001b[1;32mif\u001b[0m \u001b[0mword\u001b[0m \u001b[1;32min\u001b[0m \u001b[0mopinion_lexicon\u001b[0m\u001b[1;33m.\u001b[0m\u001b[0mpositive\u001b[0m\u001b[1;33m(\u001b[0m\u001b[1;33m)\u001b[0m\u001b[1;33m:\u001b[0m\u001b[1;33m\u001b[0m\u001b[0m\n\u001b[1;32m     14\u001b[0m             \u001b[0mpos_words\u001b[0m \u001b[1;33m+=\u001b[0m \u001b[1;36m1\u001b[0m\u001b[1;33m\u001b[0m\u001b[0m\n\u001b[0;32m---> 15\u001b[0;31m         \u001b[1;32melif\u001b[0m \u001b[0mword\u001b[0m \u001b[1;32min\u001b[0m \u001b[0mopinion_lexicon\u001b[0m\u001b[1;33m.\u001b[0m\u001b[0mnegative\u001b[0m\u001b[1;33m(\u001b[0m\u001b[1;33m)\u001b[0m\u001b[1;33m:\u001b[0m\u001b[1;33m\u001b[0m\u001b[0m\n\u001b[0m\u001b[1;32m     16\u001b[0m             \u001b[0mneg_words\u001b[0m \u001b[1;33m+=\u001b[0m \u001b[1;36m1\u001b[0m\u001b[1;33m\u001b[0m\u001b[0m\n\u001b[1;32m     17\u001b[0m         \u001b[1;32melse\u001b[0m\u001b[1;33m:\u001b[0m\u001b[1;33m\u001b[0m\u001b[0m\n",
      "\u001b[0;32mC:\\ProgrammationProjects\\Installation\\Anaconda\\envs\\ADA\\lib\\site-packages\\nltk\\util.py\u001b[0m in \u001b[0;36m__contains__\u001b[0;34m(self, value)\u001b[0m\n\u001b[1;32m    736\u001b[0m     \u001b[1;32mdef\u001b[0m \u001b[0m__contains__\u001b[0m\u001b[1;33m(\u001b[0m\u001b[0mself\u001b[0m\u001b[1;33m,\u001b[0m \u001b[0mvalue\u001b[0m\u001b[1;33m)\u001b[0m\u001b[1;33m:\u001b[0m\u001b[1;33m\u001b[0m\u001b[0m\n\u001b[1;32m    737\u001b[0m         \u001b[1;34m\"\"\"Return true if this list contains ``value``.\"\"\"\u001b[0m\u001b[1;33m\u001b[0m\u001b[0m\n\u001b[0;32m--> 738\u001b[0;31m         \u001b[1;32mreturn\u001b[0m \u001b[0mbool\u001b[0m\u001b[1;33m(\u001b[0m\u001b[0mself\u001b[0m\u001b[1;33m.\u001b[0m\u001b[0mcount\u001b[0m\u001b[1;33m(\u001b[0m\u001b[0mvalue\u001b[0m\u001b[1;33m)\u001b[0m\u001b[1;33m)\u001b[0m\u001b[1;33m\u001b[0m\u001b[0m\n\u001b[0m\u001b[1;32m    739\u001b[0m \u001b[1;33m\u001b[0m\u001b[0m\n\u001b[1;32m    740\u001b[0m     \u001b[1;32mdef\u001b[0m \u001b[0m__add__\u001b[0m\u001b[1;33m(\u001b[0m\u001b[0mself\u001b[0m\u001b[1;33m,\u001b[0m \u001b[0mother\u001b[0m\u001b[1;33m)\u001b[0m\u001b[1;33m:\u001b[0m\u001b[1;33m\u001b[0m\u001b[0m\n",
      "\u001b[0;32mC:\\ProgrammationProjects\\Installation\\Anaconda\\envs\\ADA\\lib\\site-packages\\nltk\\util.py\u001b[0m in \u001b[0;36mcount\u001b[0;34m(self, value)\u001b[0m\n\u001b[1;32m    722\u001b[0m     \u001b[1;32mdef\u001b[0m \u001b[0mcount\u001b[0m\u001b[1;33m(\u001b[0m\u001b[0mself\u001b[0m\u001b[1;33m,\u001b[0m \u001b[0mvalue\u001b[0m\u001b[1;33m)\u001b[0m\u001b[1;33m:\u001b[0m\u001b[1;33m\u001b[0m\u001b[0m\n\u001b[1;32m    723\u001b[0m         \u001b[1;34m\"\"\"Return the number of times this list contains ``value``.\"\"\"\u001b[0m\u001b[1;33m\u001b[0m\u001b[0m\n\u001b[0;32m--> 724\u001b[0;31m         \u001b[1;32mreturn\u001b[0m \u001b[0msum\u001b[0m\u001b[1;33m(\u001b[0m\u001b[1;36m1\u001b[0m \u001b[1;32mfor\u001b[0m \u001b[0melt\u001b[0m \u001b[1;32min\u001b[0m \u001b[0mself\u001b[0m \u001b[1;32mif\u001b[0m \u001b[0melt\u001b[0m\u001b[1;33m==\u001b[0m\u001b[0mvalue\u001b[0m\u001b[1;33m)\u001b[0m\u001b[1;33m\u001b[0m\u001b[0m\n\u001b[0m\u001b[1;32m    725\u001b[0m \u001b[1;33m\u001b[0m\u001b[0m\n\u001b[1;32m    726\u001b[0m     \u001b[1;32mdef\u001b[0m \u001b[0mindex\u001b[0m\u001b[1;33m(\u001b[0m\u001b[0mself\u001b[0m\u001b[1;33m,\u001b[0m \u001b[0mvalue\u001b[0m\u001b[1;33m,\u001b[0m \u001b[0mstart\u001b[0m\u001b[1;33m=\u001b[0m\u001b[1;32mNone\u001b[0m\u001b[1;33m,\u001b[0m \u001b[0mstop\u001b[0m\u001b[1;33m=\u001b[0m\u001b[1;32mNone\u001b[0m\u001b[1;33m)\u001b[0m\u001b[1;33m:\u001b[0m\u001b[1;33m\u001b[0m\u001b[0m\n",
      "\u001b[0;32mC:\\ProgrammationProjects\\Installation\\Anaconda\\envs\\ADA\\lib\\site-packages\\nltk\\util.py\u001b[0m in \u001b[0;36m<genexpr>\u001b[0;34m(.0)\u001b[0m\n\u001b[1;32m    722\u001b[0m     \u001b[1;32mdef\u001b[0m \u001b[0mcount\u001b[0m\u001b[1;33m(\u001b[0m\u001b[0mself\u001b[0m\u001b[1;33m,\u001b[0m \u001b[0mvalue\u001b[0m\u001b[1;33m)\u001b[0m\u001b[1;33m:\u001b[0m\u001b[1;33m\u001b[0m\u001b[0m\n\u001b[1;32m    723\u001b[0m         \u001b[1;34m\"\"\"Return the number of times this list contains ``value``.\"\"\"\u001b[0m\u001b[1;33m\u001b[0m\u001b[0m\n\u001b[0;32m--> 724\u001b[0;31m         \u001b[1;32mreturn\u001b[0m \u001b[0msum\u001b[0m\u001b[1;33m(\u001b[0m\u001b[1;36m1\u001b[0m \u001b[1;32mfor\u001b[0m \u001b[0melt\u001b[0m \u001b[1;32min\u001b[0m \u001b[0mself\u001b[0m \u001b[1;32mif\u001b[0m \u001b[0melt\u001b[0m\u001b[1;33m==\u001b[0m\u001b[0mvalue\u001b[0m\u001b[1;33m)\u001b[0m\u001b[1;33m\u001b[0m\u001b[0m\n\u001b[0m\u001b[1;32m    725\u001b[0m \u001b[1;33m\u001b[0m\u001b[0m\n\u001b[1;32m    726\u001b[0m     \u001b[1;32mdef\u001b[0m \u001b[0mindex\u001b[0m\u001b[1;33m(\u001b[0m\u001b[0mself\u001b[0m\u001b[1;33m,\u001b[0m \u001b[0mvalue\u001b[0m\u001b[1;33m,\u001b[0m \u001b[0mstart\u001b[0m\u001b[1;33m=\u001b[0m\u001b[1;32mNone\u001b[0m\u001b[1;33m,\u001b[0m \u001b[0mstop\u001b[0m\u001b[1;33m=\u001b[0m\u001b[1;32mNone\u001b[0m\u001b[1;33m)\u001b[0m\u001b[1;33m:\u001b[0m\u001b[1;33m\u001b[0m\u001b[0m\n",
      "\u001b[0;32mC:\\ProgrammationProjects\\Installation\\Anaconda\\envs\\ADA\\lib\\site-packages\\nltk\\corpus\\reader\\util.py\u001b[0m in \u001b[0;36miterate_from\u001b[0;34m(self, start_tok)\u001b[0m\n\u001b[1;32m    294\u001b[0m                 self.read_block.__name__)\n\u001b[1;32m    295\u001b[0m             \u001b[0mnum_toks\u001b[0m \u001b[1;33m=\u001b[0m \u001b[0mlen\u001b[0m\u001b[1;33m(\u001b[0m\u001b[0mtokens\u001b[0m\u001b[1;33m)\u001b[0m\u001b[1;33m\u001b[0m\u001b[0m\n\u001b[0;32m--> 296\u001b[0;31m             \u001b[0mnew_filepos\u001b[0m \u001b[1;33m=\u001b[0m \u001b[0mself\u001b[0m\u001b[1;33m.\u001b[0m\u001b[0m_stream\u001b[0m\u001b[1;33m.\u001b[0m\u001b[0mtell\u001b[0m\u001b[1;33m(\u001b[0m\u001b[1;33m)\u001b[0m\u001b[1;33m\u001b[0m\u001b[0m\n\u001b[0m\u001b[1;32m    297\u001b[0m             assert new_filepos > filepos, (\n\u001b[1;32m    298\u001b[0m                 \u001b[1;34m'block reader %s() should consume at least 1 byte (filepos=%d)'\u001b[0m \u001b[1;33m%\u001b[0m\u001b[1;33m\u001b[0m\u001b[0m\n",
      "\u001b[0;32mC:\\ProgrammationProjects\\Installation\\Anaconda\\envs\\ADA\\lib\\site-packages\\nltk\\data.py\u001b[0m in \u001b[0;36mtell\u001b[0;34m(self)\u001b[0m\n\u001b[1;32m   1313\u001b[0m \u001b[1;33m\u001b[0m\u001b[0m\n\u001b[1;32m   1314\u001b[0m         \u001b[1;31m# Store our original file position, so we can return here.\u001b[0m\u001b[1;33m\u001b[0m\u001b[1;33m\u001b[0m\u001b[0m\n\u001b[0;32m-> 1315\u001b[0;31m         \u001b[0morig_filepos\u001b[0m \u001b[1;33m=\u001b[0m \u001b[0mself\u001b[0m\u001b[1;33m.\u001b[0m\u001b[0mstream\u001b[0m\u001b[1;33m.\u001b[0m\u001b[0mtell\u001b[0m\u001b[1;33m(\u001b[0m\u001b[1;33m)\u001b[0m\u001b[1;33m\u001b[0m\u001b[0m\n\u001b[0m\u001b[1;32m   1316\u001b[0m \u001b[1;33m\u001b[0m\u001b[0m\n\u001b[1;32m   1317\u001b[0m         \u001b[1;31m# Calculate an estimate of where we think the newline is.\u001b[0m\u001b[1;33m\u001b[0m\u001b[1;33m\u001b[0m\u001b[0m\n",
      "\u001b[0;31mKeyboardInterrupt\u001b[0m: "
     ]
    }
   ],
   "source": [
    "df_email.apply(analyzeSentimentInDf, axis=1)\n",
    "print('Sentiment analysis finished.')"
   ]
  },
  {
   "cell_type": "code",
   "execution_count": 19,
   "metadata": {
    "collapsed": false
   },
   "outputs": [
    {
     "data": {
      "text/plain": [
       "[('libya', 11),\n",
       " ('syria', 3),\n",
       " ('united states', 2),\n",
       " ('afghanistan', 1),\n",
       " ('yemen', 1)]"
      ]
     },
     "execution_count": 19,
     "metadata": {},
     "output_type": "execute_result"
    }
   ],
   "source": [
    "keywords_used = sorted(country_words_used.items(), key=operator.itemgetter(1), reverse=True)\n",
    "keywords_used[:5]"
   ]
  },
  {
   "cell_type": "code",
   "execution_count": 20,
   "metadata": {
    "collapsed": false
   },
   "outputs": [
    {
     "data": {
      "text/plain": [
       "24"
      ]
     },
     "execution_count": 20,
     "metadata": {},
     "output_type": "execute_result"
    }
   ],
   "source": [
    "sum = 0\n",
    "for (n, c) in keywords_used:\n",
    "    sum += c\n",
    "sum"
   ]
  },
  {
   "cell_type": "markdown",
   "metadata": {
    "collapsed": true
   },
   "source": [
    "<h3>Showing sentiment per country</h3>\n",
    "\n",
    "We will now create some graphs to show the results we obtained. First, we will need some functions to create the right data-structures for the graph library and to create the graphs themselves. "
   ]
  },
  {
   "cell_type": "markdown",
   "metadata": {},
   "source": [
    "The following function will make a dictionary containing only the mean for each country. The next one will create a dataframe with our data. This is useful for the sns library that will be used to make the graph."
   ]
  },
  {
   "cell_type": "code",
   "execution_count": 21,
   "metadata": {
    "collapsed": true
   },
   "outputs": [],
   "source": [
    "def aggregateSentimentInformation(sentiment_dict, min_nb_sentiment_value):\n",
    "    '''\n",
    "    It will transform the sentiment list in a dictionary and return the same dict\n",
    "    with the mean value for the input list of sentiment value instead of the list.\n",
    "    Input: Dictionary with (country -> List of sentiment values)\n",
    "    Output: Dictionary with (country -> a unique mean value)\n",
    "    '''\n",
    "    resultDict = {}\n",
    "    for country in sentiment_dict:\n",
    "        if len(sentiment_dict[country]) > min_nb_sentiment_value:\n",
    "            resultDict[country] = np.mean(sentiment_dict[country])\n",
    "    return resultDict"
   ]
  },
  {
   "cell_type": "code",
   "execution_count": 22,
   "metadata": {
    "collapsed": true
   },
   "outputs": [],
   "source": [
    "def makeAdvancedDfFromDict(dict_name, sentiment_dict, min_nb_sentiment_value):\n",
    "    '''\n",
    "    Take a dictionnary with (country -> List of sentiment values), ie. {'switzerland': [0.5, 0.1, 1]}\n",
    "    And transform it to a dataframe with as a columm the [country, sentiment, type]\n",
    "    where type is the dict_name. It will make one row per value in the list of sentiment value.\n",
    "    :param nb_sentiment_value: the number of sentiment values we have for a country, \n",
    "    so the number of times a country appeared in the data\n",
    "    Input: Dictionary with (country -> List of sentiment values)\n",
    "    Output: Dataframe with columns  [country, sentiment, type]\n",
    "    '''\n",
    "    plot_row_lists = []\n",
    "    for country in sentiment_dict:\n",
    "        if len(sentiment_dict[country]) > min_nb_sentiment_value:\n",
    "            for val in sentiment_dict[country]:\n",
    "                plot_row_lists.append({'country': country, 'sentiment': val, 'type': dict_name})\n",
    "    return pd.DataFrame(plot_row_lists)"
   ]
  },
  {
   "cell_type": "markdown",
   "metadata": {},
   "source": [
    "This function will create a comparison plot for all the dictionaries."
   ]
  },
  {
   "cell_type": "code",
   "execution_count": 32,
   "metadata": {
    "collapsed": false
   },
   "outputs": [],
   "source": [
    "def makeAdvancedPlotForAllSentimentDict(sentiment_dict_map, min_nb_sentiment_value = 0, y_min= -1.1, y_max = 1.1):\n",
    "    '''\n",
    "    It will take a dictionary of sentiment dictionaries of the form:\n",
    "    (name of the sentiment analysis technique -> sentiment dictionary), where\n",
    "    sentiment dictionary := (country -> List of sentiment values)\n",
    "    Output: Plot with all the dictionaries put together\n",
    "    '''\n",
    "    df_list = []\n",
    "    for dict_name in sentiment_dict_map:\n",
    "        df_list.append(makeAdvancedDfFromDict(dict_name, sentiment_dict_map[dict_name], min_nb_sentiment_value))\n",
    "    \n",
    "    plot_df = pd.concat(df_list)\n",
    "    \n",
    "    ## Order of columns in plot\n",
    "    order = pd.Series(aggregateSentimentInformation(sentiment_dict_map['vader'], min_nb_sentiment_value)).sort_values().index\n",
    "    plt.figure(figsize=(20,10))\n",
    "    plt.ylim(y_min, y_max)\n",
    "#     sns.set(font_scale=2)\n",
    "#     plot = sns.stripplot(x=\"country\", y=\"sentiment\",hue=\"type\", data = plot_df, order = order);\n",
    "    plot = sns.barplot(x=\"country\", y=\"sentiment\", hue=\"type\", data = plot_df, order=order); #, errwidth=0\n",
    "    plot.set_xticklabels(plot.get_xticklabels(), rotation=70)\n",
    "    return plot"
   ]
  },
  {
   "cell_type": "markdown",
   "metadata": {},
   "source": [
    "And this last function will make a plot for a unique dictionary of sentiment values."
   ]
  },
  {
   "cell_type": "code",
   "execution_count": 31,
   "metadata": {
    "collapsed": true
   },
   "outputs": [],
   "source": [
    "def makePlotForSentimentDict(sentiment_dict, min_nb_sentiment_value=4, y_min= -1.1, y_max = 1.1):\n",
    "    '''\n",
    "    This will take a unique sentiment dictionary, and make a plot with its values.\n",
    "    '''\n",
    "    sns.set(style=\"whitegrid\", color_codes=True)\n",
    "    plot_df = makeAdvancedDfFromDict('analysis', sentiment_dict, min_nb_sentiment_value)\n",
    "    order = pd.Series(aggregateSentimentInformation(sentiment_dict,min_nb_sentiment_value)).sort_values().index # Order of columns in plot\n",
    "    \n",
    "    plt.ylim(y_min, y_max)\n",
    "#     plot = sns.stripplot(x=\"country\", y=\"sentiment\", data = plot_df, order = order);\n",
    "    plot = sns.boxplot(x=\"country\", y=\"sentiment\", data = plot_df, order=order);\n",
    "    plot.set_xticklabels(plot.get_xticklabels(), rotation=90)\n",
    "    return plot"
   ]
  },
  {
   "cell_type": "markdown",
   "metadata": {},
   "source": [
    "Let's execute the past functions and make some graphs."
   ]
  },
  {
   "cell_type": "markdown",
   "metadata": {},
   "source": [
    "First, we will show a plot with the vader sentiment."
   ]
  },
  {
   "cell_type": "code",
   "execution_count": 28,
   "metadata": {
    "collapsed": false
   },
   "outputs": [
    {
     "data": {
      "text/plain": [
       "<matplotlib.axes._subplots.AxesSubplot at 0x1cac88d1710>"
      ]
     },
     "execution_count": 28,
     "metadata": {},
     "output_type": "execute_result"
    },
    {
     "data": {
      "image/png": "[encoded data removed]",
      "text/plain": [
       "<matplotlib.figure.Figure at 0x1cac802b630>"
      ]
     },
     "metadata": {},
     "output_type": "display_data"
    }
   ],
   "source": [
    "makeAdvancedPlotForAllSentimentDict({'vader': vader_sentiment_dict})"
   ]
  },
  {
   "cell_type": "code",
   "execution_count": 38,
   "metadata": {
    "collapsed": false
   },
   "outputs": [
    {
     "data": {
      "text/plain": [
       "<matplotlib.axes._subplots.AxesSubplot at 0x1cacdbbb940>"
      ]
     },
     "execution_count": 38,
     "metadata": {},
     "output_type": "execute_result"
    },
    {
     "data": {
      "image/png": "[encoded data removed]",
      "text/plain": [
       "<matplotlib.figure.Figure at 0x1cacdf88128>"
      ]
     },
     "metadata": {},
     "output_type": "display_data"
    }
   ],
   "source": [
    "makePlotForSentimentDict(vader_sentiment_dict)"
   ]
  },
  {
   "cell_type": "markdown",
   "metadata": {},
   "source": [
    "The following plots will be about all the various liu hu lexicon techniques."
   ]
  },
  {
   "cell_type": "code",
   "execution_count": 39,
   "metadata": {
    "collapsed": false,
    "scrolled": false
   },
   "outputs": [
    {
     "data": {
      "text/plain": [
       "<matplotlib.axes._subplots.AxesSubplot at 0x1cacdf69160>"
      ]
     },
     "execution_count": 39,
     "metadata": {},
     "output_type": "execute_result"
    },
    {
     "data": {
      "image/png": "[encoded data removed]",
      "text/plain": [
       "<matplotlib.figure.Figure at 0x1cace15a978>"
      ]
     },
     "metadata": {},
     "output_type": "display_data"
    }
   ],
   "source": [
    "makePlotForSentimentDict(liu_hu_absolute_dict)"
   ]
  },
  {
   "cell_type": "code",
   "execution_count": 40,
   "metadata": {
    "collapsed": false
   },
   "outputs": [
    {
     "data": {
      "text/plain": [
       "<matplotlib.axes._subplots.AxesSubplot at 0x1cacdfcf160>"
      ]
     },
     "execution_count": 40,
     "metadata": {},
     "output_type": "execute_result"
    },
    {
     "data": {
      "image/png": "[encoded data removed]",
      "text/plain": [
       "<matplotlib.figure.Figure at 0x1cace1e1198>"
      ]
     },
     "metadata": {},
     "output_type": "display_data"
    }
   ],
   "source": [
    "makePlotForSentimentDict(liu_hu_relative_dict)"
   ]
  },
  {
   "cell_type": "code",
   "execution_count": 33,
   "metadata": {
    "collapsed": false
   },
   "outputs": [
    {
     "data": {
      "text/plain": [
       "<matplotlib.axes._subplots.AxesSubplot at 0x1cac800e240>"
      ]
     },
     "execution_count": 33,
     "metadata": {},
     "output_type": "execute_result"
    },
    {
     "data": {
      "image/png": "[encoded data removed]",
      "text/plain": [
       "<matplotlib.figure.Figure at 0x1cac8013ba8>"
      ]
     },
     "metadata": {},
     "output_type": "display_data"
    }
   ],
   "source": [
    "makePlotForSentimentDict(liu_hu_ponderated_dict, 4, -0.01, 0.5)"
   ]
  },
  {
   "cell_type": "markdown",
   "metadata": {},
   "source": [
    "Finally, a comparison graph with all the different techniques together."
   ]
  },
  {
   "cell_type": "code",
   "execution_count": 35,
   "metadata": {
    "collapsed": false
   },
   "outputs": [
    {
     "data": {
      "text/plain": [
       "<matplotlib.axes._subplots.AxesSubplot at 0x1cacd9bf828>"
      ]
     },
     "execution_count": 35,
     "metadata": {},
     "output_type": "execute_result"
    },
    {
     "data": {
      "image/png": "[encoded data removed]",
      "text/plain": [
       "<matplotlib.figure.Figure at 0x1cacda31be0>"
      ]
     },
     "metadata": {},
     "output_type": "display_data"
    }
   ],
   "source": [
    "sentiment_dict_map = {'vader': vader_sentiment_dict,\n",
    "                      'absolute liu hu': liu_hu_absolute_dict, \n",
    "                      'relative liu hu': liu_hu_relative_dict}\n",
    "makeAdvancedPlotForAllSentimentDict(sentiment_dict_map)"
   ]
  },
  {
   "cell_type": "markdown",
   "metadata": {},
   "source": [
    "We chose not to plot the ponderated liu hu lexicon in the comparison plot as it was difficult to compare it with the other plots. Only the most represented countries are in this plot (here, we chose the country that appeared in email at least 5 times) to have more significant result.\n",
    "\n",
    "First, we observe that the plot look overall similar, which is a good sign that would mean that our test agree."
   ]
  }
 ],
 "metadata": {
  "anaconda-cloud": {},
  "kernelspec": {
   "display_name": "Python [ADA]",
   "language": "python",
   "name": "Python [ADA]"
  },
  "language_info": {
   "codemirror_mode": {
    "name": "ipython",
    "version": 3
   },
   "file_extension": ".py",
   "mimetype": "text/x-python",
   "name": "python",
   "nbconvert_exporter": "python",
   "pygments_lexer": "ipython3",
   "version": "3.5.2"
  }
 },
 "nbformat": 4,
 "nbformat_minor": 0
}
