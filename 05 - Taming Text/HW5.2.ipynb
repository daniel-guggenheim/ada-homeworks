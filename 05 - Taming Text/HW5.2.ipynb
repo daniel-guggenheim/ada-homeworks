{
 "cells": [
  {
   "cell_type": "markdown",
   "metadata": {},
   "source": [
    "# Homework 5 - Question 2"
   ]
  },
  {
   "cell_type": "code",
   "execution_count": 138,
   "metadata": {
    "collapsed": false
   },
   "outputs": [],
   "source": [
    "import pycountry\n",
    "import pandas as pd\n",
    "import numpy as np\n",
    "import os\n",
    "import seaborn as sns\n",
    "import datetime"
   ]
  },
  {
   "cell_type": "code",
   "execution_count": 139,
   "metadata": {
    "collapsed": false
   },
   "outputs": [
    {
     "data": {
      "text/html": [
       "<div>\n",
       "<table border=\"1\" class=\"dataframe\">\n",
       "  <thead>\n",
       "    <tr style=\"text-align: right;\">\n",
       "      <th></th>\n",
       "      <th>Id</th>\n",
       "      <th>DocNumber</th>\n",
       "      <th>MetadataSubject</th>\n",
       "      <th>MetadataTo</th>\n",
       "      <th>MetadataFrom</th>\n",
       "      <th>SenderPersonId</th>\n",
       "      <th>MetadataDateSent</th>\n",
       "      <th>MetadataDateReleased</th>\n",
       "      <th>MetadataPdfLink</th>\n",
       "      <th>MetadataCaseNumber</th>\n",
       "      <th>...</th>\n",
       "      <th>ExtractedTo</th>\n",
       "      <th>ExtractedFrom</th>\n",
       "      <th>ExtractedCc</th>\n",
       "      <th>ExtractedDateSent</th>\n",
       "      <th>ExtractedCaseNumber</th>\n",
       "      <th>ExtractedDocNumber</th>\n",
       "      <th>ExtractedDateReleased</th>\n",
       "      <th>ExtractedReleaseInPartOrFull</th>\n",
       "      <th>ExtractedBodyText</th>\n",
       "      <th>RawText</th>\n",
       "    </tr>\n",
       "  </thead>\n",
       "  <tbody>\n",
       "    <tr>\n",
       "      <th>0</th>\n",
       "      <td>1</td>\n",
       "      <td>C05739545</td>\n",
       "      <td>WOW</td>\n",
       "      <td>H</td>\n",
       "      <td>Sullivan, Jacob J</td>\n",
       "      <td>87.0</td>\n",
       "      <td>2012-09-12T04:00:00+00:00</td>\n",
       "      <td>2015-05-22T04:00:00+00:00</td>\n",
       "      <td>DOCUMENTS/HRC_Email_1_296/HRCH2/DOC_0C05739545...</td>\n",
       "      <td>F-2015-04841</td>\n",
       "      <td>...</td>\n",
       "      <td>NaN</td>\n",
       "      <td>Sullivan, Jacob J &lt;Sullivan11@state.gov&gt;</td>\n",
       "      <td>NaN</td>\n",
       "      <td>Wednesday, September 12, 2012 10:16 AM</td>\n",
       "      <td>F-2015-04841</td>\n",
       "      <td>C05739545</td>\n",
       "      <td>05/13/2015</td>\n",
       "      <td>RELEASE IN FULL</td>\n",
       "      <td>NaN</td>\n",
       "      <td>UNCLASSIFIED\\r\\nU.S. Department of State\\r\\nCa...</td>\n",
       "    </tr>\n",
       "    <tr>\n",
       "      <th>1</th>\n",
       "      <td>2</td>\n",
       "      <td>C05739546</td>\n",
       "      <td>H: LATEST: HOW SYRIA IS AIDING QADDAFI AND MOR...</td>\n",
       "      <td>H</td>\n",
       "      <td>NaN</td>\n",
       "      <td>NaN</td>\n",
       "      <td>2011-03-03T05:00:00+00:00</td>\n",
       "      <td>2015-05-22T04:00:00+00:00</td>\n",
       "      <td>DOCUMENTS/HRC_Email_1_296/HRCH1/DOC_0C05739546...</td>\n",
       "      <td>F-2015-04841</td>\n",
       "      <td>...</td>\n",
       "      <td>NaN</td>\n",
       "      <td>NaN</td>\n",
       "      <td>NaN</td>\n",
       "      <td>NaN</td>\n",
       "      <td>F-2015-04841</td>\n",
       "      <td>C05739546</td>\n",
       "      <td>05/13/2015</td>\n",
       "      <td>RELEASE IN PART</td>\n",
       "      <td>B6\\r\\nThursday, March 3, 2011 9:45 PM\\r\\nH: La...</td>\n",
       "      <td>UNCLASSIFIED\\r\\nU.S. Department of State\\r\\nCa...</td>\n",
       "    </tr>\n",
       "  </tbody>\n",
       "</table>\n",
       "<p>2 rows × 22 columns</p>\n",
       "</div>"
      ],
      "text/plain": [
       "   Id  DocNumber                                    MetadataSubject  \\\n",
       "0   1  C05739545                                                WOW   \n",
       "1   2  C05739546  H: LATEST: HOW SYRIA IS AIDING QADDAFI AND MOR...   \n",
       "\n",
       "  MetadataTo       MetadataFrom  SenderPersonId           MetadataDateSent  \\\n",
       "0          H  Sullivan, Jacob J            87.0  2012-09-12T04:00:00+00:00   \n",
       "1          H                NaN             NaN  2011-03-03T05:00:00+00:00   \n",
       "\n",
       "        MetadataDateReleased  \\\n",
       "0  2015-05-22T04:00:00+00:00   \n",
       "1  2015-05-22T04:00:00+00:00   \n",
       "\n",
       "                                     MetadataPdfLink MetadataCaseNumber  \\\n",
       "0  DOCUMENTS/HRC_Email_1_296/HRCH2/DOC_0C05739545...       F-2015-04841   \n",
       "1  DOCUMENTS/HRC_Email_1_296/HRCH1/DOC_0C05739546...       F-2015-04841   \n",
       "\n",
       "                         ...                         ExtractedTo  \\\n",
       "0                        ...                                 NaN   \n",
       "1                        ...                                 NaN   \n",
       "\n",
       "                              ExtractedFrom ExtractedCc  \\\n",
       "0  Sullivan, Jacob J <Sullivan11@state.gov>         NaN   \n",
       "1                                       NaN         NaN   \n",
       "\n",
       "                        ExtractedDateSent ExtractedCaseNumber  \\\n",
       "0  Wednesday, September 12, 2012 10:16 AM        F-2015-04841   \n",
       "1                                     NaN        F-2015-04841   \n",
       "\n",
       "  ExtractedDocNumber ExtractedDateReleased ExtractedReleaseInPartOrFull  \\\n",
       "0          C05739545            05/13/2015              RELEASE IN FULL   \n",
       "1          C05739546            05/13/2015              RELEASE IN PART   \n",
       "\n",
       "                                   ExtractedBodyText  \\\n",
       "0                                                NaN   \n",
       "1  B6\\r\\nThursday, March 3, 2011 9:45 PM\\r\\nH: La...   \n",
       "\n",
       "                                             RawText  \n",
       "0  UNCLASSIFIED\\r\\nU.S. Department of State\\r\\nCa...  \n",
       "1  UNCLASSIFIED\\r\\nU.S. Department of State\\r\\nCa...  \n",
       "\n",
       "[2 rows x 22 columns]"
      ]
     },
     "execution_count": 139,
     "metadata": {},
     "output_type": "execute_result"
    }
   ],
   "source": [
    "# fileNames = ['Aliases', 'EmailReceivers', 'Emails'\n",
    "filename = os.path.join('hillary-clinton-emails','Emails.csv')\n",
    "# filename[1] = os.path.join('hillary-clinton-emails','Emails.csv')\n",
    "df_email_initial = pd.read_csv(filename)\n",
    "df_email_initial.head(2)"
   ]
  },
  {
   "cell_type": "code",
   "execution_count": 140,
   "metadata": {
    "collapsed": false
   },
   "outputs": [
    {
     "data": {
      "text/html": [
       "<div>\n",
       "<table border=\"1\" class=\"dataframe\">\n",
       "  <thead>\n",
       "    <tr style=\"text-align: right;\">\n",
       "      <th></th>\n",
       "      <th>ExtractedSubject</th>\n",
       "      <th>ExtractedBodyText</th>\n",
       "    </tr>\n",
       "  </thead>\n",
       "  <tbody>\n",
       "    <tr>\n",
       "      <th>1</th>\n",
       "      <td>NaN</td>\n",
       "      <td>B6\\r\\nThursday, March 3, 2011 9:45 PM\\r\\nH: La...</td>\n",
       "    </tr>\n",
       "    <tr>\n",
       "      <th>2</th>\n",
       "      <td>Re: Chris Stevens</td>\n",
       "      <td>Thx</td>\n",
       "    </tr>\n",
       "    <tr>\n",
       "      <th>4</th>\n",
       "      <td>NaN</td>\n",
       "      <td>H &lt;hrod17@clintonemail.com&gt;\\r\\nFriday, March 1...</td>\n",
       "    </tr>\n",
       "    <tr>\n",
       "      <th>5</th>\n",
       "      <td>Meet The Right Wing Extremist Behind Anti-Musl...</td>\n",
       "      <td>Pis print.\\r\\n-•-...-^\\r\\nH &lt; hrod17@clintoner...</td>\n",
       "    </tr>\n",
       "    <tr>\n",
       "      <th>7</th>\n",
       "      <td>NaN</td>\n",
       "      <td>H &lt;hrod17@clintonemail.corn&gt;\\r\\nFriday, March ...</td>\n",
       "    </tr>\n",
       "    <tr>\n",
       "      <th>8</th>\n",
       "      <td>FVV: Secretary's remarks</td>\n",
       "      <td>FYI</td>\n",
       "    </tr>\n",
       "    <tr>\n",
       "      <th>9</th>\n",
       "      <td>more on Libya</td>\n",
       "      <td>B6\\r\\nWednesday, September 12, 2012 6:16 PM\\r\\...</td>\n",
       "    </tr>\n",
       "    <tr>\n",
       "      <th>10</th>\n",
       "      <td>AbZ and Hb3 on Libya and West Bank/Gaza</td>\n",
       "      <td>Fyi\\r\\nB6\\r\\n— —</td>\n",
       "    </tr>\n",
       "    <tr>\n",
       "      <th>11</th>\n",
       "      <td>NaN</td>\n",
       "      <td>B6\\r\\nWednesday, September 12, 2012 6:16 PM\\r\\...</td>\n",
       "    </tr>\n",
       "    <tr>\n",
       "      <th>12</th>\n",
       "      <td>hey</td>\n",
       "      <td>Fyi</td>\n",
       "    </tr>\n",
       "  </tbody>\n",
       "</table>\n",
       "</div>"
      ],
      "text/plain": [
       "                                     ExtractedSubject  \\\n",
       "1                                                 NaN   \n",
       "2                                   Re: Chris Stevens   \n",
       "4                                                 NaN   \n",
       "5   Meet The Right Wing Extremist Behind Anti-Musl...   \n",
       "7                                                 NaN   \n",
       "8                            FVV: Secretary's remarks   \n",
       "9                                       more on Libya   \n",
       "10            AbZ and Hb3 on Libya and West Bank/Gaza   \n",
       "11                                                NaN   \n",
       "12                                                hey   \n",
       "\n",
       "                                    ExtractedBodyText  \n",
       "1   B6\\r\\nThursday, March 3, 2011 9:45 PM\\r\\nH: La...  \n",
       "2                                                 Thx  \n",
       "4   H <hrod17@clintonemail.com>\\r\\nFriday, March 1...  \n",
       "5   Pis print.\\r\\n-•-...-^\\r\\nH < hrod17@clintoner...  \n",
       "7   H <hrod17@clintonemail.corn>\\r\\nFriday, March ...  \n",
       "8                                                 FYI  \n",
       "9   B6\\r\\nWednesday, September 12, 2012 6:16 PM\\r\\...  \n",
       "10                                   Fyi\\r\\nB6\\r\\n— —  \n",
       "11  B6\\r\\nWednesday, September 12, 2012 6:16 PM\\r\\...  \n",
       "12                                                Fyi  "
      ]
     },
     "execution_count": 140,
     "metadata": {},
     "output_type": "execute_result"
    }
   ],
   "source": [
    "df_email = df_email_initial[[\"ExtractedSubject\", \"ExtractedBodyText\"]]\n",
    "df_email = df_email.dropna(axis=0, how='any', subset=['ExtractedBodyText'])\n",
    "df_email.head(10)"
   ]
  },
  {
   "cell_type": "code",
   "execution_count": 141,
   "metadata": {
    "collapsed": false
   },
   "outputs": [
    {
     "data": {
      "text/html": [
       "<div>\n",
       "<table border=\"1\" class=\"dataframe\">\n",
       "  <thead>\n",
       "    <tr style=\"text-align: right;\">\n",
       "      <th></th>\n",
       "      <th>country</th>\n",
       "      <th>sentiment</th>\n",
       "      <th>frequency</th>\n",
       "    </tr>\n",
       "  </thead>\n",
       "  <tbody>\n",
       "    <tr>\n",
       "      <th>0</th>\n",
       "      <td>Aruba</td>\n",
       "      <td></td>\n",
       "      <td></td>\n",
       "    </tr>\n",
       "    <tr>\n",
       "      <th>1</th>\n",
       "      <td>Afghanistan</td>\n",
       "      <td></td>\n",
       "      <td></td>\n",
       "    </tr>\n",
       "    <tr>\n",
       "      <th>2</th>\n",
       "      <td>Angola</td>\n",
       "      <td></td>\n",
       "      <td></td>\n",
       "    </tr>\n",
       "    <tr>\n",
       "      <th>3</th>\n",
       "      <td>Anguilla</td>\n",
       "      <td></td>\n",
       "      <td></td>\n",
       "    </tr>\n",
       "    <tr>\n",
       "      <th>4</th>\n",
       "      <td>Åland Islands</td>\n",
       "      <td></td>\n",
       "      <td></td>\n",
       "    </tr>\n",
       "  </tbody>\n",
       "</table>\n",
       "</div>"
      ],
      "text/plain": [
       "         country sentiment frequency\n",
       "0          Aruba                    \n",
       "1    Afghanistan                    \n",
       "2         Angola                    \n",
       "3       Anguilla                    \n",
       "4  Åland Islands                    "
      ]
     },
     "execution_count": 141,
     "metadata": {},
     "output_type": "execute_result"
    }
   ],
   "source": [
    "countriesName = list(x.name for x in list(pycountry.countries))\n",
    "results = pd.DataFrame(countriesName, columns=['country'])\n",
    "results['sentiment'] = \"\"\n",
    "results['frequency'] = \"\"\n",
    "results.head(5)"
   ]
  },
  {
   "cell_type": "code",
   "execution_count": 142,
   "metadata": {
    "collapsed": false
   },
   "outputs": [],
   "source": [
    "countryNamesAbbrev = list(\n",
    "    [x.name, x.alpha_2, x.alpha_3, x.official_name] if hasattr(x, 'official_name') else [x.name, x.alpha_2, x.alpha_3]\n",
    "    for x in list(pycountry.countries))"
   ]
  },
  {
   "cell_type": "code",
   "execution_count": 196,
   "metadata": {
    "collapsed": false
   },
   "outputs": [],
   "source": [
    "def analyzeSentimentInDf(row):\n",
    "    emailContent = str(row.ExtractedBodyText).lower()\n",
    "    if('9.11' in emailContent):\n",
    "            print(emailContent)\n",
    "            print('-----------------------------------------------------------------------------')\n",
    "            print('-----------------------------------------------------------------------------')\n",
    "    for country in countryNamesAbbrev:\n",
    "        pass\n",
    "#         print(emailContent)\n",
    "#         if('9.11' in emailContent):\n",
    "#             print(emailContent)\n",
    "#             print('-----------------------------------------------------------------------------')\n",
    "#             print('-----------------------------------------------------------------------------')\n",
    "\n",
    "#         if any(abrev in emailContent for abrev in country):\n",
    "#             print('hey')"
   ]
  },
  {
   "cell_type": "code",
   "execution_count": 197,
   "metadata": {
    "collapsed": false
   },
   "outputs": [
    {
     "name": "stdout",
     "output_type": "stream",
     "text": [
      "http://www.guardian.co.uk/politics/2010/feb/05/northern-ireland-police-powers-agreement\r\n",
      "brown hails 'new chapter' in northern ireland\r\n",
      "as end to years of violence\r\n",
      "promise of us investment follows 'momentous' agreement that seals power-sharing framework\r\n",
      "• henry mcdonald, ireland correspondent\r\n",
      "• quardian.co.uk, friday 5 february 2010 19.11 gmt\r\n",
      "•\r\n",
      "x\r\n",
      "british and irish pms endorse power-sharing deal link to this video\r\n",
      "northern ireland's leaders have been rewarded with the promise of a new us investment programme after securing a\r\n",
      "historic deal today which saved power sharing.\r\n",
      "gordon brown and his irish counterpart, brian cowen, flew into northern ireland to put their seal of approval on the deal,\r\n",
      "which will create a department of justice, gives unionists concessions on the issue of protestant parades and saves the\r\n",
      "power-sharing executive from collapse.\r\n",
      "brown said the achievements over the longest period of unbroken negotiations since the peace process began 16 years\r\n",
      "ago were inspirational.\r\n",
      "\"this is the last chapter of a long and troubled story and the beginning of a new chapter after decades of violence, years\r\n",
      "of talks, weeks of stalemate.\"\r\n",
      "tonight the white house said barack obama saw the deal as \"an important step to greater peace and prosperity for all\r\n",
      "communities on the island.\"\r\n",
      "obama would also meet cowen, the dup leader and first minister peter robinson and the deputy first minister, sinn\r\n",
      "fein's martin mcguinness, in washington on st patrick's day next month.\r\n",
      "earlier, hillary clinton, the us secretary of state, said the agreement between the dup and sinn fein was a \"shining\r\n",
      "example to other parts of the world locked in religious and ethnic conflicts\".\r\n",
      "as a result of the deal, she said: \"the people of northern ireland are poised to build a thriving society on this stronger\r\n",
      "foundation.\r\n",
      "our economic envoy, decian kelly, will continue to help northern ireland reap the dividends of peace, including economic\r\n",
      "growth, international investment and new opportunities. -\r\n",
      "in the near future, declan and i will host first minister robinson and deputy first minister mcguinness in washington.\"\r\n",
      "the irish prime minister said the agreement reached \"presents a real opportunity to renew the partnership which is the life\r\n",
      "blood of the devolved institutions. the people of northern ireland yearn for this constructive partnership to deliver tangible\r\n",
      "outcomes that improve their lives.\"\r\n",
      "referring back to the belfast agreement of 1998, gerry adams, the sinn fein president, described today's agreement as\r\n",
      "\"yet another good friday.\" after reaching an agreement just before midnight on thursday, the parties in the northern\r\n",
      "ireland assembly must now vote to put the compromise package in place. they will vote on 9 march to devolve policing\r\n",
      "and justice powers, which will then create a justice ministry on 12 april — a key sinn fein demand throughout these\r\n",
      "negotiations.\r\n",
      "under the agreement, a six-member working group, appointed by robinson and mcguinness, will formulate a framework\r\n",
      "for handling contentious marches and the phasing out of the parades commission.\r\n",
      "the new body will encourage local people to find solutions to parading problems, with the rights of marchers and\r\n",
      "residents taken into account. it will complete its work within three weeks, when the northern ireland executive will transfer\r\n",
      "responsibilities for parading legislation from westminster and table a new bill based on the group's proposals.\r\n",
      "an executive working group will be set up, in the hands of the sdlp and ulster unionists, to improve the way the power-\r\n",
      "sharing cabinet is run. robinson and mcguinness will address issues still outstanding from the 2006 st andrews\r\n",
      "agreement that led to the dup-sinn fein deals. these include legislative measures to protect the rights of irish language\r\n",
      "speakers.\r\n",
      "ian paisley jr, the north antrim assembly member and son of the dup's founder, described the agreement as a \"win for\r\n",
      "unionism\".\r\n",
      "paisley said his party had negotiated the end of the parades commission, which most unionists regard as biased in\r\n",
      "favour of nationalists. he added that unionist critics of the deal had \"no alternative except the imposition of joint authority\r\n",
      "from london and dublin\".\r\n",
      "mindful of attacks on the dup by the hardline traditional unionist voice, robinson said: \"there are some who will play\r\n",
      "politics with this agreement, but the real focus in the months to come must be on building an administration at stormont\r\n",
      "that our whole community identifies with and supports.\"\r\n",
      "jim allister, the tuv leader and a former dup mep, said he was \"relishing the prospect\" of a general election contest\r\n",
      "with his former party. allister will stand for the tuv in ian paisley sr's north antrim constituency.\r\n",
      "\"in football terms i see this result as a five to one win for sinn fein. they get their date for policing and justice. secondly,\r\n",
      "their veto can be exercised over the justice ministry. they now have working party on irish language. north/south bodies\r\n",
      "are strengthened. and finally there is a stronger north-south parliamentary forum. the dup only get a view of parading\r\n",
      "issues.\r\n",
      "\"sinn fein are laughing all the way to the next staging post,\" he said.\r\n",
      "shaun woodward, the northern ireland secretary, said the deal was bad news for republican dissidents determined to\r\n",
      "destabilise the power-sharing government.\r\n",
      "he said a powerful message was being sent out to the dissidents that there are now \"two groups of people who were once\r\n",
      "terrible rivals [who] have found a way through a very big challenge\".\r\n",
      "but the real ira, continuity ira and oglaigh na heireann are unlikely to be moved by the accord at hillsborough. in the\r\n",
      "past seven days the republican dissidents have carried out three gun and bomb attacks on police stations across\r\n",
      "northern ireland.\r\n",
      "republican sources have told the guardian that the groups are likely to intensify their armed campaigns when policing\r\n",
      "and justice powers are transferred to belfast.\n",
      "-----------------------------------------------------------------------------\n",
      "-----------------------------------------------------------------------------\n",
      "finished!\n"
     ]
    }
   ],
   "source": [
    "sample_email = df_email.head(100)\n",
    "df_email.apply(analyzeSentimentInDf, axis=1)\n",
    "print('finished!')"
   ]
  },
  {
   "cell_type": "code",
   "execution_count": 180,
   "metadata": {
    "collapsed": false
   },
   "outputs": [
    {
     "data": {
      "text/plain": [
       "['a', 'b', 'b']"
      ]
     },
     "execution_count": 180,
     "metadata": {},
     "output_type": "execute_result"
    }
   ],
   "source": [
    "x = ['a', 'b', 'c']\n",
    "b = ['a'] if 'aa' in x else ''\n",
    "[a if a is 'a' else 'b' for a in x]"
   ]
  },
  {
   "cell_type": "code",
   "execution_count": 181,
   "metadata": {
    "collapsed": false
   },
   "outputs": [
    {
     "name": "stdout",
     "output_type": "stream",
     "text": [
      "hey\n"
     ]
    }
   ],
   "source": [
    "print('hey')"
   ]
  },
  {
   "cell_type": "code",
   "execution_count": null,
   "metadata": {
    "collapsed": true
   },
   "outputs": [],
   "source": []
  },
  {
   "cell_type": "code",
   "execution_count": null,
   "metadata": {
    "collapsed": true
   },
   "outputs": [],
   "source": []
  }
 ],
 "metadata": {
  "anaconda-cloud": {},
  "kernelspec": {
   "display_name": "Python [ADA]",
   "language": "python",
   "name": "Python [ADA]"
  }
 },
 "nbformat": 4,
 "nbformat_minor": 0
}
