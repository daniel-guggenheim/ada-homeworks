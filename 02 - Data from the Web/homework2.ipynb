{
 "cells": [
  {
   "cell_type": "markdown",
   "metadata": {},
   "source": [
    "<h1> Homework 2 - Data from the Web </h1>"
   ]
  },
  {
   "cell_type": "code",
   "execution_count": 3,
   "metadata": {
    "collapsed": false
   },
   "outputs": [],
   "source": [
    "## Importation of everything useful\n",
    "%matplotlib inline\n",
    "import pandas as pd\n",
    "import numpy as np\n",
    "import matplotlib.pyplot as plt\n",
    "import seaborn as sns\n",
    "import time\n",
    "#import html5lib\n",
    "sns.set_context('notebook')\n",
    "\n",
    "import requests\n",
    "from bs4 import BeautifulSoup"
   ]
  },
  {
   "cell_type": "code",
   "execution_count": 4,
   "metadata": {
    "collapsed": true
   },
   "outputs": [],
   "source": [
    "parameters_page = requests.get('http://isa.epfl.ch/imoniteur_ISAP/!GEDPUBLICREPORTS.filter?ww_i_reportModel=133685247')"
   ]
  },
  {
   "cell_type": "code",
   "execution_count": 5,
   "metadata": {
    "collapsed": false
   },
   "outputs": [],
   "source": [
    "parameters_html = parameters_page.text"
   ]
  },
  {
   "cell_type": "code",
   "execution_count": 6,
   "metadata": {
    "collapsed": false
   },
   "outputs": [],
   "source": [
    "soup = BeautifulSoup(parameters_html, \"html.parser\")"
   ]
  },
  {
   "cell_type": "code",
   "execution_count": 9,
   "metadata": {
    "collapsed": false
   },
   "outputs": [
    {
     "data": {
      "text/html": [
       "<div>\n",
       "<table border=\"1\" class=\"dataframe\">\n",
       "  <thead>\n",
       "    <tr style=\"text-align: right;\">\n",
       "      <th></th>\n",
       "      <th>category</th>\n",
       "      <th>name</th>\n",
       "      <th>value</th>\n",
       "    </tr>\n",
       "  </thead>\n",
       "  <tbody>\n",
       "    <tr>\n",
       "      <th>0</th>\n",
       "      <td>ww_x_UNITE_ACAD</td>\n",
       "      <td>None</td>\n",
       "      <td>null</td>\n",
       "    </tr>\n",
       "    <tr>\n",
       "      <th>1</th>\n",
       "      <td>ww_x_UNITE_ACAD</td>\n",
       "      <td>Architecture</td>\n",
       "      <td>942293</td>\n",
       "    </tr>\n",
       "    <tr>\n",
       "      <th>2</th>\n",
       "      <td>ww_x_UNITE_ACAD</td>\n",
       "      <td>Chimie et génie chimique</td>\n",
       "      <td>246696</td>\n",
       "    </tr>\n",
       "    <tr>\n",
       "      <th>3</th>\n",
       "      <td>ww_x_UNITE_ACAD</td>\n",
       "      <td>Cours de mathématiques spéciales</td>\n",
       "      <td>943282</td>\n",
       "    </tr>\n",
       "    <tr>\n",
       "      <th>4</th>\n",
       "      <td>ww_x_UNITE_ACAD</td>\n",
       "      <td>EME (EPFL Middle East)</td>\n",
       "      <td>637841336</td>\n",
       "    </tr>\n",
       "  </tbody>\n",
       "</table>\n",
       "</div>"
      ],
      "text/plain": [
       "          category                              name      value\n",
       "0  ww_x_UNITE_ACAD                              None       null\n",
       "1  ww_x_UNITE_ACAD                      Architecture     942293\n",
       "2  ww_x_UNITE_ACAD          Chimie et génie chimique     246696\n",
       "3  ww_x_UNITE_ACAD  Cours de mathématiques spéciales     943282\n",
       "4  ww_x_UNITE_ACAD            EME (EPFL Middle East)  637841336"
      ]
     },
     "execution_count": 9,
     "metadata": {},
     "output_type": "execute_result"
    }
   ],
   "source": [
    "row_list = []\n",
    "for parameter_cat_html in soup.find_all('select'):\n",
    "    for option in parameter_cat_html.contents:\n",
    "        row_dict = {'category':parameter_cat_html['name'], 'name':option.string, 'value':option['value']}\n",
    "        row_list.append(row_dict)\n",
    "parameters = pd.DataFrame(row_list)\n",
    "parameters.head()"
   ]
  },
  {
   "cell_type": "markdown",
   "metadata": {},
   "source": [
    "<h2>Creating the base url</h2>\n",
    "\n",
    "We found with Postman the base ur\n",
    "l leading to the students list: http://isa.epfl.ch/imoniteur_ISAP/!GEDPUBLICREPORTS.bhtml\n",
    "\n",
    "To this page, we will add different parameters. Some of the parameters will not change for all the request, therefore we decided to hardcode them. These parameters are:\n",
    "<ul>\n",
    "<li>\n",
    "<b>ww_x_GPS</b> = <em>-1</em><br>\n",
    "This parameter varies during request but is not useful. It is probably linked to the gps position. It is was set to -1 which will accept everything.\n",
    "</li>\n",
    "<li>\n",
    "<b>ww_i_reportModel</b> = <em>133685247</em>:<br>\n",
    "Parameter to choose the type of files to take. We chose html files.\n",
    "</li>\n",
    "<li><b>ww_i_reportModelXsl</b> = <em>133685270</em>:<br>\n",
    "Parameter to choose the type of files to take. We chose html files.\n",
    "</li>\n",
    "<li><b>ww_x_HIVERETE</b> = <em>null</em>:<br>\n",
    "This parameter allow to choose between Winter and Spring semester. However, it is redondant, as Bachelor 1 can only happen in Winter semester, Bachelor 2 in Spring, Bachelor 3 in Winter, and so forth. Therefore we chose to eliminate this parameter by settings its value to null.\n",
    "</li>\n",
    "<li><b>ww_x_UNITE_ACAD</b> = <em>249847</em>:<br>\n",
    "This value represents the \"Informatique\" section. As it was asked to only consider the data of this section, we have to use it all the time. If it was not the case, we could use the other technique.\n",
    "</li>\n",
    "\n",
    "\n",
    "</ul>"
   ]
  },
  {
   "cell_type": "code",
   "execution_count": 10,
   "metadata": {
    "collapsed": true
   },
   "outputs": [],
   "source": [
    "people_base_url = 'http://isa.epfl.ch/imoniteur_ISAP/!GEDPUBLICREPORTS.bhtml?ww_x_GPS=-1&ww_i_reportModel=133685247&ww_i_reportModelXsl=133685270&ww_x_UNITE_ACAD=249847&ww_x_HIVERETE=null'"
   ]
  },
  {
   "cell_type": "markdown",
   "metadata": {},
   "source": [
    "***Interesting parameters***<br>\n",
    "Therefore we are left with two interesting parameters we want to vary:\n",
    "the year (\"periode academique\") and the period (\"periode pedagogique\")."
   ]
  },
  {
   "cell_type": "code",
   "execution_count": 11,
   "metadata": {
    "collapsed": false
   },
   "outputs": [],
   "source": [
    "year_param_string = 'ww_x_PERIODE_ACAD'\n",
    "period_param_string = 'ww_x_PERIODE_PEDAGO'\n",
    "\n",
    "year_param = parameters.loc[parameters['category'] == year_param_string]\n",
    "period_param = parameters.loc[parameters['category'] == period_param_string]\n",
    "\n",
    "year_param = year_param.drop(year_param.iloc[0].name,axis=0, level=None)\n",
    "period_param = period_param.drop(period_param.iloc[0].name,axis=0, level=None)\n",
    "period_param = period_param[period_param['name'] != 'Mise à niveau']"
   ]
  },
  {
   "cell_type": "code",
   "execution_count": 12,
   "metadata": {
    "collapsed": false
   },
   "outputs": [
    {
     "data": {
      "text/html": [
       "<div>\n",
       "<table border=\"1\" class=\"dataframe\">\n",
       "  <thead>\n",
       "    <tr style=\"text-align: right;\">\n",
       "      <th></th>\n",
       "      <th>category</th>\n",
       "      <th>name</th>\n",
       "      <th>value</th>\n",
       "    </tr>\n",
       "  </thead>\n",
       "  <tbody>\n",
       "    <tr>\n",
       "      <th>21</th>\n",
       "      <td>ww_x_PERIODE_ACAD</td>\n",
       "      <td>2016-2017</td>\n",
       "      <td>355925344</td>\n",
       "    </tr>\n",
       "    <tr>\n",
       "      <th>22</th>\n",
       "      <td>ww_x_PERIODE_ACAD</td>\n",
       "      <td>2015-2016</td>\n",
       "      <td>213638028</td>\n",
       "    </tr>\n",
       "    <tr>\n",
       "      <th>23</th>\n",
       "      <td>ww_x_PERIODE_ACAD</td>\n",
       "      <td>2014-2015</td>\n",
       "      <td>213637922</td>\n",
       "    </tr>\n",
       "    <tr>\n",
       "      <th>24</th>\n",
       "      <td>ww_x_PERIODE_ACAD</td>\n",
       "      <td>2013-2014</td>\n",
       "      <td>213637754</td>\n",
       "    </tr>\n",
       "    <tr>\n",
       "      <th>25</th>\n",
       "      <td>ww_x_PERIODE_ACAD</td>\n",
       "      <td>2012-2013</td>\n",
       "      <td>123456101</td>\n",
       "    </tr>\n",
       "  </tbody>\n",
       "</table>\n",
       "</div>"
      ],
      "text/plain": [
       "             category       name      value\n",
       "21  ww_x_PERIODE_ACAD  2016-2017  355925344\n",
       "22  ww_x_PERIODE_ACAD  2015-2016  213638028\n",
       "23  ww_x_PERIODE_ACAD  2014-2015  213637922\n",
       "24  ww_x_PERIODE_ACAD  2013-2014  213637754\n",
       "25  ww_x_PERIODE_ACAD  2012-2013  123456101"
      ]
     },
     "execution_count": 12,
     "metadata": {},
     "output_type": "execute_result"
    }
   ],
   "source": [
    "year_param.head()"
   ]
  },
  {
   "cell_type": "code",
   "execution_count": 13,
   "metadata": {
    "collapsed": false
   },
   "outputs": [
    {
     "data": {
      "text/html": [
       "<div>\n",
       "<table border=\"1\" class=\"dataframe\">\n",
       "  <thead>\n",
       "    <tr style=\"text-align: right;\">\n",
       "      <th></th>\n",
       "      <th>category</th>\n",
       "      <th>name</th>\n",
       "      <th>value</th>\n",
       "    </tr>\n",
       "  </thead>\n",
       "  <tbody>\n",
       "    <tr>\n",
       "      <th>32</th>\n",
       "      <td>ww_x_PERIODE_PEDAGO</td>\n",
       "      <td>Bachelor semestre 1</td>\n",
       "      <td>249108</td>\n",
       "    </tr>\n",
       "    <tr>\n",
       "      <th>33</th>\n",
       "      <td>ww_x_PERIODE_PEDAGO</td>\n",
       "      <td>Bachelor semestre 2</td>\n",
       "      <td>249114</td>\n",
       "    </tr>\n",
       "    <tr>\n",
       "      <th>34</th>\n",
       "      <td>ww_x_PERIODE_PEDAGO</td>\n",
       "      <td>Bachelor semestre 3</td>\n",
       "      <td>942155</td>\n",
       "    </tr>\n",
       "    <tr>\n",
       "      <th>35</th>\n",
       "      <td>ww_x_PERIODE_PEDAGO</td>\n",
       "      <td>Bachelor semestre 4</td>\n",
       "      <td>942163</td>\n",
       "    </tr>\n",
       "    <tr>\n",
       "      <th>36</th>\n",
       "      <td>ww_x_PERIODE_PEDAGO</td>\n",
       "      <td>Bachelor semestre 5</td>\n",
       "      <td>942120</td>\n",
       "    </tr>\n",
       "    <tr>\n",
       "      <th>37</th>\n",
       "      <td>ww_x_PERIODE_PEDAGO</td>\n",
       "      <td>Bachelor semestre 5b</td>\n",
       "      <td>2226768</td>\n",
       "    </tr>\n",
       "    <tr>\n",
       "      <th>38</th>\n",
       "      <td>ww_x_PERIODE_PEDAGO</td>\n",
       "      <td>Bachelor semestre 6</td>\n",
       "      <td>942175</td>\n",
       "    </tr>\n",
       "    <tr>\n",
       "      <th>39</th>\n",
       "      <td>ww_x_PERIODE_PEDAGO</td>\n",
       "      <td>Bachelor semestre 6b</td>\n",
       "      <td>2226785</td>\n",
       "    </tr>\n",
       "    <tr>\n",
       "      <th>40</th>\n",
       "      <td>ww_x_PERIODE_PEDAGO</td>\n",
       "      <td>Master semestre 1</td>\n",
       "      <td>2230106</td>\n",
       "    </tr>\n",
       "    <tr>\n",
       "      <th>41</th>\n",
       "      <td>ww_x_PERIODE_PEDAGO</td>\n",
       "      <td>Master semestre 2</td>\n",
       "      <td>942192</td>\n",
       "    </tr>\n",
       "    <tr>\n",
       "      <th>42</th>\n",
       "      <td>ww_x_PERIODE_PEDAGO</td>\n",
       "      <td>Master semestre 3</td>\n",
       "      <td>2230128</td>\n",
       "    </tr>\n",
       "    <tr>\n",
       "      <th>43</th>\n",
       "      <td>ww_x_PERIODE_PEDAGO</td>\n",
       "      <td>Master semestre 4</td>\n",
       "      <td>2230140</td>\n",
       "    </tr>\n",
       "    <tr>\n",
       "      <th>44</th>\n",
       "      <td>ww_x_PERIODE_PEDAGO</td>\n",
       "      <td>Mineur semestre 1</td>\n",
       "      <td>2335667</td>\n",
       "    </tr>\n",
       "    <tr>\n",
       "      <th>45</th>\n",
       "      <td>ww_x_PERIODE_PEDAGO</td>\n",
       "      <td>Mineur semestre 2</td>\n",
       "      <td>2335676</td>\n",
       "    </tr>\n",
       "    <tr>\n",
       "      <th>47</th>\n",
       "      <td>ww_x_PERIODE_PEDAGO</td>\n",
       "      <td>Projet Master automne</td>\n",
       "      <td>249127</td>\n",
       "    </tr>\n",
       "    <tr>\n",
       "      <th>48</th>\n",
       "      <td>ww_x_PERIODE_PEDAGO</td>\n",
       "      <td>Projet Master printemps</td>\n",
       "      <td>3781783</td>\n",
       "    </tr>\n",
       "    <tr>\n",
       "      <th>49</th>\n",
       "      <td>ww_x_PERIODE_PEDAGO</td>\n",
       "      <td>Semestre automne</td>\n",
       "      <td>953159</td>\n",
       "    </tr>\n",
       "    <tr>\n",
       "      <th>50</th>\n",
       "      <td>ww_x_PERIODE_PEDAGO</td>\n",
       "      <td>Semestre printemps</td>\n",
       "      <td>2754553</td>\n",
       "    </tr>\n",
       "    <tr>\n",
       "      <th>51</th>\n",
       "      <td>ww_x_PERIODE_PEDAGO</td>\n",
       "      <td>Stage automne 3ème année</td>\n",
       "      <td>953137</td>\n",
       "    </tr>\n",
       "    <tr>\n",
       "      <th>52</th>\n",
       "      <td>ww_x_PERIODE_PEDAGO</td>\n",
       "      <td>Stage automne 4ème année</td>\n",
       "      <td>2226616</td>\n",
       "    </tr>\n",
       "    <tr>\n",
       "      <th>53</th>\n",
       "      <td>ww_x_PERIODE_PEDAGO</td>\n",
       "      <td>Stage printemps 3ème année</td>\n",
       "      <td>983606</td>\n",
       "    </tr>\n",
       "    <tr>\n",
       "      <th>54</th>\n",
       "      <td>ww_x_PERIODE_PEDAGO</td>\n",
       "      <td>Stage printemps 4ème année</td>\n",
       "      <td>2226626</td>\n",
       "    </tr>\n",
       "    <tr>\n",
       "      <th>55</th>\n",
       "      <td>ww_x_PERIODE_PEDAGO</td>\n",
       "      <td>Stage printemps master</td>\n",
       "      <td>2227132</td>\n",
       "    </tr>\n",
       "  </tbody>\n",
       "</table>\n",
       "</div>"
      ],
      "text/plain": [
       "               category                        name    value\n",
       "32  ww_x_PERIODE_PEDAGO         Bachelor semestre 1   249108\n",
       "33  ww_x_PERIODE_PEDAGO         Bachelor semestre 2   249114\n",
       "34  ww_x_PERIODE_PEDAGO         Bachelor semestre 3   942155\n",
       "35  ww_x_PERIODE_PEDAGO         Bachelor semestre 4   942163\n",
       "36  ww_x_PERIODE_PEDAGO         Bachelor semestre 5   942120\n",
       "37  ww_x_PERIODE_PEDAGO        Bachelor semestre 5b  2226768\n",
       "38  ww_x_PERIODE_PEDAGO         Bachelor semestre 6   942175\n",
       "39  ww_x_PERIODE_PEDAGO        Bachelor semestre 6b  2226785\n",
       "40  ww_x_PERIODE_PEDAGO           Master semestre 1  2230106\n",
       "41  ww_x_PERIODE_PEDAGO           Master semestre 2   942192\n",
       "42  ww_x_PERIODE_PEDAGO           Master semestre 3  2230128\n",
       "43  ww_x_PERIODE_PEDAGO           Master semestre 4  2230140\n",
       "44  ww_x_PERIODE_PEDAGO           Mineur semestre 1  2335667\n",
       "45  ww_x_PERIODE_PEDAGO           Mineur semestre 2  2335676\n",
       "47  ww_x_PERIODE_PEDAGO       Projet Master automne   249127\n",
       "48  ww_x_PERIODE_PEDAGO     Projet Master printemps  3781783\n",
       "49  ww_x_PERIODE_PEDAGO            Semestre automne   953159\n",
       "50  ww_x_PERIODE_PEDAGO          Semestre printemps  2754553\n",
       "51  ww_x_PERIODE_PEDAGO    Stage automne 3ème année   953137\n",
       "52  ww_x_PERIODE_PEDAGO    Stage automne 4ème année  2226616\n",
       "53  ww_x_PERIODE_PEDAGO  Stage printemps 3ème année   983606\n",
       "54  ww_x_PERIODE_PEDAGO  Stage printemps 4ème année  2226626\n",
       "55  ww_x_PERIODE_PEDAGO      Stage printemps master  2227132"
      ]
     },
     "execution_count": 13,
     "metadata": {},
     "output_type": "execute_result"
    }
   ],
   "source": [
    "period_param"
   ]
  },
  {
   "cell_type": "code",
   "execution_count": 14,
   "metadata": {
    "collapsed": false
   },
   "outputs": [],
   "source": [
    "#Construct a beautiful dataframe from a url\n",
    "def create_df(url):\n",
    "    \n",
    "    # pd.read returns a list of dataframe\n",
    "    # in our case, it returns a list of one dataframe,\n",
    "    # so we select the first item of this list\n",
    "    return pretify_df(pd.read_html(url)[0])\n",
    "    "
   ]
  },
  {
   "cell_type": "code",
   "execution_count": 15,
   "metadata": {
    "collapsed": true
   },
   "outputs": [],
   "source": [
    "def pretify_df(data_frame):\n",
    "    # We change the name of the columns by the value of the second line of each columns\n",
    "    for i in range(0, len(data_frame.columns)):\n",
    "        data_frame=data_frame.rename(columns = {i:data_frame.loc[1][i]})\n",
    "        \n",
    "    # We add a column for the period\n",
    "    string = data_frame['Civilité'][0]\n",
    "    splitedString = string.split(',')\n",
    "    if False : #splitedString[0] != 'Informatique':\n",
    "        return 'Not informatic section'\n",
    "    else :\n",
    "        data_frame['Period Academic'] = splitedString[1]\n",
    "        periodPedagogic = splitedString[2].split(' ')[1:4]\n",
    "        data_frame['Period pedagogic'] = ' '.join(periodPedagogic)\n",
    "\n",
    "        # We drop the unuseful rows\n",
    "        # And we drop the columns that contains only NaN\n",
    "        # TODO: find a way to get the information of the first row (the row [0]), this row describe the year (period academic) and the period pedagogic\n",
    "        data_frame = data_frame.drop(data_frame.index[[0,1]]).dropna(axis=1, how='all')\n",
    "        return data_frame"
   ]
  },
  {
   "cell_type": "code",
   "execution_count": 16,
   "metadata": {
    "collapsed": true
   },
   "outputs": [],
   "source": [
    "def merged_inner(df1, df2):\n",
    "    merged_inner = pd.merge(left=df1,right=df2, on='No Sciper')\n",
    "    return merged_inner"
   ]
  },
  {
   "cell_type": "code",
   "execution_count": 18,
   "metadata": {
    "collapsed": false
   },
   "outputs": [],
   "source": [
    "def correcting_year(listOne, listSix):\n",
    "    #For all Bachelor 1, we select the firt year of the column Period Academic\n",
    "    for df in listOne:\n",
    "        df[\"Period Academic\"]=int(df['Period Academic'][2].split('-')[0].replace(\" \", \"\"))\n",
    "\n",
    "    #For all Bachelor 6, we select the second year of the column Period Academic\n",
    "    for df in listSix:\n",
    "        df[\"Period Academic\"] = int(df['Period Academic'][2].split('-')[1])   "
   ]
  },
  {
   "cell_type": "code",
   "execution_count": 19,
   "metadata": {
    "collapsed": false
   },
   "outputs": [],
   "source": [
    "# Iterate for every academic year\n",
    "# Input : 2 lists, one for Bachelor 1 and one for Bchelor 6\n",
    "def final_Bachelor(listOne, listSix):\n",
    "    finalResult = pd.DataFrame()\n",
    "    \n",
    "    correcting_year(listOne, listSix)\n",
    "    for one in listOne:\n",
    "        for six in listSix:\n",
    "            \n",
    "            result = duration_bachelor(one, six)\n",
    "\n",
    "            # ignore_index=True since the different dataframes that will be append will have the same index\n",
    "            # verify_integrity=True since we should not have the same student added several time (it makes no sense, a student can finish its Bachelor only one time)\n",
    "            finalResult = finalResult.append(result,  ignore_index=True, verify_integrity=True)\n",
    "    #finalResult['Duration of Bachelor']\n",
    "            \n",
    "    return finalResult"
   ]
  },
  {
   "cell_type": "code",
   "execution_count": 20,
   "metadata": {
    "collapsed": false
   },
   "outputs": [],
   "source": [
    "#Partition the data between male and female students and calculate a mean for particular gender\n",
    "def mean_Bachelor(df, civilite):\n",
    "    return df[df['Civilité'] == civilite]['Duration of Bachelor'].mean() "
   ]
  },
  {
   "cell_type": "code",
   "execution_count": null,
   "metadata": {
    "collapsed": true
   },
   "outputs": [],
   "source": [
    "dfRes = "
   ]
  },
  {
   "cell_type": "markdown",
   "metadata": {},
   "source": [
    "*** Make the dataframe and save it on files: ***"
   ]
  },
  {
   "cell_type": "code",
   "execution_count": null,
   "metadata": {
    "collapsed": false,
    "scrolled": true
   },
   "outputs": [],
   "source": [
    "def url_param_str(param, value):\n",
    "    return '&' + param + '=' + value\n",
    "\n",
    "for i, year in year_param.iterrows():\n",
    "    for j, period in period_param.iterrows():\n",
    "            \n",
    "            url_i = people_base_url + url_param_str(year.category, year.value) + url_param_str(period.category, period.value)\n",
    "            file_name_i = './data/' + str(year['name']+period['name'])\n",
    "            \n",
    "            #print(file_name_i)\n",
    "            print(url_i)\n",
    "            try:\n",
    "                df_i = create_df(url_i)\n",
    "            except (ValueError, KeyError):\n",
    "                print('-------> no file here!')\n",
    "            else:\n",
    "                df_i.to_pickle(file_name_i)\n",
    "\n",
    "#test_dataframe = pd.read_pickle(\"./data/2016-2017Bachelor semestre 1\")\n",
    "#test_dataframe.head()"
   ]
  },
  {
   "cell_type": "code",
   "execution_count": 32,
   "metadata": {
    "collapsed": false
   },
   "outputs": [],
   "source": [
    "import glob\n",
    "\n",
    "bachelors_sem1 = glob.glob('.\\\\data\\\\[0-9]*-[0-9]*Bachelor semestre 1')\n",
    "bachelors_sem6 = glob.glob('.\\\\data\\\\[0-9]*-[0-9]*Bachelor semestre 6')\n",
    "\n",
    "sem1_dfs = [pd.read_pickle(data_file) for data_file in bachelors_sem1]\n",
    "sem6_dfs = [pd.read_pickle(data_file) for data_file in bachelors_sem6]"
   ]
  },
  {
   "cell_type": "code",
   "execution_count": 70,
   "metadata": {
    "collapsed": true
   },
   "outputs": [],
   "source": [
    "sem1dfs = [{'No Sciper': 1, 'year': 2000},\n",
    "           {'No Sciper': 1, 'year': 2001},\n",
    "          ]\n",
    "sem2dfs = [{'No Sciper': 1, 'year': 2223},\n",
    "           {'No Sciper': 1, 'year': 2222}\n",
    "          ]"
   ]
  },
  {
   "cell_type": "code",
   "execution_count": 77,
   "metadata": {
    "collapsed": false
   },
   "outputs": [
    {
     "data": {
      "text/html": [
       "<div>\n",
       "<table border=\"1\" class=\"dataframe\">\n",
       "  <thead>\n",
       "    <tr style=\"text-align: right;\">\n",
       "      <th></th>\n",
       "      <th>No Sciper</th>\n",
       "      <th>year</th>\n",
       "    </tr>\n",
       "  </thead>\n",
       "  <tbody>\n",
       "    <tr>\n",
       "      <th>0</th>\n",
       "      <td>1</td>\n",
       "      <td>2000</td>\n",
       "    </tr>\n",
       "  </tbody>\n",
       "</table>\n",
       "</div>"
      ],
      "text/plain": [
       "   No Sciper  year\n",
       "0          1  2000"
      ]
     },
     "execution_count": 77,
     "metadata": {},
     "output_type": "execute_result"
    }
   ],
   "source": [
    "se1 = pd.DataFrame(sem1dfs)\n",
    "se1 = se1.sort_values(['year'], ascending=True)\n",
    "se1 = se1.drop_duplicates(subset='No Sciper', keep ='first')\n",
    "se2 = pd.DataFrame(sem2dfs)\n",
    "se2 = se2.sort_values(['year'], ascending=True)\n",
    "se2 = se2.drop_duplicates(subset= 'No Sciper', keep ='last')\n",
    "se1"
   ]
  },
  {
   "cell_type": "code",
   "execution_count": 66,
   "metadata": {
    "collapsed": false
   },
   "outputs": [
    {
     "data": {
      "text/html": [
       "<div>\n",
       "<table border=\"1\" class=\"dataframe\">\n",
       "  <thead>\n",
       "    <tr style=\"text-align: right;\">\n",
       "      <th></th>\n",
       "      <th>No Sciper</th>\n",
       "      <th>year_x</th>\n",
       "      <th>year_y</th>\n",
       "      <th>d</th>\n",
       "    </tr>\n",
       "  </thead>\n",
       "  <tbody>\n",
       "    <tr>\n",
       "      <th>0</th>\n",
       "      <td>1</td>\n",
       "      <td>2000</td>\n",
       "      <td>2222</td>\n",
       "      <td>222</td>\n",
       "    </tr>\n",
       "    <tr>\n",
       "      <th>1</th>\n",
       "      <td>1</td>\n",
       "      <td>2000</td>\n",
       "      <td>2223</td>\n",
       "      <td>223</td>\n",
       "    </tr>\n",
       "    <tr>\n",
       "      <th>2</th>\n",
       "      <td>1</td>\n",
       "      <td>2001</td>\n",
       "      <td>2222</td>\n",
       "      <td>221</td>\n",
       "    </tr>\n",
       "    <tr>\n",
       "      <th>3</th>\n",
       "      <td>1</td>\n",
       "      <td>2001</td>\n",
       "      <td>2223</td>\n",
       "      <td>222</td>\n",
       "    </tr>\n",
       "  </tbody>\n",
       "</table>\n",
       "</div>"
      ],
      "text/plain": [
       "   No Sciper  year_x  year_y    d\n",
       "0          1    2000    2222  222\n",
       "1          1    2000    2223  223\n",
       "2          1    2001    2222  221\n",
       "3          1    2001    2223  222"
      ]
     },
     "execution_count": 66,
     "metadata": {},
     "output_type": "execute_result"
    }
   ],
   "source": [
    "res = pd.merge(se1, se2, on='No Sciper', how='inner')\n",
    "res['d'] = res['year_y'] - res['year_x']\n",
    "res"
   ]
  },
  {
   "cell_type": "code",
   "execution_count": 33,
   "metadata": {
    "collapsed": false
   },
   "outputs": [
    {
     "data": {
      "text/html": [
       "<div>\n",
       "<table border=\"1\" class=\"dataframe\">\n",
       "  <thead>\n",
       "    <tr style=\"text-align: right;\">\n",
       "      <th></th>\n",
       "      <th>Civilité</th>\n",
       "      <th>Nom Prénom</th>\n",
       "      <th>Statut</th>\n",
       "      <th>No Sciper</th>\n",
       "      <th>Period Academic</th>\n",
       "      <th>Period pedagogic</th>\n",
       "    </tr>\n",
       "  </thead>\n",
       "  <tbody>\n",
       "    <tr>\n",
       "      <th>2</th>\n",
       "      <td>Monsieur</td>\n",
       "      <td>Aiulfi Loris Sandro</td>\n",
       "      <td>Présent</td>\n",
       "      <td>202293</td>\n",
       "      <td>2011-2012</td>\n",
       "      <td>Bachelor semestre 1</td>\n",
       "    </tr>\n",
       "  </tbody>\n",
       "</table>\n",
       "</div>"
      ],
      "text/plain": [
       "   Civilité           Nom Prénom   Statut No Sciper Period Academic  \\\n",
       "2  Monsieur  Aiulfi Loris Sandro  Présent    202293       2011-2012   \n",
       "\n",
       "      Period pedagogic  \n",
       "2  Bachelor semestre 1  "
      ]
     },
     "execution_count": 33,
     "metadata": {},
     "output_type": "execute_result"
    }
   ],
   "source": [
    "sem1_dfs[4].head(1)"
   ]
  },
  {
   "cell_type": "code",
   "execution_count": 34,
   "metadata": {
    "collapsed": false
   },
   "outputs": [],
   "source": [
    "#res = final_Bachelor(sem1_dfs, sem6_dfs)\n",
    "correcting_year(sem1_dfs, sem6_dfs)"
   ]
  },
  {
   "cell_type": "code",
   "execution_count": 35,
   "metadata": {
    "collapsed": false
   },
   "outputs": [
    {
     "data": {
      "text/html": [
       "<div>\n",
       "<table border=\"1\" class=\"dataframe\">\n",
       "  <thead>\n",
       "    <tr style=\"text-align: right;\">\n",
       "      <th></th>\n",
       "      <th>Civilité</th>\n",
       "      <th>Nom Prénom</th>\n",
       "      <th>Statut</th>\n",
       "      <th>No Sciper</th>\n",
       "      <th>Period Academic</th>\n",
       "      <th>Period pedagogic</th>\n",
       "    </tr>\n",
       "  </thead>\n",
       "  <tbody>\n",
       "    <tr>\n",
       "      <th>2</th>\n",
       "      <td>Monsieur</td>\n",
       "      <td>Aiulfi Loris Sandro</td>\n",
       "      <td>Présent</td>\n",
       "      <td>202293</td>\n",
       "      <td>2011</td>\n",
       "      <td>Bachelor semestre 1</td>\n",
       "    </tr>\n",
       "  </tbody>\n",
       "</table>\n",
       "</div>"
      ],
      "text/plain": [
       "   Civilité           Nom Prénom   Statut No Sciper  Period Academic  \\\n",
       "2  Monsieur  Aiulfi Loris Sandro  Présent    202293             2011   \n",
       "\n",
       "      Period pedagogic  \n",
       "2  Bachelor semestre 1  "
      ]
     },
     "execution_count": 35,
     "metadata": {},
     "output_type": "execute_result"
    }
   ],
   "source": [
    "sem1_dfs[4].head(1)"
   ]
  },
  {
   "cell_type": "code",
   "execution_count": 52,
   "metadata": {
    "collapsed": false
   },
   "outputs": [
    {
     "name": "stdout",
     "output_type": "stream",
     "text": [
      "size : 1719\n"
     ]
    }
   ],
   "source": [
    "sem1_dfs[0].head()"
   ]
  },
  {
   "cell_type": "markdown",
   "metadata": {},
   "source": [
    "We fisrt concatenate all the dataframes for each semester in a big dataframe\n",
    "then, we sort them by ascending Period Academic\n",
    "and finally, for Bachelor 1, we drop duplicate and keep the first entry,\n",
    "and for Bachelor 6, we drop duplicate and keep the last entry"
   ]
  },
  {
   "cell_type": "code",
   "execution_count": 88,
   "metadata": {
    "collapsed": false
   },
   "outputs": [
    {
     "data": {
      "text/plain": [
       "(516, 9)"
      ]
     },
     "execution_count": 88,
     "metadata": {},
     "output_type": "execute_result"
    }
   ],
   "source": [
    "\n",
    "bachelors_sem1 = pd.concat(sem1_dfs, ignore_index=True)\n",
    "bachelors_sem1 = bachelors_sem1.sort_values(['Period Academic'], ascending=True)\n",
    "bachelors_sem1 = bachelors_sem1.drop_duplicates(subset='No Sciper', keep='first')\n",
    "\n",
    "\n",
    "bachelors_sem6 = pd.concat(sem6_dfs, ignore_index=True)\n",
    "bachelors_sem6 = bachelors_sem6.sort_values(['Period Academic'], ascending=True)\n",
    "bachelors_sem6 = bachelors_sem6.drop_duplicates(subset='No Sciper', keep='last')\n",
    "\n",
    "bachelors_sem6.shape"
   ]
  },
  {
   "cell_type": "code",
   "execution_count": null,
   "metadata": {
    "collapsed": true
   },
   "outputs": [],
   "source": [
    "We "
   ]
  },
  {
   "cell_type": "code",
   "execution_count": 80,
   "metadata": {
    "collapsed": false
   },
   "outputs": [
    {
     "data": {
      "text/html": [
       "<div>\n",
       "<table border=\"1\" class=\"dataframe\">\n",
       "  <thead>\n",
       "    <tr style=\"text-align: right;\">\n",
       "      <th></th>\n",
       "      <th>Civilité_x</th>\n",
       "      <th>Nom Prénom_x</th>\n",
       "      <th>Statut_x</th>\n",
       "      <th>No Sciper</th>\n",
       "      <th>Period Academic_x</th>\n",
       "      <th>Period pedagogic_x</th>\n",
       "      <th>Civilité_y</th>\n",
       "      <th>Ecole Echange</th>\n",
       "      <th>Filière opt.</th>\n",
       "      <th>Nom Prénom_y</th>\n",
       "      <th>Period Academic_y</th>\n",
       "      <th>Period pedagogic_y</th>\n",
       "      <th>Statut_y</th>\n",
       "      <th>Type Echange</th>\n",
       "    </tr>\n",
       "  </thead>\n",
       "  <tbody>\n",
       "    <tr>\n",
       "      <th>0</th>\n",
       "      <td>Monsieur</td>\n",
       "      <td>Arévalo Christian</td>\n",
       "      <td>Présent</td>\n",
       "      <td>169569</td>\n",
       "      <td>2007</td>\n",
       "      <td>Bachelor semestre 1</td>\n",
       "      <td>Monsieur</td>\n",
       "      <td>NaN</td>\n",
       "      <td>NaN</td>\n",
       "      <td>Arévalo Christian</td>\n",
       "      <td>2010</td>\n",
       "      <td>Bachelor semestre 6</td>\n",
       "      <td>Présent</td>\n",
       "      <td>NaN</td>\n",
       "    </tr>\n",
       "    <tr>\n",
       "      <th>1</th>\n",
       "      <td>Monsieur</td>\n",
       "      <td>Obrist Damien</td>\n",
       "      <td>Présent</td>\n",
       "      <td>179194</td>\n",
       "      <td>2007</td>\n",
       "      <td>Bachelor semestre 1</td>\n",
       "      <td>Monsieur</td>\n",
       "      <td>Carnegie Mellon University Pittsburgh</td>\n",
       "      <td>NaN</td>\n",
       "      <td>Obrist Damien</td>\n",
       "      <td>2010</td>\n",
       "      <td>Bachelor semestre 6</td>\n",
       "      <td>Congé</td>\n",
       "      <td>Bilatéral</td>\n",
       "    </tr>\n",
       "  </tbody>\n",
       "</table>\n",
       "</div>"
      ],
      "text/plain": [
       "  Civilité_x       Nom Prénom_x Statut_x No Sciper  Period Academic_x  \\\n",
       "0   Monsieur  Arévalo Christian  Présent    169569               2007   \n",
       "1   Monsieur      Obrist Damien  Présent    179194               2007   \n",
       "\n",
       "    Period pedagogic_x Civilité_y                          Ecole Echange  \\\n",
       "0  Bachelor semestre 1   Monsieur                                    NaN   \n",
       "1  Bachelor semestre 1   Monsieur  Carnegie Mellon University Pittsburgh   \n",
       "\n",
       "  Filière opt.       Nom Prénom_y  Period Academic_y   Period pedagogic_y  \\\n",
       "0          NaN  Arévalo Christian               2010  Bachelor semestre 6   \n",
       "1          NaN      Obrist Damien               2010  Bachelor semestre 6   \n",
       "\n",
       "  Statut_y Type Echange  \n",
       "0  Présent          NaN  \n",
       "1    Congé    Bilatéral  "
      ]
     },
     "execution_count": 80,
     "metadata": {},
     "output_type": "execute_result"
    }
   ],
   "source": [
    "res = pd.merge(bachelors_sem1, bachelors_sem6, on='No Sciper', how='inner')\n",
    "res.head(2)"
   ]
  },
  {
   "cell_type": "code",
   "execution_count": 81,
   "metadata": {
    "collapsed": false
   },
   "outputs": [
    {
     "data": {
      "text/plain": [
       "(397, 14)"
      ]
     },
     "execution_count": 81,
     "metadata": {},
     "output_type": "execute_result"
    }
   ],
   "source": [
    "res.shape"
   ]
  },
  {
   "cell_type": "code",
   "execution_count": 82,
   "metadata": {
    "collapsed": false
   },
   "outputs": [
    {
     "data": {
      "text/plain": [
       "397"
      ]
     },
     "execution_count": 82,
     "metadata": {},
     "output_type": "execute_result"
    }
   ],
   "source": [
    "final_res = pd.DataFrame({'No Sciper': res['No Sciper'], 'Civilité' :res['Civilité_x'], 'Duration of Bachelor': res['Period Academic_y'] - res['Period Academic_x']})\n",
    "len(final_res.index)"
   ]
  },
  {
   "cell_type": "code",
   "execution_count": null,
   "metadata": {
    "collapsed": true
   },
   "outputs": [],
   "source": []
  },
  {
   "cell_type": "code",
   "execution_count": 83,
   "metadata": {
    "collapsed": false
   },
   "outputs": [
    {
     "data": {
      "text/plain": [
       "3.4809782608695654"
      ]
     },
     "execution_count": 83,
     "metadata": {},
     "output_type": "execute_result"
    }
   ],
   "source": [
    "#average duration for male\n",
    "mean_Bachelor(final_res, 'Monsieur')"
   ]
  },
  {
   "cell_type": "code",
   "execution_count": 84,
   "metadata": {
    "collapsed": false
   },
   "outputs": [
    {
     "data": {
      "text/plain": [
       "3.310344827586207"
      ]
     },
     "execution_count": 84,
     "metadata": {},
     "output_type": "execute_result"
    }
   ],
   "source": [
    "#average duration for female\n",
    "mean_Bachelor(final_res, 'Madame')"
   ]
  },
  {
   "cell_type": "code",
   "execution_count": null,
   "metadata": {
    "collapsed": true
   },
   "outputs": [],
   "source": []
  }
 ],
 "metadata": {
  "anaconda-cloud": {},
  "kernelspec": {
   "display_name": "Python [Root]",
   "language": "python",
   "name": "Python [Root]"
  },
  "language_info": {
   "codemirror_mode": {
    "name": "ipython",
    "version": 3
   },
   "file_extension": ".py",
   "mimetype": "text/x-python",
   "name": "python",
   "nbconvert_exporter": "python",
   "pygments_lexer": "ipython3",
   "version": "3.5.2"
  }
 },
 "nbformat": 4,
 "nbformat_minor": 0
}
