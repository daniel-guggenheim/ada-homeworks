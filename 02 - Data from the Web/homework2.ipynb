{
 "cells": [
  {
   "cell_type": "markdown",
   "metadata": {},
   "source": [
    "<h1> Homework 2 - Data from the Web </h1>"
   ]
  },
  {
   "cell_type": "code",
   "execution_count": 81,
   "metadata": {
    "collapsed": false
   },
   "outputs": [],
   "source": [
    "## Importation of everything useful\n",
    "%matplotlib inline\n",
    "import pandas as pd\n",
    "import numpy as np\n",
    "import matplotlib.pyplot as plt\n",
    "import seaborn as sns\n",
    "sns.set_context('notebook')\n",
    "\n",
    "import requests\n",
    "from bs4 import BeautifulSoup"
   ]
  },
  {
   "cell_type": "code",
   "execution_count": 82,
   "metadata": {
    "collapsed": true
   },
   "outputs": [],
   "source": [
    "parameters_page = requests.get('http://isa.epfl.ch/imoniteur_ISAP/!GEDPUBLICREPORTS.filter?ww_i_reportModel=133685247')"
   ]
  },
  {
   "cell_type": "code",
   "execution_count": 83,
   "metadata": {
    "collapsed": false
   },
   "outputs": [],
   "source": [
    "parameters_html = parameters_page.text"
   ]
  },
  {
   "cell_type": "code",
   "execution_count": 84,
   "metadata": {
    "collapsed": false
   },
   "outputs": [],
   "source": [
    "soup = BeautifulSoup(parameters_html, \"html.parser\")"
   ]
  },
  {
   "cell_type": "code",
   "execution_count": 85,
   "metadata": {
    "collapsed": false
   },
   "outputs": [],
   "source": [
    "#print(soup.prettify())"
   ]
  },
  {
   "cell_type": "code",
   "execution_count": 86,
   "metadata": {
    "collapsed": false
   },
   "outputs": [
    {
     "data": {
      "text/html": [
       "<div>\n",
       "<table border=\"1\" class=\"dataframe\">\n",
       "  <thead>\n",
       "    <tr style=\"text-align: right;\">\n",
       "      <th></th>\n",
       "      <th>Category</th>\n",
       "      <th>Name</th>\n",
       "      <th>Value</th>\n",
       "    </tr>\n",
       "  </thead>\n",
       "  <tbody>\n",
       "    <tr>\n",
       "      <th>0</th>\n",
       "      <td>ww_x_UNITE_ACAD</td>\n",
       "      <td>None</td>\n",
       "      <td>null</td>\n",
       "    </tr>\n",
       "    <tr>\n",
       "      <th>1</th>\n",
       "      <td>ww_x_UNITE_ACAD</td>\n",
       "      <td>Architecture</td>\n",
       "      <td>942293</td>\n",
       "    </tr>\n",
       "    <tr>\n",
       "      <th>2</th>\n",
       "      <td>ww_x_UNITE_ACAD</td>\n",
       "      <td>Chimie et génie chimique</td>\n",
       "      <td>246696</td>\n",
       "    </tr>\n",
       "    <tr>\n",
       "      <th>3</th>\n",
       "      <td>ww_x_UNITE_ACAD</td>\n",
       "      <td>Cours de mathématiques spéciales</td>\n",
       "      <td>943282</td>\n",
       "    </tr>\n",
       "    <tr>\n",
       "      <th>4</th>\n",
       "      <td>ww_x_UNITE_ACAD</td>\n",
       "      <td>EME (EPFL Middle East)</td>\n",
       "      <td>637841336</td>\n",
       "    </tr>\n",
       "  </tbody>\n",
       "</table>\n",
       "</div>"
      ],
      "text/plain": [
       "          Category                              Name      Value\n",
       "0  ww_x_UNITE_ACAD                              None       null\n",
       "1  ww_x_UNITE_ACAD                      Architecture     942293\n",
       "2  ww_x_UNITE_ACAD          Chimie et génie chimique     246696\n",
       "3  ww_x_UNITE_ACAD  Cours de mathématiques spéciales     943282\n",
       "4  ww_x_UNITE_ACAD            EME (EPFL Middle East)  637841336"
      ]
     },
     "execution_count": 86,
     "metadata": {},
     "output_type": "execute_result"
    }
   ],
   "source": [
    "row_list = []\n",
    "for parameter_cat_html in soup.find_all('select'):\n",
    "    for option in parameter_cat_html.contents:\n",
    "        row_dict = {'Category':parameter_cat_html['name'], 'Name':option.string, 'Value':option['value']}\n",
    "        row_list.append(row_dict)\n",
    "parameters = pd.DataFrame(row_list)\n",
    "parameters.head()"
   ]
  },
  {
   "cell_type": "markdown",
   "metadata": {},
   "source": [
    "<h2>Creating the base url</h2>\n",
    "\n",
    "We found with Postman the base ur\n",
    "l leading to the students list: http://isa.epfl.ch/imoniteur_ISAP/!GEDPUBLICREPORTS.bhtml\n",
    "\n",
    "To this page, we will add different parameters. Some of the parameters will not change for all the request, therefore we decided to hardcode them. These parameters are:\n",
    "<ul>\n",
    "<li>\n",
    "<b>ww_x_GPS</b> = <em>-1</em><br>\n",
    "This parameter varies during request but is not useful. It is probably linked to the gps position. It is was set to -1 which will accept everything.\n",
    "</li>\n",
    "<li>\n",
    "<b>ww_i_reportModel</b> = <em>133685247</em>:<br>\n",
    "Parameter to choose the type of files to take. We chose html files.\n",
    "</li>\n",
    "<li><b>ww_i_reportModelXsl</b> = <em>133685270</em>:<br>\n",
    "Parameter to choose the type of files to take. We chose html files.\n",
    "</li>\n",
    "<li><b>ww_x_HIVERETE</b> = <em>null</em>:<br>\n",
    "This parameter allow to choose between Winter and Spring semester. However, it is redondant, as Bachelor 1 can only happen in Winter semester, Bachelor 2 in Spring, Bachelor 3 in Winter, and so forth. Therefore we chose to eliminate this parameter by settings its value to null.\n",
    "</li>\n",
    "<li><b>ww_x_UNITE_ACAD</b> = <em>249847</em>:<br>\n",
    "This value represents the \"Informatique\" section. As it was asked to only consider the data of this section, we have to use it all the time. If it was not the case, we could use the other technique.\n",
    "</li>\n",
    "\n",
    "\n",
    "</ul>"
   ]
  },
  {
   "cell_type": "code",
   "execution_count": 87,
   "metadata": {
    "collapsed": true
   },
   "outputs": [],
   "source": [
    "people_base_url = 'http://isa.epfl.ch/imoniteur_ISAP/!GEDPUBLICREPORTS.bhtml?ww_x_GPS=-1&ww_i_reportModel=133685247&ww_i_reportModelXsl=133685270&ww_x_UNITE_ACAD=249847&ww_x_HIVERETE=null'"
   ]
  },
  {
   "cell_type": "markdown",
   "metadata": {},
   "source": [
    "***Interesting parameters***<br>\n",
    "Therefore we are left with two interesting parameters we want to vary:\n",
    "the year (\"periode academique\") and the period (\"periode pedagogique\")."
   ]
  },
  {
   "cell_type": "code",
   "execution_count": 88,
   "metadata": {
    "collapsed": false
   },
   "outputs": [],
   "source": [
    "year_param_string = 'ww_x_PERIODE_ACAD'\n",
    "period_param_string = 'ww_x_PERIODE_PEDAGO'\n",
    "\n",
    "year_param = parameters.loc[parameters['Category'] == year_param_string]\n",
    "period_param = parameters.loc[parameters['Category'] == period_param_string]"
   ]
  },
  {
   "cell_type": "code",
   "execution_count": 89,
   "metadata": {
    "collapsed": false
   },
   "outputs": [
    {
     "data": {
      "text/html": [
       "<div>\n",
       "<table border=\"1\" class=\"dataframe\">\n",
       "  <thead>\n",
       "    <tr style=\"text-align: right;\">\n",
       "      <th></th>\n",
       "      <th>Category</th>\n",
       "      <th>Name</th>\n",
       "      <th>Value</th>\n",
       "    </tr>\n",
       "  </thead>\n",
       "  <tbody>\n",
       "    <tr>\n",
       "      <th>20</th>\n",
       "      <td>ww_x_PERIODE_ACAD</td>\n",
       "      <td>None</td>\n",
       "      <td>null</td>\n",
       "    </tr>\n",
       "    <tr>\n",
       "      <th>21</th>\n",
       "      <td>ww_x_PERIODE_ACAD</td>\n",
       "      <td>2016-2017</td>\n",
       "      <td>355925344</td>\n",
       "    </tr>\n",
       "    <tr>\n",
       "      <th>22</th>\n",
       "      <td>ww_x_PERIODE_ACAD</td>\n",
       "      <td>2015-2016</td>\n",
       "      <td>213638028</td>\n",
       "    </tr>\n",
       "    <tr>\n",
       "      <th>23</th>\n",
       "      <td>ww_x_PERIODE_ACAD</td>\n",
       "      <td>2014-2015</td>\n",
       "      <td>213637922</td>\n",
       "    </tr>\n",
       "    <tr>\n",
       "      <th>24</th>\n",
       "      <td>ww_x_PERIODE_ACAD</td>\n",
       "      <td>2013-2014</td>\n",
       "      <td>213637754</td>\n",
       "    </tr>\n",
       "  </tbody>\n",
       "</table>\n",
       "</div>"
      ],
      "text/plain": [
       "             Category       Name      Value\n",
       "20  ww_x_PERIODE_ACAD       None       null\n",
       "21  ww_x_PERIODE_ACAD  2016-2017  355925344\n",
       "22  ww_x_PERIODE_ACAD  2015-2016  213638028\n",
       "23  ww_x_PERIODE_ACAD  2014-2015  213637922\n",
       "24  ww_x_PERIODE_ACAD  2013-2014  213637754"
      ]
     },
     "execution_count": 89,
     "metadata": {},
     "output_type": "execute_result"
    }
   ],
   "source": [
    "year_param.head()"
   ]
  },
  {
   "cell_type": "code",
   "execution_count": 90,
   "metadata": {
    "collapsed": false
   },
   "outputs": [
    {
     "data": {
      "text/html": [
       "<div>\n",
       "<table border=\"1\" class=\"dataframe\">\n",
       "  <thead>\n",
       "    <tr style=\"text-align: right;\">\n",
       "      <th></th>\n",
       "      <th>Category</th>\n",
       "      <th>Name</th>\n",
       "      <th>Value</th>\n",
       "    </tr>\n",
       "  </thead>\n",
       "  <tbody>\n",
       "    <tr>\n",
       "      <th>31</th>\n",
       "      <td>ww_x_PERIODE_PEDAGO</td>\n",
       "      <td>None</td>\n",
       "      <td>null</td>\n",
       "    </tr>\n",
       "    <tr>\n",
       "      <th>32</th>\n",
       "      <td>ww_x_PERIODE_PEDAGO</td>\n",
       "      <td>Bachelor semestre 1</td>\n",
       "      <td>249108</td>\n",
       "    </tr>\n",
       "    <tr>\n",
       "      <th>33</th>\n",
       "      <td>ww_x_PERIODE_PEDAGO</td>\n",
       "      <td>Bachelor semestre 2</td>\n",
       "      <td>249114</td>\n",
       "    </tr>\n",
       "    <tr>\n",
       "      <th>34</th>\n",
       "      <td>ww_x_PERIODE_PEDAGO</td>\n",
       "      <td>Bachelor semestre 3</td>\n",
       "      <td>942155</td>\n",
       "    </tr>\n",
       "    <tr>\n",
       "      <th>35</th>\n",
       "      <td>ww_x_PERIODE_PEDAGO</td>\n",
       "      <td>Bachelor semestre 4</td>\n",
       "      <td>942163</td>\n",
       "    </tr>\n",
       "  </tbody>\n",
       "</table>\n",
       "</div>"
      ],
      "text/plain": [
       "               Category                 Name   Value\n",
       "31  ww_x_PERIODE_PEDAGO                 None    null\n",
       "32  ww_x_PERIODE_PEDAGO  Bachelor semestre 1  249108\n",
       "33  ww_x_PERIODE_PEDAGO  Bachelor semestre 2  249114\n",
       "34  ww_x_PERIODE_PEDAGO  Bachelor semestre 3  942155\n",
       "35  ww_x_PERIODE_PEDAGO  Bachelor semestre 4  942163"
      ]
     },
     "execution_count": 90,
     "metadata": {},
     "output_type": "execute_result"
    }
   ],
   "source": [
    "period_param.head()"
   ]
  },
  {
   "cell_type": "code",
   "execution_count": null,
   "metadata": {
    "collapsed": true
   },
   "outputs": [],
   "source": []
  }
 ],
 "metadata": {
  "anaconda-cloud": {},
  "kernelspec": {
   "display_name": "Python [ADA]",
   "language": "python",
   "name": "Python [ADA]"
  },
  "language_info": {
   "codemirror_mode": {
    "name": "ipython",
    "version": 3
   },
   "file_extension": ".py",
   "mimetype": "text/x-python",
   "name": "python",
   "nbconvert_exporter": "python",
   "pygments_lexer": "ipython3",
   "version": "3.5.2"
  }
 },
 "nbformat": 4,
 "nbformat_minor": 0
}
