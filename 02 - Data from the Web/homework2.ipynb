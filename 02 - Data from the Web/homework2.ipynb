{
 "cells": [
  {
   "cell_type": "markdown",
   "metadata": {},
   "source": [
    "<h1> Homework 2 - Data from the Web </h1>"
   ]
  },
  {
   "cell_type": "code",
   "execution_count": 505,
   "metadata": {
    "collapsed": false
   },
   "outputs": [],
   "source": [
    "## Importation of everything useful\n",
    "%matplotlib inline\n",
    "import pandas as pd\n",
    "import numpy as np\n",
    "import matplotlib.pyplot as plt\n",
    "import seaborn as sns\n",
    "import time\n",
    "import glob\n",
    "import scipy\n",
    "sns.set_context('notebook')\n",
    "\n",
    "import requests\n",
    "from bs4 import BeautifulSoup"
   ]
  },
  {
   "cell_type": "markdown",
   "metadata": {},
   "source": [
    "<h1>Getting the data</h1>\n",
    "\n",
    "In this first part we will concentrate on getting the datas. We used \"Postman\" to examine the different isa.epfl.ch pages. To get the data, we need to run an url with the right parameters. These parameters are the different fields of the form that we are going to get right in this part.\n",
    "\n",
    "So here, we will use \"Requests\" and \"BeautifulSoup\" to get these parameters:"
   ]
  },
  {
   "cell_type": "code",
   "execution_count": 506,
   "metadata": {
    "collapsed": true
   },
   "outputs": [],
   "source": [
    "parameters_page = requests.get('http://isa.epfl.ch/imoniteur_ISAP/!GEDPUBLICREPORTS.filter?ww_i_reportModel=133685247')\n",
    "parameters_html = parameters_page.text\n",
    "soup = BeautifulSoup(parameters_html, \"html.parser\")"
   ]
  },
  {
   "cell_type": "markdown",
   "metadata": {},
   "source": [
    "We iterate on the page and look for the \"select\" tags which mean the beginning of a form field. In each of these form field, we find the different \"option\" that is available and store it in a dictionnary with the different important information.<br>\n",
    "The list of dictionnary constructed will allow to create a dataframe with these information."
   ]
  },
  {
   "cell_type": "code",
   "execution_count": 507,
   "metadata": {
    "collapsed": false
   },
   "outputs": [
    {
     "data": {
      "text/html": [
       "<div>\n",
       "<table border=\"1\" class=\"dataframe\">\n",
       "  <thead>\n",
       "    <tr style=\"text-align: right;\">\n",
       "      <th></th>\n",
       "      <th>category</th>\n",
       "      <th>name</th>\n",
       "      <th>value</th>\n",
       "    </tr>\n",
       "  </thead>\n",
       "  <tbody>\n",
       "    <tr>\n",
       "      <th>0</th>\n",
       "      <td>ww_x_UNITE_ACAD</td>\n",
       "      <td>None</td>\n",
       "      <td>null</td>\n",
       "    </tr>\n",
       "    <tr>\n",
       "      <th>1</th>\n",
       "      <td>ww_x_UNITE_ACAD</td>\n",
       "      <td>Architecture</td>\n",
       "      <td>942293</td>\n",
       "    </tr>\n",
       "    <tr>\n",
       "      <th>2</th>\n",
       "      <td>ww_x_UNITE_ACAD</td>\n",
       "      <td>Chimie et génie chimique</td>\n",
       "      <td>246696</td>\n",
       "    </tr>\n",
       "    <tr>\n",
       "      <th>3</th>\n",
       "      <td>ww_x_UNITE_ACAD</td>\n",
       "      <td>Cours de mathématiques spéciales</td>\n",
       "      <td>943282</td>\n",
       "    </tr>\n",
       "    <tr>\n",
       "      <th>4</th>\n",
       "      <td>ww_x_UNITE_ACAD</td>\n",
       "      <td>EME (EPFL Middle East)</td>\n",
       "      <td>637841336</td>\n",
       "    </tr>\n",
       "  </tbody>\n",
       "</table>\n",
       "</div>"
      ],
      "text/plain": [
       "          category                              name      value\n",
       "0  ww_x_UNITE_ACAD                              None       null\n",
       "1  ww_x_UNITE_ACAD                      Architecture     942293\n",
       "2  ww_x_UNITE_ACAD          Chimie et génie chimique     246696\n",
       "3  ww_x_UNITE_ACAD  Cours de mathématiques spéciales     943282\n",
       "4  ww_x_UNITE_ACAD            EME (EPFL Middle East)  637841336"
      ]
     },
     "execution_count": 507,
     "metadata": {},
     "output_type": "execute_result"
    }
   ],
   "source": [
    "row_list = []\n",
    "for parameter_cat_html in soup.find_all('select'):\n",
    "    for option in parameter_cat_html.contents:\n",
    "        row_dict = {'category':parameter_cat_html['name'], 'name':option.string, 'value':option['value']}\n",
    "        row_list.append(row_dict)\n",
    "parameters = pd.DataFrame(row_list)\n",
    "parameters.head()"
   ]
  },
  {
   "cell_type": "markdown",
   "metadata": {},
   "source": [
    "<h2>Creating the base url</h2>\n",
    "\n",
    "We found with Postman the base url leading to the students list: http://isa.epfl.ch/imoniteur_ISAP/!GEDPUBLICREPORTS.bhtml\n",
    "\n",
    "To this page, we will add different parameters. Some of the parameters will not change for all the request, therefore we decided to hardcode them. These parameters are:\n",
    "<ul>\n",
    "<li>\n",
    "<b>ww_x_GPS</b> = <em>-1</em><br>\n",
    "This parameter varies during request but is not useful. It is probably linked to the gps position. It is was set to -1 which will accept everything.\n",
    "</li>\n",
    "<li>\n",
    "<b>ww_i_reportModel</b> = <em>133685247</em>:<br>\n",
    "Parameter to choose the type of files to take. We chose html files.\n",
    "</li>\n",
    "<li><b>ww_i_reportModelXsl</b> = <em>133685270</em>:<br>\n",
    "Parameter to choose the type of files to take. We chose html files.\n",
    "</li>\n",
    "<li><b>ww_x_HIVERETE</b> = <em>null</em>:<br>\n",
    "This parameter allow to choose between Winter and Spring semester. However, it is redondant, as Bachelor 1 can only happen in Winter semester, Bachelor 2 in Spring, Bachelor 3 in Winter, and so forth. Therefore we chose to eliminate this parameter by settings its value to null.\n",
    "</li>\n",
    "</ul>"
   ]
  },
  {
   "cell_type": "code",
   "execution_count": 508,
   "metadata": {
    "collapsed": false
   },
   "outputs": [],
   "source": [
    "people_base_url = 'http://isa.epfl.ch/imoniteur_ISAP/!GEDPUBLICREPORTS.bhtml?ww_x_GPS=-1&ww_i_reportModel=133685247&ww_i_reportModelXsl=133685270&ww_x_HIVERETE=null'"
   ]
  },
  {
   "cell_type": "markdown",
   "metadata": {},
   "source": [
    "***Informatique parameter***<br>\n",
    "We get the \"informatique\" category name and value in the parameters dataframe, as we are only going to consider this section."
   ]
  },
  {
   "cell_type": "code",
   "execution_count": 509,
   "metadata": {
    "collapsed": false
   },
   "outputs": [],
   "source": [
    "## Function to create a small part of a url for a url parameter and its corresponding value. \n",
    "def url_param_str(param, value):\n",
    "    return '&' + param + '=' + value\n",
    "\n",
    "## Getting \"informatique\" row\n",
    "informatique_param = parameters.loc[parameters['name'] == 'Informatique']\n",
    "\n",
    "## Making informatique url\n",
    "informatique_url_string = url_param_str(informatique_param.category.iloc[0], informatique_param.value.iloc[0])\n",
    "\n",
    "##Adding url to the base url\n",
    "people_base_url = people_base_url + informatique_url_string"
   ]
  },
  {
   "cell_type": "markdown",
   "metadata": {},
   "source": [
    "***Parameters that vary***<br>\n",
    "Therefore we are left with two interesting parameters we want to vary: the year (\"periode academique\") and the period (\"periode pedagogique\").\n",
    "\n",
    "Here we get these parameters and drop the null value and the \"Mise a niveau\" which is not useful."
   ]
  },
  {
   "cell_type": "code",
   "execution_count": 510,
   "metadata": {
    "collapsed": false
   },
   "outputs": [],
   "source": [
    "year_param_string = 'ww_x_PERIODE_ACAD'\n",
    "period_param_string = 'ww_x_PERIODE_PEDAGO'\n",
    "\n",
    "year_param = parameters.loc[parameters['category'] == year_param_string]\n",
    "period_param = parameters.loc[parameters['category'] == period_param_string]\n",
    "\n",
    "year_param = year_param.drop(year_param.iloc[0].name,axis=0, level=None)\n",
    "period_param = period_param.drop(period_param.iloc[0].name,axis=0, level=None)\n",
    "period_param = period_param[period_param['name'] != 'Mise à niveau']"
   ]
  },
  {
   "cell_type": "code",
   "execution_count": 511,
   "metadata": {
    "collapsed": false
   },
   "outputs": [
    {
     "data": {
      "text/html": [
       "<div>\n",
       "<table border=\"1\" class=\"dataframe\">\n",
       "  <thead>\n",
       "    <tr style=\"text-align: right;\">\n",
       "      <th></th>\n",
       "      <th>category</th>\n",
       "      <th>name</th>\n",
       "      <th>value</th>\n",
       "    </tr>\n",
       "  </thead>\n",
       "  <tbody>\n",
       "    <tr>\n",
       "      <th>21</th>\n",
       "      <td>ww_x_PERIODE_ACAD</td>\n",
       "      <td>2016-2017</td>\n",
       "      <td>355925344</td>\n",
       "    </tr>\n",
       "    <tr>\n",
       "      <th>22</th>\n",
       "      <td>ww_x_PERIODE_ACAD</td>\n",
       "      <td>2015-2016</td>\n",
       "      <td>213638028</td>\n",
       "    </tr>\n",
       "    <tr>\n",
       "      <th>23</th>\n",
       "      <td>ww_x_PERIODE_ACAD</td>\n",
       "      <td>2014-2015</td>\n",
       "      <td>213637922</td>\n",
       "    </tr>\n",
       "    <tr>\n",
       "      <th>24</th>\n",
       "      <td>ww_x_PERIODE_ACAD</td>\n",
       "      <td>2013-2014</td>\n",
       "      <td>213637754</td>\n",
       "    </tr>\n",
       "    <tr>\n",
       "      <th>25</th>\n",
       "      <td>ww_x_PERIODE_ACAD</td>\n",
       "      <td>2012-2013</td>\n",
       "      <td>123456101</td>\n",
       "    </tr>\n",
       "  </tbody>\n",
       "</table>\n",
       "</div>"
      ],
      "text/plain": [
       "             category       name      value\n",
       "21  ww_x_PERIODE_ACAD  2016-2017  355925344\n",
       "22  ww_x_PERIODE_ACAD  2015-2016  213638028\n",
       "23  ww_x_PERIODE_ACAD  2014-2015  213637922\n",
       "24  ww_x_PERIODE_ACAD  2013-2014  213637754\n",
       "25  ww_x_PERIODE_ACAD  2012-2013  123456101"
      ]
     },
     "execution_count": 511,
     "metadata": {},
     "output_type": "execute_result"
    }
   ],
   "source": [
    "year_param.head()"
   ]
  },
  {
   "cell_type": "code",
   "execution_count": 512,
   "metadata": {
    "collapsed": false
   },
   "outputs": [
    {
     "data": {
      "text/html": [
       "<div>\n",
       "<table border=\"1\" class=\"dataframe\">\n",
       "  <thead>\n",
       "    <tr style=\"text-align: right;\">\n",
       "      <th></th>\n",
       "      <th>category</th>\n",
       "      <th>name</th>\n",
       "      <th>value</th>\n",
       "    </tr>\n",
       "  </thead>\n",
       "  <tbody>\n",
       "    <tr>\n",
       "      <th>32</th>\n",
       "      <td>ww_x_PERIODE_PEDAGO</td>\n",
       "      <td>Bachelor semestre 1</td>\n",
       "      <td>249108</td>\n",
       "    </tr>\n",
       "    <tr>\n",
       "      <th>33</th>\n",
       "      <td>ww_x_PERIODE_PEDAGO</td>\n",
       "      <td>Bachelor semestre 2</td>\n",
       "      <td>249114</td>\n",
       "    </tr>\n",
       "    <tr>\n",
       "      <th>34</th>\n",
       "      <td>ww_x_PERIODE_PEDAGO</td>\n",
       "      <td>Bachelor semestre 3</td>\n",
       "      <td>942155</td>\n",
       "    </tr>\n",
       "    <tr>\n",
       "      <th>35</th>\n",
       "      <td>ww_x_PERIODE_PEDAGO</td>\n",
       "      <td>Bachelor semestre 4</td>\n",
       "      <td>942163</td>\n",
       "    </tr>\n",
       "    <tr>\n",
       "      <th>36</th>\n",
       "      <td>ww_x_PERIODE_PEDAGO</td>\n",
       "      <td>Bachelor semestre 5</td>\n",
       "      <td>942120</td>\n",
       "    </tr>\n",
       "  </tbody>\n",
       "</table>\n",
       "</div>"
      ],
      "text/plain": [
       "               category                 name   value\n",
       "32  ww_x_PERIODE_PEDAGO  Bachelor semestre 1  249108\n",
       "33  ww_x_PERIODE_PEDAGO  Bachelor semestre 2  249114\n",
       "34  ww_x_PERIODE_PEDAGO  Bachelor semestre 3  942155\n",
       "35  ww_x_PERIODE_PEDAGO  Bachelor semestre 4  942163\n",
       "36  ww_x_PERIODE_PEDAGO  Bachelor semestre 5  942120"
      ]
     },
     "execution_count": 512,
     "metadata": {},
     "output_type": "execute_result"
    }
   ],
   "source": [
    "period_param.head()"
   ]
  },
  {
   "cell_type": "markdown",
   "metadata": {},
   "source": [
    "*** Helper functions to make the dataframe: ***"
   ]
  },
  {
   "cell_type": "code",
   "execution_count": 513,
   "metadata": {
    "collapsed": false
   },
   "outputs": [],
   "source": [
    "## Take a dataframe of raw data just downloaded from isa and clean the data\n",
    "def pretify_df(data_frame):\n",
    "    # We change the name of the columns by the value of the second line of each columns\\n\",\n",
    "    for i in range(0, len(data_frame.columns)):\n",
    "        data_frame=data_frame.rename(columns = {i:data_frame.loc[1][i]})\n",
    "        \n",
    "    # We add a column for the period\\n\",\n",
    "    string = data_frame['Civilité'][0]\n",
    "    splitedString = string.split(',')\n",
    "    \n",
    "    data_frame['Period Academic'] = splitedString[1]\n",
    "    periodPedagogic = splitedString[2].split(' ')[1:4]\n",
    "    data_frame['Period pedagogic'] = ' '.join(periodPedagogic)\n",
    " \n",
    "    # We drop the unuseful rows\\n\",\n",
    "    # And we drop the columns that contains only NaN\\n\",\n",
    "    data_frame = data_frame.drop(data_frame.index[[0,1]]).dropna(axis=1, how='all')\n",
    "    return data_frame"
   ]
  },
  {
   "cell_type": "code",
   "execution_count": 514,
   "metadata": {
    "collapsed": false
   },
   "outputs": [],
   "source": [
    "## Create a dataframe from a url with an html tale\n",
    "def create_df(url):\n",
    "    # pd.read returns a list of dataframe\n",
    "    # in our case, it returns a list of one dataframe,\\n\",\n",
    "    # so we select the first item of this list\\n\",\n",
    "    return pretify_df(pd.read_html(url)[0])"
   ]
  },
  {
   "cell_type": "markdown",
   "metadata": {},
   "source": [
    "<h2>Downloading the data</h2><br>\n",
    "Here we iterate over the year and period parameters, create the right url and get the datas. We use the helper functions to make dataframe and store the dataframe on files so we don't need to download them everytime.<br>\n",
    "Some url throw an exception (that we catch) when there is no student in the file."
   ]
  },
  {
   "cell_type": "code",
   "execution_count": 515,
   "metadata": {
    "collapsed": false,
    "scrolled": true
   },
   "outputs": [
    {
     "name": "stdout",
     "output_type": "stream",
     "text": [
      "./data/2016-2017Bachelor semestre 1\n",
      "./data/2016-2017Bachelor semestre 2\n",
      "./data/2016-2017Bachelor semestre 3\n",
      "./data/2016-2017Bachelor semestre 4\n",
      "./data/2016-2017Bachelor semestre 5\n",
      "./data/2016-2017Bachelor semestre 5b\n",
      "-------> no file here!\n",
      "./data/2016-2017Bachelor semestre 6\n",
      "./data/2016-2017Bachelor semestre 6b\n",
      "-------> no file here!\n",
      "./data/2016-2017Master semestre 1\n",
      "./data/2016-2017Master semestre 2\n",
      "./data/2016-2017Master semestre 3\n",
      "./data/2016-2017Master semestre 4\n",
      "-------> no file here!\n",
      "./data/2016-2017Mineur semestre 1\n",
      "-------> no file here!\n",
      "./data/2016-2017Mineur semestre 2\n",
      "-------> no file here!\n",
      "./data/2016-2017Projet Master automne\n",
      "./data/2016-2017Projet Master printemps\n",
      "-------> no file here!\n",
      "./data/2016-2017Semestre automne\n",
      "./data/2016-2017Semestre printemps\n",
      "./data/2016-2017Stage automne 3ème année\n",
      "-------> no file here!\n",
      "./data/2016-2017Stage automne 4ème année\n",
      "-------> no file here!\n",
      "./data/2016-2017Stage printemps 3ème année\n",
      "-------> no file here!\n",
      "./data/2016-2017Stage printemps 4ème année\n",
      "-------> no file here!\n",
      "./data/2016-2017Stage printemps master\n",
      "-------> no file here!\n",
      "./data/2015-2016Bachelor semestre 1\n",
      "./data/2015-2016Bachelor semestre 2\n",
      "./data/2015-2016Bachelor semestre 3\n",
      "./data/2015-2016Bachelor semestre 4\n",
      "./data/2015-2016Bachelor semestre 5\n",
      "./data/2015-2016Bachelor semestre 5b\n",
      "-------> no file here!\n",
      "./data/2015-2016Bachelor semestre 6\n",
      "./data/2015-2016Bachelor semestre 6b\n",
      "-------> no file here!\n",
      "./data/2015-2016Master semestre 1\n",
      "./data/2015-2016Master semestre 2\n",
      "./data/2015-2016Master semestre 3\n",
      "./data/2015-2016Master semestre 4\n",
      "-------> no file here!\n",
      "./data/2015-2016Mineur semestre 1\n",
      "-------> no file here!\n",
      "./data/2015-2016Mineur semestre 2\n",
      "-------> no file here!\n",
      "./data/2015-2016Projet Master automne\n",
      "./data/2015-2016Projet Master printemps\n",
      "-------> no file here!\n",
      "./data/2015-2016Semestre automne\n",
      "./data/2015-2016Semestre printemps\n",
      "./data/2015-2016Stage automne 3ème année\n",
      "-------> no file here!\n",
      "./data/2015-2016Stage automne 4ème année\n",
      "-------> no file here!\n",
      "./data/2015-2016Stage printemps 3ème année\n",
      "-------> no file here!\n",
      "./data/2015-2016Stage printemps 4ème année\n",
      "-------> no file here!\n",
      "./data/2015-2016Stage printemps master\n",
      "-------> no file here!\n",
      "./data/2014-2015Bachelor semestre 1\n",
      "./data/2014-2015Bachelor semestre 2\n",
      "./data/2014-2015Bachelor semestre 3\n",
      "./data/2014-2015Bachelor semestre 4\n",
      "./data/2014-2015Bachelor semestre 5\n",
      "./data/2014-2015Bachelor semestre 5b\n",
      "-------> no file here!\n",
      "./data/2014-2015Bachelor semestre 6\n",
      "./data/2014-2015Bachelor semestre 6b\n",
      "-------> no file here!\n",
      "./data/2014-2015Master semestre 1\n",
      "./data/2014-2015Master semestre 2\n",
      "./data/2014-2015Master semestre 3\n",
      "./data/2014-2015Master semestre 4\n",
      "-------> no file here!\n",
      "./data/2014-2015Mineur semestre 1\n",
      "-------> no file here!\n",
      "./data/2014-2015Mineur semestre 2\n",
      "-------> no file here!\n",
      "./data/2014-2015Projet Master automne\n",
      "./data/2014-2015Projet Master printemps\n",
      "-------> no file here!\n",
      "./data/2014-2015Semestre automne\n",
      "./data/2014-2015Semestre printemps\n",
      "./data/2014-2015Stage automne 3ème année\n",
      "-------> no file here!\n",
      "./data/2014-2015Stage automne 4ème année\n",
      "-------> no file here!\n",
      "./data/2014-2015Stage printemps 3ème année\n",
      "-------> no file here!\n",
      "./data/2014-2015Stage printemps 4ème année\n",
      "-------> no file here!\n",
      "./data/2014-2015Stage printemps master\n",
      "-------> no file here!\n",
      "./data/2013-2014Bachelor semestre 1\n",
      "./data/2013-2014Bachelor semestre 2\n",
      "./data/2013-2014Bachelor semestre 3\n",
      "./data/2013-2014Bachelor semestre 4\n",
      "./data/2013-2014Bachelor semestre 5\n",
      "./data/2013-2014Bachelor semestre 5b\n",
      "-------> no file here!\n",
      "./data/2013-2014Bachelor semestre 6\n",
      "./data/2013-2014Bachelor semestre 6b\n",
      "-------> no file here!\n",
      "./data/2013-2014Master semestre 1\n",
      "./data/2013-2014Master semestre 2\n",
      "./data/2013-2014Master semestre 3\n",
      "./data/2013-2014Master semestre 4\n",
      "-------> no file here!\n",
      "./data/2013-2014Mineur semestre 1\n",
      "-------> no file here!\n",
      "./data/2013-2014Mineur semestre 2\n",
      "-------> no file here!\n",
      "./data/2013-2014Projet Master automne\n",
      "./data/2013-2014Projet Master printemps\n",
      "./data/2013-2014Semestre automne\n",
      "./data/2013-2014Semestre printemps\n",
      "./data/2013-2014Stage automne 3ème année\n",
      "-------> no file here!\n",
      "./data/2013-2014Stage automne 4ème année\n",
      "-------> no file here!\n",
      "./data/2013-2014Stage printemps 3ème année\n",
      "-------> no file here!\n",
      "./data/2013-2014Stage printemps 4ème année\n",
      "-------> no file here!\n",
      "./data/2013-2014Stage printemps master\n",
      "-------> no file here!\n",
      "./data/2012-2013Bachelor semestre 1\n",
      "./data/2012-2013Bachelor semestre 2\n",
      "./data/2012-2013Bachelor semestre 3\n",
      "./data/2012-2013Bachelor semestre 4\n",
      "./data/2012-2013Bachelor semestre 5\n",
      "./data/2012-2013Bachelor semestre 5b\n",
      "-------> no file here!\n",
      "./data/2012-2013Bachelor semestre 6\n",
      "./data/2012-2013Bachelor semestre 6b\n",
      "-------> no file here!\n",
      "./data/2012-2013Master semestre 1\n",
      "./data/2012-2013Master semestre 2\n",
      "./data/2012-2013Master semestre 3\n",
      "./data/2012-2013Master semestre 4\n",
      "-------> no file here!\n",
      "./data/2012-2013Mineur semestre 1\n",
      "-------> no file here!\n",
      "./data/2012-2013Mineur semestre 2\n",
      "-------> no file here!\n",
      "./data/2012-2013Projet Master automne\n",
      "./data/2012-2013Projet Master printemps\n",
      "./data/2012-2013Semestre automne\n",
      "./data/2012-2013Semestre printemps\n",
      "-------> no file here!\n",
      "./data/2012-2013Stage automne 3ème année\n",
      "-------> no file here!\n",
      "./data/2012-2013Stage automne 4ème année\n",
      "-------> no file here!\n",
      "./data/2012-2013Stage printemps 3ème année\n",
      "-------> no file here!\n",
      "./data/2012-2013Stage printemps 4ème année\n",
      "-------> no file here!\n",
      "./data/2012-2013Stage printemps master\n",
      "-------> no file here!\n",
      "./data/2011-2012Bachelor semestre 1\n",
      "./data/2011-2012Bachelor semestre 2\n",
      "./data/2011-2012Bachelor semestre 3\n",
      "./data/2011-2012Bachelor semestre 4\n",
      "./data/2011-2012Bachelor semestre 5\n",
      "./data/2011-2012Bachelor semestre 5b\n",
      "-------> no file here!\n",
      "./data/2011-2012Bachelor semestre 6\n",
      "./data/2011-2012Bachelor semestre 6b\n",
      "-------> no file here!\n",
      "./data/2011-2012Master semestre 1\n",
      "./data/2011-2012Master semestre 2\n",
      "./data/2011-2012Master semestre 3\n",
      "./data/2011-2012Master semestre 4\n",
      "-------> no file here!\n",
      "./data/2011-2012Mineur semestre 1\n",
      "-------> no file here!\n",
      "./data/2011-2012Mineur semestre 2\n",
      "-------> no file here!\n",
      "./data/2011-2012Projet Master automne\n",
      "./data/2011-2012Projet Master printemps\n",
      "./data/2011-2012Semestre automne\n",
      "./data/2011-2012Semestre printemps\n",
      "./data/2011-2012Stage automne 3ème année\n",
      "-------> no file here!\n",
      "./data/2011-2012Stage automne 4ème année\n",
      "-------> no file here!\n",
      "./data/2011-2012Stage printemps 3ème année\n",
      "-------> no file here!\n",
      "./data/2011-2012Stage printemps 4ème année\n",
      "-------> no file here!\n",
      "./data/2011-2012Stage printemps master\n",
      "-------> no file here!\n",
      "./data/2010-2011Bachelor semestre 1\n",
      "./data/2010-2011Bachelor semestre 2\n",
      "./data/2010-2011Bachelor semestre 3\n",
      "./data/2010-2011Bachelor semestre 4\n",
      "./data/2010-2011Bachelor semestre 5\n",
      "./data/2010-2011Bachelor semestre 5b\n",
      "-------> no file here!\n",
      "./data/2010-2011Bachelor semestre 6\n",
      "./data/2010-2011Bachelor semestre 6b\n",
      "-------> no file here!\n",
      "./data/2010-2011Master semestre 1\n",
      "./data/2010-2011Master semestre 2\n",
      "./data/2010-2011Master semestre 3\n",
      "./data/2010-2011Master semestre 4\n",
      "-------> no file here!\n",
      "./data/2010-2011Mineur semestre 1\n",
      "-------> no file here!\n",
      "./data/2010-2011Mineur semestre 2\n",
      "-------> no file here!\n",
      "./data/2010-2011Projet Master automne\n",
      "./data/2010-2011Projet Master printemps\n",
      "./data/2010-2011Semestre automne\n",
      "./data/2010-2011Semestre printemps\n",
      "./data/2010-2011Stage automne 3ème année\n",
      "-------> no file here!\n",
      "./data/2010-2011Stage automne 4ème année\n",
      "-------> no file here!\n",
      "./data/2010-2011Stage printemps 3ème année\n",
      "-------> no file here!\n",
      "./data/2010-2011Stage printemps 4ème année\n",
      "-------> no file here!\n",
      "./data/2010-2011Stage printemps master\n",
      "-------> no file here!\n",
      "./data/2009-2010Bachelor semestre 1\n",
      "./data/2009-2010Bachelor semestre 2\n",
      "./data/2009-2010Bachelor semestre 3\n",
      "./data/2009-2010Bachelor semestre 4\n",
      "./data/2009-2010Bachelor semestre 5\n",
      "./data/2009-2010Bachelor semestre 5b\n",
      "-------> no file here!\n",
      "./data/2009-2010Bachelor semestre 6\n",
      "./data/2009-2010Bachelor semestre 6b\n",
      "-------> no file here!\n",
      "./data/2009-2010Master semestre 1\n",
      "./data/2009-2010Master semestre 2\n",
      "./data/2009-2010Master semestre 3\n",
      "./data/2009-2010Master semestre 4\n",
      "-------> no file here!\n",
      "./data/2009-2010Mineur semestre 1\n",
      "-------> no file here!\n",
      "./data/2009-2010Mineur semestre 2\n",
      "-------> no file here!\n",
      "./data/2009-2010Projet Master automne\n",
      "./data/2009-2010Projet Master printemps\n",
      "./data/2009-2010Semestre automne\n",
      "./data/2009-2010Semestre printemps\n",
      "-------> no file here!\n",
      "./data/2009-2010Stage automne 3ème année\n",
      "-------> no file here!\n",
      "./data/2009-2010Stage automne 4ème année\n",
      "-------> no file here!\n",
      "./data/2009-2010Stage printemps 3ème année\n",
      "-------> no file here!\n",
      "./data/2009-2010Stage printemps 4ème année\n",
      "-------> no file here!\n",
      "./data/2009-2010Stage printemps master\n",
      "-------> no file here!\n",
      "./data/2008-2009Bachelor semestre 1\n",
      "./data/2008-2009Bachelor semestre 2\n",
      "./data/2008-2009Bachelor semestre 3\n",
      "./data/2008-2009Bachelor semestre 4\n",
      "./data/2008-2009Bachelor semestre 5\n",
      "./data/2008-2009Bachelor semestre 5b\n",
      "-------> no file here!\n",
      "./data/2008-2009Bachelor semestre 6\n",
      "./data/2008-2009Bachelor semestre 6b\n",
      "-------> no file here!\n",
      "./data/2008-2009Master semestre 1\n",
      "./data/2008-2009Master semestre 2\n",
      "./data/2008-2009Master semestre 3\n",
      "./data/2008-2009Master semestre 4\n",
      "-------> no file here!\n",
      "./data/2008-2009Mineur semestre 1\n",
      "-------> no file here!\n",
      "./data/2008-2009Mineur semestre 2\n",
      "-------> no file here!\n",
      "./data/2008-2009Projet Master automne\n",
      "./data/2008-2009Projet Master printemps\n",
      "./data/2008-2009Semestre automne\n",
      "./data/2008-2009Semestre printemps\n",
      "./data/2008-2009Stage automne 3ème année\n",
      "-------> no file here!\n",
      "./data/2008-2009Stage automne 4ème année\n",
      "-------> no file here!\n",
      "./data/2008-2009Stage printemps 3ème année\n",
      "-------> no file here!\n",
      "./data/2008-2009Stage printemps 4ème année\n",
      "-------> no file here!\n",
      "./data/2008-2009Stage printemps master\n",
      "-------> no file here!\n",
      "./data/2007-2008Bachelor semestre 1\n",
      "./data/2007-2008Bachelor semestre 2\n",
      "./data/2007-2008Bachelor semestre 3\n",
      "./data/2007-2008Bachelor semestre 4\n",
      "./data/2007-2008Bachelor semestre 5\n",
      "./data/2007-2008Bachelor semestre 5b\n",
      "-------> no file here!\n",
      "./data/2007-2008Bachelor semestre 6\n",
      "./data/2007-2008Bachelor semestre 6b\n",
      "-------> no file here!\n",
      "./data/2007-2008Master semestre 1\n",
      "./data/2007-2008Master semestre 2\n",
      "./data/2007-2008Master semestre 3\n",
      "./data/2007-2008Master semestre 4\n",
      "-------> no file here!\n",
      "./data/2007-2008Mineur semestre 1\n",
      "-------> no file here!\n",
      "./data/2007-2008Mineur semestre 2\n",
      "-------> no file here!\n",
      "./data/2007-2008Projet Master automne\n",
      "./data/2007-2008Projet Master printemps\n",
      "./data/2007-2008Semestre automne\n",
      "./data/2007-2008Semestre printemps\n",
      "./data/2007-2008Stage automne 3ème année\n",
      "-------> no file here!\n",
      "./data/2007-2008Stage automne 4ème année\n",
      "-------> no file here!\n",
      "./data/2007-2008Stage printemps 3ème année\n",
      "-------> no file here!\n",
      "./data/2007-2008Stage printemps 4ème année\n",
      "-------> no file here!\n",
      "./data/2007-2008Stage printemps master\n",
      "-------> no file here!\n"
     ]
    }
   ],
   "source": [
    "for i, year in year_param.iterrows():\n",
    "    for j, period in period_param.iterrows():\n",
    "        \n",
    "        url_i = people_base_url + url_param_str(year.category, year.value) + url_param_str(period.category, period.value)\n",
    "        file_name_i = './data/' + str(year['name']+period['name'])\n",
    "        print(file_name_i)\n",
    "        try:\n",
    "            df_i = create_df(url_i)\n",
    "        except (ValueError, KeyError):\n",
    "            print('-------> no file here!')\n",
    "        else:\n",
    "            df_i.to_pickle(file_name_i)\n"
   ]
  },
  {
   "cell_type": "markdown",
   "metadata": {},
   "source": [
    "## Exercise 1\n",
    "We import the data stored, and create a list of dataframes for Bachelor 1 and Bachelor 6"
   ]
  },
  {
   "cell_type": "code",
   "execution_count": 516,
   "metadata": {
    "collapsed": false
   },
   "outputs": [],
   "source": [
    "bachelors_sem1 = glob.glob('.\\\\data\\\\[0-9]*-[0-9]*Bachelor semestre 1')\n",
    "bachelors_sem6 = glob.glob('.\\\\data\\\\[0-9]*-[0-9]*Bachelor semestre 6')\n",
    "\n",
    "sem1_dfs = [pd.read_pickle(data_file) for data_file in bachelors_sem1]\n",
    "sem6_dfs = [pd.read_pickle(data_file) for data_file in bachelors_sem6]"
   ]
  },
  {
   "cell_type": "code",
   "execution_count": 517,
   "metadata": {
    "collapsed": false
   },
   "outputs": [
    {
     "data": {
      "text/html": [
       "<div>\n",
       "<table border=\"1\" class=\"dataframe\">\n",
       "  <thead>\n",
       "    <tr style=\"text-align: right;\">\n",
       "      <th></th>\n",
       "      <th>Civilité</th>\n",
       "      <th>Nom Prénom</th>\n",
       "      <th>Statut</th>\n",
       "      <th>No Sciper</th>\n",
       "      <th>Period Academic</th>\n",
       "      <th>Period pedagogic</th>\n",
       "    </tr>\n",
       "  </thead>\n",
       "  <tbody>\n",
       "    <tr>\n",
       "      <th>2</th>\n",
       "      <td>Monsieur</td>\n",
       "      <td>Aiulfi Loris Sandro</td>\n",
       "      <td>Présent</td>\n",
       "      <td>202293</td>\n",
       "      <td>2011-2012</td>\n",
       "      <td>Bachelor semestre 1</td>\n",
       "    </tr>\n",
       "  </tbody>\n",
       "</table>\n",
       "</div>"
      ],
      "text/plain": [
       "   Civilité           Nom Prénom   Statut No Sciper Period Academic  \\\n",
       "2  Monsieur  Aiulfi Loris Sandro  Présent    202293       2011-2012   \n",
       "\n",
       "      Period pedagogic  \n",
       "2  Bachelor semestre 1  "
      ]
     },
     "execution_count": 517,
     "metadata": {},
     "output_type": "execute_result"
    }
   ],
   "source": [
    "sem1_dfs[4].head(1)"
   ]
  },
  {
   "cell_type": "markdown",
   "metadata": {},
   "source": [
    "We change the academic year according to the fact that the first semester of bachelor start during the first year provided, and the last for Bachelor 6\n",
    "\n",
    "Ex: for 2012-2013 for Bachelor 1, the correcting_year function will changed it to 2012 and\n",
    "    for 2014-2015 for Bachelor 6, the correcting_year function will changed it to 2015"
   ]
  },
  {
   "cell_type": "code",
   "execution_count": 518,
   "metadata": {
    "collapsed": true
   },
   "outputs": [],
   "source": [
    "def correcting_year(listOne, listSix):\n",
    "    #For all Bachelor 1, we select the firt year of the column Period Academic\n",
    "    for df in listOne:\n",
    "        df[\"Period Academic\"]=int(df['Period Academic'][2].split('-')[0].replace(\" \", \"\"))\n",
    "\n",
    "    #For all Bachelor 6, we select the second year of the column Period Academic\n",
    "    for df in listSix:\n",
    "        df[\"Period Academic\"] = int(df['Period Academic'][2].split('-')[1])   "
   ]
  },
  {
   "cell_type": "code",
   "execution_count": 519,
   "metadata": {
    "collapsed": false
   },
   "outputs": [],
   "source": [
    "correcting_year(sem1_dfs, sem6_dfs)"
   ]
  },
  {
   "cell_type": "code",
   "execution_count": 520,
   "metadata": {
    "collapsed": false
   },
   "outputs": [
    {
     "data": {
      "text/html": [
       "<div>\n",
       "<table border=\"1\" class=\"dataframe\">\n",
       "  <thead>\n",
       "    <tr style=\"text-align: right;\">\n",
       "      <th></th>\n",
       "      <th>Civilité</th>\n",
       "      <th>Nom Prénom</th>\n",
       "      <th>Statut</th>\n",
       "      <th>No Sciper</th>\n",
       "      <th>Period Academic</th>\n",
       "      <th>Period pedagogic</th>\n",
       "    </tr>\n",
       "  </thead>\n",
       "  <tbody>\n",
       "    <tr>\n",
       "      <th>2</th>\n",
       "      <td>Monsieur</td>\n",
       "      <td>Aiulfi Loris Sandro</td>\n",
       "      <td>Présent</td>\n",
       "      <td>202293</td>\n",
       "      <td>2011</td>\n",
       "      <td>Bachelor semestre 1</td>\n",
       "    </tr>\n",
       "  </tbody>\n",
       "</table>\n",
       "</div>"
      ],
      "text/plain": [
       "   Civilité           Nom Prénom   Statut No Sciper  Period Academic  \\\n",
       "2  Monsieur  Aiulfi Loris Sandro  Présent    202293             2011   \n",
       "\n",
       "      Period pedagogic  \n",
       "2  Bachelor semestre 1  "
      ]
     },
     "execution_count": 520,
     "metadata": {},
     "output_type": "execute_result"
    }
   ],
   "source": [
    "sem1_dfs[4].head(1)"
   ]
  },
  {
   "cell_type": "markdown",
   "metadata": {},
   "source": [
    "We fisrt concatenate all the dataframes for each semester in a big dataframe\n",
    "then, we sort them by ascending Period Academic\n",
    "and finally, for Bachelor 1, we drop duplicate and keep the first entry,\n",
    "and for Bachelor 6, we drop duplicate and keep the last entry"
   ]
  },
  {
   "cell_type": "code",
   "execution_count": 521,
   "metadata": {
    "collapsed": false
   },
   "outputs": [
    {
     "data": {
      "text/plain": [
       "(1324, 6)"
      ]
     },
     "execution_count": 521,
     "metadata": {},
     "output_type": "execute_result"
    }
   ],
   "source": [
    "\n",
    "bachelors_sem1 = pd.concat(sem1_dfs, ignore_index=True)\n",
    "bachelors_sem1 = bachelors_sem1.sort_values(['Period Academic'], ascending=True)\n",
    "bachelors_sem1 = bachelors_sem1.drop_duplicates(subset='No Sciper', keep='first')\n",
    "\n",
    "\n",
    "bachelors_sem6 = pd.concat(sem6_dfs, ignore_index=True)\n",
    "bachelors_sem6 = bachelors_sem6.sort_values(['Period Academic'], ascending=True)\n",
    "bachelors_sem6 = bachelors_sem6.drop_duplicates(subset='No Sciper', keep='last')\n",
    "\n",
    "bachelors_sem1.shape"
   ]
  },
  {
   "cell_type": "code",
   "execution_count": 522,
   "metadata": {
    "collapsed": false
   },
   "outputs": [
    {
     "data": {
      "text/plain": [
       "(516, 9)"
      ]
     },
     "execution_count": 522,
     "metadata": {},
     "output_type": "execute_result"
    }
   ],
   "source": [
    "bachelors_sem6.shape"
   ]
  },
  {
   "cell_type": "markdown",
   "metadata": {},
   "source": [
    "We can observe that the number of student in Bachelor 6 is drastically less than in Bachelor 1, 516 for 1323."
   ]
  },
  {
   "cell_type": "markdown",
   "metadata": {},
   "source": [
    "We merge the two big dataframes using the No Sciper"
   ]
  },
  {
   "cell_type": "code",
   "execution_count": 523,
   "metadata": {
    "collapsed": false
   },
   "outputs": [
    {
     "data": {
      "text/html": [
       "<div>\n",
       "<table border=\"1\" class=\"dataframe\">\n",
       "  <thead>\n",
       "    <tr style=\"text-align: right;\">\n",
       "      <th></th>\n",
       "      <th>Civilité_x</th>\n",
       "      <th>Nom Prénom_x</th>\n",
       "      <th>Statut_x</th>\n",
       "      <th>No Sciper</th>\n",
       "      <th>Period Academic_x</th>\n",
       "      <th>Period pedagogic_x</th>\n",
       "      <th>Civilité_y</th>\n",
       "      <th>Ecole Echange</th>\n",
       "      <th>Filière opt.</th>\n",
       "      <th>Nom Prénom_y</th>\n",
       "      <th>Period Academic_y</th>\n",
       "      <th>Period pedagogic_y</th>\n",
       "      <th>Statut_y</th>\n",
       "      <th>Type Echange</th>\n",
       "    </tr>\n",
       "  </thead>\n",
       "  <tbody>\n",
       "    <tr>\n",
       "      <th>0</th>\n",
       "      <td>Monsieur</td>\n",
       "      <td>Arévalo Christian</td>\n",
       "      <td>Présent</td>\n",
       "      <td>169569</td>\n",
       "      <td>2007</td>\n",
       "      <td>Bachelor semestre 1</td>\n",
       "      <td>Monsieur</td>\n",
       "      <td>NaN</td>\n",
       "      <td>NaN</td>\n",
       "      <td>Arévalo Christian</td>\n",
       "      <td>2010</td>\n",
       "      <td>Bachelor semestre 6</td>\n",
       "      <td>Présent</td>\n",
       "      <td>NaN</td>\n",
       "    </tr>\n",
       "    <tr>\n",
       "      <th>1</th>\n",
       "      <td>Monsieur</td>\n",
       "      <td>Obrist Damien</td>\n",
       "      <td>Présent</td>\n",
       "      <td>179194</td>\n",
       "      <td>2007</td>\n",
       "      <td>Bachelor semestre 1</td>\n",
       "      <td>Monsieur</td>\n",
       "      <td>Carnegie Mellon University Pittsburgh</td>\n",
       "      <td>NaN</td>\n",
       "      <td>Obrist Damien</td>\n",
       "      <td>2010</td>\n",
       "      <td>Bachelor semestre 6</td>\n",
       "      <td>Congé</td>\n",
       "      <td>Bilatéral</td>\n",
       "    </tr>\n",
       "  </tbody>\n",
       "</table>\n",
       "</div>"
      ],
      "text/plain": [
       "  Civilité_x       Nom Prénom_x Statut_x No Sciper  Period Academic_x  \\\n",
       "0   Monsieur  Arévalo Christian  Présent    169569               2007   \n",
       "1   Monsieur      Obrist Damien  Présent    179194               2007   \n",
       "\n",
       "    Period pedagogic_x Civilité_y                          Ecole Echange  \\\n",
       "0  Bachelor semestre 1   Monsieur                                    NaN   \n",
       "1  Bachelor semestre 1   Monsieur  Carnegie Mellon University Pittsburgh   \n",
       "\n",
       "  Filière opt.       Nom Prénom_y  Period Academic_y   Period pedagogic_y  \\\n",
       "0          NaN  Arévalo Christian               2010  Bachelor semestre 6   \n",
       "1          NaN      Obrist Damien               2010  Bachelor semestre 6   \n",
       "\n",
       "  Statut_y Type Echange  \n",
       "0  Présent          NaN  \n",
       "1    Congé    Bilatéral  "
      ]
     },
     "execution_count": 523,
     "metadata": {},
     "output_type": "execute_result"
    }
   ],
   "source": [
    "res = pd.merge(bachelors_sem1, bachelors_sem6, on='No Sciper', how='inner')\n",
    "res.head(2)"
   ]
  },
  {
   "cell_type": "code",
   "execution_count": 524,
   "metadata": {
    "collapsed": false
   },
   "outputs": [
    {
     "data": {
      "text/plain": [
       "(397, 14)"
      ]
     },
     "execution_count": 524,
     "metadata": {},
     "output_type": "execute_result"
    }
   ],
   "source": [
    "res.shape"
   ]
  },
  {
   "cell_type": "markdown",
   "metadata": {},
   "source": [
    "We observed that the number of student that was in Bachelor 1 at the EPFL and in Bachelor 6 are a little bit less than the total number of student in Bachelor 6. We think it is beacause of exchange students ot student that arrived directly in second year (Passerelle)."
   ]
  },
  {
   "cell_type": "markdown",
   "metadata": {},
   "source": [
    "We create a new column registering the duration of the Bachelor"
   ]
  },
  {
   "cell_type": "code",
   "execution_count": 525,
   "metadata": {
    "collapsed": false
   },
   "outputs": [],
   "source": [
    "final_res = pd.DataFrame({'No Sciper': res['No Sciper'], 'Civilité' :res['Civilité_x'], 'Duration of Bachelor': res['Period Academic_y'] - res['Period Academic_x']})"
   ]
  },
  {
   "cell_type": "code",
   "execution_count": 526,
   "metadata": {
    "collapsed": true
   },
   "outputs": [],
   "source": [
    "#Partition the data between male and female students\n",
    "grouped_gender = final_res.groupby('Civilité')"
   ]
  },
  {
   "cell_type": "code",
   "execution_count": 527,
   "metadata": {
    "collapsed": false
   },
   "outputs": [
    {
     "data": {
      "text/plain": [
       "Duration of Bachelor    3.310345\n",
       "dtype: float64"
      ]
     },
     "execution_count": 527,
     "metadata": {},
     "output_type": "execute_result"
    }
   ],
   "source": [
    "#average duration for female\n",
    "df_madame = grouped_gender.get_group('Madame')\n",
    "df_madame.mean()"
   ]
  },
  {
   "cell_type": "code",
   "execution_count": 528,
   "metadata": {
    "collapsed": false
   },
   "outputs": [
    {
     "data": {
      "text/plain": [
       "Duration of Bachelor    3.480978\n",
       "dtype: float64"
      ]
     },
     "execution_count": 528,
     "metadata": {},
     "output_type": "execute_result"
    }
   ],
   "source": [
    "#average duration for male\n",
    "df_monsieur = grouped_gender.get_group('Monsieur')\n",
    "df_monsieur.mean()"
   ]
  },
  {
   "cell_type": "code",
   "execution_count": 552,
   "metadata": {
    "collapsed": false
   },
   "outputs": [
    {
     "data": {
      "text/plain": [
       "array([[<matplotlib.axes._subplots.AxesSubplot object at 0x0000028FDFDDA390>,\n",
       "        <matplotlib.axes._subplots.AxesSubplot object at 0x0000028FDFD41DA0>]], dtype=object)"
      ]
     },
     "execution_count": 552,
     "metadata": {},
     "output_type": "execute_result"
    },
    {
     "data": {
      "image/png": "[encoded data removed]",
      "text/plain": [
       "<matplotlib.figure.Figure at 0x28fe106c4e0>"
      ]
     },
     "metadata": {},
     "output_type": "display_data"
    }
   ],
   "source": [
    "monsieur_duration_list = df_monsieur['Duration of Bachelor'].tolist()\n",
    "madame_duration_list = df_madame['Duration of Bachelor'].tolist()\n",
    "\n",
    "tmp = pd.concat([pd.DataFrame({'monsieur': monsieur_duration_list})\n",
    "           ,pd.DataFrame({'madame': madame_duration_list})], ignore_index=True, axis=1)\n",
    "tmp.columns = ['monsieur', 'madame']\n",
    "tmp.hist()"
   ]
  },
  {
   "cell_type": "markdown",
   "metadata": {},
   "source": [
    "The Wilcoxon rank-sum test tests the null hypothesis that two sets of measurements are drawn from the same distribution. We are testing if male and female durations of bachelor are comming from the same distribution (null hypothesis)."
   ]
  },
  {
   "cell_type": "code",
   "execution_count": 529,
   "metadata": {
    "collapsed": false
   },
   "outputs": [
    {
     "data": {
      "text/plain": [
       "0.39364493314799009"
      ]
     },
     "execution_count": 529,
     "metadata": {},
     "output_type": "execute_result"
    }
   ],
   "source": [
    "res = scipy.stats.ranksums( df_madame['Duration of Bachelor'].tolist(), df_monsieur['Duration of Bachelor'].tolist())\n",
    "res.pvalue"
   ]
  },
  {
   "cell_type": "markdown",
   "metadata": {},
   "source": [
    "As explained in https://en.wikipedia.org/wiki/P-value - pvalue > 0.1 means that we accept the null hypothesis and so we conclude that there is no significant difference."
   ]
  },
  {
   "cell_type": "markdown",
   "metadata": {
    "collapsed": true
   },
   "source": [
    "## Exercise 2"
   ]
  },
  {
   "cell_type": "markdown",
   "metadata": {},
   "source": [
    "<h2>Strategy:</h2>\n",
    "\n",
    "Our strategy to handle the master project data is the following.\n",
    "\n",
    "***Master projects:*** The first hard choice was how to handle the student without any master projects. It appears that little of them have a master project registerd. However, as it is the mandatory thing to do to finish an epfl master, it looked for us that it was a mandatory data to have. Therefore, we decided to drop the students with no master projects, as we could not know if they really finished epfl. Also, it was asked in the instructions to check if they had one, so it seemed to us important to take this factor into account correctly.\n",
    "\n",
    "***At least one class: *** We decided to take only the students that were registered at least once in MA1,MA2 or MA3. As it could be exchange students coming just for the master project.\n",
    "\n",
    "***Basic duration: *** Therefore, we will use the students that have at least one semester and one master project registered. We will compute the duration between the earliest semester that they made at epfl, and the latest master project that they realized (as they could have done 2 masters projects if they failed the first one). This will be our \"basic duration\".\n",
    "\n",
    "*** Infered duration:*** As there were some missing datas, we decided to try to infer the missing semesters if there were some, as was asked in the instructions. If we had only MA3 data, we decided to drop the student because we could not fiably reconstruct the data (it would not be possible to make the difference between 1 year or 1.5 years duration).<br>\n",
    "The basic idea was to test if the \"basic duration\" was too short to be possible. As we know that we need at least 2 years to finish the master for students without specialization/minor, if it was too short we would make it longer to reach the minimum possible duration.\n",
    "\n",
    "***Statistical tests:*** With these datas, we could perform t-test to check if there was any difference between specialization."
   ]
  },
  {
   "cell_type": "markdown",
   "metadata": {},
   "source": [
    "<h3>Importing data</h3><br>\n",
    "We get the master data from the files."
   ]
  },
  {
   "cell_type": "code",
   "execution_count": 530,
   "metadata": {
    "collapsed": false
   },
   "outputs": [],
   "source": [
    "masters_sem1 = glob.glob('.\\\\data\\\\[0-9]*-[0-9]*Master semestre 1')\n",
    "masters_sem2 = glob.glob('.\\\\data\\\\[0-9]*-[0-9]*Master semestre 2')\n",
    "masters_sem3 = glob.glob('.\\\\data\\\\[0-9]*-[0-9]*Master semestre 3')\n",
    "projectsA = glob.glob('.\\\\data\\\\[0-9]*-[0-9]*Projet Master automne')\n",
    "projectsP = glob.glob('.\\\\data\\\\[0-9]*-[0-9]*Projet Master printemps')\n",
    "\n",
    "masters_sem1_df_list = [pd.read_pickle(data_file) for data_file in masters_sem1]\n",
    "masters_sem2_df_list = [pd.read_pickle(data_file) for data_file in masters_sem2]\n",
    "masters_sem3_df_list = [pd.read_pickle(data_file) for data_file in masters_sem3]\n",
    "projectsA_df_list = [pd.read_pickle(data_file) for data_file in projectsA]\n",
    "projectsP_df_list = [pd.read_pickle(data_file) for data_file in projectsP]"
   ]
  },
  {
   "cell_type": "code",
   "execution_count": 531,
   "metadata": {
    "collapsed": false
   },
   "outputs": [
    {
     "data": {
      "text/html": [
       "<div>\n",
       "<table border=\"1\" class=\"dataframe\">\n",
       "  <thead>\n",
       "    <tr style=\"text-align: right;\">\n",
       "      <th></th>\n",
       "      <th>Civilité</th>\n",
       "      <th>Nom Prénom</th>\n",
       "      <th>Spécialisation</th>\n",
       "      <th>Statut</th>\n",
       "      <th>No Sciper</th>\n",
       "      <th>Period Academic</th>\n",
       "      <th>Period pedagogic</th>\n",
       "    </tr>\n",
       "  </thead>\n",
       "  <tbody>\n",
       "    <tr>\n",
       "      <th>2</th>\n",
       "      <td>Monsieur</td>\n",
       "      <td>Brutsche Florian</td>\n",
       "      <td>Internet computing</td>\n",
       "      <td>Congé</td>\n",
       "      <td>159852</td>\n",
       "      <td>2007-2008</td>\n",
       "      <td>Projet Master printemps</td>\n",
       "    </tr>\n",
       "    <tr>\n",
       "      <th>3</th>\n",
       "      <td>Monsieur</td>\n",
       "      <td>Dotta Mirco</td>\n",
       "      <td>NaN</td>\n",
       "      <td>Stage</td>\n",
       "      <td>153819</td>\n",
       "      <td>2007-2008</td>\n",
       "      <td>Projet Master printemps</td>\n",
       "    </tr>\n",
       "    <tr>\n",
       "      <th>4</th>\n",
       "      <td>Monsieur</td>\n",
       "      <td>Hügli Michael</td>\n",
       "      <td>NaN</td>\n",
       "      <td>Stage</td>\n",
       "      <td>145957</td>\n",
       "      <td>2007-2008</td>\n",
       "      <td>Projet Master printemps</td>\n",
       "    </tr>\n",
       "    <tr>\n",
       "      <th>5</th>\n",
       "      <td>Monsieur</td>\n",
       "      <td>Indra Saurabh</td>\n",
       "      <td>NaN</td>\n",
       "      <td>Présent</td>\n",
       "      <td>173257</td>\n",
       "      <td>2007-2008</td>\n",
       "      <td>Projet Master printemps</td>\n",
       "    </tr>\n",
       "    <tr>\n",
       "      <th>6</th>\n",
       "      <td>Monsieur</td>\n",
       "      <td>Lépine Simon</td>\n",
       "      <td>Biocomputing</td>\n",
       "      <td>Présent</td>\n",
       "      <td>160150</td>\n",
       "      <td>2007-2008</td>\n",
       "      <td>Projet Master printemps</td>\n",
       "    </tr>\n",
       "    <tr>\n",
       "      <th>7</th>\n",
       "      <td>Monsieur</td>\n",
       "      <td>Stewart Conail</td>\n",
       "      <td>NaN</td>\n",
       "      <td>Présent</td>\n",
       "      <td>173527</td>\n",
       "      <td>2007-2008</td>\n",
       "      <td>Projet Master printemps</td>\n",
       "    </tr>\n",
       "  </tbody>\n",
       "</table>\n",
       "</div>"
      ],
      "text/plain": [
       "   Civilité        Nom Prénom      Spécialisation   Statut No Sciper  \\\n",
       "2  Monsieur  Brutsche Florian  Internet computing    Congé    159852   \n",
       "3  Monsieur       Dotta Mirco                 NaN    Stage    153819   \n",
       "4  Monsieur     Hügli Michael                 NaN    Stage    145957   \n",
       "5  Monsieur     Indra Saurabh                 NaN  Présent    173257   \n",
       "6  Monsieur      Lépine Simon        Biocomputing  Présent    160150   \n",
       "7  Monsieur    Stewart Conail                 NaN  Présent    173527   \n",
       "\n",
       "  Period Academic         Period pedagogic  \n",
       "2       2007-2008  Projet Master printemps  \n",
       "3       2007-2008  Projet Master printemps  \n",
       "4       2007-2008  Projet Master printemps  \n",
       "5       2007-2008  Projet Master printemps  \n",
       "6       2007-2008  Projet Master printemps  \n",
       "7       2007-2008  Projet Master printemps  "
      ]
     },
     "execution_count": 531,
     "metadata": {},
     "output_type": "execute_result"
    }
   ],
   "source": [
    "projectsP_df_list[0]"
   ]
  },
  {
   "cell_type": "markdown",
   "metadata": {},
   "source": [
    "<h3>Correcting the year</h3>\n",
    "As for the bachelor students, we will again correct the year according to if a student is in the spring or autumn semester"
   ]
  },
  {
   "cell_type": "code",
   "execution_count": 532,
   "metadata": {
    "collapsed": false
   },
   "outputs": [],
   "source": [
    "def correcting_year_Automn(automnDf):\n",
    "    # We select the second year of the column Period Academic and add 0.5 as it should be the second half of the year\n",
    "    for df in automnDf:\n",
    "        df[\"Period Academic\"]=int(df['Period Academic'][2].split('-')[0].replace(\" \", \"\")) + 0.5"
   ]
  },
  {
   "cell_type": "code",
   "execution_count": 533,
   "metadata": {
    "collapsed": false
   },
   "outputs": [],
   "source": [
    "correcting_year_Automn(masters_sem1_df_list)\n",
    "correcting_year_Automn(projectsA_df_list)"
   ]
  },
  {
   "cell_type": "code",
   "execution_count": 534,
   "metadata": {
    "collapsed": false
   },
   "outputs": [
    {
     "data": {
      "text/html": [
       "<div>\n",
       "<table border=\"1\" class=\"dataframe\">\n",
       "  <thead>\n",
       "    <tr style=\"text-align: right;\">\n",
       "      <th></th>\n",
       "      <th>Civilité</th>\n",
       "      <th>Nom Prénom</th>\n",
       "      <th>Spécialisation</th>\n",
       "      <th>Statut</th>\n",
       "      <th>Type Echange</th>\n",
       "      <th>Ecole Echange</th>\n",
       "      <th>No Sciper</th>\n",
       "      <th>Period Academic</th>\n",
       "      <th>Period pedagogic</th>\n",
       "    </tr>\n",
       "  </thead>\n",
       "  <tbody>\n",
       "    <tr>\n",
       "      <th>2</th>\n",
       "      <td>Monsieur</td>\n",
       "      <td>Aeberhard François-Xavier</td>\n",
       "      <td>NaN</td>\n",
       "      <td>Présent</td>\n",
       "      <td>NaN</td>\n",
       "      <td>NaN</td>\n",
       "      <td>153066</td>\n",
       "      <td>2007.5</td>\n",
       "      <td>Master semestre 1</td>\n",
       "    </tr>\n",
       "    <tr>\n",
       "      <th>3</th>\n",
       "      <td>Madame</td>\n",
       "      <td>Agarwal Megha</td>\n",
       "      <td>NaN</td>\n",
       "      <td>Présent</td>\n",
       "      <td>NaN</td>\n",
       "      <td>NaN</td>\n",
       "      <td>180027</td>\n",
       "      <td>2007.5</td>\n",
       "      <td>Master semestre 1</td>\n",
       "    </tr>\n",
       "    <tr>\n",
       "      <th>4</th>\n",
       "      <td>Monsieur</td>\n",
       "      <td>Anagnostaras David</td>\n",
       "      <td>NaN</td>\n",
       "      <td>Présent</td>\n",
       "      <td>NaN</td>\n",
       "      <td>NaN</td>\n",
       "      <td>152232</td>\n",
       "      <td>2007.5</td>\n",
       "      <td>Master semestre 1</td>\n",
       "    </tr>\n",
       "  </tbody>\n",
       "</table>\n",
       "</div>"
      ],
      "text/plain": [
       "   Civilité                 Nom Prénom Spécialisation   Statut Type Echange  \\\n",
       "2  Monsieur  Aeberhard François-Xavier            NaN  Présent          NaN   \n",
       "3    Madame              Agarwal Megha            NaN  Présent          NaN   \n",
       "4  Monsieur         Anagnostaras David            NaN  Présent          NaN   \n",
       "\n",
       "  Ecole Echange No Sciper  Period Academic   Period pedagogic  \n",
       "2           NaN    153066           2007.5  Master semestre 1  \n",
       "3           NaN    180027           2007.5  Master semestre 1  \n",
       "4           NaN    152232           2007.5  Master semestre 1  "
      ]
     },
     "execution_count": 534,
     "metadata": {},
     "output_type": "execute_result"
    }
   ],
   "source": [
    "masters_sem1_df_list[0].head(3)"
   ]
  },
  {
   "cell_type": "code",
   "execution_count": 535,
   "metadata": {
    "collapsed": true
   },
   "outputs": [],
   "source": [
    "def correcting_year_Spring(springDf):\n",
    "    # We select the second year of the column Period Academic\n",
    "    for df in springDf:\n",
    "        df[\"Period Academic\"] = int(df['Period Academic'][2].split('-')[1])  "
   ]
  },
  {
   "cell_type": "code",
   "execution_count": 536,
   "metadata": {
    "collapsed": true
   },
   "outputs": [],
   "source": [
    "correcting_year_Spring(masters_sem2_df_list)\n",
    "correcting_year_Spring(projectsP_df_list)"
   ]
  },
  {
   "cell_type": "code",
   "execution_count": 537,
   "metadata": {
    "collapsed": false
   },
   "outputs": [
    {
     "data": {
      "text/html": [
       "<div>\n",
       "<table border=\"1\" class=\"dataframe\">\n",
       "  <thead>\n",
       "    <tr style=\"text-align: right;\">\n",
       "      <th></th>\n",
       "      <th>Civilité</th>\n",
       "      <th>Nom Prénom</th>\n",
       "      <th>Spécialisation</th>\n",
       "      <th>Mineur</th>\n",
       "      <th>Statut</th>\n",
       "      <th>Type Echange</th>\n",
       "      <th>Ecole Echange</th>\n",
       "      <th>No Sciper</th>\n",
       "      <th>Period Academic</th>\n",
       "      <th>Period pedagogic</th>\n",
       "    </tr>\n",
       "  </thead>\n",
       "  <tbody>\n",
       "    <tr>\n",
       "      <th>2</th>\n",
       "      <td>Monsieur</td>\n",
       "      <td>Aeberhard François-Xavier</td>\n",
       "      <td>NaN</td>\n",
       "      <td>NaN</td>\n",
       "      <td>Présent</td>\n",
       "      <td>NaN</td>\n",
       "      <td>NaN</td>\n",
       "      <td>153066</td>\n",
       "      <td>2008</td>\n",
       "      <td>Master semestre 2</td>\n",
       "    </tr>\n",
       "    <tr>\n",
       "      <th>3</th>\n",
       "      <td>Madame</td>\n",
       "      <td>Agarwal Megha</td>\n",
       "      <td>NaN</td>\n",
       "      <td>NaN</td>\n",
       "      <td>Présent</td>\n",
       "      <td>NaN</td>\n",
       "      <td>NaN</td>\n",
       "      <td>180027</td>\n",
       "      <td>2008</td>\n",
       "      <td>Master semestre 2</td>\n",
       "    </tr>\n",
       "    <tr>\n",
       "      <th>4</th>\n",
       "      <td>Monsieur</td>\n",
       "      <td>Anagnostaras David</td>\n",
       "      <td>NaN</td>\n",
       "      <td>Mineur en Management, technologie et entrepren...</td>\n",
       "      <td>Présent</td>\n",
       "      <td>NaN</td>\n",
       "      <td>NaN</td>\n",
       "      <td>152232</td>\n",
       "      <td>2008</td>\n",
       "      <td>Master semestre 2</td>\n",
       "    </tr>\n",
       "  </tbody>\n",
       "</table>\n",
       "</div>"
      ],
      "text/plain": [
       "   Civilité                 Nom Prénom Spécialisation  \\\n",
       "2  Monsieur  Aeberhard François-Xavier            NaN   \n",
       "3    Madame              Agarwal Megha            NaN   \n",
       "4  Monsieur         Anagnostaras David            NaN   \n",
       "\n",
       "                                              Mineur   Statut Type Echange  \\\n",
       "2                                                NaN  Présent          NaN   \n",
       "3                                                NaN  Présent          NaN   \n",
       "4  Mineur en Management, technologie et entrepren...  Présent          NaN   \n",
       "\n",
       "  Ecole Echange No Sciper  Period Academic   Period pedagogic  \n",
       "2           NaN    153066             2008  Master semestre 2  \n",
       "3           NaN    180027             2008  Master semestre 2  \n",
       "4           NaN    152232             2008  Master semestre 2  "
      ]
     },
     "execution_count": 537,
     "metadata": {},
     "output_type": "execute_result"
    }
   ],
   "source": [
    "masters_sem2_df_list[0].head(3)"
   ]
  },
  {
   "cell_type": "markdown",
   "metadata": {},
   "source": [
    "<h3>Merging masters classes dataframes</h3><br>\n",
    "We add the \"master 2\" dataframe after the \"master 1\" dataframe (using the append function)"
   ]
  },
  {
   "cell_type": "code",
   "execution_count": 538,
   "metadata": {
    "collapsed": false
   },
   "outputs": [
    {
     "data": {
      "text/html": [
       "<div>\n",
       "<table border=\"1\" class=\"dataframe\">\n",
       "  <thead>\n",
       "    <tr style=\"text-align: right;\">\n",
       "      <th></th>\n",
       "      <th>Civilité</th>\n",
       "      <th>Ecole Echange</th>\n",
       "      <th>Mineur</th>\n",
       "      <th>No Sciper</th>\n",
       "      <th>Nom Prénom</th>\n",
       "      <th>Period Academic</th>\n",
       "      <th>Period pedagogic</th>\n",
       "      <th>Spécialisation</th>\n",
       "      <th>Statut</th>\n",
       "      <th>Type Echange</th>\n",
       "    </tr>\n",
       "  </thead>\n",
       "  <tbody>\n",
       "    <tr>\n",
       "      <th>0</th>\n",
       "      <td>Monsieur</td>\n",
       "      <td>NaN</td>\n",
       "      <td>NaN</td>\n",
       "      <td>153066</td>\n",
       "      <td>Aeberhard François-Xavier</td>\n",
       "      <td>2007.5</td>\n",
       "      <td>Master semestre 1</td>\n",
       "      <td>NaN</td>\n",
       "      <td>Présent</td>\n",
       "      <td>NaN</td>\n",
       "    </tr>\n",
       "    <tr>\n",
       "      <th>1</th>\n",
       "      <td>Madame</td>\n",
       "      <td>NaN</td>\n",
       "      <td>NaN</td>\n",
       "      <td>180027</td>\n",
       "      <td>Agarwal Megha</td>\n",
       "      <td>2007.5</td>\n",
       "      <td>Master semestre 1</td>\n",
       "      <td>NaN</td>\n",
       "      <td>Présent</td>\n",
       "      <td>NaN</td>\n",
       "    </tr>\n",
       "  </tbody>\n",
       "</table>\n",
       "</div>"
      ],
      "text/plain": [
       "   Civilité Ecole Echange Mineur No Sciper                 Nom Prénom  \\\n",
       "0  Monsieur           NaN    NaN    153066  Aeberhard François-Xavier   \n",
       "1    Madame           NaN    NaN    180027              Agarwal Megha   \n",
       "\n",
       "   Period Academic   Period pedagogic Spécialisation   Statut Type Echange  \n",
       "0           2007.5  Master semestre 1            NaN  Présent          NaN  \n",
       "1           2007.5  Master semestre 1            NaN  Présent          NaN  "
      ]
     },
     "execution_count": 538,
     "metadata": {},
     "output_type": "execute_result"
    }
   ],
   "source": [
    "master1_df = pd.concat(masters_sem1_df_list, ignore_index=True)\n",
    "master2_df = pd.concat(masters_sem2_df_list, ignore_index=True)\n",
    "master_courses = master1_df.append(master2_df)\n",
    "master_courses.head(2)"
   ]
  },
  {
   "cell_type": "markdown",
   "metadata": {},
   "source": [
    "<h3>Getting the earliest and latest stay of a student</h3><br>\n",
    "To know when a student has its earliest semester registered, we will sort the dataframe containing all the master semesters by date and drop all the duplicates while keeping the first data for each student. This will result in a dataframe with only the earliest semester of each student. We will do the same for the master project datas (except we will keep the last student as we want the latest stay).\n",
    "\n",
    "We sort \"merged masters\" dataframe by date and then by \"master 2\" and \"master 1\" (We have put \"master 2\" before \"master 1\" if \"master 1\" and \"master 2\" have the same date, since it will mean that the student started its master in spring, so marked as \"master 2\").\n",
    "\n",
    "First we prepare the sort by adding this \"sorting semester\" column that will help. This is a quicky \"trick\" as we can only sort by one specific order (ascending here) but we use two sorting values."
   ]
  },
  {
   "cell_type": "code",
   "execution_count": 539,
   "metadata": {
    "collapsed": false
   },
   "outputs": [
    {
     "data": {
      "text/html": [
       "<div>\n",
       "<table border=\"1\" class=\"dataframe\">\n",
       "  <thead>\n",
       "    <tr style=\"text-align: right;\">\n",
       "      <th></th>\n",
       "      <th>Civilité</th>\n",
       "      <th>Ecole Echange</th>\n",
       "      <th>Mineur</th>\n",
       "      <th>No Sciper</th>\n",
       "      <th>Nom Prénom</th>\n",
       "      <th>Period Academic</th>\n",
       "      <th>Period pedagogic</th>\n",
       "      <th>Spécialisation</th>\n",
       "      <th>Statut</th>\n",
       "      <th>Type Echange</th>\n",
       "      <th>sorting semester</th>\n",
       "    </tr>\n",
       "  </thead>\n",
       "  <tbody>\n",
       "    <tr>\n",
       "      <th>0</th>\n",
       "      <td>Monsieur</td>\n",
       "      <td>NaN</td>\n",
       "      <td>NaN</td>\n",
       "      <td>153066</td>\n",
       "      <td>Aeberhard François-Xavier</td>\n",
       "      <td>2007.5</td>\n",
       "      <td>Master semestre 1</td>\n",
       "      <td>NaN</td>\n",
       "      <td>Présent</td>\n",
       "      <td>NaN</td>\n",
       "      <td>-1</td>\n",
       "    </tr>\n",
       "    <tr>\n",
       "      <th>1</th>\n",
       "      <td>Madame</td>\n",
       "      <td>NaN</td>\n",
       "      <td>NaN</td>\n",
       "      <td>180027</td>\n",
       "      <td>Agarwal Megha</td>\n",
       "      <td>2007.5</td>\n",
       "      <td>Master semestre 1</td>\n",
       "      <td>NaN</td>\n",
       "      <td>Présent</td>\n",
       "      <td>NaN</td>\n",
       "      <td>-1</td>\n",
       "    </tr>\n",
       "  </tbody>\n",
       "</table>\n",
       "</div>"
      ],
      "text/plain": [
       "   Civilité Ecole Echange Mineur No Sciper                 Nom Prénom  \\\n",
       "0  Monsieur           NaN    NaN    153066  Aeberhard François-Xavier   \n",
       "1    Madame           NaN    NaN    180027              Agarwal Megha   \n",
       "\n",
       "   Period Academic   Period pedagogic Spécialisation   Statut Type Echange  \\\n",
       "0           2007.5  Master semestre 1            NaN  Présent          NaN   \n",
       "1           2007.5  Master semestre 1            NaN  Présent          NaN   \n",
       "\n",
       "   sorting semester  \n",
       "0                -1  \n",
       "1                -1  "
      ]
     },
     "execution_count": 539,
     "metadata": {},
     "output_type": "execute_result"
    }
   ],
   "source": [
    "def prepare_sort(row):\n",
    "    if row['Period pedagogic'] == 'Master semestre 1':\n",
    "        return -1\n",
    "    else:\n",
    "        return -2\n",
    "\n",
    "master_courses2 = master_courses.copy()\n",
    "master_courses2['sorting semester'] = master_courses2.apply(prepare_sort, axis=1)\n",
    "master_courses2.head(2)"
   ]
  },
  {
   "cell_type": "markdown",
   "metadata": {},
   "source": [
    "Then, we sort using the two values and drop the duplicates."
   ]
  },
  {
   "cell_type": "code",
   "execution_count": 540,
   "metadata": {
    "collapsed": false,
    "scrolled": true
   },
   "outputs": [
    {
     "data": {
      "text/html": [
       "<div>\n",
       "<table border=\"1\" class=\"dataframe\">\n",
       "  <thead>\n",
       "    <tr style=\"text-align: right;\">\n",
       "      <th></th>\n",
       "      <th>Civilité</th>\n",
       "      <th>Ecole Echange</th>\n",
       "      <th>Mineur</th>\n",
       "      <th>No Sciper</th>\n",
       "      <th>Nom Prénom</th>\n",
       "      <th>Period Academic</th>\n",
       "      <th>Period pedagogic</th>\n",
       "      <th>Spécialisation</th>\n",
       "      <th>Statut</th>\n",
       "      <th>Type Echange</th>\n",
       "      <th>sorting semester</th>\n",
       "    </tr>\n",
       "  </thead>\n",
       "  <tbody>\n",
       "    <tr>\n",
       "      <th>0</th>\n",
       "      <td>Monsieur</td>\n",
       "      <td>NaN</td>\n",
       "      <td>NaN</td>\n",
       "      <td>153066</td>\n",
       "      <td>Aeberhard François-Xavier</td>\n",
       "      <td>2007.5</td>\n",
       "      <td>Master semestre 1</td>\n",
       "      <td>NaN</td>\n",
       "      <td>Présent</td>\n",
       "      <td>NaN</td>\n",
       "      <td>-1</td>\n",
       "    </tr>\n",
       "    <tr>\n",
       "      <th>1</th>\n",
       "      <td>Madame</td>\n",
       "      <td>NaN</td>\n",
       "      <td>NaN</td>\n",
       "      <td>180027</td>\n",
       "      <td>Agarwal Megha</td>\n",
       "      <td>2007.5</td>\n",
       "      <td>Master semestre 1</td>\n",
       "      <td>NaN</td>\n",
       "      <td>Présent</td>\n",
       "      <td>NaN</td>\n",
       "      <td>-1</td>\n",
       "    </tr>\n",
       "  </tbody>\n",
       "</table>\n",
       "</div>"
      ],
      "text/plain": [
       "   Civilité Ecole Echange Mineur No Sciper                 Nom Prénom  \\\n",
       "0  Monsieur           NaN    NaN    153066  Aeberhard François-Xavier   \n",
       "1    Madame           NaN    NaN    180027              Agarwal Megha   \n",
       "\n",
       "   Period Academic   Period pedagogic Spécialisation   Statut Type Echange  \\\n",
       "0           2007.5  Master semestre 1            NaN  Présent          NaN   \n",
       "1           2007.5  Master semestre 1            NaN  Présent          NaN   \n",
       "\n",
       "   sorting semester  \n",
       "0                -1  \n",
       "1                -1  "
      ]
     },
     "execution_count": 540,
     "metadata": {},
     "output_type": "execute_result"
    }
   ],
   "source": [
    "master_courses_sorted = master_courses2.sort_values(['Period Academic', 'sorting semester'], ascending=True)\n",
    "master_courses_sorted = master_courses_sorted.drop_duplicates(subset='No Sciper', keep='first')\n",
    "master_courses_sorted.head(2)"
   ]
  },
  {
   "cell_type": "markdown",
   "metadata": {},
   "source": [
    "Here, we merge the master projects dataframes and get the latest project registered for each student (one student may have done two master projects)."
   ]
  },
  {
   "cell_type": "code",
   "execution_count": 541,
   "metadata": {
    "collapsed": true
   },
   "outputs": [],
   "source": [
    "mp_a = pd.concat(projectsA_df_list, ignore_index=True)\n",
    "mp_p = pd.concat(projectsP_df_list, ignore_index=True)"
   ]
  },
  {
   "cell_type": "code",
   "execution_count": 542,
   "metadata": {
    "collapsed": false
   },
   "outputs": [
    {
     "data": {
      "text/html": [
       "<div>\n",
       "<table border=\"1\" class=\"dataframe\">\n",
       "  <thead>\n",
       "    <tr style=\"text-align: right;\">\n",
       "      <th></th>\n",
       "      <th>Civilité</th>\n",
       "      <th>Ecole Echange</th>\n",
       "      <th>Mineur</th>\n",
       "      <th>No Sciper</th>\n",
       "      <th>Nom Prénom</th>\n",
       "      <th>Period Academic</th>\n",
       "      <th>Period pedagogic</th>\n",
       "      <th>Spécialisation</th>\n",
       "      <th>Statut</th>\n",
       "      <th>Type Echange</th>\n",
       "    </tr>\n",
       "  </thead>\n",
       "  <tbody>\n",
       "    <tr>\n",
       "      <th>88</th>\n",
       "      <td>Monsieur</td>\n",
       "      <td>NaN</td>\n",
       "      <td>NaN</td>\n",
       "      <td>145957</td>\n",
       "      <td>Hügli Michael</td>\n",
       "      <td>2008.0</td>\n",
       "      <td>Projet Master printemps</td>\n",
       "      <td>NaN</td>\n",
       "      <td>Stage</td>\n",
       "      <td>NaN</td>\n",
       "    </tr>\n",
       "    <tr>\n",
       "      <th>89</th>\n",
       "      <td>Monsieur</td>\n",
       "      <td>NaN</td>\n",
       "      <td>NaN</td>\n",
       "      <td>173257</td>\n",
       "      <td>Indra Saurabh</td>\n",
       "      <td>2008.0</td>\n",
       "      <td>Projet Master printemps</td>\n",
       "      <td>NaN</td>\n",
       "      <td>Présent</td>\n",
       "      <td>NaN</td>\n",
       "    </tr>\n",
       "    <tr>\n",
       "      <th>90</th>\n",
       "      <td>Monsieur</td>\n",
       "      <td>NaN</td>\n",
       "      <td>NaN</td>\n",
       "      <td>160150</td>\n",
       "      <td>Lépine Simon</td>\n",
       "      <td>2008.0</td>\n",
       "      <td>Projet Master printemps</td>\n",
       "      <td>Biocomputing</td>\n",
       "      <td>Présent</td>\n",
       "      <td>NaN</td>\n",
       "    </tr>\n",
       "    <tr>\n",
       "      <th>91</th>\n",
       "      <td>Monsieur</td>\n",
       "      <td>NaN</td>\n",
       "      <td>NaN</td>\n",
       "      <td>173527</td>\n",
       "      <td>Stewart Conail</td>\n",
       "      <td>2008.0</td>\n",
       "      <td>Projet Master printemps</td>\n",
       "      <td>NaN</td>\n",
       "      <td>Présent</td>\n",
       "      <td>NaN</td>\n",
       "    </tr>\n",
       "    <tr>\n",
       "      <th>87</th>\n",
       "      <td>Monsieur</td>\n",
       "      <td>NaN</td>\n",
       "      <td>NaN</td>\n",
       "      <td>153819</td>\n",
       "      <td>Dotta Mirco</td>\n",
       "      <td>2008.0</td>\n",
       "      <td>Projet Master printemps</td>\n",
       "      <td>NaN</td>\n",
       "      <td>Stage</td>\n",
       "      <td>NaN</td>\n",
       "    </tr>\n",
       "  </tbody>\n",
       "</table>\n",
       "</div>"
      ],
      "text/plain": [
       "    Civilité Ecole Echange Mineur No Sciper      Nom Prénom  Period Academic  \\\n",
       "88  Monsieur           NaN    NaN    145957   Hügli Michael           2008.0   \n",
       "89  Monsieur           NaN    NaN    173257   Indra Saurabh           2008.0   \n",
       "90  Monsieur           NaN    NaN    160150    Lépine Simon           2008.0   \n",
       "91  Monsieur           NaN    NaN    173527  Stewart Conail           2008.0   \n",
       "87  Monsieur           NaN    NaN    153819     Dotta Mirco           2008.0   \n",
       "\n",
       "           Period pedagogic Spécialisation   Statut Type Echange  \n",
       "88  Projet Master printemps            NaN    Stage          NaN  \n",
       "89  Projet Master printemps            NaN  Présent          NaN  \n",
       "90  Projet Master printemps   Biocomputing  Présent          NaN  \n",
       "91  Projet Master printemps            NaN  Présent          NaN  \n",
       "87  Projet Master printemps            NaN    Stage          NaN  "
      ]
     },
     "execution_count": 542,
     "metadata": {},
     "output_type": "execute_result"
    }
   ],
   "source": [
    "master_proj_df = pd.concat([mp_a, mp_p], ignore_index=True)\n",
    "\n",
    "master_proj_df = master_proj_df.sort_values(['Period Academic'], ascending=True)\n",
    "master_proj_df = master_proj_df.drop_duplicates(subset='No Sciper', keep='last')\n",
    "master_proj_df.head()"
   ]
  },
  {
   "cell_type": "markdown",
   "metadata": {},
   "source": [
    "<h3>Merging master classes and master projects students table</h3>"
   ]
  },
  {
   "cell_type": "code",
   "execution_count": 543,
   "metadata": {
    "collapsed": false
   },
   "outputs": [
    {
     "data": {
      "text/html": [
       "<div>\n",
       "<table border=\"1\" class=\"dataframe\">\n",
       "  <thead>\n",
       "    <tr style=\"text-align: right;\">\n",
       "      <th></th>\n",
       "      <th>Civilité_x</th>\n",
       "      <th>Ecole Echange_x</th>\n",
       "      <th>Mineur_x</th>\n",
       "      <th>No Sciper</th>\n",
       "      <th>Nom Prénom_x</th>\n",
       "      <th>Period Academic_x</th>\n",
       "      <th>Period pedagogic_x</th>\n",
       "      <th>Spécialisation_x</th>\n",
       "      <th>Statut_x</th>\n",
       "      <th>Type Echange_x</th>\n",
       "      <th>sorting semester</th>\n",
       "      <th>Civilité_y</th>\n",
       "      <th>Ecole Echange_y</th>\n",
       "      <th>Mineur_y</th>\n",
       "      <th>Nom Prénom_y</th>\n",
       "      <th>Period Academic_y</th>\n",
       "      <th>Period pedagogic_y</th>\n",
       "      <th>Spécialisation_y</th>\n",
       "      <th>Statut_y</th>\n",
       "      <th>Type Echange_y</th>\n",
       "    </tr>\n",
       "  </thead>\n",
       "  <tbody>\n",
       "    <tr>\n",
       "      <th>0</th>\n",
       "      <td>Madame</td>\n",
       "      <td>NaN</td>\n",
       "      <td>NaN</td>\n",
       "      <td>180027</td>\n",
       "      <td>Agarwal Megha</td>\n",
       "      <td>2007.5</td>\n",
       "      <td>Master semestre 1</td>\n",
       "      <td>NaN</td>\n",
       "      <td>Présent</td>\n",
       "      <td>NaN</td>\n",
       "      <td>-1</td>\n",
       "      <td>Madame</td>\n",
       "      <td>NaN</td>\n",
       "      <td>NaN</td>\n",
       "      <td>Agarwal Megha</td>\n",
       "      <td>2008.5</td>\n",
       "      <td>Projet Master automne</td>\n",
       "      <td>NaN</td>\n",
       "      <td>Stage</td>\n",
       "      <td>NaN</td>\n",
       "    </tr>\n",
       "    <tr>\n",
       "      <th>1</th>\n",
       "      <td>Madame</td>\n",
       "      <td>NaN</td>\n",
       "      <td>NaN</td>\n",
       "      <td>154573</td>\n",
       "      <td>Benabdallah Zeineb</td>\n",
       "      <td>2007.5</td>\n",
       "      <td>Master semestre 1</td>\n",
       "      <td>NaN</td>\n",
       "      <td>Présent</td>\n",
       "      <td>NaN</td>\n",
       "      <td>-1</td>\n",
       "      <td>Madame</td>\n",
       "      <td>NaN</td>\n",
       "      <td>NaN</td>\n",
       "      <td>Benabdallah Zeineb</td>\n",
       "      <td>2010.0</td>\n",
       "      <td>Projet Master printemps</td>\n",
       "      <td>Biocomputing</td>\n",
       "      <td>Présent</td>\n",
       "      <td>NaN</td>\n",
       "    </tr>\n",
       "    <tr>\n",
       "      <th>2</th>\n",
       "      <td>Monsieur</td>\n",
       "      <td>NaN</td>\n",
       "      <td>NaN</td>\n",
       "      <td>172687</td>\n",
       "      <td>Billaud Joël</td>\n",
       "      <td>2007.5</td>\n",
       "      <td>Master semestre 1</td>\n",
       "      <td>NaN</td>\n",
       "      <td>Présent</td>\n",
       "      <td>NaN</td>\n",
       "      <td>-1</td>\n",
       "      <td>Monsieur</td>\n",
       "      <td>NaN</td>\n",
       "      <td>NaN</td>\n",
       "      <td>Billaud Joël</td>\n",
       "      <td>2009.0</td>\n",
       "      <td>Projet Master printemps</td>\n",
       "      <td>NaN</td>\n",
       "      <td>Stage</td>\n",
       "      <td>NaN</td>\n",
       "    </tr>\n",
       "    <tr>\n",
       "      <th>3</th>\n",
       "      <td>Monsieur</td>\n",
       "      <td>NaN</td>\n",
       "      <td>NaN</td>\n",
       "      <td>180072</td>\n",
       "      <td>Campora Simone</td>\n",
       "      <td>2007.5</td>\n",
       "      <td>Master semestre 1</td>\n",
       "      <td>Internet computing</td>\n",
       "      <td>Présent</td>\n",
       "      <td>NaN</td>\n",
       "      <td>-1</td>\n",
       "      <td>Monsieur</td>\n",
       "      <td>NaN</td>\n",
       "      <td>NaN</td>\n",
       "      <td>Campora Simone</td>\n",
       "      <td>2009.0</td>\n",
       "      <td>Projet Master printemps</td>\n",
       "      <td>Internet computing</td>\n",
       "      <td>Stage</td>\n",
       "      <td>NaN</td>\n",
       "    </tr>\n",
       "    <tr>\n",
       "      <th>4</th>\n",
       "      <td>Monsieur</td>\n",
       "      <td>NaN</td>\n",
       "      <td>NaN</td>\n",
       "      <td>160225</td>\n",
       "      <td>Cassata Alexandre</td>\n",
       "      <td>2007.5</td>\n",
       "      <td>Master semestre 1</td>\n",
       "      <td>NaN</td>\n",
       "      <td>Présent</td>\n",
       "      <td>NaN</td>\n",
       "      <td>-1</td>\n",
       "      <td>Monsieur</td>\n",
       "      <td>NaN</td>\n",
       "      <td>NaN</td>\n",
       "      <td>Cassata Alexandre</td>\n",
       "      <td>2009.0</td>\n",
       "      <td>Projet Master printemps</td>\n",
       "      <td>NaN</td>\n",
       "      <td>Stage</td>\n",
       "      <td>NaN</td>\n",
       "    </tr>\n",
       "  </tbody>\n",
       "</table>\n",
       "</div>"
      ],
      "text/plain": [
       "  Civilité_x Ecole Echange_x Mineur_x No Sciper        Nom Prénom_x  \\\n",
       "0     Madame             NaN      NaN    180027       Agarwal Megha   \n",
       "1     Madame             NaN      NaN    154573  Benabdallah Zeineb   \n",
       "2   Monsieur             NaN      NaN    172687        Billaud Joël   \n",
       "3   Monsieur             NaN      NaN    180072      Campora Simone   \n",
       "4   Monsieur             NaN      NaN    160225   Cassata Alexandre   \n",
       "\n",
       "   Period Academic_x Period pedagogic_x    Spécialisation_x Statut_x  \\\n",
       "0             2007.5  Master semestre 1                 NaN  Présent   \n",
       "1             2007.5  Master semestre 1                 NaN  Présent   \n",
       "2             2007.5  Master semestre 1                 NaN  Présent   \n",
       "3             2007.5  Master semestre 1  Internet computing  Présent   \n",
       "4             2007.5  Master semestre 1                 NaN  Présent   \n",
       "\n",
       "  Type Echange_x  sorting semester Civilité_y Ecole Echange_y Mineur_y  \\\n",
       "0            NaN                -1     Madame             NaN      NaN   \n",
       "1            NaN                -1     Madame             NaN      NaN   \n",
       "2            NaN                -1   Monsieur             NaN      NaN   \n",
       "3            NaN                -1   Monsieur             NaN      NaN   \n",
       "4            NaN                -1   Monsieur             NaN      NaN   \n",
       "\n",
       "         Nom Prénom_y  Period Academic_y       Period pedagogic_y  \\\n",
       "0       Agarwal Megha             2008.5    Projet Master automne   \n",
       "1  Benabdallah Zeineb             2010.0  Projet Master printemps   \n",
       "2        Billaud Joël             2009.0  Projet Master printemps   \n",
       "3      Campora Simone             2009.0  Projet Master printemps   \n",
       "4   Cassata Alexandre             2009.0  Projet Master printemps   \n",
       "\n",
       "     Spécialisation_y Statut_y Type Echange_y  \n",
       "0                 NaN    Stage            NaN  \n",
       "1        Biocomputing  Présent            NaN  \n",
       "2                 NaN    Stage            NaN  \n",
       "3  Internet computing    Stage            NaN  \n",
       "4                 NaN    Stage            NaN  "
      ]
     },
     "execution_count": 543,
     "metadata": {},
     "output_type": "execute_result"
    }
   ],
   "source": [
    "students = pd.merge(master_courses_sorted, master_proj_df, on='No Sciper', how='inner')\n",
    "students.head()"
   ]
  },
  {
   "cell_type": "markdown",
   "metadata": {},
   "source": [
    "<h3>Duration computation</h3>\n",
    "We keep the interesting columns and compute the duration."
   ]
  },
  {
   "cell_type": "code",
   "execution_count": 544,
   "metadata": {
    "collapsed": true
   },
   "outputs": [],
   "source": [
    "students = pd.DataFrame({'No Sciper': students['No Sciper'], 'Civilité' :students['Civilité_x'], 'Spécialisation': students['Spécialisation_y'], 'Mineur': students['Mineur_y'], 'Duration of Master': students['Period Academic_y'] - students['Period Academic_x']})"
   ]
  },
  {
   "cell_type": "code",
   "execution_count": 545,
   "metadata": {
    "collapsed": false
   },
   "outputs": [
    {
     "data": {
      "text/html": [
       "<div>\n",
       "<table border=\"1\" class=\"dataframe\">\n",
       "  <thead>\n",
       "    <tr style=\"text-align: right;\">\n",
       "      <th></th>\n",
       "      <th>Civilité</th>\n",
       "      <th>Duration of Master</th>\n",
       "      <th>Mineur</th>\n",
       "      <th>No Sciper</th>\n",
       "      <th>Spécialisation</th>\n",
       "    </tr>\n",
       "  </thead>\n",
       "  <tbody>\n",
       "    <tr>\n",
       "      <th>0</th>\n",
       "      <td>Madame</td>\n",
       "      <td>1.0</td>\n",
       "      <td>NaN</td>\n",
       "      <td>180027</td>\n",
       "      <td>NaN</td>\n",
       "    </tr>\n",
       "    <tr>\n",
       "      <th>1</th>\n",
       "      <td>Madame</td>\n",
       "      <td>2.5</td>\n",
       "      <td>NaN</td>\n",
       "      <td>154573</td>\n",
       "      <td>Biocomputing</td>\n",
       "    </tr>\n",
       "    <tr>\n",
       "      <th>2</th>\n",
       "      <td>Monsieur</td>\n",
       "      <td>1.5</td>\n",
       "      <td>NaN</td>\n",
       "      <td>172687</td>\n",
       "      <td>NaN</td>\n",
       "    </tr>\n",
       "    <tr>\n",
       "      <th>3</th>\n",
       "      <td>Monsieur</td>\n",
       "      <td>1.5</td>\n",
       "      <td>NaN</td>\n",
       "      <td>180072</td>\n",
       "      <td>Internet computing</td>\n",
       "    </tr>\n",
       "    <tr>\n",
       "      <th>4</th>\n",
       "      <td>Monsieur</td>\n",
       "      <td>1.5</td>\n",
       "      <td>NaN</td>\n",
       "      <td>160225</td>\n",
       "      <td>NaN</td>\n",
       "    </tr>\n",
       "  </tbody>\n",
       "</table>\n",
       "</div>"
      ],
      "text/plain": [
       "   Civilité  Duration of Master Mineur No Sciper      Spécialisation\n",
       "0    Madame                 1.0    NaN    180027                 NaN\n",
       "1    Madame                 2.5    NaN    154573        Biocomputing\n",
       "2  Monsieur                 1.5    NaN    172687                 NaN\n",
       "3  Monsieur                 1.5    NaN    180072  Internet computing\n",
       "4  Monsieur                 1.5    NaN    160225                 NaN"
      ]
     },
     "execution_count": 545,
     "metadata": {},
     "output_type": "execute_result"
    }
   ],
   "source": [
    "students.head()"
   ]
  },
  {
   "cell_type": "code",
   "execution_count": 553,
   "metadata": {
    "collapsed": false
   },
   "outputs": [
    {
     "data": {
      "text/plain": [
       "array([[<matplotlib.axes._subplots.AxesSubplot object at 0x0000028FDFC01BA8>,\n",
       "        <matplotlib.axes._subplots.AxesSubplot object at 0x0000028FE10AD128>]], dtype=object)"
      ]
     },
     "execution_count": 553,
     "metadata": {},
     "output_type": "execute_result"
    },
    {
     "data": {
      "image/png": "[encoded data removed]",
      "text/plain": [
       "<matplotlib.figure.Figure at 0x28fdfbf0438>"
      ]
     },
     "metadata": {},
     "output_type": "display_data"
    }
   ],
   "source": [
    "students.hist()"
   ]
  },
  {
   "cell_type": "markdown",
   "metadata": {},
   "source": [
    "Here we compute the new duration. We looked at all the different cases and changed the duration acordingly."
   ]
  },
  {
   "cell_type": "code",
   "execution_count": 546,
   "metadata": {
    "collapsed": true
   },
   "outputs": [],
   "source": [
    "MASTER_MIN_DURATION_NO_SPE = 1.5\n",
    "MASTER_MIN_DURATION_SPE = 2.\n",
    "\n",
    "def make_final_duration(row):\n",
    "    duration = float(row['Duration of Master'])\n",
    "    minor = row['Mineur']\n",
    "    spec = row['Spécialisation']\n",
    "    \n",
    "    no_m_sp = pd.isnull(minor) and pd.isnull(spec)\n",
    "    \n",
    "    if duration < MASTER_MIN_DURATION_NO_SPE and no_m_sp:\n",
    "        return MASTER_MIN_DURATION_NO_SPE\n",
    "    if duration < MASTER_MIN_DURATION_SPE and not no_m_sp:\n",
    "        if duration == 1.5:\n",
    "            return MASTER_MIN_DURATION_SPE\n",
    "        else:\n",
    "            return 2.5\n",
    "    else:\n",
    "        return duration"
   ]
  },
  {
   "cell_type": "code",
   "execution_count": 547,
   "metadata": {
    "collapsed": true
   },
   "outputs": [],
   "source": [
    "students['Final Duration'] = students.apply(make_final_duration, axis=1)"
   ]
  },
  {
   "cell_type": "code",
   "execution_count": 548,
   "metadata": {
    "collapsed": false
   },
   "outputs": [
    {
     "data": {
      "text/html": [
       "<div>\n",
       "<table border=\"1\" class=\"dataframe\">\n",
       "  <thead>\n",
       "    <tr style=\"text-align: right;\">\n",
       "      <th></th>\n",
       "      <th>Duration of Master</th>\n",
       "      <th>Final Duration</th>\n",
       "    </tr>\n",
       "  </thead>\n",
       "  <tbody>\n",
       "    <tr>\n",
       "      <th>count</th>\n",
       "      <td>115.000000</td>\n",
       "      <td>115.000000</td>\n",
       "    </tr>\n",
       "    <tr>\n",
       "      <th>mean</th>\n",
       "      <td>1.617391</td>\n",
       "      <td>1.800000</td>\n",
       "    </tr>\n",
       "    <tr>\n",
       "      <th>std</th>\n",
       "      <td>0.510119</td>\n",
       "      <td>0.361527</td>\n",
       "    </tr>\n",
       "    <tr>\n",
       "      <th>min</th>\n",
       "      <td>1.000000</td>\n",
       "      <td>1.500000</td>\n",
       "    </tr>\n",
       "    <tr>\n",
       "      <th>25%</th>\n",
       "      <td>1.000000</td>\n",
       "      <td>1.500000</td>\n",
       "    </tr>\n",
       "    <tr>\n",
       "      <th>50%</th>\n",
       "      <td>1.500000</td>\n",
       "      <td>2.000000</td>\n",
       "    </tr>\n",
       "    <tr>\n",
       "      <th>75%</th>\n",
       "      <td>2.000000</td>\n",
       "      <td>2.000000</td>\n",
       "    </tr>\n",
       "    <tr>\n",
       "      <th>max</th>\n",
       "      <td>3.500000</td>\n",
       "      <td>3.500000</td>\n",
       "    </tr>\n",
       "  </tbody>\n",
       "</table>\n",
       "</div>"
      ],
      "text/plain": [
       "       Duration of Master  Final Duration\n",
       "count          115.000000      115.000000\n",
       "mean             1.617391        1.800000\n",
       "std              0.510119        0.361527\n",
       "min              1.000000        1.500000\n",
       "25%              1.000000        1.500000\n",
       "50%              1.500000        2.000000\n",
       "75%              2.000000        2.000000\n",
       "max              3.500000        3.500000"
      ]
     },
     "execution_count": 548,
     "metadata": {},
     "output_type": "execute_result"
    }
   ],
   "source": [
    "students.describe()"
   ]
  },
  {
   "cell_type": "markdown",
   "metadata": {},
   "source": [
    "<h3>Statistical tests</h3>"
   ]
  },
  {
   "cell_type": "code",
   "execution_count": 549,
   "metadata": {
    "collapsed": true
   },
   "outputs": [],
   "source": [
    "stup = students.copy()"
   ]
  },
  {
   "cell_type": "code",
   "execution_count": 550,
   "metadata": {
    "collapsed": true
   },
   "outputs": [],
   "source": [
    "gb_obj = stup.groupby('Spécialisation')"
   ]
  },
  {
   "cell_type": "code",
   "execution_count": 554,
   "metadata": {
    "collapsed": false
   },
   "outputs": [
    {
     "data": {
      "text/html": [
       "<div>\n",
       "<table border=\"1\" class=\"dataframe\">\n",
       "  <thead>\n",
       "    <tr style=\"text-align: right;\">\n",
       "      <th></th>\n",
       "      <th>Biocomputing</th>\n",
       "      <th>Computer Engineering - SP</th>\n",
       "      <th>Foundations of Software</th>\n",
       "      <th>Information Security - SP</th>\n",
       "      <th>Internet computing</th>\n",
       "      <th>Service science</th>\n",
       "      <th>Signals, Images and Interfaces</th>\n",
       "      <th>Software Systems</th>\n",
       "    </tr>\n",
       "  </thead>\n",
       "  <tbody>\n",
       "    <tr>\n",
       "      <th>0</th>\n",
       "      <td>2.5</td>\n",
       "      <td>2.0</td>\n",
       "      <td>2.071429</td>\n",
       "      <td>2.0</td>\n",
       "      <td>1.85</td>\n",
       "      <td>2.0</td>\n",
       "      <td>1.5</td>\n",
       "      <td>2.0</td>\n",
       "    </tr>\n",
       "  </tbody>\n",
       "</table>\n",
       "</div>"
      ],
      "text/plain": [
       "   Biocomputing  Computer Engineering - SP  Foundations of Software  \\\n",
       "0           2.5                        2.0                 2.071429   \n",
       "\n",
       "   Information Security - SP  Internet computing  Service science  \\\n",
       "0                        2.0                1.85              2.0   \n",
       "\n",
       "   Signals, Images and Interfaces  Software Systems  \n",
       "0                             1.5               2.0  "
      ]
     },
     "execution_count": 554,
     "metadata": {},
     "output_type": "execute_result"
    }
   ],
   "source": [
    "mean_by_specialization_df = pd.DataFrame({name : [group['Duration of Master'].mean()] for name, group in gb_obj})\n",
    "mean_by_specialization_df"
   ]
  },
  {
   "cell_type": "code",
   "execution_count": 565,
   "metadata": {
    "collapsed": false
   },
   "outputs": [
    {
     "data": {
      "image/png": "[encoded data removed]",
      "text/plain": [
       "<matplotlib.figure.Figure at 0x28fe1377a90>"
      ]
     },
     "metadata": {},
     "output_type": "display_data"
    }
   ],
   "source": [
    "ax = mean_by_specialization_df.plot(kind='bar', lw=1)\n",
    "ax.set_xlabel(\"Specializations\")\n",
    "ax.set_ylabel(\"Years\")\n",
    "\n",
    "ax.tick_params(\n",
    "    axis='x',          # changes apply to the x-axis\n",
    "    which='both',      # both major and minor ticks are affected\n",
    "    bottom='off',      # ticks along the bottom edge are off\n",
    "    top='off',         # ticks along the top edge are off\n",
    "    labelbottom='off') # labels along the bottom edge are off"
   ]
  },
  {
   "cell_type": "markdown",
   "metadata": {},
   "source": [
    "The ttest_1sample is a two-sided test for the null hypothesis that the expected value (mean) of a sample of independent observations a is equal to the given population mean. In this situation, the population is all the master students and the sample is the student that choose a specific specialisation. "
   ]
  },
  {
   "cell_type": "code",
   "execution_count": 551,
   "metadata": {
    "collapsed": false
   },
   "outputs": [
    {
     "name": "stdout",
     "output_type": "stream",
     "text": [
      "Biocomputing [2.5]\n",
      "Ttest_1sampResult(statistic=nan, pvalue=nan)\n",
      "\n",
      "\n",
      "Computer Engineering - SP [2.0, 2.0]\n",
      "Ttest_1sampResult(statistic=inf, pvalue=0.0)\n",
      "\n",
      "\n",
      "Foundations of Software [2.0, 2.0, 2.0, 3.0, 3.0, 2.0, 2.0]\n",
      "Ttest_1sampResult(statistic=2.633628675421043, pvalue=0.038870365703458587)\n",
      "\n",
      "\n",
      "Information Security - SP [2.0, 2.0]\n",
      "Ttest_1sampResult(statistic=inf, pvalue=0.0)\n",
      "\n",
      "\n",
      "Internet computing [2.0, 2.0, 2.0, 2.0, 2.5, 2.0, 2.0, 2.0, 2.0, 2.0]\n",
      "Ttest_1sampResult(statistic=4.9999999999999956, pvalue=0.00073896790980324716)\n",
      "\n",
      "\n",
      "Service science [2.0]\n",
      "Ttest_1sampResult(statistic=nan, pvalue=nan)\n",
      "\n",
      "\n",
      "Signals, Images and Interfaces [2.0]\n",
      "Ttest_1sampResult(statistic=nan, pvalue=nan)\n",
      "\n",
      "\n",
      "Software Systems [2.0, 2.0]\n",
      "Ttest_1sampResult(statistic=inf, pvalue=0.0)\n",
      "\n",
      "\n"
     ]
    },
    {
     "name": "stderr",
     "output_type": "stream",
     "text": [
      "C:\\Users\\Sergii\\Anaconda3\\lib\\site-packages\\numpy\\core\\_methods.py:82: RuntimeWarning: Degrees of freedom <= 0 for slice\n",
      "  warnings.warn(\"Degrees of freedom <= 0 for slice\", RuntimeWarning)\n"
     ]
    }
   ],
   "source": [
    "p_values = {}\n",
    "\n",
    "for name, group in gb_obj:\n",
    "    print(name,\n",
    "    group['Final Duration'].tolist())\n",
    " \n",
    "    print(scipy.stats.ttest_1samp(group['Final Duration'].tolist()\n",
    "                                              , students['Final Duration'].mean()))\n",
    "    print(\"\\n\")"
   ]
  },
  {
   "cell_type": "markdown",
   "metadata": {},
   "source": [
    "We observe Nan value for specialisation containing only one entry. We did not take them into account as making statistic on sample of one student is meaningless. \n",
    "\n",
    "As explain in https://en.wikipedia.org/wiki/P-value, the only difference that can be observable with a threshold of 1% is the specialisation of Foundations of Software. Those students took more time to finish their Master."
   ]
  }
 ],
 "metadata": {
  "anaconda-cloud": {},
  "kernelspec": {
   "display_name": "Python [Root]",
   "language": "python",
   "name": "Python [Root]"
  },
  "language_info": {
   "codemirror_mode": {
    "name": "ipython",
    "version": 3
   },
   "file_extension": ".py",
   "mimetype": "text/x-python",
   "name": "python",
   "nbconvert_exporter": "python",
   "pygments_lexer": "ipython3",
   "version": "3.5.2"
  }
 },
 "nbformat": 4,
 "nbformat_minor": 0
}
