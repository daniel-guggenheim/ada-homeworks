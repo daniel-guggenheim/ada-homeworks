{
 "cells": [
  {
   "cell_type": "markdown",
   "metadata": {},
   "source": [
    "<h1>Homework 03 - Interactive Viz</h1>"
   ]
  },
  {
   "cell_type": "code",
   "execution_count": 142,
   "metadata": {
    "collapsed": false
   },
   "outputs": [],
   "source": [
    "## Importing useful libraries\n",
    "import pandas as pd\n",
    "import numpy as np\n",
    "import folium as fm\n",
    "import re\n",
    "import os\n",
    "import simplejson as json\n",
    "import urllib"
   ]
  },
  {
   "cell_type": "markdown",
   "metadata": {},
   "source": [
    "<h2>1. Importation and data cleaning</h2>"
   ]
  },
  {
   "cell_type": "markdown",
   "metadata": {},
   "source": [
    "We import the data and put it in a dataframe."
   ]
  },
  {
   "cell_type": "code",
   "execution_count": 143,
   "metadata": {
    "collapsed": false
   },
   "outputs": [],
   "source": [
    "os.path.exists('./Data/P3_GrantExport.csv')\n",
    "data = pd.read_csv('./Data/P3_GrantExport.csv', delimiter=';', na_values=['.'], error_bad_lines=False)"
   ]
  },
  {
   "cell_type": "markdown",
   "metadata": {},
   "source": [
    "All the useless columns are dropped."
   ]
  },
  {
   "cell_type": "code",
   "execution_count": 144,
   "metadata": {
    "collapsed": false
   },
   "outputs": [
    {
     "data": {
      "text/html": [
       "<div>\n",
       "<table border=\"1\" class=\"dataframe\">\n",
       "  <thead>\n",
       "    <tr style=\"text-align: right;\">\n",
       "      <th></th>\n",
       "      <th>Project Number</th>\n",
       "      <th>University</th>\n",
       "      <th>Start Date</th>\n",
       "      <th>End Date</th>\n",
       "      <th>Approved Amount</th>\n",
       "    </tr>\n",
       "  </thead>\n",
       "  <tbody>\n",
       "    <tr>\n",
       "      <th>0</th>\n",
       "      <td>1</td>\n",
       "      <td>Nicht zuteilbar - NA</td>\n",
       "      <td>01.10.1975</td>\n",
       "      <td>30.09.1976</td>\n",
       "      <td>11619.00</td>\n",
       "    </tr>\n",
       "    <tr>\n",
       "      <th>1</th>\n",
       "      <td>4</td>\n",
       "      <td>Université de Genève - GE</td>\n",
       "      <td>01.10.1975</td>\n",
       "      <td>30.09.1976</td>\n",
       "      <td>41022.00</td>\n",
       "    </tr>\n",
       "    <tr>\n",
       "      <th>2</th>\n",
       "      <td>5</td>\n",
       "      <td>NPO (Biblioth., Museen, Verwalt.) - NPO</td>\n",
       "      <td>01.03.1976</td>\n",
       "      <td>28.02.1985</td>\n",
       "      <td>79732.00</td>\n",
       "    </tr>\n",
       "  </tbody>\n",
       "</table>\n",
       "</div>"
      ],
      "text/plain": [
       "   Project Number                               University  Start Date  \\\n",
       "0               1                     Nicht zuteilbar - NA  01.10.1975   \n",
       "1               4                Université de Genève - GE  01.10.1975   \n",
       "2               5  NPO (Biblioth., Museen, Verwalt.) - NPO  01.03.1976   \n",
       "\n",
       "     End Date Approved Amount  \n",
       "0  30.09.1976        11619.00  \n",
       "1  30.09.1976        41022.00  \n",
       "2  28.02.1985        79732.00  "
      ]
     },
     "execution_count": 144,
     "metadata": {},
     "output_type": "execute_result"
    }
   ],
   "source": [
    "data.drop(['Project Title', 'Project Title English','Responsible Applicant','Funding Instrument',\n",
    "           'Funding Instrument Hierarchy', 'Institution', 'Discipline Number', 'Discipline Name', \n",
    "           'Discipline Name Hierarchy', 'Keywords'], axis=1, inplace=True)\n",
    "data.head(3)"
   ]
  },
  {
   "cell_type": "code",
   "execution_count": 145,
   "metadata": {
    "collapsed": false
   },
   "outputs": [
    {
     "data": {
      "text/plain": [
       "63969"
      ]
     },
     "execution_count": 145,
     "metadata": {},
     "output_type": "execute_result"
    }
   ],
   "source": [
    "len(data)"
   ]
  },
  {
   "cell_type": "markdown",
   "metadata": {},
   "source": [
    "We drop projects with missing starting date or ending date."
   ]
  },
  {
   "cell_type": "code",
   "execution_count": 146,
   "metadata": {
    "collapsed": false
   },
   "outputs": [
    {
     "data": {
      "text/plain": [
       "63968"
      ]
     },
     "execution_count": 146,
     "metadata": {},
     "output_type": "execute_result"
    }
   ],
   "source": [
    "data = data[pd.notnull(data['Start Date'])]\n",
    "data = data[pd.notnull(data['End Date'])]\n",
    "len(data)"
   ]
  },
  {
   "cell_type": "markdown",
   "metadata": {},
   "source": [
    "We drop the projects that have an empty university field, or \"Nicht zuteilbar\" written (which means in German \"Not assigned\")."
   ]
  },
  {
   "cell_type": "code",
   "execution_count": 147,
   "metadata": {
    "collapsed": false
   },
   "outputs": [
    {
     "data": {
      "text/plain": [
       "48392"
      ]
     },
     "execution_count": 147,
     "metadata": {},
     "output_type": "execute_result"
    }
   ],
   "source": [
    "data = data[data.University != 'Nicht zuteilbar - NA']\n",
    "data = data.dropna(axis=0, subset=['University'])\n",
    "len(data)"
   ]
  },
  {
   "cell_type": "markdown",
   "metadata": {},
   "source": [
    "***Observations and decisions about the data to use:***<br>\n",
    "We observed that for a specific university, the first project to appear is in 2012. We thought about removing all project before 2012 but this would leave us with too little data. Also, it is more interesting to see the result overall rather than just in the last years. It would be also really interesting to compute the evolution of the money received by canton over the year (in a further work). Therefore, we decided to use the whole dataset (after cleaning) in this homework."
   ]
  },
  {
   "cell_type": "markdown",
   "metadata": {},
   "source": [
    "***Group by university:***<br>"
   ]
  },
  {
   "cell_type": "markdown",
   "metadata": {},
   "source": [
    "Here, we will group the data by university, and sum over the \"<i>Approved Amount</i>\" column.<br>\n",
    "To sum over it, we first need to convert it to float type."
   ]
  },
  {
   "cell_type": "code",
   "execution_count": 148,
   "metadata": {
    "collapsed": true
   },
   "outputs": [],
   "source": [
    "def convert_to_float(nb):\n",
    "    try:\n",
    "        return float(nb)\n",
    "    except ValueError:\n",
    "        return 0.0\n",
    "\n",
    "data['Approved Amount'] = data['Approved Amount'].apply(convert_to_float)"
   ]
  },
  {
   "cell_type": "markdown",
   "metadata": {},
   "source": [
    "We group the data by university. We will drop the \"<i>Project Number</i>\" column, as this sum is completely useless."
   ]
  },
  {
   "cell_type": "code",
   "execution_count": 149,
   "metadata": {
    "collapsed": false
   },
   "outputs": [
    {
     "data": {
      "text/html": [
       "<div>\n",
       "<table border=\"1\" class=\"dataframe\">\n",
       "  <thead>\n",
       "    <tr style=\"text-align: right;\">\n",
       "      <th></th>\n",
       "      <th>Approved Amount</th>\n",
       "    </tr>\n",
       "    <tr>\n",
       "      <th>University</th>\n",
       "      <th></th>\n",
       "    </tr>\n",
       "  </thead>\n",
       "  <tbody>\n",
       "    <tr>\n",
       "      <th>AO Research Institute - AORI</th>\n",
       "      <td>3435621.0</td>\n",
       "    </tr>\n",
       "    <tr>\n",
       "      <th>Allergie- und Asthmaforschung - SIAF</th>\n",
       "      <td>19169965.0</td>\n",
       "    </tr>\n",
       "    <tr>\n",
       "      <th>Berner Fachhochschule - BFH</th>\n",
       "      <td>31028695.0</td>\n",
       "    </tr>\n",
       "  </tbody>\n",
       "</table>\n",
       "</div>"
      ],
      "text/plain": [
       "                                      Approved Amount\n",
       "University                                           \n",
       "AO Research Institute - AORI                3435621.0\n",
       "Allergie- und Asthmaforschung - SIAF       19169965.0\n",
       "Berner Fachhochschule - BFH                31028695.0"
      ]
     },
     "execution_count": 149,
     "metadata": {},
     "output_type": "execute_result"
    }
   ],
   "source": [
    "universities_pd = data.groupby('University').sum()\n",
    "universities_pd.drop('Project Number', axis=1, inplace=True)\n",
    "universities_pd.head(3)"
   ]
  },
  {
   "cell_type": "markdown",
   "metadata": {},
   "source": [
    "<h2>2. Finding cantons</h2><br>\n",
    "In this part, we will explain how we found the canton linked to the different universities. We first used the university name and the abbreviation after it to infer its canton name. In a next step, we used the <i>geonames</i> service, and finally, the Google API to get the names of all the remaining universities. In a last step, we added manually the last important universities for which we couldn't get any information.\n",
    "\n",
    "We decided to store the canton information in a column of the dataframe, which will be called \"canton\". The code used to store the canton information will be the abbreviation of the canton as used in Switzerland (example: <i>Vaud</i> will be <i>VD</i>)."
   ]
  },
  {
   "cell_type": "markdown",
   "metadata": {},
   "source": [
    "The first list represents all the canton abbreviations of switzerland and will be used to code the canton"
   ]
  },
  {
   "cell_type": "code",
   "execution_count": 150,
   "metadata": {
    "collapsed": false
   },
   "outputs": [],
   "source": [
    "cantons_id = ['ZH', 'BE','LU', 'UR', 'SZ', 'OW','NW', 'GL', 'ZG', 'FR',\n",
    "                          'SO','BS', 'BL', 'SH', 'AR', \n",
    "                          'AI', 'SG', 'GR', 'AG', 'TG', 'TI', 'VD',\n",
    "                          'VS', 'NE', 'GE','JU']"
   ]
  },
  {
   "cell_type": "markdown",
   "metadata": {},
   "source": [
    "This second list represent the name of the canton."
   ]
  },
  {
   "cell_type": "code",
   "execution_count": 151,
   "metadata": {
    "collapsed": false
   },
   "outputs": [],
   "source": [
    "cantons_name = ['Zürich', 'Bern/Berne', 'Luzern', 'Uri','Schwyz', 'Obwalden', \n",
    "                'Nidwalden','Glarus', 'Zug', 'Fribourg', 'Solothurn','Basel-Stadt', 'Basel-Landschaft', 'Schaffhausen',\n",
    "               'Appenzell Ausserrhoden','Appenzell Innerrhoden', 'St. Gallen', 'Graubünden/Grigioni', 'Aargau','Thurgau',\n",
    "               'Ticino','Vaud', 'Valais/Wallis','Neuchâtel', 'Genève', 'Jura']"
   ]
  },
  {
   "cell_type": "markdown",
   "metadata": {},
   "source": [
    "<h3>2.1 Finding cantons by using the university name</h3><br>\n",
    "We noticed that some university names contained sometimes the name of the canton. In some other cases, the abbreviation after the name was the abbreviation of the canton. Here, we try to infer the canton's name."
   ]
  },
  {
   "cell_type": "markdown",
   "metadata": {},
   "source": [
    "Spliting universities names and abbreviation and putting everything inside the dataframe"
   ]
  },
  {
   "cell_type": "markdown",
   "metadata": {},
   "source": [
    "*** Function: Split a full university into its name and abbreviation:***"
   ]
  },
  {
   "cell_type": "code",
   "execution_count": 152,
   "metadata": {
    "collapsed": true
   },
   "outputs": [],
   "source": [
    "## Split a full university name to return a tupple of the name of the university and its abbreviation.\n",
    "## Input: Full university name as received in the dataset\n",
    "## Output: (university name, uni abbreviation)\n",
    "## Example: \"Allergie- und Asthmaforschung - SIAF\"  ===> (\"Allergie- und Asthmaforschung\", \"SIAF\")\n",
    "\n",
    "def split_university_in_name_and_abbrev(uni_full_name):\n",
    "    split_list = str(uni_full_name).split(' - ')\n",
    "    if(len(split_list) == 1):\n",
    "        split_list.append('')\n",
    "    return (split_list[0], split_list[1])  # The first item is the name, the second is the abbreviation"
   ]
  },
  {
   "cell_type": "markdown",
   "metadata": {},
   "source": [
    "***Function: Find a canton with a university name and the abbreviation:***"
   ]
  },
  {
   "cell_type": "code",
   "execution_count": 153,
   "metadata": {
    "collapsed": true
   },
   "outputs": [],
   "source": [
    "## Infer the canton ID if we can find it in the University name\n",
    "def find_canton(uni_name, uni_abrev):\n",
    "    uni_canton = np.nan\n",
    "    if uni_abrev in cantons_id:\n",
    "        uni_canton = uni_abrev\n",
    "    else:\n",
    "        found_match = False\n",
    "        for canton_index, canton in enumerate(cantons_name):\n",
    "            if canton in uni_name:\n",
    "                if found_match:\n",
    "                    print(uni_canton, ' - ', canton)\n",
    "                    uni_canton = np.nan\n",
    "                else:\n",
    "                    found_match = True\n",
    "                    uni_canton = cantons_id[canton_index]\n",
    "    return uni_canton"
   ]
  },
  {
   "cell_type": "code",
   "execution_count": 156,
   "metadata": {
    "collapsed": false,
    "scrolled": false
   },
   "outputs": [
    {
     "data": {
      "text/html": [
       "<div>\n",
       "<table border=\"1\" class=\"dataframe\">\n",
       "  <thead>\n",
       "    <tr style=\"text-align: right;\">\n",
       "      <th></th>\n",
       "      <th>Approved Amount</th>\n",
       "      <th>university name</th>\n",
       "      <th>university abbrev</th>\n",
       "      <th>canton</th>\n",
       "    </tr>\n",
       "    <tr>\n",
       "      <th>University</th>\n",
       "      <th></th>\n",
       "      <th></th>\n",
       "      <th></th>\n",
       "      <th></th>\n",
       "    </tr>\n",
       "  </thead>\n",
       "  <tbody>\n",
       "    <tr>\n",
       "      <th>AO Research Institute - AORI</th>\n",
       "      <td>3435621.0</td>\n",
       "      <td>AO Research Institute</td>\n",
       "      <td>AORI</td>\n",
       "      <td>NaN</td>\n",
       "    </tr>\n",
       "    <tr>\n",
       "      <th>Allergie- und Asthmaforschung - SIAF</th>\n",
       "      <td>19169965.0</td>\n",
       "      <td>Allergie- und Asthmaforschung</td>\n",
       "      <td>SIAF</td>\n",
       "      <td>NaN</td>\n",
       "    </tr>\n",
       "    <tr>\n",
       "      <th>Berner Fachhochschule - BFH</th>\n",
       "      <td>31028695.0</td>\n",
       "      <td>Berner Fachhochschule</td>\n",
       "      <td>BFH</td>\n",
       "      <td>NaN</td>\n",
       "    </tr>\n",
       "    <tr>\n",
       "      <th>Biotechnologie Institut Thurgau - BITG</th>\n",
       "      <td>2492535.0</td>\n",
       "      <td>Biotechnologie Institut Thurgau</td>\n",
       "      <td>BITG</td>\n",
       "      <td>TG</td>\n",
       "    </tr>\n",
       "    <tr>\n",
       "      <th>Centre de rech. sur l'environnement alpin - CREALP</th>\n",
       "      <td>1567678.0</td>\n",
       "      <td>Centre de rech. sur l'environnement alpin</td>\n",
       "      <td>CREALP</td>\n",
       "      <td>NaN</td>\n",
       "    </tr>\n",
       "  </tbody>\n",
       "</table>\n",
       "</div>"
      ],
      "text/plain": [
       "                                                    Approved Amount  \\\n",
       "University                                                            \n",
       "AO Research Institute - AORI                              3435621.0   \n",
       "Allergie- und Asthmaforschung - SIAF                     19169965.0   \n",
       "Berner Fachhochschule - BFH                              31028695.0   \n",
       "Biotechnologie Institut Thurgau - BITG                    2492535.0   \n",
       "Centre de rech. sur l'environnement alpin - CREALP        1567678.0   \n",
       "\n",
       "                                                                              university name  \\\n",
       "University                                                                                      \n",
       "AO Research Institute - AORI                                            AO Research Institute   \n",
       "Allergie- und Asthmaforschung - SIAF                            Allergie- und Asthmaforschung   \n",
       "Berner Fachhochschule - BFH                                             Berner Fachhochschule   \n",
       "Biotechnologie Institut Thurgau - BITG                        Biotechnologie Institut Thurgau   \n",
       "Centre de rech. sur l'environnement alpin - CREALP  Centre de rech. sur l'environnement alpin   \n",
       "\n",
       "                                                   university abbrev canton  \n",
       "University                                                                   \n",
       "AO Research Institute - AORI                                    AORI    NaN  \n",
       "Allergie- und Asthmaforschung - SIAF                            SIAF    NaN  \n",
       "Berner Fachhochschule - BFH                                      BFH    NaN  \n",
       "Biotechnologie Institut Thurgau - BITG                          BITG     TG  \n",
       "Centre de rech. sur l'environnement alpin - CREALP            CREALP    NaN  "
      ]
     },
     "execution_count": 156,
     "metadata": {},
     "output_type": "execute_result"
    }
   ],
   "source": [
    "name_list = []\n",
    "abbrev_list = []\n",
    "canton_list = []\n",
    "\n",
    "# We iterate over each university full name\n",
    "for uni in universities_pd.index.values:  \n",
    "    uni_name, uni_abrev = split_university_in_name_and_abbrev(uni) # Splitting the name\n",
    "    uni_canton = find_canton(uni_name, uni_abrev) # Getting the canton\n",
    "    \n",
    "    ## Appending to a list to put in the dataframe \n",
    "    name_list.append(uni_name)\n",
    "    abbrev_list.append(uni_abrev)\n",
    "    canton_list.append(uni_canton)\n",
    "\n",
    "universities_pd['university name'] = name_list\n",
    "universities_pd['university abbrev'] = abbrev_list\n",
    "universities_pd['canton'] = canton_list\n",
    "\n",
    "universities_pd.head()"
   ]
  },
  {
   "cell_type": "markdown",
   "metadata": {},
   "source": [
    "<h2>2.2 Finding cantons with geonames</h2>"
   ]
  },
  {
   "cell_type": "code",
   "execution_count": 155,
   "metadata": {
    "collapsed": false
   },
   "outputs": [
    {
     "ename": "KeyError",
     "evalue": "'canton'",
     "output_type": "error",
     "traceback": [
      "\u001b[0;31m---------------------------------------------------------------------------\u001b[0m",
      "\u001b[0;31mKeyError\u001b[0m                                  Traceback (most recent call last)",
      "\u001b[0;32mC:\\ProgrammationProjects\\Installation\\Anaconda\\envs\\ADA\\lib\\site-packages\\pandas\\indexes\\base.py\u001b[0m in \u001b[0;36mget_loc\u001b[0;34m(self, key, method, tolerance)\u001b[0m\n\u001b[1;32m   2103\u001b[0m             \u001b[1;32mtry\u001b[0m\u001b[1;33m:\u001b[0m\u001b[1;33m\u001b[0m\u001b[0m\n\u001b[0;32m-> 2104\u001b[0;31m                 \u001b[1;32mreturn\u001b[0m \u001b[0mself\u001b[0m\u001b[1;33m.\u001b[0m\u001b[0m_engine\u001b[0m\u001b[1;33m.\u001b[0m\u001b[0mget_loc\u001b[0m\u001b[1;33m(\u001b[0m\u001b[0mkey\u001b[0m\u001b[1;33m)\u001b[0m\u001b[1;33m\u001b[0m\u001b[0m\n\u001b[0m\u001b[1;32m   2105\u001b[0m             \u001b[1;32mexcept\u001b[0m \u001b[0mKeyError\u001b[0m\u001b[1;33m:\u001b[0m\u001b[1;33m\u001b[0m\u001b[0m\n",
      "\u001b[0;32mpandas\\index.pyx\u001b[0m in \u001b[0;36mpandas.index.IndexEngine.get_loc (pandas\\index.c:4160)\u001b[0;34m()\u001b[0m\n",
      "\u001b[0;32mpandas\\index.pyx\u001b[0m in \u001b[0;36mpandas.index.IndexEngine.get_loc (pandas\\index.c:4024)\u001b[0;34m()\u001b[0m\n",
      "\u001b[0;32mpandas\\src\\hashtable_class_helper.pxi\u001b[0m in \u001b[0;36mpandas.hashtable.PyObjectHashTable.get_item (pandas\\hashtable.c:13161)\u001b[0;34m()\u001b[0m\n",
      "\u001b[0;32mpandas\\src\\hashtable_class_helper.pxi\u001b[0m in \u001b[0;36mpandas.hashtable.PyObjectHashTable.get_item (pandas\\hashtable.c:13115)\u001b[0;34m()\u001b[0m\n",
      "\u001b[0;31mKeyError\u001b[0m: 'canton'",
      "\nDuring handling of the above exception, another exception occurred:\n",
      "\u001b[0;31mKeyError\u001b[0m                                  Traceback (most recent call last)",
      "\u001b[0;32m<ipython-input-155-d385d2820e36>\u001b[0m in \u001b[0;36m<module>\u001b[0;34m()\u001b[0m\n\u001b[1;32m      5\u001b[0m         \u001b[1;32mreturn\u001b[0m \u001b[0mcanton\u001b[0m\u001b[1;33m\u001b[0m\u001b[0m\n\u001b[1;32m      6\u001b[0m \u001b[0mtest\u001b[0m \u001b[1;33m=\u001b[0m \u001b[0muniversities_pd\u001b[0m\u001b[1;33m.\u001b[0m\u001b[0mcopy\u001b[0m\u001b[1;33m(\u001b[0m\u001b[1;33m)\u001b[0m\u001b[1;33m\u001b[0m\u001b[0m\n\u001b[0;32m----> 7\u001b[0;31m \u001b[0mtest\u001b[0m\u001b[1;33m[\u001b[0m\u001b[1;34m'canton'\u001b[0m\u001b[1;33m]\u001b[0m\u001b[1;33m.\u001b[0m\u001b[0mapply\u001b[0m\u001b[1;33m(\u001b[0m\u001b[0mlook_for_missing_canton\u001b[0m\u001b[1;33m)\u001b[0m\u001b[1;33m.\u001b[0m\u001b[0mhead\u001b[0m\u001b[1;33m(\u001b[0m\u001b[1;33m)\u001b[0m\u001b[1;33m\u001b[0m\u001b[0m\n\u001b[0m",
      "\u001b[0;32mC:\\ProgrammationProjects\\Installation\\Anaconda\\envs\\ADA\\lib\\site-packages\\pandas\\core\\frame.py\u001b[0m in \u001b[0;36m__getitem__\u001b[0;34m(self, key)\u001b[0m\n\u001b[1;32m   2055\u001b[0m             \u001b[1;32mreturn\u001b[0m \u001b[0mself\u001b[0m\u001b[1;33m.\u001b[0m\u001b[0m_getitem_multilevel\u001b[0m\u001b[1;33m(\u001b[0m\u001b[0mkey\u001b[0m\u001b[1;33m)\u001b[0m\u001b[1;33m\u001b[0m\u001b[0m\n\u001b[1;32m   2056\u001b[0m         \u001b[1;32melse\u001b[0m\u001b[1;33m:\u001b[0m\u001b[1;33m\u001b[0m\u001b[0m\n\u001b[0;32m-> 2057\u001b[0;31m             \u001b[1;32mreturn\u001b[0m \u001b[0mself\u001b[0m\u001b[1;33m.\u001b[0m\u001b[0m_getitem_column\u001b[0m\u001b[1;33m(\u001b[0m\u001b[0mkey\u001b[0m\u001b[1;33m)\u001b[0m\u001b[1;33m\u001b[0m\u001b[0m\n\u001b[0m\u001b[1;32m   2058\u001b[0m \u001b[1;33m\u001b[0m\u001b[0m\n\u001b[1;32m   2059\u001b[0m     \u001b[1;32mdef\u001b[0m \u001b[0m_getitem_column\u001b[0m\u001b[1;33m(\u001b[0m\u001b[0mself\u001b[0m\u001b[1;33m,\u001b[0m \u001b[0mkey\u001b[0m\u001b[1;33m)\u001b[0m\u001b[1;33m:\u001b[0m\u001b[1;33m\u001b[0m\u001b[0m\n",
      "\u001b[0;32mC:\\ProgrammationProjects\\Installation\\Anaconda\\envs\\ADA\\lib\\site-packages\\pandas\\core\\frame.py\u001b[0m in \u001b[0;36m_getitem_column\u001b[0;34m(self, key)\u001b[0m\n\u001b[1;32m   2062\u001b[0m         \u001b[1;31m# get column\u001b[0m\u001b[1;33m\u001b[0m\u001b[1;33m\u001b[0m\u001b[0m\n\u001b[1;32m   2063\u001b[0m         \u001b[1;32mif\u001b[0m \u001b[0mself\u001b[0m\u001b[1;33m.\u001b[0m\u001b[0mcolumns\u001b[0m\u001b[1;33m.\u001b[0m\u001b[0mis_unique\u001b[0m\u001b[1;33m:\u001b[0m\u001b[1;33m\u001b[0m\u001b[0m\n\u001b[0;32m-> 2064\u001b[0;31m             \u001b[1;32mreturn\u001b[0m \u001b[0mself\u001b[0m\u001b[1;33m.\u001b[0m\u001b[0m_get_item_cache\u001b[0m\u001b[1;33m(\u001b[0m\u001b[0mkey\u001b[0m\u001b[1;33m)\u001b[0m\u001b[1;33m\u001b[0m\u001b[0m\n\u001b[0m\u001b[1;32m   2065\u001b[0m \u001b[1;33m\u001b[0m\u001b[0m\n\u001b[1;32m   2066\u001b[0m         \u001b[1;31m# duplicate columns & possible reduce dimensionality\u001b[0m\u001b[1;33m\u001b[0m\u001b[1;33m\u001b[0m\u001b[0m\n",
      "\u001b[0;32mC:\\ProgrammationProjects\\Installation\\Anaconda\\envs\\ADA\\lib\\site-packages\\pandas\\core\\generic.py\u001b[0m in \u001b[0;36m_get_item_cache\u001b[0;34m(self, item)\u001b[0m\n\u001b[1;32m   1384\u001b[0m         \u001b[0mres\u001b[0m \u001b[1;33m=\u001b[0m \u001b[0mcache\u001b[0m\u001b[1;33m.\u001b[0m\u001b[0mget\u001b[0m\u001b[1;33m(\u001b[0m\u001b[0mitem\u001b[0m\u001b[1;33m)\u001b[0m\u001b[1;33m\u001b[0m\u001b[0m\n\u001b[1;32m   1385\u001b[0m         \u001b[1;32mif\u001b[0m \u001b[0mres\u001b[0m \u001b[1;32mis\u001b[0m \u001b[1;32mNone\u001b[0m\u001b[1;33m:\u001b[0m\u001b[1;33m\u001b[0m\u001b[0m\n\u001b[0;32m-> 1386\u001b[0;31m             \u001b[0mvalues\u001b[0m \u001b[1;33m=\u001b[0m \u001b[0mself\u001b[0m\u001b[1;33m.\u001b[0m\u001b[0m_data\u001b[0m\u001b[1;33m.\u001b[0m\u001b[0mget\u001b[0m\u001b[1;33m(\u001b[0m\u001b[0mitem\u001b[0m\u001b[1;33m)\u001b[0m\u001b[1;33m\u001b[0m\u001b[0m\n\u001b[0m\u001b[1;32m   1387\u001b[0m             \u001b[0mres\u001b[0m \u001b[1;33m=\u001b[0m \u001b[0mself\u001b[0m\u001b[1;33m.\u001b[0m\u001b[0m_box_item_values\u001b[0m\u001b[1;33m(\u001b[0m\u001b[0mitem\u001b[0m\u001b[1;33m,\u001b[0m \u001b[0mvalues\u001b[0m\u001b[1;33m)\u001b[0m\u001b[1;33m\u001b[0m\u001b[0m\n\u001b[1;32m   1388\u001b[0m             \u001b[0mcache\u001b[0m\u001b[1;33m[\u001b[0m\u001b[0mitem\u001b[0m\u001b[1;33m]\u001b[0m \u001b[1;33m=\u001b[0m \u001b[0mres\u001b[0m\u001b[1;33m\u001b[0m\u001b[0m\n",
      "\u001b[0;32mC:\\ProgrammationProjects\\Installation\\Anaconda\\envs\\ADA\\lib\\site-packages\\pandas\\core\\internals.py\u001b[0m in \u001b[0;36mget\u001b[0;34m(self, item, fastpath)\u001b[0m\n\u001b[1;32m   3518\u001b[0m \u001b[1;33m\u001b[0m\u001b[0m\n\u001b[1;32m   3519\u001b[0m             \u001b[1;32mif\u001b[0m \u001b[1;32mnot\u001b[0m \u001b[0misnull\u001b[0m\u001b[1;33m(\u001b[0m\u001b[0mitem\u001b[0m\u001b[1;33m)\u001b[0m\u001b[1;33m:\u001b[0m\u001b[1;33m\u001b[0m\u001b[0m\n\u001b[0;32m-> 3520\u001b[0;31m                 \u001b[0mloc\u001b[0m \u001b[1;33m=\u001b[0m \u001b[0mself\u001b[0m\u001b[1;33m.\u001b[0m\u001b[0mitems\u001b[0m\u001b[1;33m.\u001b[0m\u001b[0mget_loc\u001b[0m\u001b[1;33m(\u001b[0m\u001b[0mitem\u001b[0m\u001b[1;33m)\u001b[0m\u001b[1;33m\u001b[0m\u001b[0m\n\u001b[0m\u001b[1;32m   3521\u001b[0m             \u001b[1;32melse\u001b[0m\u001b[1;33m:\u001b[0m\u001b[1;33m\u001b[0m\u001b[0m\n\u001b[1;32m   3522\u001b[0m                 \u001b[0mindexer\u001b[0m \u001b[1;33m=\u001b[0m \u001b[0mnp\u001b[0m\u001b[1;33m.\u001b[0m\u001b[0marange\u001b[0m\u001b[1;33m(\u001b[0m\u001b[0mlen\u001b[0m\u001b[1;33m(\u001b[0m\u001b[0mself\u001b[0m\u001b[1;33m.\u001b[0m\u001b[0mitems\u001b[0m\u001b[1;33m)\u001b[0m\u001b[1;33m)\u001b[0m\u001b[1;33m[\u001b[0m\u001b[0misnull\u001b[0m\u001b[1;33m(\u001b[0m\u001b[0mself\u001b[0m\u001b[1;33m.\u001b[0m\u001b[0mitems\u001b[0m\u001b[1;33m)\u001b[0m\u001b[1;33m]\u001b[0m\u001b[1;33m\u001b[0m\u001b[0m\n",
      "\u001b[0;32mC:\\ProgrammationProjects\\Installation\\Anaconda\\envs\\ADA\\lib\\site-packages\\pandas\\indexes\\base.py\u001b[0m in \u001b[0;36mget_loc\u001b[0;34m(self, key, method, tolerance)\u001b[0m\n\u001b[1;32m   2104\u001b[0m                 \u001b[1;32mreturn\u001b[0m \u001b[0mself\u001b[0m\u001b[1;33m.\u001b[0m\u001b[0m_engine\u001b[0m\u001b[1;33m.\u001b[0m\u001b[0mget_loc\u001b[0m\u001b[1;33m(\u001b[0m\u001b[0mkey\u001b[0m\u001b[1;33m)\u001b[0m\u001b[1;33m\u001b[0m\u001b[0m\n\u001b[1;32m   2105\u001b[0m             \u001b[1;32mexcept\u001b[0m \u001b[0mKeyError\u001b[0m\u001b[1;33m:\u001b[0m\u001b[1;33m\u001b[0m\u001b[0m\n\u001b[0;32m-> 2106\u001b[0;31m                 \u001b[1;32mreturn\u001b[0m \u001b[0mself\u001b[0m\u001b[1;33m.\u001b[0m\u001b[0m_engine\u001b[0m\u001b[1;33m.\u001b[0m\u001b[0mget_loc\u001b[0m\u001b[1;33m(\u001b[0m\u001b[0mself\u001b[0m\u001b[1;33m.\u001b[0m\u001b[0m_maybe_cast_indexer\u001b[0m\u001b[1;33m(\u001b[0m\u001b[0mkey\u001b[0m\u001b[1;33m)\u001b[0m\u001b[1;33m)\u001b[0m\u001b[1;33m\u001b[0m\u001b[0m\n\u001b[0m\u001b[1;32m   2107\u001b[0m \u001b[1;33m\u001b[0m\u001b[0m\n\u001b[1;32m   2108\u001b[0m         \u001b[0mindexer\u001b[0m \u001b[1;33m=\u001b[0m \u001b[0mself\u001b[0m\u001b[1;33m.\u001b[0m\u001b[0mget_indexer\u001b[0m\u001b[1;33m(\u001b[0m\u001b[1;33m[\u001b[0m\u001b[0mkey\u001b[0m\u001b[1;33m]\u001b[0m\u001b[1;33m,\u001b[0m \u001b[0mmethod\u001b[0m\u001b[1;33m=\u001b[0m\u001b[0mmethod\u001b[0m\u001b[1;33m,\u001b[0m \u001b[0mtolerance\u001b[0m\u001b[1;33m=\u001b[0m\u001b[0mtolerance\u001b[0m\u001b[1;33m)\u001b[0m\u001b[1;33m\u001b[0m\u001b[0m\n",
      "\u001b[0;32mpandas\\index.pyx\u001b[0m in \u001b[0;36mpandas.index.IndexEngine.get_loc (pandas\\index.c:4160)\u001b[0;34m()\u001b[0m\n",
      "\u001b[0;32mpandas\\index.pyx\u001b[0m in \u001b[0;36mpandas.index.IndexEngine.get_loc (pandas\\index.c:4024)\u001b[0;34m()\u001b[0m\n",
      "\u001b[0;32mpandas\\src\\hashtable_class_helper.pxi\u001b[0m in \u001b[0;36mpandas.hashtable.PyObjectHashTable.get_item (pandas\\hashtable.c:13161)\u001b[0;34m()\u001b[0m\n",
      "\u001b[0;32mpandas\\src\\hashtable_class_helper.pxi\u001b[0m in \u001b[0;36mpandas.hashtable.PyObjectHashTable.get_item (pandas\\hashtable.c:13115)\u001b[0;34m()\u001b[0m\n",
      "\u001b[0;31mKeyError\u001b[0m: 'canton'"
     ]
    }
   ],
   "source": [
    "def look_for_missing_canton(canton):\n",
    "    if canton is np.nan:\n",
    "        return 'aaaaa'\n",
    "    else:\n",
    "        return canton\n",
    "test = universities_pd.copy()\n",
    "test['canton'].apply(look_for_missing_canton).head()"
   ]
  },
  {
   "cell_type": "code",
   "execution_count": 95,
   "metadata": {
    "collapsed": true
   },
   "outputs": [],
   "source": [
    "universities = data['University'].unique()\n",
    "\n",
    "university_names = universities.copy()"
   ]
  },
  {
   "cell_type": "code",
   "execution_count": 96,
   "metadata": {
    "collapsed": true
   },
   "outputs": [],
   "source": [
    "ids = {}\n",
    "for record in university_names:\n",
    "    wds = str(record).split()\n",
    "    name = ' '.join(wds[:-2])\n",
    "    if name:\n",
    "        ids[name] = wds[-1]"
   ]
  },
  {
   "cell_type": "code",
   "execution_count": 97,
   "metadata": {
    "collapsed": false
   },
   "outputs": [],
   "source": [
    "import simplejson as json\n",
    "DOMAIN = 'http://api.geonames.org/'#api.geonames.org/search?\n",
    "USERNAME = 'shynkaru' #geonames username\n",
    "\n",
    "def geonames_query(method, params):\n",
    "    uri = DOMAIN + '%s?%s&username=%s' % (method, urllib.parse.urlencode(params), USERNAME)\n",
    "    resource = urllib.request.urlopen(uri).readlines()\n",
    "    return json.loads(resource[0])"
   ]
  },
  {
   "cell_type": "code",
   "execution_count": 20,
   "metadata": {
    "collapsed": false
   },
   "outputs": [],
   "source": [
    "def prepare_params(university, format_type):\n",
    "    return { 'q' : university\n",
    "            , 'country' : \"ch\"\n",
    "            , 'lang': 'en'\n",
    "            , 'featurecode':'univ'\n",
    "            , 'type':format_type}"
   ]
  },
  {
   "cell_type": "code",
   "execution_count": 21,
   "metadata": {
    "collapsed": false
   },
   "outputs": [],
   "source": [
    "def try_query(university):\n",
    "    if not university:\n",
    "        return None\n",
    "    \n",
    "    params = prepare_params(university, 'json')\n",
    "    response_json = geonames_query('search', params)\n",
    "    \n",
    "    if(not response_json['geonames']):\n",
    "        return None\n",
    "        #return try_query(' '.join(university.split()[:-1]))\n",
    "    return response_json"
   ]
  },
  {
   "cell_type": "code",
   "execution_count": 22,
   "metadata": {
    "collapsed": false
   },
   "outputs": [],
   "source": [
    "def query_university(university):\n",
    "    response_json = try_query(university)\n",
    "    if(not response_json):\n",
    "        return None\n",
    "   \n",
    "    out_json = response_json['geonames']\n",
    "    total_results = int(response_json['totalResultsCount'])\n",
    "    \n",
    "    l = [( out_json[i]['name']\n",
    "          , out_json[i].get('adminCode1', 'Missing: adminCode1')\n",
    "          , out_json[i]['adminName1']\n",
    "          , out_json[i]['lat']\n",
    "          , out_json[i]['lng']) for i in range(len(out_json))]\n",
    "        \n",
    "    return l"
   ]
  },
  {
   "cell_type": "code",
   "execution_count": 23,
   "metadata": {
    "collapsed": false
   },
   "outputs": [
    {
     "name": "stdout",
     "output_type": "stream",
     "text": [
      "Université de Fribourg\n",
      "('Fribourg, Université', 'FR', 'Fribourg', '46.80683', '7.15317')\n",
      "\n",
      "\n",
      "Pädagogische Hochschule Zürich\n",
      "None \n",
      "\n",
      "Staatsunabh. Theologische Hochschule Basel\n",
      "None \n",
      "\n",
      "Inst. de Hautes Etudes Internat. et du Dév\n",
      "None \n",
      "\n",
      "Pädagogische Hochschule Thurgau\n",
      "None \n",
      "\n",
      "Ente Ospedaliero Cantonale\n",
      "None \n",
      "\n",
      "Haute école pédagogique fribourgeoise\n",
      "None \n",
      "\n",
      "Eidg. Hochschulinstitut für Berufsbildung\n",
      "None \n",
      "\n",
      "Facoltà di Teologia di Lugano\n",
      "None \n",
      "\n",
      "Universität Basel\n",
      "('University of Basel', 'BS', 'Basel-City', '47.55832', '7.58403')\n",
      "('Universität', 'BS', 'Basel-City', '47.55707', '7.58405')\n",
      "\n",
      "\n",
      "Interkant. Hochschule für Heilpädagogik ZH\n",
      "None \n",
      "\n",
      "EPF Lausanne\n",
      "None \n",
      "\n",
      "SUP della Svizzera italiana\n",
      "None \n",
      "\n",
      "Pädagogische Hochschule Wallis\n",
      "None \n",
      "\n",
      "Pädagogische Hochschule Nordwestschweiz\n",
      "None \n",
      "\n",
      "Pädagogische Hochschule Luzern\n",
      "None \n",
      "\n",
      "Fachhochschule Kalaidos\n",
      "None \n",
      "\n",
      "Zürcher Fachhochschule (ohne PH)\n",
      "None \n",
      "\n",
      "Inst. universit. romand de Santé au Travail\n",
      "None \n",
      "\n",
      "Swiss Institute of Bioinformatics\n",
      "None \n",
      "\n",
      "HES de Suisse occidentale\n",
      "None \n",
      "\n",
      "Kantonsspital St. Gallen\n",
      "('St. Gallen, Kantonsspital', 'SG', 'Saint Gallen', '47.42925', '9.38826')\n",
      "\n",
      "\n",
      "Firmen/Privatwirtschaft\n",
      "None \n",
      "\n",
      "Swiss Center for Electronics and Microtech.\n",
      "None \n",
      "\n",
      "Allergie- und Asthmaforschung\n",
      "None \n",
      "\n",
      "Università della Svizzera italiana\n",
      "None \n",
      "\n",
      "Schweiz. Hochschule für Logopädie Rorschach\n",
      "None \n",
      "\n",
      "Pädagogische Hochschule Zug\n",
      "None \n",
      "\n",
      "AO Research Institute\n",
      "None \n",
      "\n",
      "Pädagogische Hochschule Bern\n",
      "None \n",
      "\n",
      "Forschungsinstitut für Opthalmologie\n",
      "None \n",
      "\n",
      "Forschungsinstitut für biologischen Landbau\n",
      "None \n",
      "\n",
      "Universität Bern\n",
      "('Bern, Universität', 'BE', 'Bern', '46.95096', '7.43548')\n",
      "\n",
      "\n",
      "Pädagogische Hochschule Schwyz\n",
      "None \n",
      "\n",
      "Université de Neuchâtel\n",
      "('Neuchâtel, Université', 'NE', 'Neuchâtel', '46.99385', '6.93789')\n",
      "\n",
      "\n",
      "Universität Zürich\n",
      "('Völkerkundemuseum der Universität Zürich', 'ZH', 'Zurich', '47.37092', '8.53434')\n",
      "\n",
      "\n",
      "Friedrich Miescher Institute\n",
      "None \n",
      "\n",
      "Weitere Spitäler\n",
      "None \n",
      "\n",
      "Hochschule Luzern\n",
      "None \n",
      "\n",
      "Schweizer Kompetenzzentrum Sozialwissensch.\n",
      "None \n",
      "\n",
      "Fachhochschule Ostschweiz\n",
      "None \n",
      "\n",
      "Universität St. Gallen\n",
      "None \n",
      "\n",
      "Institut Universitaire Kurt Bösch\n",
      "None \n",
      "\n",
      "Centre de rech. sur l'environnement alpin\n",
      "None \n",
      "\n",
      "Pädagogische Hochschule St. Gallen\n",
      "None \n",
      "\n",
      "Pädagogische Hochschule Graubünden\n",
      "None \n",
      "\n",
      "Inst. Suisse de Spéléologie et Karstologie\n",
      "None \n",
      "\n",
      "Universität Luzern\n",
      "None \n",
      "\n",
      "Berner Fachhochschule\n",
      "None \n",
      "\n",
      "Robert Walser-Stiftung Bern\n",
      "None \n",
      "\n",
      "NPO (Biblioth., Museen, Verwalt.)\n",
      "None \n",
      "\n",
      "Forschungsanstalten Agroscope\n",
      "None \n",
      "\n",
      "Eidg. Anstalt für Wasserversorgung\n",
      "None \n",
      "\n",
      "Paul Scherrer Institut\n",
      "None \n",
      "\n",
      "Fachhochschule Nordwestschweiz (ohne PH)\n",
      "None \n",
      "\n",
      "Haute école pédagogique du canton de Vaud\n",
      "None \n",
      "\n",
      "Pädag. Hochschule Tessin (Teilschule SUPSI)\n",
      "None \n",
      "\n",
      "ETH Zürich\n",
      "('Eidgenössische Technische Hochschule Zürich', 'ZH', 'Zurich', '47.3763', '8.54805')\n",
      "('Zürich (Kreis 10) / ETH-Hönggerberg', 'ZH', 'Zurich', '47.40951', '8.50769')\n",
      "('ETH Department of Biosystems Science and Engineering', 'BS', 'Basel-City', '47.56639', '7.60247')\n",
      "('Zürich, ETH Hönggerberg', 'ZH', 'Zurich', '47.40873', '8.50784')\n",
      "('Forstanstalt ETH (WSL)', 'ZH', 'Zurich', '47.36044', '8.45484')\n",
      "\n",
      "\n",
      "Biotechnologie Institut Thurgau\n",
      "None \n",
      "\n",
      "Eidg. Forschungsanstalt für Wald,Schnee,Land\n",
      "None \n",
      "\n",
      "Idiap Research Institute\n",
      "None \n",
      "\n",
      "Université de Genève\n",
      "None \n",
      "\n",
      "Fernfachhochschule Schweiz (Mitglied SUPSI)\n",
      "None \n",
      "\n",
      "Weitere Institute\n",
      "None \n",
      "\n",
      "Franklin University Switzerland\n",
      "None \n",
      "\n",
      "Instituto Ricerche Solari Locarno\n",
      "None \n",
      "\n",
      "Haute école pédagogique BE, JU, NE\n",
      "None \n",
      "\n",
      "Physikal.-Meteorolog. Observatorium Davos\n",
      "None \n",
      "\n",
      "Schweiz. Institut für Kunstwissenschaft\n",
      "None \n",
      "\n",
      "Pädagogische Hochschule Schaffhausen\n",
      "None \n",
      "\n",
      "Institut für Kulturforschung Graubünden\n",
      "None \n",
      "\n",
      "Istituto Svizzero di Roma\n",
      "None \n",
      "\n",
      "Université de Lausanne\n",
      "('University of Lausanne', 'VD', 'Vaud', '46.52376', '6.58409')\n",
      "\n",
      "\n",
      "Schweizer Paraplegiker Forschung\n",
      "None \n",
      "\n",
      "Eidg. Material und Prüfungsanstalt\n",
      "None \n",
      "\n"
     ]
    }
   ],
   "source": [
    "def process_data():\n",
    "    for university, canton in ids.items():\n",
    "        print(university)\n",
    "        possible_uni_data = query_university(university)\n",
    "        if not possible_uni_data:\n",
    "            print(None, '\\n')\n",
    "            continue\n",
    "            \n",
    "        for item in possible_uni_data:\n",
    "            print(item)\n",
    "        print('\\n')\n",
    "\n",
    "process_data()"
   ]
  },
  {
   "cell_type": "code",
   "execution_count": 26,
   "metadata": {
    "collapsed": true
   },
   "outputs": [],
   "source": [
    "#Constants\n",
    "\n",
    "URL = 'https://maps.googleapis.com/maps/api/place'\n",
    "AUTOCOMPLETE_API = 'autocomplete'\n",
    "DETAILS_API = 'details'\n",
    "\n",
    "FORMAT = 'json'\n",
    "KEY = ''#ask me the key"
   ]
  },
  {
   "cell_type": "markdown",
   "metadata": {},
   "source": [
    "To get Geo Data by University Name we use:\n",
    "\n",
    "request uri: 'https://maps.googleapis.com/maps/api/place/autocomplete'\n",
    "format json\n",
    "\n",
    "REQUEST PARAMETERS:\n",
    "\n",
    "input= < university_name >\n",
    "components = [ country < ISO 3166-1 Alpha-2 compatible country code >, ... ]\n",
    "key = < API key>\n",
    "\n",
    "E.g.:\n",
    "https://maps.googleapis.com/maps/api/place/autocomplete/json?input=Universit%C3%A4t+Luzern&components=country:CH&types='administrative_area_level_1&key="
   ]
  },
  {
   "cell_type": "code",
   "execution_count": 27,
   "metadata": {
    "collapsed": true
   },
   "outputs": [],
   "source": [
    "def google_maps_query(api, format_type, params, key):\n",
    "    uri = URL + '/%s/%s?%s&key=%s' % (api, format_type, urllib.parse.urlencode(params), key)\n",
    "    resource = urllib.request.urlopen(uri).read()\n",
    "    return json.loads(resource)"
   ]
  },
  {
   "cell_type": "code",
   "execution_count": 28,
   "metadata": {
    "collapsed": true
   },
   "outputs": [],
   "source": [
    "def prepare_gm_uni_params(university):\n",
    "    return {'input': university, 'components' : 'country:CH'}\n",
    "\n",
    "def prepare_gm_placeid_params(place_id):\n",
    "    return {'placeid': place_id, 'result_type':'administrative_area_level_1'}"
   ]
  },
  {
   "cell_type": "code",
   "execution_count": 29,
   "metadata": {
    "collapsed": true
   },
   "outputs": [],
   "source": [
    "def query_uni_gm(university, format_type, key):\n",
    "    if not university:\n",
    "        return None\n",
    "    \n",
    "    params = prepare_gm_uni_params(university)\n",
    "    return google_maps_query(AUTOCOMPLETE_API, format_type, params, key)\n",
    "\n",
    "def query_placeid_gm(place_id, format_type, key):\n",
    "    if not place_id:\n",
    "        return None\n",
    "    \n",
    "    params = prepare_gm_placeid_params(place_id)\n",
    "    return google_maps_query(DETAILS_API, format_type, params, key)"
   ]
  },
  {
   "cell_type": "code",
   "execution_count": 30,
   "metadata": {
    "collapsed": true
   },
   "outputs": [],
   "source": [
    "def get_canton(university):\n",
    "    uni_data = query_uni_gm(university, FORMAT, KEY)\n",
    "    print(uni_data)\n",
    "    if 'ZERO_RESULTS' == uni_data['status']:\n",
    "        return None\n",
    "       \n",
    "    res_json = json.dumps(uni_data['predictions'][0], ensure_ascii=False)\n",
    "    place_id = uni_data['predictions'][0]['place_id']\n",
    "    place_id_data = query_placeid_gm(place_id, FORMAT, KEY)\n",
    "    print(place_id_data)\n",
    "    #'types':[ 'administrative_area_level_1', 'political']\n",
    "    for node in place_id_data['result']['address_components']:\n",
    "        types_node = node['types']\n",
    "        if 'administrative_area_level_1' in types_node and 'political' in types_node:\n",
    "            return (node['long_name'], node['short_name'])\n",
    "    \n",
    "    return None"
   ]
  },
  {
   "cell_type": "code",
   "execution_count": 31,
   "metadata": {
    "collapsed": false
   },
   "outputs": [
    {
     "name": "stdout",
     "output_type": "stream",
     "text": [
      "Université de Fribourg\n",
      "{'predictions': [], 'status': 'REQUEST_DENIED', 'error_message': 'This service requires an API key.'}\n"
     ]
    },
    {
     "ename": "IndexError",
     "evalue": "list index out of range",
     "output_type": "error",
     "traceback": [
      "\u001b[1;31m---------------------------------------------------------------------------\u001b[0m",
      "\u001b[1;31mIndexError\u001b[0m                                Traceback (most recent call last)",
      "\u001b[1;32m<ipython-input-31-ba3f8952d949>\u001b[0m in \u001b[0;36m<module>\u001b[1;34m()\u001b[0m\n\u001b[0;32m      9\u001b[0m     \u001b[0mprint\u001b[0m\u001b[1;33m(\u001b[0m\u001b[0mi\u001b[0m\u001b[1;33m)\u001b[0m\u001b[1;33m\u001b[0m\u001b[0m\n\u001b[0;32m     10\u001b[0m \u001b[1;33m\u001b[0m\u001b[0m\n\u001b[1;32m---> 11\u001b[1;33m \u001b[0mprocess_uni_data\u001b[0m\u001b[1;33m(\u001b[0m\u001b[1;33m)\u001b[0m\u001b[1;33m\u001b[0m\u001b[0m\n\u001b[0m",
      "\u001b[1;32m<ipython-input-31-ba3f8952d949>\u001b[0m in \u001b[0;36mprocess_uni_data\u001b[1;34m()\u001b[0m\n\u001b[0;32m      3\u001b[0m     \u001b[1;32mfor\u001b[0m \u001b[0muniversity\u001b[0m\u001b[1;33m,\u001b[0m \u001b[0mcanton\u001b[0m \u001b[1;32min\u001b[0m \u001b[0mids\u001b[0m\u001b[1;33m.\u001b[0m\u001b[0mitems\u001b[0m\u001b[1;33m(\u001b[0m\u001b[1;33m)\u001b[0m\u001b[1;33m:\u001b[0m\u001b[1;33m\u001b[0m\u001b[0m\n\u001b[0;32m      4\u001b[0m         \u001b[0mprint\u001b[0m\u001b[1;33m(\u001b[0m\u001b[0muniversity\u001b[0m\u001b[1;33m)\u001b[0m\u001b[1;33m\u001b[0m\u001b[0m\n\u001b[1;32m----> 5\u001b[1;33m         \u001b[0mcanton_data\u001b[0m \u001b[1;33m=\u001b[0m \u001b[0mget_canton\u001b[0m\u001b[1;33m(\u001b[0m\u001b[0muniversity\u001b[0m\u001b[1;33m)\u001b[0m\u001b[1;33m\u001b[0m\u001b[0m\n\u001b[0m\u001b[0;32m      6\u001b[0m         \u001b[0mprint\u001b[0m\u001b[1;33m(\u001b[0m\u001b[0muniversity\u001b[0m\u001b[1;33m,\u001b[0m \u001b[0mcanton_data\u001b[0m\u001b[1;33m)\u001b[0m\u001b[1;33m\u001b[0m\u001b[0m\n\u001b[0;32m      7\u001b[0m         \u001b[1;32mif\u001b[0m \u001b[0mcanton_data\u001b[0m \u001b[1;32mis\u001b[0m \u001b[1;32mnot\u001b[0m \u001b[1;32mNone\u001b[0m\u001b[1;33m:\u001b[0m\u001b[1;33m\u001b[0m\u001b[0m\n",
      "\u001b[1;32m<ipython-input-30-153a9ae1cf22>\u001b[0m in \u001b[0;36mget_canton\u001b[1;34m(university)\u001b[0m\n\u001b[0;32m      5\u001b[0m         \u001b[1;32mreturn\u001b[0m \u001b[1;32mNone\u001b[0m\u001b[1;33m\u001b[0m\u001b[0m\n\u001b[0;32m      6\u001b[0m \u001b[1;33m\u001b[0m\u001b[0m\n\u001b[1;32m----> 7\u001b[1;33m     \u001b[0mres_json\u001b[0m \u001b[1;33m=\u001b[0m \u001b[0mjson\u001b[0m\u001b[1;33m.\u001b[0m\u001b[0mdumps\u001b[0m\u001b[1;33m(\u001b[0m\u001b[0muni_data\u001b[0m\u001b[1;33m[\u001b[0m\u001b[1;34m'predictions'\u001b[0m\u001b[1;33m]\u001b[0m\u001b[1;33m[\u001b[0m\u001b[1;36m0\u001b[0m\u001b[1;33m]\u001b[0m\u001b[1;33m,\u001b[0m \u001b[0mensure_ascii\u001b[0m\u001b[1;33m=\u001b[0m\u001b[1;32mFalse\u001b[0m\u001b[1;33m)\u001b[0m\u001b[1;33m\u001b[0m\u001b[0m\n\u001b[0m\u001b[0;32m      8\u001b[0m     \u001b[0mplace_id\u001b[0m \u001b[1;33m=\u001b[0m \u001b[0muni_data\u001b[0m\u001b[1;33m[\u001b[0m\u001b[1;34m'predictions'\u001b[0m\u001b[1;33m]\u001b[0m\u001b[1;33m[\u001b[0m\u001b[1;36m0\u001b[0m\u001b[1;33m]\u001b[0m\u001b[1;33m[\u001b[0m\u001b[1;34m'place_id'\u001b[0m\u001b[1;33m]\u001b[0m\u001b[1;33m\u001b[0m\u001b[0m\n\u001b[0;32m      9\u001b[0m     \u001b[0mplace_id_data\u001b[0m \u001b[1;33m=\u001b[0m \u001b[0mquery_placeid_gm\u001b[0m\u001b[1;33m(\u001b[0m\u001b[0mplace_id\u001b[0m\u001b[1;33m,\u001b[0m \u001b[0mFORMAT\u001b[0m\u001b[1;33m,\u001b[0m \u001b[0mKEY\u001b[0m\u001b[1;33m)\u001b[0m\u001b[1;33m\u001b[0m\u001b[0m\n",
      "\u001b[1;31mIndexError\u001b[0m: list index out of range"
     ]
    }
   ],
   "source": [
    "def process_uni_data():\n",
    "    i = 0\n",
    "    for university, canton in ids.items():\n",
    "        print(university)\n",
    "        canton_data = get_canton(university)\n",
    "        print(university, canton_data)\n",
    "        if canton_data is not None:\n",
    "            i+=1\n",
    "    print(i)\n",
    "\n",
    "process_uni_data()"
   ]
  }
 ],
 "metadata": {
  "anaconda-cloud": {},
  "kernelspec": {
   "display_name": "Python [ADA]",
   "language": "python",
   "name": "Python [ADA]"
  },
  "language_info": {
   "codemirror_mode": {
    "name": "ipython",
    "version": 3
   },
   "file_extension": ".py",
   "mimetype": "text/x-python",
   "name": "python",
   "nbconvert_exporter": "python",
   "pygments_lexer": "ipython3",
   "version": "3.5.2"
  }
 },
 "nbformat": 4,
 "nbformat_minor": 0
}
