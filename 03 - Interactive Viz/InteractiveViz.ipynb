{
 "cells": [
  {
   "cell_type": "code",
   "execution_count": 2,
   "metadata": {
    "collapsed": false
   },
   "outputs": [],
   "source": [
    "import pandas as pd\n",
    "import folium as fm\n",
    "import re"
   ]
  },
  {
   "cell_type": "code",
   "execution_count": 3,
   "metadata": {
    "collapsed": false
   },
   "outputs": [],
   "source": [
    "import os\n",
    "os.path.exists('./Data/P3_GrantExport.csv')\n",
    "data = pd.read_csv('./Data/P3_GrantExport.csv', delimiter=';', na_values=['.'], error_bad_lines=False)"
   ]
  },
  {
   "cell_type": "code",
   "execution_count": 48,
   "metadata": {
    "collapsed": false
   },
   "outputs": [
    {
     "data": {
      "text/plain": [
       "array(['Nicht zuteilbar - NA', 'Université de Genève - GE',\n",
       "       'NPO (Biblioth., Museen, Verwalt.) - NPO', 'Universität Basel - BS',\n",
       "       'Université de Fribourg - FR', 'Universität Zürich - ZH',\n",
       "       'Université de Lausanne - LA', 'Universität Bern - BE',\n",
       "       'Eidg. Forschungsanstalt für Wald,Schnee,Land - WSL',\n",
       "       'Université de Neuchâtel - NE', 'ETH Zürich - ETHZ',\n",
       "       'Inst. de Hautes Etudes Internat. et du Dév - IHEID',\n",
       "       'Universität St. Gallen - SG', 'Weitere Institute - FINST',\n",
       "       'Firmen/Privatwirtschaft - FP',\n",
       "       'Pädagogische Hochschule Graubünden - PHGR', 'EPF Lausanne - EPFL',\n",
       "       'Pädagogische Hochschule Zürich - PHZFH', 'Universität Luzern - LU',\n",
       "       'Schweiz. Institut für Kunstwissenschaft - SIK-ISEA',\n",
       "       'SUP della Svizzera italiana - SUPSI',\n",
       "       'HES de Suisse occidentale - HES-SO',\n",
       "       'Robert Walser-Stiftung Bern - RWS', 'Paul Scherrer Institut - PSI',\n",
       "       'Pädagogische Hochschule St. Gallen - PHSG',\n",
       "       'Eidg. Anstalt für Wasserversorgung - EAWAG',\n",
       "       'Eidg. Material und Prüfungsanstalt - EMPA',\n",
       "       'Physikal.-Meteorolog. Observatorium Davos - PMOD',\n",
       "       'Berner Fachhochschule - BFH',\n",
       "       'Swiss Center for Electronics and Microtech. - CSEM',\n",
       "       'Weitere Spitäler - ASPIT', 'AO Research Institute - AORI',\n",
       "       'Allergie- und Asthmaforschung - SIAF',\n",
       "       'Forschungsinstitut für biologischen Landbau - FIBL',\n",
       "       'Friedrich Miescher Institute - FMI',\n",
       "       'Kantonsspital St. Gallen - KSPSG',\n",
       "       'Forschungsanstalten Agroscope - AGS',\n",
       "       'Ente Ospedaliero Cantonale - EOC',\n",
       "       'Inst. universit. romand de Santé au Travail - IST',\n",
       "       'Eidg. Hochschulinstitut für Berufsbildung - EHB',\n",
       "       'Zürcher Fachhochschule (ohne PH) - ZFH',\n",
       "       'Università della Svizzera italiana - USI',\n",
       "       'Institut für Kulturforschung Graubünden - IKG',\n",
       "       'Fachhochschule Nordwestschweiz (ohne PH) - FHNW',\n",
       "       'Interkant. Hochschule für Heilpädagogik ZH - HfH', nan,\n",
       "       \"Centre de rech. sur l'environnement alpin - CREALP\",\n",
       "       'Idiap Research Institute - IDIAP',\n",
       "       'Pädagogische Hochschule Bern - PHBern',\n",
       "       'Institut Universitaire Kurt Bösch - IUKB',\n",
       "       'Schweizer Paraplegiker Forschung - SPF',\n",
       "       'Hochschule Luzern - HSLU',\n",
       "       'Forschungsinstitut für Opthalmologie - IRO',\n",
       "       'Haute école pédagogique du canton de Vaud - HEPL',\n",
       "       'Fachhochschule Ostschweiz - FHO',\n",
       "       'Inst. Suisse de Spéléologie et Karstologie - ISSKA',\n",
       "       'Swiss Institute of Bioinformatics - SIB',\n",
       "       'Haute école pédagogique BE, JU, NE - HEPBEJUNE',\n",
       "       'Pädagogische Hochschule Luzern - PHLU',\n",
       "       'Forschungskommission SAGW', 'Istituto Svizzero di Roma - ISR',\n",
       "       'Pädag. Hochschule Tessin (Teilschule SUPSI) - ASP',\n",
       "       'Haute école pédagogique fribourgeoise - HEPFR',\n",
       "       'Pädagogische Hochschule Schwyz - PHSZ',\n",
       "       'Pädagogische Hochschule Thurgau - PHTG',\n",
       "       'Biotechnologie Institut Thurgau - BITG',\n",
       "       'Fachhochschule Kalaidos - FHKD',\n",
       "       'Schweizer Kompetenzzentrum Sozialwissensch. - FORS',\n",
       "       'Pädagogische Hochschule Wallis - PHVS',\n",
       "       'Schweiz. Hochschule für Logopädie Rorschach - SHLR',\n",
       "       'Pädagogische Hochschule Zug - PHZG',\n",
       "       'Instituto Ricerche Solari Locarno - IRSOL',\n",
       "       'Franklin University Switzerland - FUS',\n",
       "       'Pädagogische Hochschule Schaffhausen - PHSH',\n",
       "       'Pädagogische Hochschule Nordwestschweiz - PHFHNW',\n",
       "       'Staatsunabh. Theologische Hochschule Basel - STHB',\n",
       "       'Facoltà di Teologia di Lugano - FTL',\n",
       "       'Fernfachhochschule Schweiz (Mitglied SUPSI) - FFHS'], dtype=object)"
      ]
     },
     "execution_count": 48,
     "metadata": {},
     "output_type": "execute_result"
    }
   ],
   "source": [
    "universities = data['University'].unique()\n",
    "\n",
    "universities"
   ]
  },
  {
   "cell_type": "code",
   "execution_count": 21,
   "metadata": {
    "collapsed": false
   },
   "outputs": [
    {
     "data": {
      "text/plain": [
       "array(['Université de Genève - GE', 'Universität Basel - BS',\n",
       "       'Université de Fribourg - FR', 'Universität Zürich - ZH',\n",
       "       'Université de Lausanne - LA', 'Universität Bern - BE',\n",
       "       'Université de Neuchâtel - NE', 'Universität St. Gallen - SG',\n",
       "       'Universität Luzern - LU',\n",
       "       'Università della Svizzera italiana - USI',\n",
       "       'Institut Universitaire Kurt Bösch - IUKB',\n",
       "       'Franklin University Switzerland - FUS'], dtype=object)"
      ]
     },
     "execution_count": 21,
     "metadata": {},
     "output_type": "execute_result"
    }
   ],
   "source": [
    "data['University'].where(data['University'].str.contains('Univer')).dropna().unique()"
   ]
  },
  {
   "cell_type": "code",
   "execution_count": 41,
   "metadata": {
    "collapsed": false
   },
   "outputs": [
    {
     "data": {
      "text/plain": [
       "<geonames.adapters.base.Result at 0x1e1f62de978>"
      ]
     },
     "execution_count": 41,
     "metadata": {},
     "output_type": "execute_result"
    }
   ],
   "source": [
    "import geonames.adapters.search\n",
    "\n",
    "_USERNAME = 'shynkaru'\n",
    "sa = geonames.adapters.search.Search(_USERNAME)\n",
    "\n",
    "result = sa.query('University of Lausanne').country('ch').feature_code('UNIV').execute()\n",
    "result"
   ]
  },
  {
   "cell_type": "code",
   "execution_count": 42,
   "metadata": {
    "collapsed": false
   },
   "outputs": [
    {
     "name": "stdout",
     "output_type": "stream",
     "text": [
      "[http://sws.geonames.org/6620493/]: [University of Lausanne]\n"
     ]
    }
   ],
   "source": [
    "for id_, name in result.get_flat_results():\n",
    "    print(geonames.compat.make_unicode(\"[{0}]: [{1}]\").format(id_, name))\n",
    "    break"
   ]
  },
  {
   "cell_type": "code",
   "execution_count": 43,
   "metadata": {
    "collapsed": false
   },
   "outputs": [
    {
     "data": {
      "text/plain": [
       "2"
      ]
     },
     "execution_count": 43,
     "metadata": {},
     "output_type": "execute_result"
    }
   ],
   "source": [
    "xml_nodes = result.get_xml_nodes()\n",
    "len(xml_nodes)"
   ]
  },
  {
   "cell_type": "code",
   "execution_count": 38,
   "metadata": {
    "collapsed": false
   },
   "outputs": [
    {
     "data": {
      "text/plain": [
       "<Element {http://www.w3.org/1999/02/22-rdf-syntax-ns#}RDF at 0x1e1f98c2748>"
      ]
     },
     "execution_count": 38,
     "metadata": {},
     "output_type": "execute_result"
    }
   ],
   "source": [
    "result.xml"
   ]
  },
  {
   "cell_type": "code",
   "execution_count": 45,
   "metadata": {
    "collapsed": false
   },
   "outputs": [
    {
     "name": "stdout",
     "output_type": "stream",
     "text": [
      "b'<gn:Feature xmlns:gn=\"http://www.geonames.org/ontology#\" xmlns:rdf=\"http://www.w3.org/1999/02/22-rdf-syntax-ns#\" xmlns:cc=\"http://creativecommons.org/ns#\" xmlns:dcterms=\"http://purl.org/dc/terms/\" xmlns:foaf=\"http://xmlns.com/foaf/0.1/\" xmlns:owl=\"http://www.w3.org/2002/07/owl#\" xmlns:rdfs=\"http://www.w3.org/2000/01/rdf-schema#\" xmlns:wgs84_pos=\"http://www.w3.org/2003/01/geo/wgs84_pos#\" rdf:about=\"http://sws.geonames.org/6620493/\">\\n<rdfs:isDefinedBy rdf:resource=\"http://sws.geonames.org/6620493/about.rdf\"></rdfs:isDefinedBy>\\n<gn:name>University of Lausanne</gn:name>\\n<gn:alternateName xml:lang=\"ar\">&#1580;&#1575;&#1605;&#1593;&#1577; &#1604;&#1608;&#1586;&#1575;&#1606;</gn:alternateName>\\n<gn:alternateName xml:lang=\"bg\">&#1051;&#1086;&#1079;&#1072;&#1085;&#1089;&#1082;&#1080; &#1091;&#1085;&#1080;&#1074;&#1077;&#1088;&#1089;&#1080;&#1090;&#1077;&#1090;</gn:alternateName>\\n<gn:alternateName xml:lang=\"ca\">Universitat de Lausana</gn:alternateName>\\n<gn:alternateName xml:lang=\"de\">Universit&#228;t Lausanne</gn:alternateName>\\n<gn:alternateName xml:lang=\"en\">University of Lausanne</gn:alternateName>\\n<gn:alternateName xml:lang=\"eo\">Universitato de La&#365;zano</gn:alternateName>\\n<gn:alternateName xml:lang=\"es\">Universidad de Lausana</gn:alternateName>\\n<gn:alternateName xml:lang=\"et\">Lausannei &#220;likool</gn:alternateName>\\n<gn:alternateName xml:lang=\"fa\">&#1583;&#1575;&#1606;&#1588;&#1711;&#1575;&#1607; &#1604;&#1608;&#1586;&#1575;&#1606;</gn:alternateName>\\n<gn:alternateName xml:lang=\"fi\">Lausannen yliopisto</gn:alternateName>\\n<gn:alternateName xml:lang=\"fy\">Universiteit fan Lausanne</gn:alternateName>\\n<gn:alternateName xml:lang=\"hbs\">Univerzitet u Lausannu</gn:alternateName>\\n<gn:alternateName xml:lang=\"he\">&#1488;&#1493;&#1504;&#1497;&#1489;&#1512;&#1505;&#1497;&#1496;&#1514; &#1500;&#1493;&#1494;&#1488;&#1503;</gn:alternateName>\\n<gn:alternateName xml:lang=\"it\">Universit&#224; di Losanna</gn:alternateName>\\n<gn:alternateName xml:lang=\"ja\">&#12525;&#12540;&#12470;&#12531;&#12492;&#22823;&#23398;</gn:alternateName>\\n<gn:alternateName xml:lang=\"la\">Academia Lausannensis</gn:alternateName>\\n<gn:alternateName xml:lang=\"lt\">Lozanos universitetas</gn:alternateName>\\n<gn:alternateName xml:lang=\"nl\">Universiteit van Lausanne</gn:alternateName>\\n<gn:alternateName xml:lang=\"pt\">Universidade de Lausanne</gn:alternateName>\\n<gn:alternateName xml:lang=\"ru\">&#1051;&#1086;&#1079;&#1072;&#1085;&#1085;&#1089;&#1082;&#1080;&#1081; &#1091;&#1085;&#1080;&#1074;&#1077;&#1088;&#1089;&#1080;&#1090;&#1077;&#1090;</gn:alternateName>\\n<gn:alternateName xml:lang=\"th\">&#3617;&#3627;&#3634;&#3623;&#3636;&#3607;&#3618;&#3634;&#3621;&#3633;&#3618;&#3650;&#3621;&#3595;&#3634;&#3609;</gn:alternateName>\\n<gn:alternateName xml:lang=\"tr\">Lozan &#220;niversitesi</gn:alternateName>\\n<gn:alternateName xml:lang=\"uk\">&#1051;&#1086;&#1079;&#1072;&#1085;&#1089;&#1100;&#1082;&#1080;&#1081; &#1091;&#1085;&#1110;&#1074;&#1077;&#1088;&#1089;&#1080;&#1090;&#1077;&#1090;</gn:alternateName>\\n<gn:alternateName xml:lang=\"vi\">&#272;&#7841;i h&#7885;c Lausanne</gn:alternateName>\\n<gn:alternateName xml:lang=\"zh\">&#27931;&#26705;&#22823;&#23398;</gn:alternateName>\\n<gn:featureClass rdf:resource=\"http://www.geonames.org/ontology#S\"></gn:featureClass>\\n<gn:featureCode rdf:resource=\"http://www.geonames.org/ontology#S.UNIV\"></gn:featureCode>\\n<gn:countryCode>CH</gn:countryCode>\\n<wgs84_pos:lat>46.52376</wgs84_pos:lat>\\n<wgs84_pos:long>6.58409</wgs84_pos:long>\\n<gn:parentCountry rdf:resource=\"http://sws.geonames.org/2658434/\"></gn:parentCountry>\\n<gn:nearbyFeatures rdf:resource=\"http://sws.geonames.org/6620493/nearby.rdf\"></gn:nearbyFeatures>\\n<gn:locationMap rdf:resource=\"http://www.geonames.org/6620493/universite-de-lausanne.html\"></gn:locationMap>\\n<gn:wikipediaArticle rdf:resource=\"http://en.wikipedia.org/wiki/University_of_Lausanne\"></gn:wikipediaArticle>\\n<rdfs:seeAlso rdf:resource=\"http://dbpedia.org/resource/University_of_Lausanne\"></rdfs:seeAlso>\\n</gn:Feature>\\n\\n'\n"
     ]
    }
   ],
   "source": [
    "from lxml import etree\n",
    "\n",
    "for xml_obj in xml_nodes:\n",
    "    tree = etree.ElementTree(xml_obj)\n",
    "    print(etree.tostring(tree, method='html', pretty_print=True))\n",
    "    break"
   ]
  },
  {
   "cell_type": "code",
   "execution_count": null,
   "metadata": {
    "collapsed": true
   },
   "outputs": [],
   "source": [
    "URL = \"api.geonames.org/postalCodeSearch?\"\n",
    "feature_code = \"featureCode=UNIV\"\n",
    "country = \"country=CH\"\n"
   ]
  },
  {
   "cell_type": "code",
   "execution_count": null,
   "metadata": {
    "collapsed": false
   },
   "outputs": [],
   "source": [
    "topo_path = r\"Data/ch-cantons.topojson.json\""
   ]
  },
  {
   "cell_type": "code",
   "execution_count": 64,
   "metadata": {
    "collapsed": false,
    "scrolled": false
   },
   "outputs": [
    {
     "data": {
      "text/plain": [
       "{'AGS',\n",
       " 'AORI',\n",
       " 'ASP',\n",
       " 'ASPIT',\n",
       " 'BE',\n",
       " 'BFH',\n",
       " 'BITG',\n",
       " 'BS',\n",
       " 'CREALP',\n",
       " 'CSEM',\n",
       " 'EAWAG',\n",
       " 'EHB',\n",
       " 'EMPA',\n",
       " 'EOC',\n",
       " 'EPFL',\n",
       " 'ETHZ',\n",
       " 'FFHS',\n",
       " 'FHKD',\n",
       " 'FHNW',\n",
       " 'FHO',\n",
       " 'FIBL',\n",
       " 'FINST',\n",
       " 'FMI',\n",
       " 'FORS',\n",
       " 'FP',\n",
       " 'FR',\n",
       " 'FTL',\n",
       " 'FUS',\n",
       " 'GE',\n",
       " 'HEPBEJUNE',\n",
       " 'HEPFR',\n",
       " 'HEPL',\n",
       " 'HES-SO',\n",
       " 'HSLU',\n",
       " 'HfH',\n",
       " 'IDIAP',\n",
       " 'IHEID',\n",
       " 'IKG',\n",
       " 'IRO',\n",
       " 'IRSOL',\n",
       " 'ISR',\n",
       " 'ISSKA',\n",
       " 'IST',\n",
       " 'IUKB',\n",
       " 'KSPSG',\n",
       " 'LA',\n",
       " 'LU',\n",
       " 'NA',\n",
       " 'NE',\n",
       " 'NPO',\n",
       " 'PHBern',\n",
       " 'PHFHNW',\n",
       " 'PHGR',\n",
       " 'PHLU',\n",
       " 'PHSG',\n",
       " 'PHSH',\n",
       " 'PHSZ',\n",
       " 'PHTG',\n",
       " 'PHVS',\n",
       " 'PHZFH',\n",
       " 'PHZG',\n",
       " 'PMOD',\n",
       " 'PSI',\n",
       " 'RWS',\n",
       " 'SAGW',\n",
       " 'SG',\n",
       " 'SHLR',\n",
       " 'SIAF',\n",
       " 'SIB',\n",
       " 'SIK-ISEA',\n",
       " 'SPF',\n",
       " 'STHB',\n",
       " 'SUPSI',\n",
       " 'USI',\n",
       " 'WSL',\n",
       " 'ZFH',\n",
       " 'ZH',\n",
       " 'nan'}"
      ]
     },
     "execution_count": 64,
     "metadata": {},
     "output_type": "execute_result"
    }
   ],
   "source": [
    "universities = data['University'].tolist()[:-1]\n",
    "universities[-1]\n",
    "\n",
    "ids = set()\n",
    "for record in universities:\n",
    "    ids.add(str(record).split()[-1])\n",
    "\n",
    "ids\n",
    "\n",
    " "
   ]
  },
  {
   "cell_type": "code",
   "execution_count": 37,
   "metadata": {
    "collapsed": false
   },
   "outputs": [
    {
     "data": {
      "text/plain": [
       "<generator object <genexpr> at 0x000001D828C7F048>"
      ]
     },
     "execution_count": 37,
     "metadata": {},
     "output_type": "execute_result"
    }
   ],
   "source": [
    "ids"
   ]
  }
 ],
 "metadata": {
  "kernelspec": {
   "display_name": "Python [Root]",
   "language": "python",
   "name": "Python [Root]"
  },
  "language_info": {
   "codemirror_mode": {
    "name": "ipython",
    "version": 3
   },
   "file_extension": ".py",
   "mimetype": "text/x-python",
   "name": "python",
   "nbconvert_exporter": "python",
   "pygments_lexer": "ipython3",
   "version": "3.5.2"
  }
 },
 "nbformat": 4,
 "nbformat_minor": 0
}
