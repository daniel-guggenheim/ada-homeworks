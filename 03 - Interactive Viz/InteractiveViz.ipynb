{
 "cells": [
  {
   "cell_type": "code",
   "execution_count": 2,
   "metadata": {
    "collapsed": false
   },
   "outputs": [],
   "source": [
    "import pandas as pd\n",
    "import folium as fm\n",
    "import re"
   ]
  },
  {
   "cell_type": "code",
   "execution_count": 3,
   "metadata": {
    "collapsed": false
   },
   "outputs": [],
   "source": [
    "import os\n",
    "os.path.exists('./Data/P3_GrantExport.csv')\n",
    "data = pd.read_csv('./Data/P3_GrantExport.csv', delimiter=';', na_values=['.'], error_bad_lines=False)"
   ]
  },
  {
   "cell_type": "code",
   "execution_count": 13,
   "metadata": {
    "collapsed": false
   },
   "outputs": [
    {
     "data": {
      "text/plain": [
       "78"
      ]
     },
     "execution_count": 13,
     "metadata": {},
     "output_type": "execute_result"
    }
   ],
   "source": [
    "universities = data['University'].unique()\n",
    "len(universities)"
   ]
  },
  {
   "cell_type": "code",
   "execution_count": null,
   "metadata": {
    "collapsed": true
   },
   "outputs": [],
   "source": [
    "URL = \"api.geonames.org/postalCodeSearch?\"\n",
    "feature_code = \"featureCode=UNIV\"\n",
    "country = \"country=CH\"\n"
   ]
  },
  {
   "cell_type": "code",
   "execution_count": null,
   "metadata": {
    "collapsed": false
   },
   "outputs": [],
   "source": [
    "topo_path = r\"Data/ch-cantons.topojson.json\""
   ]
  },
  {
   "cell_type": "code",
   "execution_count": 64,
   "metadata": {
    "collapsed": false,
    "scrolled": false
   },
   "outputs": [
    {
     "data": {
      "text/plain": [
       "{'AGS',\n",
       " 'AORI',\n",
       " 'ASP',\n",
       " 'ASPIT',\n",
       " 'BE',\n",
       " 'BFH',\n",
       " 'BITG',\n",
       " 'BS',\n",
       " 'CREALP',\n",
       " 'CSEM',\n",
       " 'EAWAG',\n",
       " 'EHB',\n",
       " 'EMPA',\n",
       " 'EOC',\n",
       " 'EPFL',\n",
       " 'ETHZ',\n",
       " 'FFHS',\n",
       " 'FHKD',\n",
       " 'FHNW',\n",
       " 'FHO',\n",
       " 'FIBL',\n",
       " 'FINST',\n",
       " 'FMI',\n",
       " 'FORS',\n",
       " 'FP',\n",
       " 'FR',\n",
       " 'FTL',\n",
       " 'FUS',\n",
       " 'GE',\n",
       " 'HEPBEJUNE',\n",
       " 'HEPFR',\n",
       " 'HEPL',\n",
       " 'HES-SO',\n",
       " 'HSLU',\n",
       " 'HfH',\n",
       " 'IDIAP',\n",
       " 'IHEID',\n",
       " 'IKG',\n",
       " 'IRO',\n",
       " 'IRSOL',\n",
       " 'ISR',\n",
       " 'ISSKA',\n",
       " 'IST',\n",
       " 'IUKB',\n",
       " 'KSPSG',\n",
       " 'LA',\n",
       " 'LU',\n",
       " 'NA',\n",
       " 'NE',\n",
       " 'NPO',\n",
       " 'PHBern',\n",
       " 'PHFHNW',\n",
       " 'PHGR',\n",
       " 'PHLU',\n",
       " 'PHSG',\n",
       " 'PHSH',\n",
       " 'PHSZ',\n",
       " 'PHTG',\n",
       " 'PHVS',\n",
       " 'PHZFH',\n",
       " 'PHZG',\n",
       " 'PMOD',\n",
       " 'PSI',\n",
       " 'RWS',\n",
       " 'SAGW',\n",
       " 'SG',\n",
       " 'SHLR',\n",
       " 'SIAF',\n",
       " 'SIB',\n",
       " 'SIK-ISEA',\n",
       " 'SPF',\n",
       " 'STHB',\n",
       " 'SUPSI',\n",
       " 'USI',\n",
       " 'WSL',\n",
       " 'ZFH',\n",
       " 'ZH',\n",
       " 'nan'}"
      ]
     },
     "execution_count": 64,
     "metadata": {},
     "output_type": "execute_result"
    }
   ],
   "source": [
    "universities = data['University'].tolist()[:-1]\n",
    "universities[-1]\n",
    "\n",
    "ids = set()\n",
    "for record in universities:\n",
    "    ids.add(str(record).split()[-1])\n",
    "\n",
    "ids\n",
    "\n",
    " "
   ]
  },
  {
   "cell_type": "code",
   "execution_count": 37,
   "metadata": {
    "collapsed": false
   },
   "outputs": [
    {
     "data": {
      "text/plain": [
       "<generator object <genexpr> at 0x000001D828C7F048>"
      ]
     },
     "execution_count": 37,
     "metadata": {},
     "output_type": "execute_result"
    }
   ],
   "source": [
    "ids"
   ]
  }
 ],
 "metadata": {
  "kernelspec": {
   "display_name": "Python [Root]",
   "language": "python",
   "name": "Python [Root]"
  },
  "language_info": {
   "codemirror_mode": {
    "name": "ipython",
    "version": 3
   },
   "file_extension": ".py",
   "mimetype": "text/x-python",
   "name": "python",
   "nbconvert_exporter": "python",
   "pygments_lexer": "ipython3",
   "version": "3.5.2"
  }
 },
 "nbformat": 4,
 "nbformat_minor": 0
}
