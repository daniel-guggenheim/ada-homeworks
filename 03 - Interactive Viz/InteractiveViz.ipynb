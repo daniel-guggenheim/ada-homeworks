{
 "cells": [
  {
   "cell_type": "code",
   "execution_count": 23,
   "metadata": {
    "collapsed": false
   },
   "outputs": [],
   "source": [
    "import pandas as pd\n",
    "import numpy as np\n",
    "import folium as fm\n",
    "import re"
   ]
  },
  {
   "cell_type": "code",
   "execution_count": 28,
   "metadata": {
    "collapsed": false
   },
   "outputs": [],
   "source": [
    "import os\n",
    "os.path.exists('./Data/P3_GrantExport.csv')\n",
    "data = pd.read_csv('./Data/P3_GrantExport.csv', delimiter=';', na_values=['.'], error_bad_lines=False)"
   ]
  },
  {
   "cell_type": "markdown",
   "metadata": {},
   "source": [
    "We drop all unuseful columns"
   ]
  },
  {
   "cell_type": "code",
   "execution_count": 29,
   "metadata": {
    "collapsed": false
   },
   "outputs": [],
   "source": [
    "data.drop('Project Title', axis=1, inplace=True)\n",
    "data.drop('Project Title English', axis=1, inplace=True)\n",
    "data.drop('Responsible Applicant', axis=1, inplace=True)\n",
    "data.drop('Funding Instrument', axis=1, inplace=True)\n",
    "data.drop('Funding Instrument Hierarchy', axis=1, inplace=True)\n",
    "data.drop('Institution', axis=1, inplace=True)\n",
    "data.drop('Discipline Number', axis=1, inplace=True)\n",
    "data.drop('Discipline Name', axis=1, inplace=True)\n",
    "data.drop('Discipline Name Hierarchy', axis=1, inplace=True)\n",
    "data.drop('Keywords', axis=1, inplace=True)"
   ]
  },
  {
   "cell_type": "markdown",
   "metadata": {},
   "source": [
    "We drop project with missing starting date or ending date"
   ]
  },
  {
   "cell_type": "code",
   "execution_count": 30,
   "metadata": {
    "collapsed": false
   },
   "outputs": [
    {
     "data": {
      "text/plain": [
       "63969"
      ]
     },
     "execution_count": 30,
     "metadata": {},
     "output_type": "execute_result"
    }
   ],
   "source": [
    "len(data)"
   ]
  },
  {
   "cell_type": "code",
   "execution_count": 31,
   "metadata": {
    "collapsed": false
   },
   "outputs": [],
   "source": [
    "data = data[pd.notnull(data['Start Date'])]\n",
    "data = data[pd.notnull(data['End Date'])]"
   ]
  },
  {
   "cell_type": "code",
   "execution_count": 32,
   "metadata": {
    "collapsed": false
   },
   "outputs": [
    {
     "data": {
      "text/plain": [
       "63968"
      ]
     },
     "execution_count": 32,
     "metadata": {},
     "output_type": "execute_result"
    }
   ],
   "source": [
    "len(data)"
   ]
  },
  {
   "cell_type": "markdown",
   "metadata": {},
   "source": [
    "We drop the \"Nicht zuteilbar\" in the university column"
   ]
  },
  {
   "cell_type": "code",
   "execution_count": 44,
   "metadata": {
    "collapsed": true
   },
   "outputs": [],
   "source": [
    "data = data[data.University != 'Nicht zuteilbar - NA']"
   ]
  },
  {
   "cell_type": "code",
   "execution_count": 55,
   "metadata": {
    "collapsed": false
   },
   "outputs": [],
   "source": [
    "data['Start Date'] = pd.to_datetime(data['Start Date'])\n",
    "data['End Date'] = pd.to_datetime(data['End Date'])"
   ]
  },
  {
   "cell_type": "code",
   "execution_count": 62,
   "metadata": {
    "collapsed": false
   },
   "outputs": [],
   "source": [
    "sortStartDate  = data.sort_values(by='Start Date')"
   ]
  },
  {
   "cell_type": "code",
   "execution_count": 65,
   "metadata": {
    "collapsed": false
   },
   "outputs": [
    {
     "data": {
      "text/html": [
       "<div>\n",
       "<table border=\"1\" class=\"dataframe\">\n",
       "  <thead>\n",
       "    <tr style=\"text-align: right;\">\n",
       "      <th></th>\n",
       "      <th>﻿\"Project Number\"</th>\n",
       "      <th>University</th>\n",
       "      <th>Start Date</th>\n",
       "      <th>End Date</th>\n",
       "      <th>Approved Amount</th>\n",
       "    </tr>\n",
       "  </thead>\n",
       "  <tbody>\n",
       "    <tr>\n",
       "      <th>1854</th>\n",
       "      <td>2483</td>\n",
       "      <td>Université de Fribourg - FR</td>\n",
       "      <td>1975-01-06</td>\n",
       "      <td>1976-09-30</td>\n",
       "      <td>247904.00</td>\n",
       "    </tr>\n",
       "    <tr>\n",
       "      <th>1937</th>\n",
       "      <td>2575</td>\n",
       "      <td>ETH Zürich - ETHZ</td>\n",
       "      <td>1975-01-07</td>\n",
       "      <td>1975-12-31</td>\n",
       "      <td>8000.00</td>\n",
       "    </tr>\n",
       "    <tr>\n",
       "      <th>31</th>\n",
       "      <td>41</td>\n",
       "      <td>NPO (Biblioth., Museen, Verwalt.) - NPO</td>\n",
       "      <td>1975-01-08</td>\n",
       "      <td>1976-10-31</td>\n",
       "      <td>8902.00</td>\n",
       "    </tr>\n",
       "    <tr>\n",
       "      <th>64</th>\n",
       "      <td>83</td>\n",
       "      <td>Universität Bern - BE</td>\n",
       "      <td>1975-01-08</td>\n",
       "      <td>1976-09-30</td>\n",
       "      <td>14235.00</td>\n",
       "    </tr>\n",
       "    <tr>\n",
       "      <th>63</th>\n",
       "      <td>82</td>\n",
       "      <td>Université de Neuchâtel - NE</td>\n",
       "      <td>1975-01-08</td>\n",
       "      <td>1976-01-31</td>\n",
       "      <td>13620.00</td>\n",
       "    </tr>\n",
       "    <tr>\n",
       "      <th>1890</th>\n",
       "      <td>2521</td>\n",
       "      <td>EPF Lausanne - EPFL</td>\n",
       "      <td>1975-01-10</td>\n",
       "      <td>1976-09-30</td>\n",
       "      <td>69539.00</td>\n",
       "    </tr>\n",
       "    <tr>\n",
       "      <th>1896</th>\n",
       "      <td>2528</td>\n",
       "      <td>Universität Zürich - ZH</td>\n",
       "      <td>1975-01-10</td>\n",
       "      <td>1977-06-30</td>\n",
       "      <td>214663.00</td>\n",
       "    </tr>\n",
       "    <tr>\n",
       "      <th>1898</th>\n",
       "      <td>2531</td>\n",
       "      <td>Universität Basel - BS</td>\n",
       "      <td>1975-01-10</td>\n",
       "      <td>1976-09-30</td>\n",
       "      <td>106124.00</td>\n",
       "    </tr>\n",
       "    <tr>\n",
       "      <th>1903</th>\n",
       "      <td>2536</td>\n",
       "      <td>Université de Lausanne - LA</td>\n",
       "      <td>1975-01-10</td>\n",
       "      <td>1976-09-30</td>\n",
       "      <td>53465.00</td>\n",
       "    </tr>\n",
       "    <tr>\n",
       "      <th>1904</th>\n",
       "      <td>2539</td>\n",
       "      <td>Université de Genève - GE</td>\n",
       "      <td>1975-01-10</td>\n",
       "      <td>1976-09-30</td>\n",
       "      <td>1559894.00</td>\n",
       "    </tr>\n",
       "    <tr>\n",
       "      <th>1909</th>\n",
       "      <td>2544</td>\n",
       "      <td>Universität St. Gallen - SG</td>\n",
       "      <td>1975-01-10</td>\n",
       "      <td>1976-09-30</td>\n",
       "      <td>28981.00</td>\n",
       "    </tr>\n",
       "    <tr>\n",
       "      <th>1851</th>\n",
       "      <td>2480</td>\n",
       "      <td>Eidg. Material und Prüfungsanstalt - EMPA</td>\n",
       "      <td>1975-01-10</td>\n",
       "      <td>1977-09-30</td>\n",
       "      <td>91300.00</td>\n",
       "    </tr>\n",
       "    <tr>\n",
       "      <th>1931</th>\n",
       "      <td>2569</td>\n",
       "      <td>Eidg. Anstalt für Wasserversorgung - EAWAG</td>\n",
       "      <td>1975-01-10</td>\n",
       "      <td>1976-09-30</td>\n",
       "      <td>112377.00</td>\n",
       "    </tr>\n",
       "    <tr>\n",
       "      <th>4872</th>\n",
       "      <td>5701</td>\n",
       "      <td>Weitere Spitäler - ASPIT</td>\n",
       "      <td>1975-01-10</td>\n",
       "      <td>1977-09-30</td>\n",
       "      <td>11000.00</td>\n",
       "    </tr>\n",
       "    <tr>\n",
       "      <th>4900</th>\n",
       "      <td>5731</td>\n",
       "      <td>AO Research Institute - AORI</td>\n",
       "      <td>1975-01-10</td>\n",
       "      <td>1978-09-30</td>\n",
       "      <td>367063.00</td>\n",
       "    </tr>\n",
       "    <tr>\n",
       "      <th>29</th>\n",
       "      <td>39</td>\n",
       "      <td>Eidg. Forschungsanstalt für Wald,Schnee,Land -...</td>\n",
       "      <td>1975-01-10</td>\n",
       "      <td>1978-09-30</td>\n",
       "      <td>445198.00</td>\n",
       "    </tr>\n",
       "    <tr>\n",
       "      <th>56</th>\n",
       "      <td>71</td>\n",
       "      <td>Inst. de Hautes Etudes Internat. et du Dév - I...</td>\n",
       "      <td>1975-01-10</td>\n",
       "      <td>1978-09-30</td>\n",
       "      <td>86949.00</td>\n",
       "    </tr>\n",
       "    <tr>\n",
       "      <th>84</th>\n",
       "      <td>108</td>\n",
       "      <td>Weitere Institute - FINST</td>\n",
       "      <td>1976-01-04</td>\n",
       "      <td>1977-08-31</td>\n",
       "      <td>16000.00</td>\n",
       "    </tr>\n",
       "    <tr>\n",
       "      <th>4961</th>\n",
       "      <td>5803</td>\n",
       "      <td>Allergie- und Asthmaforschung - SIAF</td>\n",
       "      <td>1976-01-04</td>\n",
       "      <td>1978-03-31</td>\n",
       "      <td>1161184.00</td>\n",
       "    </tr>\n",
       "    <tr>\n",
       "      <th>89</th>\n",
       "      <td>115</td>\n",
       "      <td>Firmen/Privatwirtschaft - FP</td>\n",
       "      <td>1976-01-05</td>\n",
       "      <td>1977-10-31</td>\n",
       "      <td>27000.00</td>\n",
       "    </tr>\n",
       "    <tr>\n",
       "      <th>2131</th>\n",
       "      <td>2782</td>\n",
       "      <td>Physikal.-Meteorolog. Observatorium Davos - PMOD</td>\n",
       "      <td>1976-01-10</td>\n",
       "      <td>1977-09-30</td>\n",
       "      <td>66825.00</td>\n",
       "    </tr>\n",
       "    <tr>\n",
       "      <th>5187</th>\n",
       "      <td>6076</td>\n",
       "      <td>Kantonsspital St. Gallen - KSPSG</td>\n",
       "      <td>1976-01-10</td>\n",
       "      <td>1978-09-30</td>\n",
       "      <td>54967.00</td>\n",
       "    </tr>\n",
       "    <tr>\n",
       "      <th>5136</th>\n",
       "      <td>6012</td>\n",
       "      <td>Friedrich Miescher Institute - FMI</td>\n",
       "      <td>1976-01-10</td>\n",
       "      <td>1979-09-30</td>\n",
       "      <td>567358.00</td>\n",
       "    </tr>\n",
       "    <tr>\n",
       "      <th>8137</th>\n",
       "      <td>10054</td>\n",
       "      <td>Paul Scherrer Institut - PSI</td>\n",
       "      <td>1977-01-01</td>\n",
       "      <td>1978-12-31</td>\n",
       "      <td>132590.00</td>\n",
       "    </tr>\n",
       "    <tr>\n",
       "      <th>138</th>\n",
       "      <td>174</td>\n",
       "      <td>Pädagogische Hochschule Graubünden - PHGR</td>\n",
       "      <td>1977-01-01</td>\n",
       "      <td>1979-12-31</td>\n",
       "      <td>125340.00</td>\n",
       "    </tr>\n",
       "    <tr>\n",
       "      <th>8125</th>\n",
       "      <td>10011</td>\n",
       "      <td>SUP della Svizzera italiana - SUPSI</td>\n",
       "      <td>1977-01-04</td>\n",
       "      <td>1982-03-31</td>\n",
       "      <td>201604.00</td>\n",
       "    </tr>\n",
       "    <tr>\n",
       "      <th>207</th>\n",
       "      <td>260</td>\n",
       "      <td>Pädagogische Hochschule Zürich - PHZFH</td>\n",
       "      <td>1977-01-04</td>\n",
       "      <td>1980-03-31</td>\n",
       "      <td>48096.00</td>\n",
       "    </tr>\n",
       "    <tr>\n",
       "      <th>309</th>\n",
       "      <td>403</td>\n",
       "      <td>Universität Luzern - LU</td>\n",
       "      <td>1977-01-09</td>\n",
       "      <td>1977-09-30</td>\n",
       "      <td>18500.00</td>\n",
       "    </tr>\n",
       "    <tr>\n",
       "      <th>5090</th>\n",
       "      <td>5953</td>\n",
       "      <td>Forschungsinstitut für biologischen Landbau - ...</td>\n",
       "      <td>1978-01-04</td>\n",
       "      <td>1980-03-31</td>\n",
       "      <td>100413.00</td>\n",
       "    </tr>\n",
       "    <tr>\n",
       "      <th>2471</th>\n",
       "      <td>3147</td>\n",
       "      <td>Berner Fachhochschule - BFH</td>\n",
       "      <td>1978-01-10</td>\n",
       "      <td>1979-03-31</td>\n",
       "      <td>6000.00</td>\n",
       "    </tr>\n",
       "    <tr>\n",
       "      <th>...</th>\n",
       "      <td>...</td>\n",
       "      <td>...</td>\n",
       "      <td>...</td>\n",
       "      <td>...</td>\n",
       "      <td>...</td>\n",
       "    </tr>\n",
       "    <tr>\n",
       "      <th>16655</th>\n",
       "      <td>38024</td>\n",
       "      <td>Institut Universitaire Kurt Bösch - IUKB</td>\n",
       "      <td>1993-01-07</td>\n",
       "      <td>1993-12-31</td>\n",
       "      <td>10000.00</td>\n",
       "    </tr>\n",
       "    <tr>\n",
       "      <th>15515</th>\n",
       "      <td>35819</td>\n",
       "      <td>Pädagogische Hochschule Bern - PHBern</td>\n",
       "      <td>1993-01-07</td>\n",
       "      <td>1997-12-31</td>\n",
       "      <td>768461.00</td>\n",
       "    </tr>\n",
       "    <tr>\n",
       "      <th>18035</th>\n",
       "      <td>40814</td>\n",
       "      <td>Schweizer Paraplegiker Forschung - SPF</td>\n",
       "      <td>1994-01-10</td>\n",
       "      <td>1998-09-30</td>\n",
       "      <td>165600.00</td>\n",
       "    </tr>\n",
       "    <tr>\n",
       "      <th>18550</th>\n",
       "      <td>41977</td>\n",
       "      <td>Hochschule Luzern - HSLU</td>\n",
       "      <td>1995-01-07</td>\n",
       "      <td>1996-06-30</td>\n",
       "      <td>6000.00</td>\n",
       "    </tr>\n",
       "    <tr>\n",
       "      <th>19141</th>\n",
       "      <td>43157</td>\n",
       "      <td>Forschungsinstitut für Opthalmologie - IRO</td>\n",
       "      <td>1995-01-11</td>\n",
       "      <td>1998-10-31</td>\n",
       "      <td>210000.00</td>\n",
       "    </tr>\n",
       "    <tr>\n",
       "      <th>19316</th>\n",
       "      <td>43389</td>\n",
       "      <td>Haute école pédagogique du canton de Vaud - HEPL</td>\n",
       "      <td>1996-01-03</td>\n",
       "      <td>1999-08-31</td>\n",
       "      <td>340451.00</td>\n",
       "    </tr>\n",
       "    <tr>\n",
       "      <th>26433</th>\n",
       "      <td>59733</td>\n",
       "      <td>Fachhochschule Ostschweiz - FHO</td>\n",
       "      <td>2000-01-11</td>\n",
       "      <td>2003-03-31</td>\n",
       "      <td>232748.00</td>\n",
       "    </tr>\n",
       "    <tr>\n",
       "      <th>28178</th>\n",
       "      <td>64381</td>\n",
       "      <td>Pädagogische Hochschule Luzern - PHLU</td>\n",
       "      <td>2000-01-12</td>\n",
       "      <td>2001-06-30</td>\n",
       "      <td>15750.00</td>\n",
       "    </tr>\n",
       "    <tr>\n",
       "      <th>27814</th>\n",
       "      <td>63764</td>\n",
       "      <td>Inst. Suisse de Spéléologie et Karstologie - I...</td>\n",
       "      <td>2001-01-04</td>\n",
       "      <td>2004-03-31</td>\n",
       "      <td>228164.00</td>\n",
       "    </tr>\n",
       "    <tr>\n",
       "      <th>27895</th>\n",
       "      <td>63879</td>\n",
       "      <td>Swiss Institute of Bioinformatics - SIB</td>\n",
       "      <td>2001-01-07</td>\n",
       "      <td>2004-06-30</td>\n",
       "      <td>464440.00</td>\n",
       "    </tr>\n",
       "    <tr>\n",
       "      <th>29199</th>\n",
       "      <td>66397</td>\n",
       "      <td>Haute école pédagogique BE, JU, NE - HEPBEJUNE</td>\n",
       "      <td>2001-01-10</td>\n",
       "      <td>2002-03-31</td>\n",
       "      <td>17200.00</td>\n",
       "    </tr>\n",
       "    <tr>\n",
       "      <th>31512</th>\n",
       "      <td>101005</td>\n",
       "      <td>Forschungskommission SAGW</td>\n",
       "      <td>2003-01-02</td>\n",
       "      <td>2004-01-31</td>\n",
       "      <td>100000.00</td>\n",
       "    </tr>\n",
       "    <tr>\n",
       "      <th>32142</th>\n",
       "      <td>101947</td>\n",
       "      <td>Istituto Svizzero di Roma - ISR</td>\n",
       "      <td>2003-01-10</td>\n",
       "      <td>2004-12-31</td>\n",
       "      <td>95000.00</td>\n",
       "    </tr>\n",
       "    <tr>\n",
       "      <th>33524</th>\n",
       "      <td>104954</td>\n",
       "      <td>Pädag. Hochschule Tessin (Teilschule SUPSI) - ASP</td>\n",
       "      <td>2004-01-06</td>\n",
       "      <td>2004-06-30</td>\n",
       "      <td>2100.00</td>\n",
       "    </tr>\n",
       "    <tr>\n",
       "      <th>35261</th>\n",
       "      <td>108429</td>\n",
       "      <td>Pädagogische Hochschule Schwyz - PHSZ</td>\n",
       "      <td>2005-01-08</td>\n",
       "      <td>2007-11-30</td>\n",
       "      <td>160824.00</td>\n",
       "    </tr>\n",
       "    <tr>\n",
       "      <th>35067</th>\n",
       "      <td>108054</td>\n",
       "      <td>Haute école pédagogique fribourgeoise - HEPFR</td>\n",
       "      <td>2005-01-09</td>\n",
       "      <td>2006-08-31</td>\n",
       "      <td>89289.00</td>\n",
       "    </tr>\n",
       "    <tr>\n",
       "      <th>36021</th>\n",
       "      <td>109730</td>\n",
       "      <td>Pädagogische Hochschule Thurgau - PHTG</td>\n",
       "      <td>2006-01-08</td>\n",
       "      <td>2008-07-31</td>\n",
       "      <td>195702.00</td>\n",
       "    </tr>\n",
       "    <tr>\n",
       "      <th>37364</th>\n",
       "      <td>112421</td>\n",
       "      <td>Biotechnologie Institut Thurgau - BITG</td>\n",
       "      <td>2006-01-09</td>\n",
       "      <td>2009-08-31</td>\n",
       "      <td>197000.00</td>\n",
       "    </tr>\n",
       "    <tr>\n",
       "      <th>40511</th>\n",
       "      <td>118236</td>\n",
       "      <td>Fachhochschule Kalaidos - FHKD</td>\n",
       "      <td>2007-01-11</td>\n",
       "      <td>2009-10-31</td>\n",
       "      <td>206630.00</td>\n",
       "    </tr>\n",
       "    <tr>\n",
       "      <th>41864</th>\n",
       "      <td>120786</td>\n",
       "      <td>Schweizer Kompetenzzentrum Sozialwissensch. - ...</td>\n",
       "      <td>2008-01-01</td>\n",
       "      <td>2008-12-31</td>\n",
       "      <td>480000.00</td>\n",
       "    </tr>\n",
       "    <tr>\n",
       "      <th>41467</th>\n",
       "      <td>120089</td>\n",
       "      <td>Pädagogische Hochschule Wallis - PHVS</td>\n",
       "      <td>2008-01-06</td>\n",
       "      <td>2011-08-31</td>\n",
       "      <td>332143.00</td>\n",
       "    </tr>\n",
       "    <tr>\n",
       "      <th>45396</th>\n",
       "      <td>127727</td>\n",
       "      <td>Pädagogische Hochschule Zug - PHZG</td>\n",
       "      <td>2009-01-09</td>\n",
       "      <td>2009-11-30</td>\n",
       "      <td>6000.00</td>\n",
       "    </tr>\n",
       "    <tr>\n",
       "      <th>43711</th>\n",
       "      <td>124485</td>\n",
       "      <td>Schweiz. Hochschule für Logopädie Rorschach - ...</td>\n",
       "      <td>2009-01-09</td>\n",
       "      <td>2011-02-28</td>\n",
       "      <td>191012.00</td>\n",
       "    </tr>\n",
       "    <tr>\n",
       "      <th>45205</th>\n",
       "      <td>127329</td>\n",
       "      <td>Instituto Ricerche Solari Locarno - IRSOL</td>\n",
       "      <td>2009-01-10</td>\n",
       "      <td>2011-09-30</td>\n",
       "      <td>136880.00</td>\n",
       "    </tr>\n",
       "    <tr>\n",
       "      <th>45459</th>\n",
       "      <td>127834</td>\n",
       "      <td>Franklin University Switzerland - FUS</td>\n",
       "      <td>2009-01-10</td>\n",
       "      <td>2009-12-31</td>\n",
       "      <td>6000.00</td>\n",
       "    </tr>\n",
       "    <tr>\n",
       "      <th>48266</th>\n",
       "      <td>133539</td>\n",
       "      <td>Pädagogische Hochschule Nordwestschweiz - PHFHNW</td>\n",
       "      <td>2010-01-07</td>\n",
       "      <td>2010-07-31</td>\n",
       "      <td>5600.00</td>\n",
       "    </tr>\n",
       "    <tr>\n",
       "      <th>47601</th>\n",
       "      <td>132207</td>\n",
       "      <td>Pädagogische Hochschule Schaffhausen - PHSH</td>\n",
       "      <td>2011-01-01</td>\n",
       "      <td>2012-08-31</td>\n",
       "      <td>176691.00</td>\n",
       "    </tr>\n",
       "    <tr>\n",
       "      <th>51199</th>\n",
       "      <td>139469</td>\n",
       "      <td>Facoltà di Teologia di Lugano - FTL</td>\n",
       "      <td>2012-01-03</td>\n",
       "      <td>2012-05-31</td>\n",
       "      <td>6000.00</td>\n",
       "    </tr>\n",
       "    <tr>\n",
       "      <th>48769</th>\n",
       "      <td>134468</td>\n",
       "      <td>Staatsunabh. Theologische Hochschule Basel - STHB</td>\n",
       "      <td>2012-01-06</td>\n",
       "      <td>2012-08-31</td>\n",
       "      <td>7000.00</td>\n",
       "    </tr>\n",
       "    <tr>\n",
       "      <th>53016</th>\n",
       "      <td>143157</td>\n",
       "      <td>Fernfachhochschule Schweiz (Mitglied SUPSI) - ...</td>\n",
       "      <td>2012-01-08</td>\n",
       "      <td>2012-08-31</td>\n",
       "      <td>12000.00</td>\n",
       "    </tr>\n",
       "  </tbody>\n",
       "</table>\n",
       "<p>77 rows × 5 columns</p>\n",
       "</div>"
      ],
      "text/plain": [
       "       ﻿\"Project Number\"                                         University  \\\n",
       "1854                2483                        Université de Fribourg - FR   \n",
       "1937                2575                                  ETH Zürich - ETHZ   \n",
       "31                    41            NPO (Biblioth., Museen, Verwalt.) - NPO   \n",
       "64                    83                              Universität Bern - BE   \n",
       "63                    82                       Université de Neuchâtel - NE   \n",
       "1890                2521                                EPF Lausanne - EPFL   \n",
       "1896                2528                            Universität Zürich - ZH   \n",
       "1898                2531                             Universität Basel - BS   \n",
       "1903                2536                        Université de Lausanne - LA   \n",
       "1904                2539                          Université de Genève - GE   \n",
       "1909                2544                        Universität St. Gallen - SG   \n",
       "1851                2480          Eidg. Material und Prüfungsanstalt - EMPA   \n",
       "1931                2569         Eidg. Anstalt für Wasserversorgung - EAWAG   \n",
       "4872                5701                           Weitere Spitäler - ASPIT   \n",
       "4900                5731                       AO Research Institute - AORI   \n",
       "29                    39  Eidg. Forschungsanstalt für Wald,Schnee,Land -...   \n",
       "56                    71  Inst. de Hautes Etudes Internat. et du Dév - I...   \n",
       "84                   108                          Weitere Institute - FINST   \n",
       "4961                5803               Allergie- und Asthmaforschung - SIAF   \n",
       "89                   115                       Firmen/Privatwirtschaft - FP   \n",
       "2131                2782   Physikal.-Meteorolog. Observatorium Davos - PMOD   \n",
       "5187                6076                   Kantonsspital St. Gallen - KSPSG   \n",
       "5136                6012                 Friedrich Miescher Institute - FMI   \n",
       "8137               10054                       Paul Scherrer Institut - PSI   \n",
       "138                  174          Pädagogische Hochschule Graubünden - PHGR   \n",
       "8125               10011                SUP della Svizzera italiana - SUPSI   \n",
       "207                  260             Pädagogische Hochschule Zürich - PHZFH   \n",
       "309                  403                            Universität Luzern - LU   \n",
       "5090                5953  Forschungsinstitut für biologischen Landbau - ...   \n",
       "2471                3147                        Berner Fachhochschule - BFH   \n",
       "...                  ...                                                ...   \n",
       "16655              38024           Institut Universitaire Kurt Bösch - IUKB   \n",
       "15515              35819              Pädagogische Hochschule Bern - PHBern   \n",
       "18035              40814             Schweizer Paraplegiker Forschung - SPF   \n",
       "18550              41977                           Hochschule Luzern - HSLU   \n",
       "19141              43157         Forschungsinstitut für Opthalmologie - IRO   \n",
       "19316              43389   Haute école pédagogique du canton de Vaud - HEPL   \n",
       "26433              59733                    Fachhochschule Ostschweiz - FHO   \n",
       "28178              64381              Pädagogische Hochschule Luzern - PHLU   \n",
       "27814              63764  Inst. Suisse de Spéléologie et Karstologie - I...   \n",
       "27895              63879            Swiss Institute of Bioinformatics - SIB   \n",
       "29199              66397     Haute école pédagogique BE, JU, NE - HEPBEJUNE   \n",
       "31512             101005                          Forschungskommission SAGW   \n",
       "32142             101947                    Istituto Svizzero di Roma - ISR   \n",
       "33524             104954  Pädag. Hochschule Tessin (Teilschule SUPSI) - ASP   \n",
       "35261             108429              Pädagogische Hochschule Schwyz - PHSZ   \n",
       "35067             108054      Haute école pédagogique fribourgeoise - HEPFR   \n",
       "36021             109730             Pädagogische Hochschule Thurgau - PHTG   \n",
       "37364             112421             Biotechnologie Institut Thurgau - BITG   \n",
       "40511             118236                     Fachhochschule Kalaidos - FHKD   \n",
       "41864             120786  Schweizer Kompetenzzentrum Sozialwissensch. - ...   \n",
       "41467             120089              Pädagogische Hochschule Wallis - PHVS   \n",
       "45396             127727                 Pädagogische Hochschule Zug - PHZG   \n",
       "43711             124485  Schweiz. Hochschule für Logopädie Rorschach - ...   \n",
       "45205             127329          Instituto Ricerche Solari Locarno - IRSOL   \n",
       "45459             127834              Franklin University Switzerland - FUS   \n",
       "48266             133539   Pädagogische Hochschule Nordwestschweiz - PHFHNW   \n",
       "47601             132207        Pädagogische Hochschule Schaffhausen - PHSH   \n",
       "51199             139469                Facoltà di Teologia di Lugano - FTL   \n",
       "48769             134468  Staatsunabh. Theologische Hochschule Basel - STHB   \n",
       "53016             143157  Fernfachhochschule Schweiz (Mitglied SUPSI) - ...   \n",
       "\n",
       "      Start Date   End Date Approved Amount  \n",
       "1854  1975-01-06 1976-09-30       247904.00  \n",
       "1937  1975-01-07 1975-12-31         8000.00  \n",
       "31    1975-01-08 1976-10-31         8902.00  \n",
       "64    1975-01-08 1976-09-30        14235.00  \n",
       "63    1975-01-08 1976-01-31        13620.00  \n",
       "1890  1975-01-10 1976-09-30        69539.00  \n",
       "1896  1975-01-10 1977-06-30       214663.00  \n",
       "1898  1975-01-10 1976-09-30       106124.00  \n",
       "1903  1975-01-10 1976-09-30        53465.00  \n",
       "1904  1975-01-10 1976-09-30      1559894.00  \n",
       "1909  1975-01-10 1976-09-30        28981.00  \n",
       "1851  1975-01-10 1977-09-30        91300.00  \n",
       "1931  1975-01-10 1976-09-30       112377.00  \n",
       "4872  1975-01-10 1977-09-30        11000.00  \n",
       "4900  1975-01-10 1978-09-30       367063.00  \n",
       "29    1975-01-10 1978-09-30       445198.00  \n",
       "56    1975-01-10 1978-09-30        86949.00  \n",
       "84    1976-01-04 1977-08-31        16000.00  \n",
       "4961  1976-01-04 1978-03-31      1161184.00  \n",
       "89    1976-01-05 1977-10-31        27000.00  \n",
       "2131  1976-01-10 1977-09-30        66825.00  \n",
       "5187  1976-01-10 1978-09-30        54967.00  \n",
       "5136  1976-01-10 1979-09-30       567358.00  \n",
       "8137  1977-01-01 1978-12-31       132590.00  \n",
       "138   1977-01-01 1979-12-31       125340.00  \n",
       "8125  1977-01-04 1982-03-31       201604.00  \n",
       "207   1977-01-04 1980-03-31        48096.00  \n",
       "309   1977-01-09 1977-09-30        18500.00  \n",
       "5090  1978-01-04 1980-03-31       100413.00  \n",
       "2471  1978-01-10 1979-03-31         6000.00  \n",
       "...          ...        ...             ...  \n",
       "16655 1993-01-07 1993-12-31        10000.00  \n",
       "15515 1993-01-07 1997-12-31       768461.00  \n",
       "18035 1994-01-10 1998-09-30       165600.00  \n",
       "18550 1995-01-07 1996-06-30         6000.00  \n",
       "19141 1995-01-11 1998-10-31       210000.00  \n",
       "19316 1996-01-03 1999-08-31       340451.00  \n",
       "26433 2000-01-11 2003-03-31       232748.00  \n",
       "28178 2000-01-12 2001-06-30        15750.00  \n",
       "27814 2001-01-04 2004-03-31       228164.00  \n",
       "27895 2001-01-07 2004-06-30       464440.00  \n",
       "29199 2001-01-10 2002-03-31        17200.00  \n",
       "31512 2003-01-02 2004-01-31       100000.00  \n",
       "32142 2003-01-10 2004-12-31        95000.00  \n",
       "33524 2004-01-06 2004-06-30         2100.00  \n",
       "35261 2005-01-08 2007-11-30       160824.00  \n",
       "35067 2005-01-09 2006-08-31        89289.00  \n",
       "36021 2006-01-08 2008-07-31       195702.00  \n",
       "37364 2006-01-09 2009-08-31       197000.00  \n",
       "40511 2007-01-11 2009-10-31       206630.00  \n",
       "41864 2008-01-01 2008-12-31       480000.00  \n",
       "41467 2008-01-06 2011-08-31       332143.00  \n",
       "45396 2009-01-09 2009-11-30         6000.00  \n",
       "43711 2009-01-09 2011-02-28       191012.00  \n",
       "45205 2009-01-10 2011-09-30       136880.00  \n",
       "45459 2009-01-10 2009-12-31         6000.00  \n",
       "48266 2010-01-07 2010-07-31         5600.00  \n",
       "47601 2011-01-01 2012-08-31       176691.00  \n",
       "51199 2012-01-03 2012-05-31         6000.00  \n",
       "48769 2012-01-06 2012-08-31         7000.00  \n",
       "53016 2012-01-08 2012-08-31        12000.00  \n",
       "\n",
       "[77 rows x 5 columns]"
      ]
     },
     "execution_count": 65,
     "metadata": {},
     "output_type": "execute_result"
    }
   ],
   "source": [
    "sortStartDate.drop_duplicates('University', keep='first')"
   ]
  },
  {
   "cell_type": "markdown",
   "metadata": {},
   "source": [
    "We can see above the lastest project for each university. We decided to take into account only data after the 08-01-2012 since this is the first project that we have for the more recent university."
   ]
  },
  {
   "cell_type": "code",
   "execution_count": 61,
   "metadata": {
    "collapsed": false
   },
   "outputs": [
    {
     "ename": "AttributeError",
     "evalue": "'tuple' object has no attribute 'min'",
     "output_type": "error",
     "traceback": [
      "\u001b[1;31m---------------------------------------------------------------------------\u001b[0m",
      "\u001b[1;31mAttributeError\u001b[0m                            Traceback (most recent call last)",
      "\u001b[1;32m<ipython-input-61-cdc984a7ce0c>\u001b[0m in \u001b[0;36m<module>\u001b[1;34m()\u001b[0m\n\u001b[0;32m      1\u001b[0m \u001b[0mmin\u001b[0m \u001b[1;33m=\u001b[0m \u001b[1;33m[\u001b[0m\u001b[1;33m]\u001b[0m\u001b[1;33m\u001b[0m\u001b[0m\n\u001b[0;32m      2\u001b[0m \u001b[1;32mfor\u001b[0m \u001b[0mgroup\u001b[0m \u001b[1;32min\u001b[0m \u001b[0mgroupByUni\u001b[0m\u001b[1;33m:\u001b[0m\u001b[1;33m\u001b[0m\u001b[0m\n\u001b[1;32m----> 3\u001b[1;33m     \u001b[0mprint\u001b[0m\u001b[1;33m(\u001b[0m\u001b[0mgroup\u001b[0m\u001b[1;33m.\u001b[0m\u001b[0mmin\u001b[0m\u001b[1;33m(\u001b[0m\u001b[1;33m)\u001b[0m\u001b[1;33m)\u001b[0m\u001b[1;33m\u001b[0m\u001b[0m\n\u001b[0m",
      "\u001b[1;31mAttributeError\u001b[0m: 'tuple' object has no attribute 'min'"
     ]
    }
   ],
   "source": [
    "min = []\n",
    "for group in groupByUni:\n",
    "    print(group.min())"
   ]
  },
  {
   "cell_type": "code",
   "execution_count": 48,
   "metadata": {
    "collapsed": false
   },
   "outputs": [
    {
     "data": {
      "text/plain": [
       "array(['Nicht zuteilbar - NA', 'Université de Genève - GE',\n",
       "       'NPO (Biblioth., Museen, Verwalt.) - NPO', 'Universität Basel - BS',\n",
       "       'Université de Fribourg - FR', 'Universität Zürich - ZH',\n",
       "       'Université de Lausanne - LA', 'Universität Bern - BE',\n",
       "       'Eidg. Forschungsanstalt für Wald,Schnee,Land - WSL',\n",
       "       'Université de Neuchâtel - NE', 'ETH Zürich - ETHZ',\n",
       "       'Inst. de Hautes Etudes Internat. et du Dév - IHEID',\n",
       "       'Universität St. Gallen - SG', 'Weitere Institute - FINST',\n",
       "       'Firmen/Privatwirtschaft - FP',\n",
       "       'Pädagogische Hochschule Graubünden - PHGR', 'EPF Lausanne - EPFL',\n",
       "       'Pädagogische Hochschule Zürich - PHZFH', 'Universität Luzern - LU',\n",
       "       'Schweiz. Institut für Kunstwissenschaft - SIK-ISEA',\n",
       "       'SUP della Svizzera italiana - SUPSI',\n",
       "       'HES de Suisse occidentale - HES-SO',\n",
       "       'Robert Walser-Stiftung Bern - RWS', 'Paul Scherrer Institut - PSI',\n",
       "       'Pädagogische Hochschule St. Gallen - PHSG',\n",
       "       'Eidg. Anstalt für Wasserversorgung - EAWAG',\n",
       "       'Eidg. Material und Prüfungsanstalt - EMPA',\n",
       "       'Physikal.-Meteorolog. Observatorium Davos - PMOD',\n",
       "       'Berner Fachhochschule - BFH',\n",
       "       'Swiss Center for Electronics and Microtech. - CSEM',\n",
       "       'Weitere Spitäler - ASPIT', 'AO Research Institute - AORI',\n",
       "       'Allergie- und Asthmaforschung - SIAF',\n",
       "       'Forschungsinstitut für biologischen Landbau - FIBL',\n",
       "       'Friedrich Miescher Institute - FMI',\n",
       "       'Kantonsspital St. Gallen - KSPSG',\n",
       "       'Forschungsanstalten Agroscope - AGS',\n",
       "       'Ente Ospedaliero Cantonale - EOC',\n",
       "       'Inst. universit. romand de Santé au Travail - IST',\n",
       "       'Eidg. Hochschulinstitut für Berufsbildung - EHB',\n",
       "       'Zürcher Fachhochschule (ohne PH) - ZFH',\n",
       "       'Università della Svizzera italiana - USI',\n",
       "       'Institut für Kulturforschung Graubünden - IKG',\n",
       "       'Fachhochschule Nordwestschweiz (ohne PH) - FHNW',\n",
       "       'Interkant. Hochschule für Heilpädagogik ZH - HfH', nan,\n",
       "       \"Centre de rech. sur l'environnement alpin - CREALP\",\n",
       "       'Idiap Research Institute - IDIAP',\n",
       "       'Pädagogische Hochschule Bern - PHBern',\n",
       "       'Institut Universitaire Kurt Bösch - IUKB',\n",
       "       'Schweizer Paraplegiker Forschung - SPF',\n",
       "       'Hochschule Luzern - HSLU',\n",
       "       'Forschungsinstitut für Opthalmologie - IRO',\n",
       "       'Haute école pédagogique du canton de Vaud - HEPL',\n",
       "       'Fachhochschule Ostschweiz - FHO',\n",
       "       'Inst. Suisse de Spéléologie et Karstologie - ISSKA',\n",
       "       'Swiss Institute of Bioinformatics - SIB',\n",
       "       'Haute école pédagogique BE, JU, NE - HEPBEJUNE',\n",
       "       'Pädagogische Hochschule Luzern - PHLU',\n",
       "       'Forschungskommission SAGW', 'Istituto Svizzero di Roma - ISR',\n",
       "       'Pädag. Hochschule Tessin (Teilschule SUPSI) - ASP',\n",
       "       'Haute école pédagogique fribourgeoise - HEPFR',\n",
       "       'Pädagogische Hochschule Schwyz - PHSZ',\n",
       "       'Pädagogische Hochschule Thurgau - PHTG',\n",
       "       'Biotechnologie Institut Thurgau - BITG',\n",
       "       'Fachhochschule Kalaidos - FHKD',\n",
       "       'Schweizer Kompetenzzentrum Sozialwissensch. - FORS',\n",
       "       'Pädagogische Hochschule Wallis - PHVS',\n",
       "       'Schweiz. Hochschule für Logopädie Rorschach - SHLR',\n",
       "       'Pädagogische Hochschule Zug - PHZG',\n",
       "       'Instituto Ricerche Solari Locarno - IRSOL',\n",
       "       'Franklin University Switzerland - FUS',\n",
       "       'Pädagogische Hochschule Schaffhausen - PHSH',\n",
       "       'Pädagogische Hochschule Nordwestschweiz - PHFHNW',\n",
       "       'Staatsunabh. Theologische Hochschule Basel - STHB',\n",
       "       'Facoltà di Teologia di Lugano - FTL',\n",
       "       'Fernfachhochschule Schweiz (Mitglied SUPSI) - FFHS'], dtype=object)"
      ]
     },
     "execution_count": 48,
     "metadata": {},
     "output_type": "execute_result"
    }
   ],
   "source": [
    "universities = data['University'].unique()\n",
    "\n",
    "universities"
   ]
  },
  {
   "cell_type": "code",
   "execution_count": 21,
   "metadata": {
    "collapsed": false
   },
   "outputs": [
    {
     "data": {
      "text/plain": [
       "array(['Université de Genève - GE', 'Universität Basel - BS',\n",
       "       'Université de Fribourg - FR', 'Universität Zürich - ZH',\n",
       "       'Université de Lausanne - LA', 'Universität Bern - BE',\n",
       "       'Université de Neuchâtel - NE', 'Universität St. Gallen - SG',\n",
       "       'Universität Luzern - LU',\n",
       "       'Università della Svizzera italiana - USI',\n",
       "       'Institut Universitaire Kurt Bösch - IUKB',\n",
       "       'Franklin University Switzerland - FUS'], dtype=object)"
      ]
     },
     "execution_count": 21,
     "metadata": {},
     "output_type": "execute_result"
    }
   ],
   "source": [
    "data['University'].where(data['University'].str.contains('Univer')).dropna().unique()"
   ]
  },
  {
   "cell_type": "code",
   "execution_count": 41,
   "metadata": {
    "collapsed": false
   },
   "outputs": [
    {
     "data": {
      "text/plain": [
       "<geonames.adapters.base.Result at 0x1e1f62de978>"
      ]
     },
     "execution_count": 41,
     "metadata": {},
     "output_type": "execute_result"
    }
   ],
   "source": [
    "import geonames.adapters.search\n",
    "\n",
    "_USERNAME = 'shynkaru'\n",
    "sa = geonames.adapters.search.Search(_USERNAME)\n",
    "\n",
    "result = sa.query('University of Lausanne').country('ch').feature_code('UNIV').execute()\n",
    "result"
   ]
  },
  {
   "cell_type": "code",
   "execution_count": 42,
   "metadata": {
    "collapsed": false
   },
   "outputs": [
    {
     "name": "stdout",
     "output_type": "stream",
     "text": [
      "[http://sws.geonames.org/6620493/]: [University of Lausanne]\n"
     ]
    }
   ],
   "source": [
    "for id_, name in result.get_flat_results():\n",
    "    print(geonames.compat.make_unicode(\"[{0}]: [{1}]\").format(id_, name))\n",
    "    break"
   ]
  },
  {
   "cell_type": "code",
   "execution_count": 43,
   "metadata": {
    "collapsed": false
   },
   "outputs": [
    {
     "data": {
      "text/plain": [
       "2"
      ]
     },
     "execution_count": 43,
     "metadata": {},
     "output_type": "execute_result"
    }
   ],
   "source": [
    "xml_nodes = result.get_xml_nodes()\n",
    "len(xml_nodes)"
   ]
  },
  {
   "cell_type": "code",
   "execution_count": 38,
   "metadata": {
    "collapsed": false
   },
   "outputs": [
    {
     "data": {
      "text/plain": [
       "<Element {http://www.w3.org/1999/02/22-rdf-syntax-ns#}RDF at 0x1e1f98c2748>"
      ]
     },
     "execution_count": 38,
     "metadata": {},
     "output_type": "execute_result"
    }
   ],
   "source": [
    "result.xml"
   ]
  },
  {
   "cell_type": "code",
   "execution_count": 45,
   "metadata": {
    "collapsed": false
   },
   "outputs": [
    {
     "name": "stdout",
     "output_type": "stream",
     "text": [
      "b'<gn:Feature xmlns:gn=\"http://www.geonames.org/ontology#\" xmlns:rdf=\"http://www.w3.org/1999/02/22-rdf-syntax-ns#\" xmlns:cc=\"http://creativecommons.org/ns#\" xmlns:dcterms=\"http://purl.org/dc/terms/\" xmlns:foaf=\"http://xmlns.com/foaf/0.1/\" xmlns:owl=\"http://www.w3.org/2002/07/owl#\" xmlns:rdfs=\"http://www.w3.org/2000/01/rdf-schema#\" xmlns:wgs84_pos=\"http://www.w3.org/2003/01/geo/wgs84_pos#\" rdf:about=\"http://sws.geonames.org/6620493/\">\\n<rdfs:isDefinedBy rdf:resource=\"http://sws.geonames.org/6620493/about.rdf\"></rdfs:isDefinedBy>\\n<gn:name>University of Lausanne</gn:name>\\n<gn:alternateName xml:lang=\"ar\">&#1580;&#1575;&#1605;&#1593;&#1577; &#1604;&#1608;&#1586;&#1575;&#1606;</gn:alternateName>\\n<gn:alternateName xml:lang=\"bg\">&#1051;&#1086;&#1079;&#1072;&#1085;&#1089;&#1082;&#1080; &#1091;&#1085;&#1080;&#1074;&#1077;&#1088;&#1089;&#1080;&#1090;&#1077;&#1090;</gn:alternateName>\\n<gn:alternateName xml:lang=\"ca\">Universitat de Lausana</gn:alternateName>\\n<gn:alternateName xml:lang=\"de\">Universit&#228;t Lausanne</gn:alternateName>\\n<gn:alternateName xml:lang=\"en\">University of Lausanne</gn:alternateName>\\n<gn:alternateName xml:lang=\"eo\">Universitato de La&#365;zano</gn:alternateName>\\n<gn:alternateName xml:lang=\"es\">Universidad de Lausana</gn:alternateName>\\n<gn:alternateName xml:lang=\"et\">Lausannei &#220;likool</gn:alternateName>\\n<gn:alternateName xml:lang=\"fa\">&#1583;&#1575;&#1606;&#1588;&#1711;&#1575;&#1607; &#1604;&#1608;&#1586;&#1575;&#1606;</gn:alternateName>\\n<gn:alternateName xml:lang=\"fi\">Lausannen yliopisto</gn:alternateName>\\n<gn:alternateName xml:lang=\"fy\">Universiteit fan Lausanne</gn:alternateName>\\n<gn:alternateName xml:lang=\"hbs\">Univerzitet u Lausannu</gn:alternateName>\\n<gn:alternateName xml:lang=\"he\">&#1488;&#1493;&#1504;&#1497;&#1489;&#1512;&#1505;&#1497;&#1496;&#1514; &#1500;&#1493;&#1494;&#1488;&#1503;</gn:alternateName>\\n<gn:alternateName xml:lang=\"it\">Universit&#224; di Losanna</gn:alternateName>\\n<gn:alternateName xml:lang=\"ja\">&#12525;&#12540;&#12470;&#12531;&#12492;&#22823;&#23398;</gn:alternateName>\\n<gn:alternateName xml:lang=\"la\">Academia Lausannensis</gn:alternateName>\\n<gn:alternateName xml:lang=\"lt\">Lozanos universitetas</gn:alternateName>\\n<gn:alternateName xml:lang=\"nl\">Universiteit van Lausanne</gn:alternateName>\\n<gn:alternateName xml:lang=\"pt\">Universidade de Lausanne</gn:alternateName>\\n<gn:alternateName xml:lang=\"ru\">&#1051;&#1086;&#1079;&#1072;&#1085;&#1085;&#1089;&#1082;&#1080;&#1081; &#1091;&#1085;&#1080;&#1074;&#1077;&#1088;&#1089;&#1080;&#1090;&#1077;&#1090;</gn:alternateName>\\n<gn:alternateName xml:lang=\"th\">&#3617;&#3627;&#3634;&#3623;&#3636;&#3607;&#3618;&#3634;&#3621;&#3633;&#3618;&#3650;&#3621;&#3595;&#3634;&#3609;</gn:alternateName>\\n<gn:alternateName xml:lang=\"tr\">Lozan &#220;niversitesi</gn:alternateName>\\n<gn:alternateName xml:lang=\"uk\">&#1051;&#1086;&#1079;&#1072;&#1085;&#1089;&#1100;&#1082;&#1080;&#1081; &#1091;&#1085;&#1110;&#1074;&#1077;&#1088;&#1089;&#1080;&#1090;&#1077;&#1090;</gn:alternateName>\\n<gn:alternateName xml:lang=\"vi\">&#272;&#7841;i h&#7885;c Lausanne</gn:alternateName>\\n<gn:alternateName xml:lang=\"zh\">&#27931;&#26705;&#22823;&#23398;</gn:alternateName>\\n<gn:featureClass rdf:resource=\"http://www.geonames.org/ontology#S\"></gn:featureClass>\\n<gn:featureCode rdf:resource=\"http://www.geonames.org/ontology#S.UNIV\"></gn:featureCode>\\n<gn:countryCode>CH</gn:countryCode>\\n<wgs84_pos:lat>46.52376</wgs84_pos:lat>\\n<wgs84_pos:long>6.58409</wgs84_pos:long>\\n<gn:parentCountry rdf:resource=\"http://sws.geonames.org/2658434/\"></gn:parentCountry>\\n<gn:nearbyFeatures rdf:resource=\"http://sws.geonames.org/6620493/nearby.rdf\"></gn:nearbyFeatures>\\n<gn:locationMap rdf:resource=\"http://www.geonames.org/6620493/universite-de-lausanne.html\"></gn:locationMap>\\n<gn:wikipediaArticle rdf:resource=\"http://en.wikipedia.org/wiki/University_of_Lausanne\"></gn:wikipediaArticle>\\n<rdfs:seeAlso rdf:resource=\"http://dbpedia.org/resource/University_of_Lausanne\"></rdfs:seeAlso>\\n</gn:Feature>\\n\\n'\n"
     ]
    }
   ],
   "source": [
    "from lxml import etree\n",
    "\n",
    "for xml_obj in xml_nodes:\n",
    "    tree = etree.ElementTree(xml_obj)\n",
    "    print(etree.tostring(tree, method='html', pretty_print=True))\n",
    "    break"
   ]
  },
  {
   "cell_type": "code",
   "execution_count": null,
   "metadata": {
    "collapsed": true
   },
   "outputs": [],
   "source": [
    "URL = \"api.geonames.org/postalCodeSearch?\"\n",
    "feature_code = \"featureCode=UNIV\"\n",
    "country = \"country=CH\"\n"
   ]
  },
  {
   "cell_type": "code",
   "execution_count": null,
   "metadata": {
    "collapsed": false
   },
   "outputs": [],
   "source": [
    "topo_path = r\"Data/ch-cantons.topojson.json\""
   ]
  },
  {
   "cell_type": "code",
   "execution_count": 64,
   "metadata": {
    "collapsed": false,
    "scrolled": false
   },
   "outputs": [
    {
     "data": {
      "text/plain": [
       "{'AGS',\n",
       " 'AORI',\n",
       " 'ASP',\n",
       " 'ASPIT',\n",
       " 'BE',\n",
       " 'BFH',\n",
       " 'BITG',\n",
       " 'BS',\n",
       " 'CREALP',\n",
       " 'CSEM',\n",
       " 'EAWAG',\n",
       " 'EHB',\n",
       " 'EMPA',\n",
       " 'EOC',\n",
       " 'EPFL',\n",
       " 'ETHZ',\n",
       " 'FFHS',\n",
       " 'FHKD',\n",
       " 'FHNW',\n",
       " 'FHO',\n",
       " 'FIBL',\n",
       " 'FINST',\n",
       " 'FMI',\n",
       " 'FORS',\n",
       " 'FP',\n",
       " 'FR',\n",
       " 'FTL',\n",
       " 'FUS',\n",
       " 'GE',\n",
       " 'HEPBEJUNE',\n",
       " 'HEPFR',\n",
       " 'HEPL',\n",
       " 'HES-SO',\n",
       " 'HSLU',\n",
       " 'HfH',\n",
       " 'IDIAP',\n",
       " 'IHEID',\n",
       " 'IKG',\n",
       " 'IRO',\n",
       " 'IRSOL',\n",
       " 'ISR',\n",
       " 'ISSKA',\n",
       " 'IST',\n",
       " 'IUKB',\n",
       " 'KSPSG',\n",
       " 'LA',\n",
       " 'LU',\n",
       " 'NA',\n",
       " 'NE',\n",
       " 'NPO',\n",
       " 'PHBern',\n",
       " 'PHFHNW',\n",
       " 'PHGR',\n",
       " 'PHLU',\n",
       " 'PHSG',\n",
       " 'PHSH',\n",
       " 'PHSZ',\n",
       " 'PHTG',\n",
       " 'PHVS',\n",
       " 'PHZFH',\n",
       " 'PHZG',\n",
       " 'PMOD',\n",
       " 'PSI',\n",
       " 'RWS',\n",
       " 'SAGW',\n",
       " 'SG',\n",
       " 'SHLR',\n",
       " 'SIAF',\n",
       " 'SIB',\n",
       " 'SIK-ISEA',\n",
       " 'SPF',\n",
       " 'STHB',\n",
       " 'SUPSI',\n",
       " 'USI',\n",
       " 'WSL',\n",
       " 'ZFH',\n",
       " 'ZH',\n",
       " 'nan'}"
      ]
     },
     "execution_count": 64,
     "metadata": {},
     "output_type": "execute_result"
    }
   ],
   "source": [
    "universities = data['University'].tolist()[:-1]\n",
    "universities[-1]\n",
    "\n",
    "ids = set()\n",
    "for record in universities:\n",
    "    ids.add(str(record).split()[-1])\n",
    "\n",
    "ids\n",
    "\n",
    " "
   ]
  },
  {
   "cell_type": "code",
   "execution_count": 37,
   "metadata": {
    "collapsed": false
   },
   "outputs": [
    {
     "data": {
      "text/plain": [
       "<generator object <genexpr> at 0x000001D828C7F048>"
      ]
     },
     "execution_count": 37,
     "metadata": {},
     "output_type": "execute_result"
    }
   ],
   "source": [
    "ids"
   ]
  }
 ],
 "metadata": {
  "kernelspec": {
   "display_name": "Python [Root]",
   "language": "python",
   "name": "Python [Root]"
  },
  "language_info": {
   "codemirror_mode": {
    "name": "ipython",
    "version": 3
   },
   "file_extension": ".py",
   "mimetype": "text/x-python",
   "name": "python",
   "nbconvert_exporter": "python",
   "pygments_lexer": "ipython3",
   "version": "3.5.2"
  }
 },
 "nbformat": 4,
 "nbformat_minor": 0
}
