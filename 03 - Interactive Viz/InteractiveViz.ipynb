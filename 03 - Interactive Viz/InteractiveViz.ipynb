{
 "cells": [
  {
   "cell_type": "code",
   "execution_count": 13,
   "metadata": {
    "collapsed": false
   },
   "outputs": [],
   "source": [
    "import pandas as pd\n",
    "import folium as fm\n",
    "import re"
   ]
  },
  {
   "cell_type": "code",
   "execution_count": 39,
   "metadata": {
    "collapsed": false
   },
   "outputs": [],
   "source": [
    "import os\n",
    "os.path.exists('./Data/P3_GrantExport.csv')\n",
    "data = pd.read_csv('./Data/P3_GrantExport.csv', delimiter=';', na_values=['.'], error_bad_lines=False)"
   ]
  },
  {
   "cell_type": "code",
   "execution_count": 40,
   "metadata": {
    "collapsed": false
   },
   "outputs": [],
   "source": [
    "universities = data['University'].unique()\n",
    "\n",
    "university_names = universities.copy()"
   ]
  },
  {
   "cell_type": "code",
   "execution_count": 41,
   "metadata": {
    "collapsed": false
   },
   "outputs": [],
   "source": [
    "cantons_id = ['ZH', 'BE','LU', 'UR', 'SZ', 'OW','NW', 'GL', 'ZG', 'FR',\n",
    "                          'SO','BS', 'BL', 'SH', 'AR', \n",
    "                          'AI', 'SG', 'GR', 'AG', 'TG', 'TI', 'VD',\n",
    "                          'VS', 'NE', 'GE','JU']"
   ]
  },
  {
   "cell_type": "code",
   "execution_count": 123,
   "metadata": {
    "collapsed": false,
    "scrolled": false
   },
   "outputs": [],
   "source": [
    "universities_pd = pd.DataFrame({'full university name':university_names})\n",
    "university_names = universities_pd['full university name'].tolist()\n",
    "name_list = []\n",
    "abbrev_list = []\n",
    "# row_list = []\n",
    "\n",
    "for i, uni in enumerate(university_names):\n",
    "    split_list = str(uni).split(' - ')\n",
    "    if(len(split_list) == 1):\n",
    "        split_list.append('')\n",
    "    name_list.append(split_list[0])\n",
    "    abbrev_list.append(split_list[1])\n",
    "    \n",
    "universities_pd['university name'] = name_list\n",
    "universities_pd['university abbrev'] = abbrev_list\n",
    "# universities_pd['canton'] = universities_pd['university abbrev'] if universities_pd['university abbrev'] in cantons_id"
   ]
  },
  {
   "cell_type": "code",
   "execution_count": 21,
   "metadata": {
    "collapsed": false
   },
   "outputs": [
    {
     "data": {
      "text/plain": [
       "array(['Université de Genève - GE', 'Universität Basel - BS',\n",
       "       'Université de Fribourg - FR', 'Universität Zürich - ZH',\n",
       "       'Université de Lausanne - LA', 'Universität Bern - BE',\n",
       "       'Université de Neuchâtel - NE', 'Universität St. Gallen - SG',\n",
       "       'Universität Luzern - LU',\n",
       "       'Università della Svizzera italiana - USI',\n",
       "       'Institut Universitaire Kurt Bösch - IUKB',\n",
       "       'Franklin University Switzerland - FUS'], dtype=object)"
      ]
     },
     "execution_count": 21,
     "metadata": {},
     "output_type": "execute_result"
    }
   ],
   "source": [
    "data['University'].where(data['University'].str.contains('Univer')).dropna().unique()"
   ]
  },
  {
   "cell_type": "code",
   "execution_count": 41,
   "metadata": {
    "collapsed": false
   },
   "outputs": [
    {
     "data": {
      "text/plain": [
       "<geonames.adapters.base.Result at 0x1e1f62de978>"
      ]
     },
     "execution_count": 41,
     "metadata": {},
     "output_type": "execute_result"
    }
   ],
   "source": [
    "import geonames.adapters.search\n",
    "\n",
    "_USERNAME = 'shynkaru'\n",
    "sa = geonames.adapters.search.Search(_USERNAME)\n",
    "\n",
    "result = sa.query('University of Lausanne').country('ch').feature_code('UNIV').execute()\n",
    "result"
   ]
  },
  {
   "cell_type": "code",
   "execution_count": 42,
   "metadata": {
    "collapsed": false
   },
   "outputs": [
    {
     "name": "stdout",
     "output_type": "stream",
     "text": [
      "[http://sws.geonames.org/6620493/]: [University of Lausanne]\n"
     ]
    }
   ],
   "source": [
    "for id_, name in result.get_flat_results():\n",
    "    print(geonames.compat.make_unicode(\"[{0}]: [{1}]\").format(id_, name))\n",
    "    break"
   ]
  },
  {
   "cell_type": "code",
   "execution_count": 43,
   "metadata": {
    "collapsed": false
   },
   "outputs": [
    {
     "data": {
      "text/plain": [
       "2"
      ]
     },
     "execution_count": 43,
     "metadata": {},
     "output_type": "execute_result"
    }
   ],
   "source": [
    "xml_nodes = result.get_xml_nodes()\n",
    "len(xml_nodes)"
   ]
  },
  {
   "cell_type": "code",
   "execution_count": 38,
   "metadata": {
    "collapsed": false
   },
   "outputs": [
    {
     "data": {
      "text/plain": [
       "<Element {http://www.w3.org/1999/02/22-rdf-syntax-ns#}RDF at 0x1e1f98c2748>"
      ]
     },
     "execution_count": 38,
     "metadata": {},
     "output_type": "execute_result"
    }
   ],
   "source": [
    "result.xml"
   ]
  },
  {
   "cell_type": "code",
   "execution_count": 45,
   "metadata": {
    "collapsed": false
   },
   "outputs": [
    {
     "name": "stdout",
     "output_type": "stream",
     "text": [
      "b'<gn:Feature xmlns:gn=\"http://www.geonames.org/ontology#\" xmlns:rdf=\"http://www.w3.org/1999/02/22-rdf-syntax-ns#\" xmlns:cc=\"http://creativecommons.org/ns#\" xmlns:dcterms=\"http://purl.org/dc/terms/\" xmlns:foaf=\"http://xmlns.com/foaf/0.1/\" xmlns:owl=\"http://www.w3.org/2002/07/owl#\" xmlns:rdfs=\"http://www.w3.org/2000/01/rdf-schema#\" xmlns:wgs84_pos=\"http://www.w3.org/2003/01/geo/wgs84_pos#\" rdf:about=\"http://sws.geonames.org/6620493/\">\\n<rdfs:isDefinedBy rdf:resource=\"http://sws.geonames.org/6620493/about.rdf\"></rdfs:isDefinedBy>\\n<gn:name>University of Lausanne</gn:name>\\n<gn:alternateName xml:lang=\"ar\">&#1580;&#1575;&#1605;&#1593;&#1577; &#1604;&#1608;&#1586;&#1575;&#1606;</gn:alternateName>\\n<gn:alternateName xml:lang=\"bg\">&#1051;&#1086;&#1079;&#1072;&#1085;&#1089;&#1082;&#1080; &#1091;&#1085;&#1080;&#1074;&#1077;&#1088;&#1089;&#1080;&#1090;&#1077;&#1090;</gn:alternateName>\\n<gn:alternateName xml:lang=\"ca\">Universitat de Lausana</gn:alternateName>\\n<gn:alternateName xml:lang=\"de\">Universit&#228;t Lausanne</gn:alternateName>\\n<gn:alternateName xml:lang=\"en\">University of Lausanne</gn:alternateName>\\n<gn:alternateName xml:lang=\"eo\">Universitato de La&#365;zano</gn:alternateName>\\n<gn:alternateName xml:lang=\"es\">Universidad de Lausana</gn:alternateName>\\n<gn:alternateName xml:lang=\"et\">Lausannei &#220;likool</gn:alternateName>\\n<gn:alternateName xml:lang=\"fa\">&#1583;&#1575;&#1606;&#1588;&#1711;&#1575;&#1607; &#1604;&#1608;&#1586;&#1575;&#1606;</gn:alternateName>\\n<gn:alternateName xml:lang=\"fi\">Lausannen yliopisto</gn:alternateName>\\n<gn:alternateName xml:lang=\"fy\">Universiteit fan Lausanne</gn:alternateName>\\n<gn:alternateName xml:lang=\"hbs\">Univerzitet u Lausannu</gn:alternateName>\\n<gn:alternateName xml:lang=\"he\">&#1488;&#1493;&#1504;&#1497;&#1489;&#1512;&#1505;&#1497;&#1496;&#1514; &#1500;&#1493;&#1494;&#1488;&#1503;</gn:alternateName>\\n<gn:alternateName xml:lang=\"it\">Universit&#224; di Losanna</gn:alternateName>\\n<gn:alternateName xml:lang=\"ja\">&#12525;&#12540;&#12470;&#12531;&#12492;&#22823;&#23398;</gn:alternateName>\\n<gn:alternateName xml:lang=\"la\">Academia Lausannensis</gn:alternateName>\\n<gn:alternateName xml:lang=\"lt\">Lozanos universitetas</gn:alternateName>\\n<gn:alternateName xml:lang=\"nl\">Universiteit van Lausanne</gn:alternateName>\\n<gn:alternateName xml:lang=\"pt\">Universidade de Lausanne</gn:alternateName>\\n<gn:alternateName xml:lang=\"ru\">&#1051;&#1086;&#1079;&#1072;&#1085;&#1085;&#1089;&#1082;&#1080;&#1081; &#1091;&#1085;&#1080;&#1074;&#1077;&#1088;&#1089;&#1080;&#1090;&#1077;&#1090;</gn:alternateName>\\n<gn:alternateName xml:lang=\"th\">&#3617;&#3627;&#3634;&#3623;&#3636;&#3607;&#3618;&#3634;&#3621;&#3633;&#3618;&#3650;&#3621;&#3595;&#3634;&#3609;</gn:alternateName>\\n<gn:alternateName xml:lang=\"tr\">Lozan &#220;niversitesi</gn:alternateName>\\n<gn:alternateName xml:lang=\"uk\">&#1051;&#1086;&#1079;&#1072;&#1085;&#1089;&#1100;&#1082;&#1080;&#1081; &#1091;&#1085;&#1110;&#1074;&#1077;&#1088;&#1089;&#1080;&#1090;&#1077;&#1090;</gn:alternateName>\\n<gn:alternateName xml:lang=\"vi\">&#272;&#7841;i h&#7885;c Lausanne</gn:alternateName>\\n<gn:alternateName xml:lang=\"zh\">&#27931;&#26705;&#22823;&#23398;</gn:alternateName>\\n<gn:featureClass rdf:resource=\"http://www.geonames.org/ontology#S\"></gn:featureClass>\\n<gn:featureCode rdf:resource=\"http://www.geonames.org/ontology#S.UNIV\"></gn:featureCode>\\n<gn:countryCode>CH</gn:countryCode>\\n<wgs84_pos:lat>46.52376</wgs84_pos:lat>\\n<wgs84_pos:long>6.58409</wgs84_pos:long>\\n<gn:parentCountry rdf:resource=\"http://sws.geonames.org/2658434/\"></gn:parentCountry>\\n<gn:nearbyFeatures rdf:resource=\"http://sws.geonames.org/6620493/nearby.rdf\"></gn:nearbyFeatures>\\n<gn:locationMap rdf:resource=\"http://www.geonames.org/6620493/universite-de-lausanne.html\"></gn:locationMap>\\n<gn:wikipediaArticle rdf:resource=\"http://en.wikipedia.org/wiki/University_of_Lausanne\"></gn:wikipediaArticle>\\n<rdfs:seeAlso rdf:resource=\"http://dbpedia.org/resource/University_of_Lausanne\"></rdfs:seeAlso>\\n</gn:Feature>\\n\\n'\n"
     ]
    }
   ],
   "source": [
    "from lxml import etree\n",
    "\n",
    "for xml_obj in xml_nodes:\n",
    "    tree = etree.ElementTree(xml_obj)\n",
    "    print(etree.tostring(tree, method='html', pretty_print=True))\n",
    "    break"
   ]
  },
  {
   "cell_type": "code",
   "execution_count": null,
   "metadata": {
    "collapsed": true
   },
   "outputs": [],
   "source": [
    "URL = \"api.geonames.org/postalCodeSearch?\"\n",
    "feature_code = \"featureCode=UNIV\"\n",
    "country = \"country=CH\"\n"
   ]
  },
  {
   "cell_type": "code",
   "execution_count": null,
   "metadata": {
    "collapsed": false
   },
   "outputs": [],
   "source": [
    "topo_path = r\"Data/ch-cantons.topojson.json\""
   ]
  },
  {
   "cell_type": "code",
   "execution_count": 11,
   "metadata": {
    "collapsed": false,
    "scrolled": false
   },
   "outputs": [
    {
     "data": {
      "text/plain": [
       "{'AGS',\n",
       " 'AORI',\n",
       " 'ASP',\n",
       " 'ASPIT',\n",
       " 'BE',\n",
       " 'BFH',\n",
       " 'BITG',\n",
       " 'BS',\n",
       " 'CREALP',\n",
       " 'CSEM',\n",
       " 'EAWAG',\n",
       " 'EHB',\n",
       " 'EMPA',\n",
       " 'EOC',\n",
       " 'EPFL',\n",
       " 'ETHZ',\n",
       " 'FFHS',\n",
       " 'FHKD',\n",
       " 'FHNW',\n",
       " 'FHO',\n",
       " 'FIBL',\n",
       " 'FINST',\n",
       " 'FMI',\n",
       " 'FORS',\n",
       " 'FP',\n",
       " 'FR',\n",
       " 'FTL',\n",
       " 'FUS',\n",
       " 'GE',\n",
       " 'HEPBEJUNE',\n",
       " 'HEPFR',\n",
       " 'HEPL',\n",
       " 'HES-SO',\n",
       " 'HSLU',\n",
       " 'HfH',\n",
       " 'IDIAP',\n",
       " 'IHEID',\n",
       " 'IKG',\n",
       " 'IRO',\n",
       " 'IRSOL',\n",
       " 'ISR',\n",
       " 'ISSKA',\n",
       " 'IST',\n",
       " 'IUKB',\n",
       " 'KSPSG',\n",
       " 'LA',\n",
       " 'LU',\n",
       " 'NA',\n",
       " 'NE',\n",
       " 'NPO',\n",
       " 'PHBern',\n",
       " 'PHFHNW',\n",
       " 'PHGR',\n",
       " 'PHLU',\n",
       " 'PHSG',\n",
       " 'PHSH',\n",
       " 'PHSZ',\n",
       " 'PHTG',\n",
       " 'PHVS',\n",
       " 'PHZFH',\n",
       " 'PHZG',\n",
       " 'PMOD',\n",
       " 'PSI',\n",
       " 'RWS',\n",
       " 'SAGW',\n",
       " 'SG',\n",
       " 'SHLR',\n",
       " 'SIAF',\n",
       " 'SIB',\n",
       " 'SIK-ISEA',\n",
       " 'SPF',\n",
       " 'STHB',\n",
       " 'SUPSI',\n",
       " 'USI',\n",
       " 'WSL',\n",
       " 'ZFH',\n",
       " 'ZH',\n",
       " 'nan'}"
      ]
     },
     "execution_count": 11,
     "metadata": {},
     "output_type": "execute_result"
    }
   ],
   "source": [
    "universities = data['University'].tolist()[:-1]\n",
    "universities[-1]\n",
    "\n",
    "ids = set()\n",
    "for record in universities:\n",
    "    ids.add(str(record).split()[-1])\n",
    "\n",
    "ids"
   ]
  },
  {
   "cell_type": "code",
   "execution_count": 37,
   "metadata": {
    "collapsed": false
   },
   "outputs": [
    {
     "data": {
      "text/plain": [
       "<generator object <genexpr> at 0x000001D828C7F048>"
      ]
     },
     "execution_count": 37,
     "metadata": {},
     "output_type": "execute_result"
    }
   ],
   "source": [
    "ids"
   ]
  }
 ],
 "metadata": {
  "kernelspec": {
   "display_name": "Python [ADA]",
   "language": "python",
   "name": "Python [ADA]"
  },
  "language_info": {
   "codemirror_mode": {
    "name": "ipython",
    "version": 3
   },
   "file_extension": ".py",
   "mimetype": "text/x-python",
   "name": "python",
   "nbconvert_exporter": "python",
   "pygments_lexer": "ipython3",
   "version": "3.5.2"
  }
 },
 "nbformat": 4,
 "nbformat_minor": 0
}
